{
 "cells": [
  {
   "cell_type": "code",
   "execution_count": 1,
   "metadata": {
    "deletable": false
   },
   "outputs": [],
   "source": [
    "# Initialize Otter\n",
    "import otter\n",
    "grader = otter.Notebook(\"hw2-diatom.ipynb\")"
   ]
  },
  {
   "cell_type": "markdown",
   "metadata": {},
   "source": [
    "# PSTAT 100 Homework 2"
   ]
  },
  {
   "cell_type": "code",
   "execution_count": 2,
   "metadata": {},
   "outputs": [],
   "source": [
    "import numpy as np\n",
    "import pandas as pd\n",
    "import altair as alt\n",
    "from sklearn.decomposition import PCA"
   ]
  },
  {
   "cell_type": "markdown",
   "metadata": {},
   "source": [
    "## Background: diatoms and paleoclimatology\n",
    "\n",
    "Diatoms are a type of phytoplankton -- they are photosynthetic algae that function as primary producers in aquatic ecosystems. Diatoms are at the bottom of the food web: they are consumed by filter feeders, like clams, mussels, and many fish, which are in turn consumed by larger organisms like scavengers and predators and, well, us. As a result, changes in the composition of diatom species in marine ecosystems have ripple effects that can dramatically alter overall community structure in any environment of which marine life forms a part. \n",
    "\n",
    "Diatoms have glass bodies. As a group of organisms, they display a great diversity of body shapes, and many are quite elaborate. The image below, taken from a Scientific American article, shows a small sample of their shapes and structures.\n",
    "\n",
    "<center><img src='figures/diatoms-sciam.jpg' style='width:400px'></center>\n",
    "\n",
    "Because they are made of glass, diatoms preserve extraordinarily well over time. When they die, their bodies sink and form part of the sediment. Due to their abundance, there is a sort of steady rain of diatoms forming part of the sedimentation process, which produces sediment layers that are dense with diatoms.\n",
    "\n",
    "Sedimentation is a long-term process spanning great stretches of time, and the deeper one looks in sediment, the older the material. Since diatoms are present in high density throughout sedimentation layers, and they preserve so well, it is possible to study their presence over longer time spans -- potentially hundreds of thousands of years. \n",
    "\n",
    "A branch of paleoclimatology is dedicated to studying changes in biological productivity on geologic time scales, and much research in this area has involved studying the relative abundances of diatoms. In this assignment, you'll do just that on a small scale and work with data from sediment cores taken in the gulf of California at the location indicated on the map:\n",
    "\n",
    "<center><img src='figures/site1-barron2004.png' style='width:400px'></center>\n",
    "\n",
    "The data is publicly available: \n",
    "> Barron, J.A., *et al.* 2005. High Resolution Guaymas Basin Geochemical, Diatom, and Silicoflagellate Data. IGBP PAGES/World Data Center for Paleoclimatology Data Contribution Series # 2005-022. NOAA/NGDC Paleoclimatology Program, Boulder CO, USA.\n",
    "\n",
    "---\n",
    "## Assignment objectives\n",
    "\n",
    "In this assignment, you'll use the exploratory techniques we've been discussing in class to analyze the relative abundances of diatom taxa over a time span of 15,000 years. This will involve practicing the following skills.\n",
    "\n",
    "**Acquaint and tidy**\n",
    "* data import\n",
    "* handling NaNs \n",
    "* transforming values\n",
    "* assessing time resolution\n",
    "\n",
    "**Exploratory analysis of individual variables**\n",
    "* visualizing summary statistics\n",
    "* density histograms and kernel density estimates\n",
    "* describing variation\n",
    "\n",
    "**Exploratory analysis of multiple variables**\n",
    "* examining correlation structure\n",
    "* computing and selecting principal components\n",
    "* interpreting principal component loadings\n",
    "* using principal components to visualize multivariate data\n",
    "\n",
    "**Communication and critical thinking**\n",
    "* summarizing results in written form\n",
    "* suggesting next steps\n",
    "\n",
    "Have fun!\n",
    "\n",
    "---\n",
    "\n",
    "### Collaboration\n",
    "\n",
    "You are encouraged to collaborate with other students on the labs, but are expected to write up your own work for submission. Copying and pasting others' solutions is considered plaigarism and may result in penalties, depending on severity and extent. \n",
    "\n",
    "If you choose to work with others, please list their names here.\n",
    "\n",
    "**Your name: Kayla Katakis**\n",
    "\n",
    "**Collaborators:**"
   ]
  },
  {
   "cell_type": "markdown",
   "metadata": {},
   "source": [
    "---\n",
    "\n",
    "## 0. Getting acquainted with the diatom data\n",
    "\n",
    "In this assignment you'll focus less on tidying and more on exploration -- the data you'll work with are already tidy. So, in this initial part, you'll:\n",
    "* import the data;\n",
    "* examine its structure to get acquainted; and \n",
    "* perform some simple preprocessing transformations to facilitate exploratory analysis. \n",
    "\n",
    "The data are diatom counts sampled from evenly-spaced depths in a sediment core from the gulf of California. In sediment cores, depth correlates with time before the present -- deeper layers are older -- and depths are typically chosen to obtain a desired temporal resolution. The counts were recorded by sampling material from sediment cores at each depth, and examining the sampled material for phytoplankton cells. For each sample, phytoplankton were identified at the taxon level and counts of diatom taxa were recorded along with the total number of phytoplankton cells identified. Thus:\n",
    "* The **observational units** are _**sediment samples**_.  \n",
    "* The **variables** are _**depth (age), diatom abundance counts, and the total number of identified phytoplankton**_. Age is inferred from radiocarbon. \n",
    "* One **observation** is made at _**each depth**_ from 0cm (surface) to  13.71 cm. \n",
    "\n",
    "The table below provides variable descriptions and units for each column in the dataframe.\n",
    "\n",
    "Variable | Description | Units\n",
    "---|---|---\n",
    "Depth | Depth interval location of sampled material in sediment core | Centimeters (cm)\n",
    "Age | Radiocarbon age | Thousands of years before present (KyrBP)\n",
    "A_curv | Abundance of *Actinocyclus curvatulus* | Count (n)\n",
    "A_octon | Abundance of *Actinocyclus octonarius* | Count (n)\n",
    "ActinSpp | Abundance of *Actinoptychus* species | Count (n)\n",
    "A_nodul | Abundance of *Azpeitia nodulifer* | Count (n)\n",
    "CocsinSpp | Abundance of *Coscinodiscus* species | Count (n)\n",
    "CyclotSpp | Abundance of *Cyclotella* species | Count (n)\n",
    "Rop_tess | Abundance of *Roperia tesselata* | Count (n)\n",
    "StephanSpp | Abundance of *Stephanopyxis* species | Count (n)\n",
    "Num.counted | Number of diatoms counted in sample | Count (n)\n",
    "\n",
    "The cell below imports the data."
   ]
  },
  {
   "cell_type": "code",
   "execution_count": 3,
   "metadata": {},
   "outputs": [
    {
     "data": {
      "text/html": [
       "<div>\n",
       "<style scoped>\n",
       "    .dataframe tbody tr th:only-of-type {\n",
       "        vertical-align: middle;\n",
       "    }\n",
       "\n",
       "    .dataframe tbody tr th {\n",
       "        vertical-align: top;\n",
       "    }\n",
       "\n",
       "    .dataframe thead th {\n",
       "        text-align: right;\n",
       "    }\n",
       "</style>\n",
       "<table border=\"1\" class=\"dataframe\">\n",
       "  <thead>\n",
       "    <tr style=\"text-align: right;\">\n",
       "      <th></th>\n",
       "      <th>Depth</th>\n",
       "      <th>Age</th>\n",
       "      <th>A_curv</th>\n",
       "      <th>A_octon</th>\n",
       "      <th>ActinSpp</th>\n",
       "      <th>A_nodul</th>\n",
       "      <th>CoscinSpp</th>\n",
       "      <th>CyclotSpp</th>\n",
       "      <th>Rop_tess</th>\n",
       "      <th>StephanSpp</th>\n",
       "      <th>Num.counted</th>\n",
       "    </tr>\n",
       "  </thead>\n",
       "  <tbody>\n",
       "    <tr>\n",
       "      <th>0</th>\n",
       "      <td>0.00</td>\n",
       "      <td>1.33</td>\n",
       "      <td>5.0</td>\n",
       "      <td>2.0</td>\n",
       "      <td>32</td>\n",
       "      <td>14.0</td>\n",
       "      <td>21</td>\n",
       "      <td>22.0</td>\n",
       "      <td>1.0</td>\n",
       "      <td>1.0</td>\n",
       "      <td>201</td>\n",
       "    </tr>\n",
       "    <tr>\n",
       "      <th>1</th>\n",
       "      <td>0.05</td>\n",
       "      <td>1.37</td>\n",
       "      <td>8.0</td>\n",
       "      <td>2.0</td>\n",
       "      <td>31</td>\n",
       "      <td>16.0</td>\n",
       "      <td>20</td>\n",
       "      <td>16.0</td>\n",
       "      <td>7.0</td>\n",
       "      <td>2.0</td>\n",
       "      <td>200</td>\n",
       "    </tr>\n",
       "    <tr>\n",
       "      <th>2</th>\n",
       "      <td>0.10</td>\n",
       "      <td>1.42</td>\n",
       "      <td>8.0</td>\n",
       "      <td>6.0</td>\n",
       "      <td>33</td>\n",
       "      <td>18.0</td>\n",
       "      <td>29</td>\n",
       "      <td>7.0</td>\n",
       "      <td>1.0</td>\n",
       "      <td>1.0</td>\n",
       "      <td>200</td>\n",
       "    </tr>\n",
       "    <tr>\n",
       "      <th>3</th>\n",
       "      <td>0.15</td>\n",
       "      <td>1.46</td>\n",
       "      <td>11.0</td>\n",
       "      <td>1.0</td>\n",
       "      <td>21</td>\n",
       "      <td>1.0</td>\n",
       "      <td>12</td>\n",
       "      <td>28.0</td>\n",
       "      <td>25.0</td>\n",
       "      <td>3.0</td>\n",
       "      <td>200</td>\n",
       "    </tr>\n",
       "    <tr>\n",
       "      <th>4</th>\n",
       "      <td>0.20</td>\n",
       "      <td>1.51</td>\n",
       "      <td>11.0</td>\n",
       "      <td>1.0</td>\n",
       "      <td>38</td>\n",
       "      <td>3.0</td>\n",
       "      <td>18</td>\n",
       "      <td>24.0</td>\n",
       "      <td>3.0</td>\n",
       "      <td>NaN</td>\n",
       "      <td>300</td>\n",
       "    </tr>\n",
       "  </tbody>\n",
       "</table>\n",
       "</div>"
      ],
      "text/plain": [
       "   Depth   Age  A_curv  A_octon  ActinSpp  A_nodul  CoscinSpp  CyclotSpp  \\\n",
       "0   0.00  1.33     5.0      2.0        32     14.0         21       22.0   \n",
       "1   0.05  1.37     8.0      2.0        31     16.0         20       16.0   \n",
       "2   0.10  1.42     8.0      6.0        33     18.0         29        7.0   \n",
       "3   0.15  1.46    11.0      1.0        21      1.0         12       28.0   \n",
       "4   0.20  1.51    11.0      1.0        38      3.0         18       24.0   \n",
       "\n",
       "   Rop_tess  StephanSpp  Num.counted  \n",
       "0       1.0         1.0          201  \n",
       "1       7.0         2.0          200  \n",
       "2       1.0         1.0          200  \n",
       "3      25.0         3.0          200  \n",
       "4       3.0         NaN          300  "
      ]
     },
     "execution_count": 3,
     "metadata": {},
     "output_type": "execute_result"
    }
   ],
   "source": [
    "# import diatom data\n",
    "diatoms_raw = pd.read_csv('data/barron-diatoms.csv')\n",
    "diatoms_raw.head(5)"
   ]
  },
  {
   "cell_type": "markdown",
   "metadata": {},
   "source": [
    "The data are already in tidy format, because each row is an observation (a set of measurements on one sample of sediment) and each column is a variable (one of age, depth, or counts). However, examine rows 3 and 4. These rows illustrate two noteworthy features of the raw data:\n",
    "\n",
    "1. NaNs are present\n",
    "2. The number of individuals counted in each sample varies by a lot from sample to sample.\n",
    "\n",
    "Let's address those before conducting initial explorations.\n",
    "\n",
    "### 'Missing' values\n",
    "\n",
    "The NaNs are an artefact of the data recording -- if *no* diatoms in a particular taxa are observed, a `-` is entered in the table (you can verify this by checking the .csv file). In these cases the value isn't missing, but rather zero. These entries are parsed by pandas as NaNs, but they correspond to a value of 0 (no diatoms observed). "
   ]
  },
  {
   "cell_type": "markdown",
   "metadata": {},
   "source": [
    "### Q0 (a). Filling NaNs\n",
    "\n",
    "Use `.fillna()` to replace all NaNs by zeros, and store the result as `diatoms_mod1`. Store rows 4 and 5 (index, not integer location) of the resulting dataframe as `diatoms_mod1_sample` and print it out.\n",
    "\n",
    "(*Hint*: check the [documentation](https://pandas.pydata.org/docs/reference/api/pandas.DataFrame.fillna.html) for `fill_na()`.)\n"
   ]
  },
  {
   "cell_type": "code",
   "execution_count": 4,
   "metadata": {
    "tags": []
   },
   "outputs": [
    {
     "name": "stdout",
     "output_type": "stream",
     "text": [
      "   Depth   Age  A_curv  A_octon  ActinSpp  A_nodul  CoscinSpp  CyclotSpp  \\\n",
      "4   0.20  1.51    11.0      1.0        38      3.0         18       24.0   \n",
      "5   0.25  1.55     4.0      9.0        30     10.0         16       14.0   \n",
      "\n",
      "   Rop_tess  StephanSpp  Num.counted  \n",
      "4       3.0         0.0          300  \n",
      "5      16.0         0.0          203  \n"
     ]
    }
   ],
   "source": [
    "diatoms_mod1 = diatoms_raw.fillna(0)\n",
    "\n",
    "# print rows 4 and 5\n",
    "diatoms_mod1_sample = diatoms_mod1.loc[4:5]\n",
    "print(diatoms_mod1_sample)"
   ]
  },
  {
   "cell_type": "code",
   "execution_count": 5,
   "metadata": {
    "deletable": false,
    "editable": false
   },
   "outputs": [
    {
     "data": {
      "text/html": [
       "<p><strong><pre style='display: inline;'>q0_a</pre></strong> passed! 🎉</p>"
      ],
      "text/plain": [
       "q0_a results: All test cases passed!"
      ]
     },
     "execution_count": 5,
     "metadata": {},
     "output_type": "execute_result"
    }
   ],
   "source": [
    "grader.check(\"q0_a\")"
   ]
  },
  {
   "cell_type": "markdown",
   "metadata": {},
   "source": [
    "### Varying total counts\n",
    "\n",
    "Since the total number of phytoplankton counted in each sample varies, the raw counts are not directly comparable -- *e.g.*, a count of 18 is actually a *different* abundance in a sample with 200 individuals counted than in a sample with 300 individuals counted.\n",
    "\n",
    "For exploratory analysis, you'll want the values to be comparable across rows. This can be achieved by a simple transformation so that the values are *relative* abundances: *proportions* of phytoplankton observed from each taxon."
   ]
  },
  {
   "cell_type": "markdown",
   "metadata": {},
   "source": [
    "### Q0 (b). Counts to proportions\n",
    "\n",
    "Convert the counts to proportions by dividing by the relevant entry in the `Num.counted` column. There are a few ways to do this, but here's one approach:\n",
    "\n",
    "1. Set Depth and Age to row indices using `.set_index(...)` and store the result as `diatoms_mod2`.\n",
    "2. Store the `Num.counted` column from `diatoms_mod2` as `sampsize`.\n",
    "3. Use `.div(...)` to divide entrywise every column in `diatoms_mod2` by `sampsize` and store the result as `diatoms_mod3`.\n",
    "4. Drop the `Num.counted` column from `diatoms_mod3` and reset the index; store the result as `diatoms`.\n",
    "\n",
    "Carry out these steps and print the first four rows of `diatoms`.\n",
    "\n",
    "(*Hint*: careful with the `axis = ...` argument in `.div(...)`; you may want to look at the [documentation](https://pandas.pydata.org/docs/reference/api/pandas.DataFrame.div.html).)\n"
   ]
  },
  {
   "cell_type": "code",
   "execution_count": 6,
   "metadata": {
    "tags": []
   },
   "outputs": [
    {
     "data": {
      "text/html": [
       "<div>\n",
       "<style scoped>\n",
       "    .dataframe tbody tr th:only-of-type {\n",
       "        vertical-align: middle;\n",
       "    }\n",
       "\n",
       "    .dataframe tbody tr th {\n",
       "        vertical-align: top;\n",
       "    }\n",
       "\n",
       "    .dataframe thead th {\n",
       "        text-align: right;\n",
       "    }\n",
       "</style>\n",
       "<table border=\"1\" class=\"dataframe\">\n",
       "  <thead>\n",
       "    <tr style=\"text-align: right;\">\n",
       "      <th></th>\n",
       "      <th>Depth</th>\n",
       "      <th>Age</th>\n",
       "      <th>A_curv</th>\n",
       "      <th>A_octon</th>\n",
       "      <th>ActinSpp</th>\n",
       "      <th>A_nodul</th>\n",
       "      <th>CoscinSpp</th>\n",
       "      <th>CyclotSpp</th>\n",
       "      <th>Rop_tess</th>\n",
       "      <th>StephanSpp</th>\n",
       "    </tr>\n",
       "  </thead>\n",
       "  <tbody>\n",
       "    <tr>\n",
       "      <th>0</th>\n",
       "      <td>0.00</td>\n",
       "      <td>1.33</td>\n",
       "      <td>0.024876</td>\n",
       "      <td>0.009950</td>\n",
       "      <td>0.159204</td>\n",
       "      <td>0.069652</td>\n",
       "      <td>0.104478</td>\n",
       "      <td>0.109453</td>\n",
       "      <td>0.004975</td>\n",
       "      <td>0.004975</td>\n",
       "    </tr>\n",
       "    <tr>\n",
       "      <th>1</th>\n",
       "      <td>0.05</td>\n",
       "      <td>1.37</td>\n",
       "      <td>0.040000</td>\n",
       "      <td>0.010000</td>\n",
       "      <td>0.155000</td>\n",
       "      <td>0.080000</td>\n",
       "      <td>0.100000</td>\n",
       "      <td>0.080000</td>\n",
       "      <td>0.035000</td>\n",
       "      <td>0.010000</td>\n",
       "    </tr>\n",
       "    <tr>\n",
       "      <th>2</th>\n",
       "      <td>0.10</td>\n",
       "      <td>1.42</td>\n",
       "      <td>0.040000</td>\n",
       "      <td>0.030000</td>\n",
       "      <td>0.165000</td>\n",
       "      <td>0.090000</td>\n",
       "      <td>0.145000</td>\n",
       "      <td>0.035000</td>\n",
       "      <td>0.005000</td>\n",
       "      <td>0.005000</td>\n",
       "    </tr>\n",
       "    <tr>\n",
       "      <th>3</th>\n",
       "      <td>0.15</td>\n",
       "      <td>1.46</td>\n",
       "      <td>0.055000</td>\n",
       "      <td>0.005000</td>\n",
       "      <td>0.105000</td>\n",
       "      <td>0.005000</td>\n",
       "      <td>0.060000</td>\n",
       "      <td>0.140000</td>\n",
       "      <td>0.125000</td>\n",
       "      <td>0.015000</td>\n",
       "    </tr>\n",
       "    <tr>\n",
       "      <th>4</th>\n",
       "      <td>0.20</td>\n",
       "      <td>1.51</td>\n",
       "      <td>0.036667</td>\n",
       "      <td>0.003333</td>\n",
       "      <td>0.126667</td>\n",
       "      <td>0.010000</td>\n",
       "      <td>0.060000</td>\n",
       "      <td>0.080000</td>\n",
       "      <td>0.010000</td>\n",
       "      <td>0.000000</td>\n",
       "    </tr>\n",
       "  </tbody>\n",
       "</table>\n",
       "</div>"
      ],
      "text/plain": [
       "   Depth   Age    A_curv   A_octon  ActinSpp   A_nodul  CoscinSpp  CyclotSpp  \\\n",
       "0   0.00  1.33  0.024876  0.009950  0.159204  0.069652   0.104478   0.109453   \n",
       "1   0.05  1.37  0.040000  0.010000  0.155000  0.080000   0.100000   0.080000   \n",
       "2   0.10  1.42  0.040000  0.030000  0.165000  0.090000   0.145000   0.035000   \n",
       "3   0.15  1.46  0.055000  0.005000  0.105000  0.005000   0.060000   0.140000   \n",
       "4   0.20  1.51  0.036667  0.003333  0.126667  0.010000   0.060000   0.080000   \n",
       "\n",
       "   Rop_tess  StephanSpp  \n",
       "0  0.004975    0.004975  \n",
       "1  0.035000    0.010000  \n",
       "2  0.005000    0.005000  \n",
       "3  0.125000    0.015000  \n",
       "4  0.010000    0.000000  "
      ]
     },
     "execution_count": 6,
     "metadata": {},
     "output_type": "execute_result"
    }
   ],
   "source": [
    "# set depth, age to indices\n",
    "diatoms_mod2 = diatoms_mod1.set_index(['Depth','Age'])\n",
    "\n",
    "# store sample sizes\n",
    "sampsize = diatoms_mod2['Num.counted']\n",
    "\n",
    "# divide\n",
    "diatoms_mod3 = diatoms_mod2.div(sampsize, axis = 0)\n",
    "\n",
    "# drop num.counted and reset index\n",
    "diatoms = diatoms_mod3.drop(columns = 'Num.counted').reset_index()\n",
    "\n",
    "# print\n",
    "diatoms.head()"
   ]
  },
  {
   "cell_type": "code",
   "execution_count": 7,
   "metadata": {
    "deletable": false,
    "editable": false
   },
   "outputs": [
    {
     "data": {
      "text/html": [
       "<p><strong><pre style='display: inline;'>q0_b</pre></strong> passed! 🌈</p>"
      ],
      "text/plain": [
       "q0_b results: All test cases passed!"
      ]
     },
     "execution_count": 7,
     "metadata": {},
     "output_type": "execute_result"
    }
   ],
   "source": [
    "grader.check(\"q0_b\")"
   ]
  },
  {
   "cell_type": "markdown",
   "metadata": {},
   "source": [
    "Now that the data are ready for exploratory analysis, take a moment to think about what the data represent. They are relative abundances over time; essentially, snapshots of the community composition of diatoms over time, and thus information about how ecological community composition changes.\n",
    "\n",
    "Before diving in, it will be helpful to resolve two matters:\n",
    "\n",
    "1. How far back in time do the data go?\n",
    "2. What is the time resolution of the data?"
   ]
  },
  {
   "cell_type": "markdown",
   "metadata": {},
   "source": [
    "### Q0 (c). Time span\n",
    "\n",
    "What is the geological time span covered by the data? Compute the minimum and maximum age using `.aggregate(...)` and store as `min_max_age`. \n",
    "\n",
    "*Note*: This may be a new function for you, but it's simple: it takes as an argument a list of functions that will be applied to the dataframe (columnwise by default). So for example, to get the mean and variance of each column in `df`, one would use `df.aggregate(['mean', 'var'])`. See the [documentation](https://pandas.pydata.org/docs/reference/api/pandas.DataFrame.aggregate.html) for further examples.\n",
    "\n",
    "(*Remember*: age is reported as thousands of years before present, so `Age = 2` means 2000 years ago.)\n"
   ]
  },
  {
   "cell_type": "code",
   "execution_count": 8,
   "metadata": {
    "tags": []
   },
   "outputs": [
    {
     "data": {
      "text/plain": [
       "min     1.33\n",
       "max    15.19\n",
       "Name: Age, dtype: float64"
      ]
     },
     "execution_count": 8,
     "metadata": {},
     "output_type": "execute_result"
    }
   ],
   "source": [
    "min_max_age = diatoms['Age'].aggregate(['min','max'])\n",
    "min_max_age"
   ]
  },
  {
   "cell_type": "code",
   "execution_count": 9,
   "metadata": {
    "deletable": false,
    "editable": false
   },
   "outputs": [
    {
     "data": {
      "text/html": [
       "<p><strong><pre style='display: inline;'>q0_c</pre></strong> passed! 🙌</p>"
      ],
      "text/plain": [
       "q0_c results: All test cases passed!"
      ]
     },
     "execution_count": 9,
     "metadata": {},
     "output_type": "execute_result"
    }
   ],
   "source": [
    "grader.check(\"q0_c\")"
   ]
  },
  {
   "cell_type": "markdown",
   "metadata": {},
   "source": [
    "<!-- BEGIN QUESTION -->\n",
    "\n",
    "### Q0 (d). Time resolution\n",
    "\n",
    "How are the observations spaced in time? \n",
    "\n",
    "#### (i) Make a histogram of the time steps between consecutive sample ages. \n",
    "\n",
    "Follow these steps:\n",
    "\n",
    "1. Extract the `Age` column from `diatoms`, sort the values in ascending order, compute the differences between consecutive rows, and store the result as `diffs`.\n",
    "    + *Hint*: use `.sort_values()` and `.diff()`.\n",
    "    + *Notice*: that the first difference is NaN, because there is no previous value to compare the first row with. Drop this entry when you store `diffs`.\n",
    "\n",
    "\n",
    "2. Make a simple count histogram (no need to manually bin or convert to density scale) with bins of width 0.02 (20 years).\n",
    "    + Label the x axis 'Time step between consecutive sample ages'\n"
   ]
  },
  {
   "cell_type": "code",
   "execution_count": 10,
   "metadata": {
    "tags": []
   },
   "outputs": [
    {
     "data": {
      "text/html": [
       "\n",
       "<div id=\"altair-viz-1e17ad4585cf43c59b1f6bd5800044f0\"></div>\n",
       "<script type=\"text/javascript\">\n",
       "  var VEGA_DEBUG = (typeof VEGA_DEBUG == \"undefined\") ? {} : VEGA_DEBUG;\n",
       "  (function(spec, embedOpt){\n",
       "    let outputDiv = document.currentScript.previousElementSibling;\n",
       "    if (outputDiv.id !== \"altair-viz-1e17ad4585cf43c59b1f6bd5800044f0\") {\n",
       "      outputDiv = document.getElementById(\"altair-viz-1e17ad4585cf43c59b1f6bd5800044f0\");\n",
       "    }\n",
       "    const paths = {\n",
       "      \"vega\": \"https://cdn.jsdelivr.net/npm//vega@5?noext\",\n",
       "      \"vega-lib\": \"https://cdn.jsdelivr.net/npm//vega-lib?noext\",\n",
       "      \"vega-lite\": \"https://cdn.jsdelivr.net/npm//vega-lite@4.17.0?noext\",\n",
       "      \"vega-embed\": \"https://cdn.jsdelivr.net/npm//vega-embed@6?noext\",\n",
       "    };\n",
       "\n",
       "    function maybeLoadScript(lib, version) {\n",
       "      var key = `${lib.replace(\"-\", \"\")}_version`;\n",
       "      return (VEGA_DEBUG[key] == version) ?\n",
       "        Promise.resolve(paths[lib]) :\n",
       "        new Promise(function(resolve, reject) {\n",
       "          var s = document.createElement('script');\n",
       "          document.getElementsByTagName(\"head\")[0].appendChild(s);\n",
       "          s.async = true;\n",
       "          s.onload = () => {\n",
       "            VEGA_DEBUG[key] = version;\n",
       "            return resolve(paths[lib]);\n",
       "          };\n",
       "          s.onerror = () => reject(`Error loading script: ${paths[lib]}`);\n",
       "          s.src = paths[lib];\n",
       "        });\n",
       "    }\n",
       "\n",
       "    function showError(err) {\n",
       "      outputDiv.innerHTML = `<div class=\"error\" style=\"color:red;\">${err}</div>`;\n",
       "      throw err;\n",
       "    }\n",
       "\n",
       "    function displayChart(vegaEmbed) {\n",
       "      vegaEmbed(outputDiv, spec, embedOpt)\n",
       "        .catch(err => showError(`Javascript Error: ${err.message}<br>This usually means there's a typo in your chart specification. See the javascript console for the full traceback.`));\n",
       "    }\n",
       "\n",
       "    if(typeof define === \"function\" && define.amd) {\n",
       "      requirejs.config({paths});\n",
       "      require([\"vega-embed\"], displayChart, err => showError(`Error loading script: ${err.message}`));\n",
       "    } else {\n",
       "      maybeLoadScript(\"vega\", \"5\")\n",
       "        .then(() => maybeLoadScript(\"vega-lite\", \"4.17.0\"))\n",
       "        .then(() => maybeLoadScript(\"vega-embed\", \"6\"))\n",
       "        .catch(showError)\n",
       "        .then(() => displayChart(vegaEmbed));\n",
       "    }\n",
       "  })({\"config\": {\"view\": {\"continuousWidth\": 400, \"continuousHeight\": 300}}, \"data\": {\"name\": \"data-8cf8369985eee36bd4de1c641422b3c5\"}, \"mark\": \"bar\", \"encoding\": {\"x\": {\"field\": \"Age\", \"title\": \"Time between consecutive sample ages\", \"type\": \"quantitative\"}, \"y\": {\"aggregate\": \"count\", \"type\": \"quantitative\"}}, \"transform\": [{\"bin\": {\"step\": 0.02}, \"field\": \"Age\", \"as\": \"Age Bin\"}], \"$schema\": \"https://vega.github.io/schema/vega-lite/v4.17.0.json\", \"datasets\": {\"data-8cf8369985eee36bd4de1c641422b3c5\": [{\"Age\": 0.040000000000000036}, {\"Age\": 0.04999999999999982}, {\"Age\": 0.040000000000000036}, {\"Age\": 0.050000000000000044}, {\"Age\": 0.040000000000000036}, {\"Age\": 0.040000000000000036}, {\"Age\": 0.04999999999999982}, {\"Age\": 0.040000000000000036}, {\"Age\": 0.040000000000000036}, {\"Age\": 0.050000000000000044}, {\"Age\": 0.040000000000000036}, {\"Age\": 0.050000000000000044}, {\"Age\": 0.039999999999999813}, {\"Age\": 0.040000000000000036}, {\"Age\": 0.050000000000000044}, {\"Age\": 0.039999999999999813}, {\"Age\": 0.050000000000000266}, {\"Age\": 0.040000000000000036}, {\"Age\": 0.040000000000000036}, {\"Age\": 0.04999999999999982}, {\"Age\": 0.040000000000000036}, {\"Age\": 0.040000000000000036}, {\"Age\": 0.04999999999999982}, {\"Age\": 0.040000000000000036}, {\"Age\": 0.050000000000000266}, {\"Age\": 0.040000000000000036}, {\"Age\": 0.03999999999999959}, {\"Age\": 0.050000000000000266}, {\"Age\": 0.08000000000000007}, {\"Age\": 0.009999999999999787}, {\"Age\": 0.040000000000000036}, {\"Age\": 0.040000000000000036}, {\"Age\": 0.04999999999999982}, {\"Age\": 0.040000000000000036}, {\"Age\": 0.050000000000000266}, {\"Age\": 0.040000000000000036}, {\"Age\": 0.040000000000000036}, {\"Age\": 0.04999999999999982}, {\"Age\": 0.040000000000000036}, {\"Age\": 0.040000000000000036}, {\"Age\": 0.04999999999999982}, {\"Age\": 0.040000000000000036}, {\"Age\": 0.050000000000000266}, {\"Age\": 0.03999999999999959}, {\"Age\": 0.040000000000000036}, {\"Age\": 0.050000000000000266}, {\"Age\": 0.040000000000000036}, {\"Age\": 0.04999999999999982}, {\"Age\": 0.040000000000000036}, {\"Age\": 0.040000000000000036}, {\"Age\": 0.04999999999999982}, {\"Age\": 0.03000000000000025}, {\"Age\": 0.04999999999999982}, {\"Age\": 0.050000000000000266}, {\"Age\": 0.040000000000000036}, {\"Age\": 0.04999999999999982}, {\"Age\": 0.040000000000000036}, {\"Age\": 0.040000000000000036}, {\"Age\": 0.04999999999999982}, {\"Age\": 0.040000000000000036}, {\"Age\": 0.0}, {\"Age\": 0.04999999999999982}, {\"Age\": 0.040000000000000036}, {\"Age\": 0.08999999999999986}, {\"Age\": 0.040000000000000036}, {\"Age\": 0.040000000000000036}, {\"Age\": 0.04999999999999982}, {\"Age\": 0.040000000000000036}, {\"Age\": 0.05000000000000071}, {\"Age\": 0.040000000000000036}, {\"Age\": 0.040000000000000036}, {\"Age\": 0.04999999999999982}, {\"Age\": 0.040000000000000036}, {\"Age\": 0.04999999999999982}, {\"Age\": 0.040000000000000036}, {\"Age\": 0.8799999999999999}, {\"Age\": 0.040000000000000036}, {\"Age\": 0.040000000000000036}, {\"Age\": 0.04999999999999982}, {\"Age\": 0.040000000000000036}, {\"Age\": 0.04999999999999982}, {\"Age\": 0.040000000000000036}, {\"Age\": 0.040000000000000036}, {\"Age\": 0.04999999999999982}, {\"Age\": 0.040000000000000036}, {\"Age\": 0.05000000000000071}, {\"Age\": 0.040000000000000036}, {\"Age\": 0.03999999999999915}, {\"Age\": 0.05000000000000071}, {\"Age\": 0.040000000000000036}, {\"Age\": 0.040000000000000036}, {\"Age\": 0.04999999999999982}, {\"Age\": 0.040000000000000036}, {\"Age\": 0.04999999999999982}, {\"Age\": 0.040000000000000036}, {\"Age\": 0.040000000000000036}, {\"Age\": 0.04999999999999982}, {\"Age\": 0.040000000000000036}, {\"Age\": 0.04999999999999982}, {\"Age\": 0.040000000000000036}, {\"Age\": 0.040000000000000036}, {\"Age\": 0.04999999999999982}, {\"Age\": 0.040000000000000036}, {\"Age\": 0.040000000000000036}, {\"Age\": 0.04999999999999982}, {\"Age\": 0.040000000000000036}, {\"Age\": 0.05000000000000071}, {\"Age\": 0.040000000000000036}, {\"Age\": 0.040000000000000036}, {\"Age\": 0.04999999999999982}, {\"Age\": 0.040000000000000036}, {\"Age\": 0.04999999999999982}, {\"Age\": 0.040000000000000036}, {\"Age\": 0.040000000000000036}, {\"Age\": 0.04999999999999982}, {\"Age\": 0.040000000000000036}, {\"Age\": 0.040000000000000036}, {\"Age\": 0.04999999999999982}, {\"Age\": 0.040000000000000036}, {\"Age\": 0.04999999999999982}, {\"Age\": 0.040000000000000036}, {\"Age\": 0.040000000000000036}, {\"Age\": 0.04999999999999982}, {\"Age\": 0.040000000000000036}, {\"Age\": 0.05000000000000071}, {\"Age\": 0.040000000000000036}, {\"Age\": 0.040000000000000036}, {\"Age\": 0.04999999999999982}, {\"Age\": 0.040000000000000036}, {\"Age\": 0.04999999999999982}, {\"Age\": 0.040000000000000036}, {\"Age\": 0.040000000000000036}, {\"Age\": 0.04999999999999982}, {\"Age\": 0.03999999999999915}, {\"Age\": 0.040000000000000924}, {\"Age\": 0.05000000000000071}, {\"Age\": 0.03999999999999915}, {\"Age\": 0.4399999999999995}, {\"Age\": 0.040000000000000924}, {\"Age\": 0.049999999999998934}, {\"Age\": 0.040000000000000924}, {\"Age\": 0.049999999999998934}, {\"Age\": 0.040000000000000924}, {\"Age\": 0.03999999999999915}, {\"Age\": 0.05000000000000071}, {\"Age\": 0.040000000000000924}, {\"Age\": 1.1399999999999988}, {\"Age\": 0.08000000000000007}, {\"Age\": 0.08999999999999986}, {\"Age\": 0.08000000000000007}, {\"Age\": 0.08000000000000007}, {\"Age\": 0.08999999999999986}, {\"Age\": 0.08000000000000007}, {\"Age\": 0.08000000000000007}, {\"Age\": 0.08999999999999986}, {\"Age\": 0.08000000000000007}, {\"Age\": 0.08000000000000007}, {\"Age\": 0.08999999999999986}, {\"Age\": 0.08000000000000007}, {\"Age\": 0.08000000000000007}, {\"Age\": 0.08999999999999986}, {\"Age\": 0.08000000000000007}, {\"Age\": 0.08000000000000007}, {\"Age\": 0.08999999999999986}, {\"Age\": 0.08000000000000007}, {\"Age\": 0.08000000000000007}, {\"Age\": 0.08999999999999986}, {\"Age\": 0.08000000000000007}, {\"Age\": 0.08000000000000007}, {\"Age\": 0.08999999999999986}, {\"Age\": 0.08000000000000007}, {\"Age\": 0.08000000000000007}, {\"Age\": 0.08999999999999986}, {\"Age\": 0.08000000000000007}, {\"Age\": 0.08000000000000007}, {\"Age\": 0.08999999999999986}, {\"Age\": 0.120000000000001}, {\"Age\": 0.08999999999999986}, {\"Age\": 0.08999999999999986}, {\"Age\": 0.08000000000000007}, {\"Age\": 0.03999999999999915}, {\"Age\": 0.05000000000000071}, {\"Age\": 0.03999999999999915}, {\"Age\": 0.05000000000000071}, {\"Age\": 0.03999999999999915}, {\"Age\": 0.05000000000000071}, {\"Age\": 0.040000000000000924}, {\"Age\": 0.049999999999998934}, {\"Age\": 0.040000000000000924}, {\"Age\": 0.049999999999998934}, {\"Age\": 0.040000000000000924}, {\"Age\": 0.049999999999998934}, {\"Age\": 0.040000000000000924}, {\"Age\": 0.049999999999998934}, {\"Age\": 0.040000000000000924}, {\"Age\": 0.03999999999999915}, {\"Age\": 0.05000000000000071}, {\"Age\": 0.03999999999999915}, {\"Age\": 0.05000000000000071}, {\"Age\": 0.03999999999999915}, {\"Age\": 0.05000000000000071}, {\"Age\": 0.040000000000000924}, {\"Age\": 0.049999999999998934}, {\"Age\": 0.040000000000000924}, {\"Age\": 0.049999999999998934}, {\"Age\": 0.040000000000000924}, {\"Age\": 0.049999999999998934}, {\"Age\": 0.040000000000000924}, {\"Age\": 0.03999999999999915}, {\"Age\": 0.05000000000000071}, {\"Age\": 0.03999999999999915}, {\"Age\": 0.05000000000000071}, {\"Age\": 0.03999999999999915}, {\"Age\": 0.05000000000000071}, {\"Age\": 0.040000000000000924}, {\"Age\": 0.049999999999998934}, {\"Age\": 0.040000000000000924}, {\"Age\": 0.049999999999998934}, {\"Age\": 0.040000000000000924}, {\"Age\": 0.049999999999998934}, {\"Age\": 0.040000000000000924}, {\"Age\": 0.049999999999998934}, {\"Age\": 0.14000000000000057}, {\"Age\": 0.040000000000000924}, {\"Age\": 0.049999999999998934}, {\"Age\": 0.040000000000000924}, {\"Age\": 0.049999999999998934}, {\"Age\": 0.040000000000000924}, {\"Age\": 0.049999999999998934}]}}, {\"mode\": \"vega-lite\"});\n",
       "</script>"
      ],
      "text/plain": [
       "alt.Chart(...)"
      ]
     },
     "execution_count": 10,
     "metadata": {},
     "output_type": "execute_result"
    }
   ],
   "source": [
    "# store differences\n",
    "diffs = diatoms['Age'].sort_values().diff().drop([0]).to_frame(\n",
    ")\n",
    "\n",
    "# construct histogram\n",
    "histogram = alt.Chart(diffs).transform_bin(\n",
    "    'Age Bin', field = 'Age', \n",
    "    bin = alt.Bin(step = 0.02)\n",
    ").mark_bar().encode(\n",
    "    x = alt.X('Age', \n",
    "              title = 'Time between consecutive sample ages'),\n",
    "    y = 'count()'\n",
    ")\n",
    "\n",
    "histogram"
   ]
  },
  {
   "cell_type": "code",
   "execution_count": 11,
   "metadata": {
    "deletable": false
   },
   "outputs": [
    {
     "data": {
      "text/html": [
       "<p><strong><pre style='display: inline;'>q0_d_i</pre></strong> passed! 🍀</p>"
      ],
      "text/plain": [
       "q0_d_i results: All test cases passed!"
      ]
     },
     "execution_count": 11,
     "metadata": {},
     "output_type": "execute_result"
    }
   ],
   "source": [
    "grader.check(\"q0_d_i\")"
   ]
  },
  {
   "cell_type": "markdown",
   "metadata": {},
   "source": [
    "<!-- END QUESTION -->\n",
    "\n",
    "<!-- BEGIN QUESTION -->\n",
    "\n",
    "#### (ii) What is the typical time step in years?\n"
   ]
  },
  {
   "cell_type": "markdown",
   "metadata": {},
   "source": [
    "_The typical time step is 40 years._"
   ]
  },
  {
   "cell_type": "markdown",
   "metadata": {},
   "source": [
    "<!-- END QUESTION -->\n",
    "\n",
    "---\n",
    "## 1. Exploring diatom taxon abundances\n",
    "\n",
    "Recall that the first type of exploratory analysis question has to do with exploring variation in each variable; to begin, you'll examine the variation in relative abundance over time for the eight individual taxa. \n",
    "\n",
    "Here are some initial questions in this spirit that will help you to hone in and develop more focuesed exploratory questions:\n",
    "* Which taxa are most and least abundant on average over time?\n",
    "* Which taxa vary the most over time?\n",
    "\n",
    "These can be answered by computing simple summary statistics for each column in the diatom data."
   ]
  },
  {
   "cell_type": "markdown",
   "metadata": {},
   "source": [
    "### Q1 (a). Summary statistics\n",
    "\n",
    "Use `.aggregate(...)` to find the mean and standard deviation of relative abundances for each taxon. Follow these steps:\n",
    "\n",
    "1. See Q0 (c) for an explanation of `.aggregate(...)`.\n",
    "2. Drop the depth and age variables before performing the aggregation.\n",
    "3. Use `.transpose()` to ensure that the table is rendered in long form (8 rows by 2 columns rather than 2 columns by 8 rows). \n",
    "4. Store the result as `diatom_summary` and print the dataframe.\n"
   ]
  },
  {
   "cell_type": "code",
   "execution_count": 12,
   "metadata": {
    "tags": []
   },
   "outputs": [
    {
     "data": {
      "text/html": [
       "<div>\n",
       "<style scoped>\n",
       "    .dataframe tbody tr th:only-of-type {\n",
       "        vertical-align: middle;\n",
       "    }\n",
       "\n",
       "    .dataframe tbody tr th {\n",
       "        vertical-align: top;\n",
       "    }\n",
       "\n",
       "    .dataframe thead th {\n",
       "        text-align: right;\n",
       "    }\n",
       "</style>\n",
       "<table border=\"1\" class=\"dataframe\">\n",
       "  <thead>\n",
       "    <tr style=\"text-align: right;\">\n",
       "      <th></th>\n",
       "      <th>mean</th>\n",
       "      <th>std</th>\n",
       "    </tr>\n",
       "  </thead>\n",
       "  <tbody>\n",
       "    <tr>\n",
       "      <th>A_curv</th>\n",
       "      <td>0.028989</td>\n",
       "      <td>0.018602</td>\n",
       "    </tr>\n",
       "    <tr>\n",
       "      <th>A_octon</th>\n",
       "      <td>0.018257</td>\n",
       "      <td>0.016465</td>\n",
       "    </tr>\n",
       "    <tr>\n",
       "      <th>ActinSpp</th>\n",
       "      <td>0.135900</td>\n",
       "      <td>0.053797</td>\n",
       "    </tr>\n",
       "    <tr>\n",
       "      <th>A_nodul</th>\n",
       "      <td>0.072940</td>\n",
       "      <td>0.092677</td>\n",
       "    </tr>\n",
       "    <tr>\n",
       "      <th>CoscinSpp</th>\n",
       "      <td>0.085925</td>\n",
       "      <td>0.031795</td>\n",
       "    </tr>\n",
       "    <tr>\n",
       "      <th>CyclotSpp</th>\n",
       "      <td>0.070366</td>\n",
       "      <td>0.042423</td>\n",
       "    </tr>\n",
       "    <tr>\n",
       "      <th>Rop_tess</th>\n",
       "      <td>0.060448</td>\n",
       "      <td>0.076098</td>\n",
       "    </tr>\n",
       "    <tr>\n",
       "      <th>StephanSpp</th>\n",
       "      <td>0.002447</td>\n",
       "      <td>0.007721</td>\n",
       "    </tr>\n",
       "  </tbody>\n",
       "</table>\n",
       "</div>"
      ],
      "text/plain": [
       "                mean       std\n",
       "A_curv      0.028989  0.018602\n",
       "A_octon     0.018257  0.016465\n",
       "ActinSpp    0.135900  0.053797\n",
       "A_nodul     0.072940  0.092677\n",
       "CoscinSpp   0.085925  0.031795\n",
       "CyclotSpp   0.070366  0.042423\n",
       "Rop_tess    0.060448  0.076098\n",
       "StephanSpp  0.002447  0.007721"
      ]
     },
     "execution_count": 12,
     "metadata": {},
     "output_type": "execute_result"
    }
   ],
   "source": [
    "diatom_summary = diatoms.drop(\n",
    "    columns= ['Depth', 'Age']\n",
    ").transpose().aggregate(['mean', 'std'], axis = 1)\n",
    "\n",
    "# print the dataframe\n",
    "diatom_summary\n"
   ]
  },
  {
   "cell_type": "code",
   "execution_count": 13,
   "metadata": {
    "deletable": false,
    "editable": false
   },
   "outputs": [
    {
     "data": {
      "text/html": [
       "<p><strong><pre style='display: inline;'>q1_a</pre></strong> passed! 🌟</p>"
      ],
      "text/plain": [
       "q1_a results: All test cases passed!"
      ]
     },
     "execution_count": 13,
     "metadata": {},
     "output_type": "execute_result"
    }
   ],
   "source": [
    "grader.check(\"q1_a\")"
   ]
  },
  {
   "cell_type": "markdown",
   "metadata": {},
   "source": [
    "It will be easier to determine which taxa are most/least abundant and most variable by displaying this information visually."
   ]
  },
  {
   "cell_type": "markdown",
   "metadata": {},
   "source": [
    "### Q1 (b). Visualizing summary statistics\n",
    "\n",
    "Create a plot of the average relative abundances and their variation over time by following these steps:\n",
    "\n",
    "1. Reset the index of `diatom_summary` so that the taxon names are stored as a column and not an index. Store the result as `plot_df`.\n",
    "\n",
    "2. Create an Altair chart based on `plot_df` with *no marks* -- just `alt.Chart(...).encode(...)` -- and pass the columnn of taxon names to the `Y` encoding channel with the title 'Taxon' and sorted in descending order of mean relative abundance. Store the result as `base`.\n",
    "    + *Hint*: `alt.Y(..., sort = {'field': 'column', 'order': 'descending'})` will sort the Y channel by 'column' in descending order.\n",
    "\n",
    "\n",
    "3. Modify `base` to create a point plot of the average relative abundances for each taxon; store the result as `means`.\n",
    "    + Average relative abundance (the mean you calculated in Q1 (a)) should appear on the x axis, and taxon on the y axis.\n",
    "    + Since the `Y` encoding was already specified in `base`, you do not need to add a `Y` encoding at this stage.\n",
    "    + Give the x axis the title 'Average relative abundance'.\n",
    "\n",
    "\n",
    "4. Modify `base` to create a plot with bars spanning two standard deviations in either direction from the mean. Store the result as `bars`.\n",
    "    + First use `base.transform_calculate(...)` to compute `lwr` and `upr` for the positions of the bar endpoints:\n",
    "        - $\\texttt{lwr} = \\texttt{mean} - 2\\times\\texttt{std}$\n",
    "        - $\\texttt{upr} = \\texttt{mean} + 2\\times\\texttt{std}$.\n",
    "    + Then append `.mark_errorbar().encode(...)` to the chain:\n",
    "        - pass `lwr:Q` to the `X` encoding channel with the title 'Average relative abundance' (to match the point plot)\n",
    "        - pass `upr:Q` to the `X2` encoding channel (no specific title needed).\n",
    "\n",
    "\n",
    "5. Layer the plots: `means + bars`.\n",
    "\n",
    "\n",
    "It may help to have a look at [this example](https://altair-viz.github.io/gallery/simple_scatter_with_errorbars.html). Once you make the plot, answer questions (i) - (iii) below."
   ]
  },
  {
   "cell_type": "code",
   "execution_count": 14,
   "metadata": {},
   "outputs": [
    {
     "data": {
      "text/html": [
       "\n",
       "<div id=\"altair-viz-c68929fcf87749bbbb4ca67cb5c33ba3\"></div>\n",
       "<script type=\"text/javascript\">\n",
       "  var VEGA_DEBUG = (typeof VEGA_DEBUG == \"undefined\") ? {} : VEGA_DEBUG;\n",
       "  (function(spec, embedOpt){\n",
       "    let outputDiv = document.currentScript.previousElementSibling;\n",
       "    if (outputDiv.id !== \"altair-viz-c68929fcf87749bbbb4ca67cb5c33ba3\") {\n",
       "      outputDiv = document.getElementById(\"altair-viz-c68929fcf87749bbbb4ca67cb5c33ba3\");\n",
       "    }\n",
       "    const paths = {\n",
       "      \"vega\": \"https://cdn.jsdelivr.net/npm//vega@5?noext\",\n",
       "      \"vega-lib\": \"https://cdn.jsdelivr.net/npm//vega-lib?noext\",\n",
       "      \"vega-lite\": \"https://cdn.jsdelivr.net/npm//vega-lite@4.17.0?noext\",\n",
       "      \"vega-embed\": \"https://cdn.jsdelivr.net/npm//vega-embed@6?noext\",\n",
       "    };\n",
       "\n",
       "    function maybeLoadScript(lib, version) {\n",
       "      var key = `${lib.replace(\"-\", \"\")}_version`;\n",
       "      return (VEGA_DEBUG[key] == version) ?\n",
       "        Promise.resolve(paths[lib]) :\n",
       "        new Promise(function(resolve, reject) {\n",
       "          var s = document.createElement('script');\n",
       "          document.getElementsByTagName(\"head\")[0].appendChild(s);\n",
       "          s.async = true;\n",
       "          s.onload = () => {\n",
       "            VEGA_DEBUG[key] = version;\n",
       "            return resolve(paths[lib]);\n",
       "          };\n",
       "          s.onerror = () => reject(`Error loading script: ${paths[lib]}`);\n",
       "          s.src = paths[lib];\n",
       "        });\n",
       "    }\n",
       "\n",
       "    function showError(err) {\n",
       "      outputDiv.innerHTML = `<div class=\"error\" style=\"color:red;\">${err}</div>`;\n",
       "      throw err;\n",
       "    }\n",
       "\n",
       "    function displayChart(vegaEmbed) {\n",
       "      vegaEmbed(outputDiv, spec, embedOpt)\n",
       "        .catch(err => showError(`Javascript Error: ${err.message}<br>This usually means there's a typo in your chart specification. See the javascript console for the full traceback.`));\n",
       "    }\n",
       "\n",
       "    if(typeof define === \"function\" && define.amd) {\n",
       "      requirejs.config({paths});\n",
       "      require([\"vega-embed\"], displayChart, err => showError(`Error loading script: ${err.message}`));\n",
       "    } else {\n",
       "      maybeLoadScript(\"vega\", \"5\")\n",
       "        .then(() => maybeLoadScript(\"vega-lite\", \"4.17.0\"))\n",
       "        .then(() => maybeLoadScript(\"vega-embed\", \"6\"))\n",
       "        .catch(showError)\n",
       "        .then(() => displayChart(vegaEmbed));\n",
       "    }\n",
       "  })({\"config\": {\"view\": {\"continuousWidth\": 400, \"continuousHeight\": 300}}, \"layer\": [{\"mark\": \"point\", \"encoding\": {\"x\": {\"field\": \"mean\", \"title\": \"Average relative abundance\", \"type\": \"quantitative\"}, \"y\": {\"field\": \"index\", \"sort\": {\"field\": \"column\", \"order\": \"descending\"}, \"title\": \"Taxon\", \"type\": \"nominal\"}}}, {\"mark\": \"errorbar\", \"encoding\": {\"x\": {\"field\": \"lwr\", \"title\": \"Average relative abundance\", \"type\": \"quantitative\"}, \"x2\": {\"field\": \"upr\"}, \"y\": {\"field\": \"index\", \"sort\": {\"field\": \"column\", \"order\": \"descending\"}, \"title\": \"Taxon\", \"type\": \"nominal\"}}, \"transform\": [{\"calculate\": \"datum.mean - 2*datum.std\", \"as\": \"lwr\"}, {\"calculate\": \"datum.mean + 2*datum.std\", \"as\": \"upr\"}]}], \"data\": {\"name\": \"data-6a3a038c92efaa7c4957fd5e79c91e85\"}, \"$schema\": \"https://vega.github.io/schema/vega-lite/v4.17.0.json\", \"datasets\": {\"data-6a3a038c92efaa7c4957fd5e79c91e85\": [{\"index\": \"A_curv\", \"mean\": 0.028988939091285613, \"std\": 0.018602153931886765}, {\"index\": \"A_octon\", \"mean\": 0.018257499553308645, \"std\": 0.0164651464642577}, {\"index\": \"ActinSpp\", \"mean\": 0.13590010485376025, \"std\": 0.05379666731920409}, {\"index\": \"A_nodul\", \"mean\": 0.0729402116060742, \"std\": 0.09267704433557555}, {\"index\": \"CoscinSpp\", \"mean\": 0.08592507717285713, \"std\": 0.03179511361581212}, {\"index\": \"CyclotSpp\", \"mean\": 0.07036571042472772, \"std\": 0.04242306729462194}, {\"index\": \"Rop_tess\", \"mean\": 0.060447644621013034, \"std\": 0.07609838548473126}, {\"index\": \"StephanSpp\", \"mean\": 0.0024473050108681084, \"std\": 0.007720531940272932}]}}, {\"mode\": \"vega-lite\"});\n",
       "</script>"
      ],
      "text/plain": [
       "alt.LayerChart(...)"
      ]
     },
     "execution_count": 14,
     "metadata": {},
     "output_type": "execute_result"
    }
   ],
   "source": [
    "# reset index\n",
    "plot_df = diatom_summary.reset_index()\n",
    "\n",
    "# create base chart\n",
    "base = alt.Chart(plot_df).encode(\n",
    "    y = alt.Y('index', title = 'Taxon',\n",
    "              sort = {'field': 'column', 'order': 'descending'})\n",
    ")\n",
    "              \n",
    "# create point plot\n",
    "means = base.mark_point().encode(\n",
    "    x = alt.X('mean', title = 'Average relative abundance')\n",
    ")\n",
    "# create bar plot\n",
    "bars = base.transform_calculate(\n",
    "    lwr = 'datum.mean - 2*datum.std',\n",
    "    upr = 'datum.mean + 2*datum.std'\n",
    ").mark_errorbar().encode(\n",
    "    x = alt.X('lwr:Q', title = 'Average relative abundance'),\n",
    "    x2 = 'upr:Q'\n",
    ")\n",
    "# layer\n",
    "means + bars"
   ]
  },
  {
   "cell_type": "markdown",
   "metadata": {},
   "source": [
    "<!-- BEGIN QUESTION -->\n",
    "\n",
    "#### (i) Which taxon is most abundant on average over time?\n"
   ]
  },
  {
   "cell_type": "markdown",
   "metadata": {},
   "source": [
    "_On average, the Actinoptychus (ActinSpp) taxon is most abundant over time._"
   ]
  },
  {
   "cell_type": "markdown",
   "metadata": {},
   "source": [
    "<!-- END QUESTION -->\n",
    "\n",
    "<!-- BEGIN QUESTION -->\n",
    "\n",
    "#### (ii) Which taxon is most rare on average over time?\n"
   ]
  },
  {
   "cell_type": "markdown",
   "metadata": {},
   "source": [
    "_Stephanopyxis (StephanSpp) is the most rare over time._"
   ]
  },
  {
   "cell_type": "markdown",
   "metadata": {},
   "source": [
    "<!-- END QUESTION -->\n",
    "\n",
    "<!-- BEGIN QUESTION -->\n",
    "\n",
    "#### (iii) Which taxon varies most in relative abundance over time?\n"
   ]
  },
  {
   "cell_type": "markdown",
   "metadata": {},
   "source": [
    "_Azpeitia nodulifer (A_nodul) varies the most over time._"
   ]
  },
  {
   "cell_type": "markdown",
   "metadata": {},
   "source": [
    "<!-- END QUESTION -->\n",
    "\n",
    "Now that you have a sense of the typical abundances for each taxon (measured by means) and the variations in abundance (measured by standard deviations), you'll dig in a bit further and examine the variation in abundance of the most variable taxon. \n",
    "\n",
    "For the next few questions, it may help you to follow code examples from lab 4."
   ]
  },
  {
   "cell_type": "markdown",
   "metadata": {},
   "source": [
    "<!-- BEGIN QUESTION -->\n",
    "\n",
    "### Q1 (c). Distribution of *Azpeitia nodulifer* abundance over time\n",
    "\n",
    "Here you'll construct a few plots that will help you answer the following key exploratory questions:\n",
    "* Which values are common?\n",
    "* Which values are rare?\n",
    "* How spread out are the values?\n",
    "* Are values spread evenly or irregularly?\n",
    "\n",
    "#### (i) Construct a density scale histogram of the relative abundances of *Azpeitia nodulifer*. \n",
    "\n",
    "Use the `diatoms` dataframe and a bin width of 0.03 and store the histogram as `hist`.\n",
    "\n",
    "Hint: It may help to look at *Q0* in **Lab4 on Smoothing**\n"
   ]
  },
  {
   "cell_type": "code",
   "execution_count": 15,
   "metadata": {
    "tags": []
   },
   "outputs": [
    {
     "data": {
      "text/html": [
       "\n",
       "<div id=\"altair-viz-9baaa9f2eb624281b3f7f18c23dd801a\"></div>\n",
       "<script type=\"text/javascript\">\n",
       "  var VEGA_DEBUG = (typeof VEGA_DEBUG == \"undefined\") ? {} : VEGA_DEBUG;\n",
       "  (function(spec, embedOpt){\n",
       "    let outputDiv = document.currentScript.previousElementSibling;\n",
       "    if (outputDiv.id !== \"altair-viz-9baaa9f2eb624281b3f7f18c23dd801a\") {\n",
       "      outputDiv = document.getElementById(\"altair-viz-9baaa9f2eb624281b3f7f18c23dd801a\");\n",
       "    }\n",
       "    const paths = {\n",
       "      \"vega\": \"https://cdn.jsdelivr.net/npm//vega@5?noext\",\n",
       "      \"vega-lib\": \"https://cdn.jsdelivr.net/npm//vega-lib?noext\",\n",
       "      \"vega-lite\": \"https://cdn.jsdelivr.net/npm//vega-lite@4.17.0?noext\",\n",
       "      \"vega-embed\": \"https://cdn.jsdelivr.net/npm//vega-embed@6?noext\",\n",
       "    };\n",
       "\n",
       "    function maybeLoadScript(lib, version) {\n",
       "      var key = `${lib.replace(\"-\", \"\")}_version`;\n",
       "      return (VEGA_DEBUG[key] == version) ?\n",
       "        Promise.resolve(paths[lib]) :\n",
       "        new Promise(function(resolve, reject) {\n",
       "          var s = document.createElement('script');\n",
       "          document.getElementsByTagName(\"head\")[0].appendChild(s);\n",
       "          s.async = true;\n",
       "          s.onload = () => {\n",
       "            VEGA_DEBUG[key] = version;\n",
       "            return resolve(paths[lib]);\n",
       "          };\n",
       "          s.onerror = () => reject(`Error loading script: ${paths[lib]}`);\n",
       "          s.src = paths[lib];\n",
       "        });\n",
       "    }\n",
       "\n",
       "    function showError(err) {\n",
       "      outputDiv.innerHTML = `<div class=\"error\" style=\"color:red;\">${err}</div>`;\n",
       "      throw err;\n",
       "    }\n",
       "\n",
       "    function displayChart(vegaEmbed) {\n",
       "      vegaEmbed(outputDiv, spec, embedOpt)\n",
       "        .catch(err => showError(`Javascript Error: ${err.message}<br>This usually means there's a typo in your chart specification. See the javascript console for the full traceback.`));\n",
       "    }\n",
       "\n",
       "    if(typeof define === \"function\" && define.amd) {\n",
       "      requirejs.config({paths});\n",
       "      require([\"vega-embed\"], displayChart, err => showError(`Error loading script: ${err.message}`));\n",
       "    } else {\n",
       "      maybeLoadScript(\"vega\", \"5\")\n",
       "        .then(() => maybeLoadScript(\"vega-lite\", \"4.17.0\"))\n",
       "        .then(() => maybeLoadScript(\"vega-embed\", \"6\"))\n",
       "        .catch(showError)\n",
       "        .then(() => displayChart(vegaEmbed));\n",
       "    }\n",
       "  })({\"config\": {\"view\": {\"continuousWidth\": 400, \"continuousHeight\": 300}}, \"data\": {\"name\": \"data-9f4e66e54759d6b46301ea3d10ce44f6\"}, \"mark\": \"bar\", \"encoding\": {\"x\": {\"field\": \"Relative abundance of Azpeitia nodulifer\", \"type\": \"quantitative\"}, \"y\": {\"field\": \"Density\", \"type\": \"quantitative\"}}, \"transform\": [{\"bin\": {\"step\": 0.03}, \"field\": \"A_nodul\", \"as\": \"Relative abundance of Azpeitia nodulifer\"}, {\"aggregate\": [{\"op\": \"count\", \"as\": \"Count\"}], \"groupby\": [\"Relative abundance of Azpeitia nodulifer\"]}, {\"calculate\": \"datum.Count/(0.03*230)\", \"as\": \"Density\"}], \"$schema\": \"https://vega.github.io/schema/vega-lite/v4.17.0.json\", \"datasets\": {\"data-9f4e66e54759d6b46301ea3d10ce44f6\": [{\"Depth\": 0.0, \"Age\": 1.33, \"A_curv\": 0.024875621890547265, \"A_octon\": 0.009950248756218905, \"ActinSpp\": 0.15920398009950248, \"A_nodul\": 0.06965174129353234, \"CoscinSpp\": 0.1044776119402985, \"CyclotSpp\": 0.10945273631840796, \"Rop_tess\": 0.004975124378109453, \"StephanSpp\": 0.004975124378109453}, {\"Depth\": 0.05, \"Age\": 1.37, \"A_curv\": 0.04, \"A_octon\": 0.01, \"ActinSpp\": 0.155, \"A_nodul\": 0.08, \"CoscinSpp\": 0.1, \"CyclotSpp\": 0.08, \"Rop_tess\": 0.035, \"StephanSpp\": 0.01}, {\"Depth\": 0.1, \"Age\": 1.42, \"A_curv\": 0.04, \"A_octon\": 0.03, \"ActinSpp\": 0.165, \"A_nodul\": 0.09, \"CoscinSpp\": 0.145, \"CyclotSpp\": 0.035, \"Rop_tess\": 0.005, \"StephanSpp\": 0.005}, {\"Depth\": 0.15, \"Age\": 1.46, \"A_curv\": 0.055, \"A_octon\": 0.005, \"ActinSpp\": 0.105, \"A_nodul\": 0.005, \"CoscinSpp\": 0.06, \"CyclotSpp\": 0.14, \"Rop_tess\": 0.125, \"StephanSpp\": 0.015}, {\"Depth\": 0.2, \"Age\": 1.51, \"A_curv\": 0.03666666666666667, \"A_octon\": 0.0033333333333333335, \"ActinSpp\": 0.12666666666666668, \"A_nodul\": 0.01, \"CoscinSpp\": 0.06, \"CyclotSpp\": 0.08, \"Rop_tess\": 0.01, \"StephanSpp\": 0.0}, {\"Depth\": 0.25, \"Age\": 1.55, \"A_curv\": 0.019704433497536946, \"A_octon\": 0.04433497536945813, \"ActinSpp\": 0.1477832512315271, \"A_nodul\": 0.04926108374384237, \"CoscinSpp\": 0.07881773399014778, \"CyclotSpp\": 0.06896551724137931, \"Rop_tess\": 0.07881773399014778, \"StephanSpp\": 0.0}, {\"Depth\": 0.3, \"Age\": 1.59, \"A_curv\": 0.025, \"A_octon\": 0.015, \"ActinSpp\": 0.105, \"A_nodul\": 0.02, \"CoscinSpp\": 0.06, \"CyclotSpp\": 0.08, \"Rop_tess\": 0.2, \"StephanSpp\": 0.0}, {\"Depth\": 0.35, \"Age\": 1.64, \"A_curv\": 0.035, \"A_octon\": 0.02, \"ActinSpp\": 0.18, \"A_nodul\": 0.095, \"CoscinSpp\": 0.095, \"CyclotSpp\": 0.065, \"Rop_tess\": 0.015, \"StephanSpp\": 0.005}, {\"Depth\": 0.4, \"Age\": 1.68, \"A_curv\": 0.07, \"A_octon\": 0.035, \"ActinSpp\": 0.2, \"A_nodul\": 0.02, \"CoscinSpp\": 0.12, \"CyclotSpp\": 0.055, \"Rop_tess\": 0.015, \"StephanSpp\": 0.005}, {\"Depth\": 0.45, \"Age\": 1.72, \"A_curv\": 0.03, \"A_octon\": 0.015, \"ActinSpp\": 0.185, \"A_nodul\": 0.03, \"CoscinSpp\": 0.13, \"CyclotSpp\": 0.1, \"Rop_tess\": 0.015, \"StephanSpp\": 0.005}, {\"Depth\": 0.5, \"Age\": 1.77, \"A_curv\": 0.04, \"A_octon\": 0.02, \"ActinSpp\": 0.1, \"A_nodul\": 0.055, \"CoscinSpp\": 0.055, \"CyclotSpp\": 0.1, \"Rop_tess\": 0.135, \"StephanSpp\": 0.005}, {\"Depth\": 0.55, \"Age\": 1.81, \"A_curv\": 0.024875621890547265, \"A_octon\": 0.014925373134328358, \"ActinSpp\": 0.17412935323383086, \"A_nodul\": 0.014925373134328358, \"CoscinSpp\": 0.07462686567164178, \"CyclotSpp\": 0.10945273631840796, \"Rop_tess\": 0.05970149253731343, \"StephanSpp\": 0.014925373134328358}, {\"Depth\": 0.6, \"Age\": 1.86, \"A_curv\": 0.04455445544554455, \"A_octon\": 0.01485148514851485, \"ActinSpp\": 0.1485148514851485, \"A_nodul\": 0.01485148514851485, \"CoscinSpp\": 0.0891089108910891, \"CyclotSpp\": 0.13366336633663367, \"Rop_tess\": 0.034653465346534656, \"StephanSpp\": 0.0049504950495049506}, {\"Depth\": 0.65, \"Age\": 1.9, \"A_curv\": 0.016556291390728478, \"A_octon\": 0.013245033112582781, \"ActinSpp\": 0.08940397350993377, \"A_nodul\": 0.019867549668874173, \"CoscinSpp\": 0.06291390728476821, \"CyclotSpp\": 0.11589403973509933, \"Rop_tess\": 0.013245033112582781, \"StephanSpp\": 0.0}, {\"Depth\": 0.7, \"Age\": 1.94, \"A_curv\": 0.065, \"A_octon\": 0.01, \"ActinSpp\": 0.18, \"A_nodul\": 0.04, \"CoscinSpp\": 0.075, \"CyclotSpp\": 0.105, \"Rop_tess\": 0.03, \"StephanSpp\": 0.0}, {\"Depth\": 0.75, \"Age\": 1.99, \"A_curv\": 0.029850746268656716, \"A_octon\": 0.009950248756218905, \"ActinSpp\": 0.16417910447761194, \"A_nodul\": 0.01990049751243781, \"CoscinSpp\": 0.15920398009950248, \"CyclotSpp\": 0.1044776119402985, \"Rop_tess\": 0.004975124378109453, \"StephanSpp\": 0.0}, {\"Depth\": 0.8, \"Age\": 2.03, \"A_curv\": 0.04455445544554455, \"A_octon\": 0.009900990099009901, \"ActinSpp\": 0.2079207920792079, \"A_nodul\": 0.01485148514851485, \"CoscinSpp\": 0.10396039603960396, \"CyclotSpp\": 0.0891089108910891, \"Rop_tess\": 0.019801980198019802, \"StephanSpp\": 0.0049504950495049506}, {\"Depth\": 0.85, \"Age\": 2.08, \"A_curv\": 0.06965174129353234, \"A_octon\": 0.014925373134328358, \"ActinSpp\": 0.1044776119402985, \"A_nodul\": 0.004975124378109453, \"CoscinSpp\": 0.06965174129353234, \"CyclotSpp\": 0.208955223880597, \"Rop_tess\": 0.01990049751243781, \"StephanSpp\": 0.0}, {\"Depth\": 0.9, \"Age\": 2.12, \"A_curv\": 0.04477611940298507, \"A_octon\": 0.024875621890547265, \"ActinSpp\": 0.12935323383084577, \"A_nodul\": 0.06467661691542288, \"CoscinSpp\": 0.07960199004975124, \"CyclotSpp\": 0.09950248756218906, \"Rop_tess\": 0.04477611940298507, \"StephanSpp\": 0.0}, {\"Depth\": 0.95, \"Age\": 2.16, \"A_curv\": 0.055, \"A_octon\": 0.02, \"ActinSpp\": 0.17, \"A_nodul\": 0.015, \"CoscinSpp\": 0.05, \"CyclotSpp\": 0.175, \"Rop_tess\": 0.015, \"StephanSpp\": 0.01}, {\"Depth\": 1.0, \"Age\": 2.21, \"A_curv\": 0.058823529411764705, \"A_octon\": 0.014705882352941176, \"ActinSpp\": 0.19117647058823528, \"A_nodul\": 0.004901960784313725, \"CoscinSpp\": 0.0784313725490196, \"CyclotSpp\": 0.11274509803921569, \"Rop_tess\": 0.00980392156862745, \"StephanSpp\": 0.00980392156862745}, {\"Depth\": 1.05, \"Age\": 2.25, \"A_curv\": 0.065, \"A_octon\": 0.015, \"ActinSpp\": 0.115, \"A_nodul\": 0.025, \"CoscinSpp\": 0.09, \"CyclotSpp\": 0.115, \"Rop_tess\": 0.075, \"StephanSpp\": 0.005}, {\"Depth\": 1.1, \"Age\": 2.29, \"A_curv\": 0.029850746268656716, \"A_octon\": 0.004975124378109453, \"ActinSpp\": 0.11442786069651742, \"A_nodul\": 0.01990049751243781, \"CoscinSpp\": 0.04975124378109453, \"CyclotSpp\": 0.0945273631840796, \"Rop_tess\": 0.07960199004975124, \"StephanSpp\": 0.0945273631840796}, {\"Depth\": 1.15, \"Age\": 2.34, \"A_curv\": 0.034482758620689655, \"A_octon\": 0.04433497536945813, \"ActinSpp\": 0.13793103448275862, \"A_nodul\": 0.03940886699507389, \"CoscinSpp\": 0.08866995073891626, \"CyclotSpp\": 0.11330049261083744, \"Rop_tess\": 0.034482758620689655, \"StephanSpp\": 0.0}, {\"Depth\": 1.2, \"Age\": 2.38, \"A_curv\": 0.03734439834024896, \"A_octon\": 0.012448132780082987, \"ActinSpp\": 0.04564315352697095, \"A_nodul\": 0.07883817427385892, \"CoscinSpp\": 0.04979253112033195, \"CyclotSpp\": 0.07468879668049792, \"Rop_tess\": 0.11203319502074689, \"StephanSpp\": 0.0}, {\"Depth\": 1.25, \"Age\": 2.43, \"A_curv\": 0.045, \"A_octon\": 0.015, \"ActinSpp\": 0.13, \"A_nodul\": 0.01, \"CoscinSpp\": 0.09, \"CyclotSpp\": 0.065, \"Rop_tess\": 0.11, \"StephanSpp\": 0.045}, {\"Depth\": 1.3, \"Age\": 2.47, \"A_curv\": 0.04, \"A_octon\": 0.01, \"ActinSpp\": 0.09, \"A_nodul\": 0.013333333333333334, \"CoscinSpp\": 0.043333333333333335, \"CyclotSpp\": 0.06333333333333334, \"Rop_tess\": 0.05333333333333334, \"StephanSpp\": 0.016666666666666666}, {\"Depth\": 1.35, \"Age\": 2.51, \"A_curv\": 0.04455445544554455, \"A_octon\": 0.019801980198019802, \"ActinSpp\": 0.14356435643564355, \"A_nodul\": 0.019801980198019802, \"CoscinSpp\": 0.039603960396039604, \"CyclotSpp\": 0.21287128712871287, \"Rop_tess\": 0.01485148514851485, \"StephanSpp\": 0.0}, {\"Depth\": 1.4, \"Age\": 2.56, \"A_curv\": 0.049019607843137254, \"A_octon\": 0.029411764705882353, \"ActinSpp\": 0.12254901960784313, \"A_nodul\": 0.014705882352941176, \"CoscinSpp\": 0.049019607843137254, \"CyclotSpp\": 0.17647058823529413, \"Rop_tess\": 0.04411764705882353, \"StephanSpp\": 0.004901960784313725}, {\"Depth\": 1.49, \"Age\": 2.64, \"A_curv\": 0.045, \"A_octon\": 0.015, \"ActinSpp\": 0.14, \"A_nodul\": 0.03, \"CoscinSpp\": 0.145, \"CyclotSpp\": 0.095, \"Rop_tess\": 0.045, \"StephanSpp\": 0.0}, {\"Depth\": 1.5, \"Age\": 2.65, \"A_curv\": 0.03, \"A_octon\": 0.035, \"ActinSpp\": 0.16, \"A_nodul\": 0.04, \"CoscinSpp\": 0.065, \"CyclotSpp\": 0.085, \"Rop_tess\": 0.095, \"StephanSpp\": 0.0}, {\"Depth\": 1.55, \"Age\": 2.69, \"A_curv\": 0.025, \"A_octon\": 0.035, \"ActinSpp\": 0.11, \"A_nodul\": 0.02, \"CoscinSpp\": 0.05, \"CyclotSpp\": 0.155, \"Rop_tess\": 0.115, \"StephanSpp\": 0.0}, {\"Depth\": 1.6, \"Age\": 2.73, \"A_curv\": 0.04, \"A_octon\": 0.03, \"ActinSpp\": 0.14, \"A_nodul\": 0.01, \"CoscinSpp\": 0.13, \"CyclotSpp\": 0.125, \"Rop_tess\": 0.03, \"StephanSpp\": 0.005}, {\"Depth\": 1.65, \"Age\": 2.78, \"A_curv\": 0.05, \"A_octon\": 0.005, \"ActinSpp\": 0.14, \"A_nodul\": 0.03, \"CoscinSpp\": 0.095, \"CyclotSpp\": 0.14, \"Rop_tess\": 0.05, \"StephanSpp\": 0.0}, {\"Depth\": 1.7, \"Age\": 2.82, \"A_curv\": 0.045, \"A_octon\": 0.015, \"ActinSpp\": 0.215, \"A_nodul\": 0.005, \"CoscinSpp\": 0.08, \"CyclotSpp\": 0.125, \"Rop_tess\": 0.02, \"StephanSpp\": 0.005}, {\"Depth\": 1.75, \"Age\": 2.87, \"A_curv\": 0.07881773399014778, \"A_octon\": 0.059113300492610835, \"ActinSpp\": 0.10344827586206896, \"A_nodul\": 0.019704433497536946, \"CoscinSpp\": 0.09359605911330049, \"CyclotSpp\": 0.09359605911330049, \"Rop_tess\": 0.034482758620689655, \"StephanSpp\": 0.009852216748768473}, {\"Depth\": 1.8, \"Age\": 2.91, \"A_curv\": 0.054187192118226604, \"A_octon\": 0.009852216748768473, \"ActinSpp\": 0.19704433497536947, \"A_nodul\": 0.029556650246305417, \"CoscinSpp\": 0.08374384236453201, \"CyclotSpp\": 0.07389162561576355, \"Rop_tess\": 0.034482758620689655, \"StephanSpp\": 0.0}, {\"Depth\": 1.85, \"Age\": 2.95, \"A_curv\": 0.025, \"A_octon\": 0.015, \"ActinSpp\": 0.19, \"A_nodul\": 0.025, \"CoscinSpp\": 0.115, \"CyclotSpp\": 0.105, \"Rop_tess\": 0.03, \"StephanSpp\": 0.005}, {\"Depth\": 1.9, \"Age\": 3.0, \"A_curv\": 0.03, \"A_octon\": 0.01, \"ActinSpp\": 0.09, \"A_nodul\": 0.005, \"CoscinSpp\": 0.055, \"CyclotSpp\": 0.18, \"Rop_tess\": 0.13, \"StephanSpp\": 0.005}, {\"Depth\": 1.95, \"Age\": 3.04, \"A_curv\": 0.05, \"A_octon\": 0.02, \"ActinSpp\": 0.2, \"A_nodul\": 0.01, \"CoscinSpp\": 0.075, \"CyclotSpp\": 0.12, \"Rop_tess\": 0.035, \"StephanSpp\": 0.005}, {\"Depth\": 2.0, \"Age\": 3.08, \"A_curv\": 0.0297029702970297, \"A_octon\": 0.0049504950495049506, \"ActinSpp\": 0.14356435643564355, \"A_nodul\": 0.0049504950495049506, \"CoscinSpp\": 0.0297029702970297, \"CyclotSpp\": 0.2079207920792079, \"Rop_tess\": 0.06930693069306931, \"StephanSpp\": 0.0}, {\"Depth\": 2.05, \"Age\": 3.13, \"A_curv\": 0.03, \"A_octon\": 0.04, \"ActinSpp\": 0.175, \"A_nodul\": 0.02, \"CoscinSpp\": 0.08, \"CyclotSpp\": 0.125, \"Rop_tess\": 0.04, \"StephanSpp\": 0.005}, {\"Depth\": 2.1, \"Age\": 3.17, \"A_curv\": 0.054187192118226604, \"A_octon\": 0.019704433497536946, \"ActinSpp\": 0.13793103448275862, \"A_nodul\": 0.014778325123152709, \"CoscinSpp\": 0.09359605911330049, \"CyclotSpp\": 0.1330049261083744, \"Rop_tess\": 0.03940886699507389, \"StephanSpp\": 0.0}, {\"Depth\": 2.15, \"Age\": 3.22, \"A_curv\": 0.02181818181818182, \"A_octon\": 0.01090909090909091, \"ActinSpp\": 0.13454545454545455, \"A_nodul\": 0.014545454545454545, \"CoscinSpp\": 0.04363636363636364, \"CyclotSpp\": 0.12727272727272726, \"Rop_tess\": 0.007272727272727273, \"StephanSpp\": 0.0}, {\"Depth\": 2.2, \"Age\": 3.26, \"A_curv\": 0.034653465346534656, \"A_octon\": 0.024752475247524754, \"ActinSpp\": 0.18316831683168316, \"A_nodul\": 0.06435643564356436, \"CoscinSpp\": 0.0891089108910891, \"CyclotSpp\": 0.07920792079207921, \"Rop_tess\": 0.009900990099009901, \"StephanSpp\": 0.0}, {\"Depth\": 2.25, \"Age\": 3.3, \"A_curv\": 0.035, \"A_octon\": 0.03, \"ActinSpp\": 0.18, \"A_nodul\": 0.02, \"CoscinSpp\": 0.1, \"CyclotSpp\": 0.11, \"Rop_tess\": 0.03, \"StephanSpp\": 0.005}, {\"Depth\": 2.3, \"Age\": 3.35, \"A_curv\": 0.024875621890547265, \"A_octon\": 0.029850746268656716, \"ActinSpp\": 0.15920398009950248, \"A_nodul\": 0.03482587064676617, \"CoscinSpp\": 0.10945273631840796, \"CyclotSpp\": 0.0945273631840796, \"Rop_tess\": 0.029850746268656716, \"StephanSpp\": 0.0}, {\"Depth\": 2.35, \"Age\": 3.39, \"A_curv\": 0.02666666666666667, \"A_octon\": 0.04666666666666667, \"ActinSpp\": 0.09666666666666666, \"A_nodul\": 0.01, \"CoscinSpp\": 0.04, \"CyclotSpp\": 0.10333333333333333, \"Rop_tess\": 0.01, \"StephanSpp\": 0.0}, {\"Depth\": 2.4, \"Age\": 3.44, \"A_curv\": 0.045, \"A_octon\": 0.03, \"ActinSpp\": 0.175, \"A_nodul\": 0.01, \"CoscinSpp\": 0.095, \"CyclotSpp\": 0.13, \"Rop_tess\": 0.025, \"StephanSpp\": 0.0}, {\"Depth\": 2.45, \"Age\": 3.48, \"A_curv\": 0.045, \"A_octon\": 0.04, \"ActinSpp\": 0.17, \"A_nodul\": 0.015, \"CoscinSpp\": 0.11, \"CyclotSpp\": 0.12, \"Rop_tess\": 0.01, \"StephanSpp\": 0.005}, {\"Depth\": 2.5, \"Age\": 3.52, \"A_curv\": 0.03482587064676617, \"A_octon\": 0.01990049751243781, \"ActinSpp\": 0.1791044776119403, \"A_nodul\": 0.01990049751243781, \"CoscinSpp\": 0.09950248756218906, \"CyclotSpp\": 0.12437810945273632, \"Rop_tess\": 0.004975124378109453, \"StephanSpp\": 0.009950248756218905}, {\"Depth\": 2.55, \"Age\": 3.57, \"A_curv\": 0.04455445544554455, \"A_octon\": 0.0297029702970297, \"ActinSpp\": 0.1782178217821782, \"A_nodul\": 0.024752475247524754, \"CoscinSpp\": 0.1188118811881188, \"CyclotSpp\": 0.06930693069306931, \"Rop_tess\": 0.0297029702970297, \"StephanSpp\": 0.0}, {\"Depth\": 2.59, \"Age\": 3.6, \"A_curv\": 0.03, \"A_octon\": 0.015, \"ActinSpp\": 0.22, \"A_nodul\": 0.015, \"CoscinSpp\": 0.11, \"CyclotSpp\": 0.09, \"Rop_tess\": 0.03, \"StephanSpp\": 0.0}, {\"Depth\": 2.65, \"Age\": 3.65, \"A_curv\": 0.03, \"A_octon\": 0.02, \"ActinSpp\": 0.155, \"A_nodul\": 0.035, \"CoscinSpp\": 0.095, \"CyclotSpp\": 0.155, \"Rop_tess\": 0.02, \"StephanSpp\": 0.005}, {\"Depth\": 2.7, \"Age\": 3.7, \"A_curv\": 0.04245283018867924, \"A_octon\": 0.0330188679245283, \"ActinSpp\": 0.14150943396226415, \"A_nodul\": 0.02358490566037736, \"CoscinSpp\": 0.08018867924528301, \"CyclotSpp\": 0.09905660377358491, \"Rop_tess\": 0.04716981132075472, \"StephanSpp\": 0.0}, {\"Depth\": 2.75, \"Age\": 3.74, \"A_curv\": 0.035, \"A_octon\": 0.02, \"ActinSpp\": 0.15, \"A_nodul\": 0.025, \"CoscinSpp\": 0.085, \"CyclotSpp\": 0.165, \"Rop_tess\": 0.03, \"StephanSpp\": 0.0}, {\"Depth\": 2.8, \"Age\": 3.79, \"A_curv\": 0.03515625, \"A_octon\": 0.015625, \"ActinSpp\": 0.1171875, \"A_nodul\": 0.01953125, \"CoscinSpp\": 0.05078125, \"CyclotSpp\": 0.1328125, \"Rop_tess\": 0.015625, \"StephanSpp\": 0.0}, {\"Depth\": 2.85, \"Age\": 3.83, \"A_curv\": 0.016, \"A_octon\": 0.032, \"ActinSpp\": 0.16, \"A_nodul\": 0.024, \"CoscinSpp\": 0.06, \"CyclotSpp\": 0.088, \"Rop_tess\": 0.016, \"StephanSpp\": 0.0}, {\"Depth\": 2.9, \"Age\": 3.87, \"A_curv\": 0.048, \"A_octon\": 0.016, \"ActinSpp\": 0.156, \"A_nodul\": 0.012, \"CoscinSpp\": 0.072, \"CyclotSpp\": 0.08, \"Rop_tess\": 0.012, \"StephanSpp\": 0.0}, {\"Depth\": 2.95, \"Age\": 3.92, \"A_curv\": 0.015151515151515152, \"A_octon\": 0.026515151515151516, \"ActinSpp\": 0.13257575757575757, \"A_nodul\": 0.01893939393939394, \"CoscinSpp\": 0.056818181818181816, \"CyclotSpp\": 0.12121212121212122, \"Rop_tess\": 0.007575757575757576, \"StephanSpp\": 0.0}, {\"Depth\": 3.0, \"Age\": 3.96, \"A_curv\": 0.014005602240896359, \"A_octon\": 0.025210084033613446, \"ActinSpp\": 0.08403361344537816, \"A_nodul\": 0.0056022408963585435, \"CoscinSpp\": 0.03361344537815126, \"CyclotSpp\": 0.1092436974789916, \"Rop_tess\": 0.008403361344537815, \"StephanSpp\": 0.0}, {\"Depth\": 3.0, \"Age\": 3.96, \"A_curv\": 0.03, \"A_octon\": 0.015, \"ActinSpp\": 0.065, \"A_nodul\": 0.01, \"CoscinSpp\": 0.05, \"CyclotSpp\": 0.165, \"Rop_tess\": 0.165, \"StephanSpp\": 0.005}, {\"Depth\": 3.05, \"Age\": 4.01, \"A_curv\": 0.024822695035460994, \"A_octon\": 0.014184397163120567, \"ActinSpp\": 0.09219858156028368, \"A_nodul\": 0.02127659574468085, \"CoscinSpp\": 0.05673758865248227, \"CyclotSpp\": 0.12056737588652482, \"Rop_tess\": 0.024822695035460994, \"StephanSpp\": 0.0}, {\"Depth\": 3.1, \"Age\": 4.05, \"A_curv\": 0.024, \"A_octon\": 0.008, \"ActinSpp\": 0.12, \"A_nodul\": 0.012, \"CoscinSpp\": 0.096, \"CyclotSpp\": 0.104, \"Rop_tess\": 0.04, \"StephanSpp\": 0.0}, {\"Depth\": 3.2, \"Age\": 4.14, \"A_curv\": 0.02040816326530612, \"A_octon\": 0.012244897959183673, \"ActinSpp\": 0.07755102040816327, \"A_nodul\": 0.02857142857142857, \"CoscinSpp\": 0.053061224489795916, \"CyclotSpp\": 0.10612244897959183, \"Rop_tess\": 0.11020408163265306, \"StephanSpp\": 0.0}, {\"Depth\": 3.25, \"Age\": 4.18, \"A_curv\": 0.01932367149758454, \"A_octon\": 0.00966183574879227, \"ActinSpp\": 0.15942028985507245, \"A_nodul\": 0.057971014492753624, \"CoscinSpp\": 0.057971014492753624, \"CyclotSpp\": 0.08695652173913043, \"Rop_tess\": 0.08695652173913043, \"StephanSpp\": 0.0}, {\"Depth\": 3.3, \"Age\": 4.22, \"A_curv\": 0.023696682464454975, \"A_octon\": 0.014218009478672985, \"ActinSpp\": 0.12796208530805686, \"A_nodul\": 0.052132701421800945, \"CoscinSpp\": 0.10426540284360189, \"CyclotSpp\": 0.0995260663507109, \"Rop_tess\": 0.052132701421800945, \"StephanSpp\": 0.0}, {\"Depth\": 3.35, \"Age\": 4.27, \"A_curv\": 0.009950248756218905, \"A_octon\": 0.009950248756218905, \"ActinSpp\": 0.11442786069651742, \"A_nodul\": 0.11442786069651742, \"CoscinSpp\": 0.06965174129353234, \"CyclotSpp\": 0.08955223880597014, \"Rop_tess\": 0.07960199004975124, \"StephanSpp\": 0.0}, {\"Depth\": 3.4, \"Age\": 4.31, \"A_curv\": 0.02, \"A_octon\": 0.025, \"ActinSpp\": 0.16, \"A_nodul\": 0.11, \"CoscinSpp\": 0.055, \"CyclotSpp\": 0.125, \"Rop_tess\": 0.015, \"StephanSpp\": 0.0}, {\"Depth\": 3.45, \"Age\": 4.36, \"A_curv\": 0.015, \"A_octon\": 0.005, \"ActinSpp\": 0.07, \"A_nodul\": 0.02, \"CoscinSpp\": 0.015, \"CyclotSpp\": 0.085, \"Rop_tess\": 0.3, \"StephanSpp\": 0.0}, {\"Depth\": 3.5, \"Age\": 4.4, \"A_curv\": 0.01532567049808429, \"A_octon\": 0.007662835249042145, \"ActinSpp\": 0.13026819923371646, \"A_nodul\": 0.019157088122605363, \"CoscinSpp\": 0.05747126436781609, \"CyclotSpp\": 0.11877394636015326, \"Rop_tess\": 0.03065134099616858, \"StephanSpp\": 0.0}, {\"Depth\": 3.55, \"Age\": 4.44, \"A_curv\": 0.01, \"A_octon\": 0.01, \"ActinSpp\": 0.07, \"A_nodul\": 0.03, \"CoscinSpp\": 0.035, \"CyclotSpp\": 0.115, \"Rop_tess\": 0.24, \"StephanSpp\": 0.0}, {\"Depth\": 3.6, \"Age\": 4.49, \"A_curv\": 0.017391304347826087, \"A_octon\": 0.021739130434782608, \"ActinSpp\": 0.09565217391304348, \"A_nodul\": 0.14347826086956522, \"CoscinSpp\": 0.0391304347826087, \"CyclotSpp\": 0.06956521739130435, \"Rop_tess\": 0.04782608695652174, \"StephanSpp\": 0.0}, {\"Depth\": 3.65, \"Age\": 4.53, \"A_curv\": 0.0375, \"A_octon\": 0.0125, \"ActinSpp\": 0.17083333333333334, \"A_nodul\": 0.025, \"CoscinSpp\": 0.05416666666666667, \"CyclotSpp\": 0.075, \"Rop_tess\": 0.041666666666666664, \"StephanSpp\": 0.0}, {\"Depth\": 3.7, \"Age\": 4.58, \"A_curv\": 0.017777777777777778, \"A_octon\": 0.008888888888888889, \"ActinSpp\": 0.16444444444444445, \"A_nodul\": 0.057777777777777775, \"CoscinSpp\": 0.08, \"CyclotSpp\": 0.06666666666666667, \"Rop_tess\": 0.04, \"StephanSpp\": 0.0}, {\"Depth\": 3.75, \"Age\": 4.62, \"A_curv\": 0.02857142857142857, \"A_octon\": 0.022222222222222223, \"ActinSpp\": 0.1523809523809524, \"A_nodul\": 0.009523809523809525, \"CoscinSpp\": 0.047619047619047616, \"CyclotSpp\": 0.05714285714285714, \"Rop_tess\": 0.0031746031746031746, \"StephanSpp\": 0.0}, {\"Depth\": 4.75, \"Age\": 5.5, \"A_curv\": 0.0196078431372549, \"A_octon\": 0.00980392156862745, \"ActinSpp\": 0.19117647058823528, \"A_nodul\": 0.04411764705882353, \"CoscinSpp\": 0.11764705882352941, \"CyclotSpp\": 0.06862745098039216, \"Rop_tess\": 0.014705882352941176, \"StephanSpp\": 0.014705882352941176}, {\"Depth\": 4.8, \"Age\": 5.54, \"A_curv\": 0.0297029702970297, \"A_octon\": 0.019801980198019802, \"ActinSpp\": 0.15346534653465346, \"A_nodul\": 0.09405940594059406, \"CoscinSpp\": 0.08415841584158416, \"CyclotSpp\": 0.07425742574257425, \"Rop_tess\": 0.0297029702970297, \"StephanSpp\": 0.0049504950495049506}, {\"Depth\": 4.85, \"Age\": 5.58, \"A_curv\": 0.024271844660194174, \"A_octon\": 0.014563106796116505, \"ActinSpp\": 0.2087378640776699, \"A_nodul\": 0.05339805825242718, \"CoscinSpp\": 0.05825242718446602, \"CyclotSpp\": 0.0825242718446602, \"Rop_tess\": 0.038834951456310676, \"StephanSpp\": 0.0}, {\"Depth\": 4.9, \"Age\": 5.63, \"A_curv\": 0.03, \"A_octon\": 0.02, \"ActinSpp\": 0.16, \"A_nodul\": 0.01, \"CoscinSpp\": 0.095, \"CyclotSpp\": 0.075, \"Rop_tess\": 0.11, \"StephanSpp\": 0.005}, {\"Depth\": 4.95, \"Age\": 5.67, \"A_curv\": 0.035, \"A_octon\": 0.035, \"ActinSpp\": 0.12, \"A_nodul\": 0.02, \"CoscinSpp\": 0.09, \"CyclotSpp\": 0.13, \"Rop_tess\": 0.08, \"StephanSpp\": 0.0}, {\"Depth\": 5.0, \"Age\": 5.72, \"A_curv\": 0.034653465346534656, \"A_octon\": 0.019801980198019802, \"ActinSpp\": 0.11386138613861387, \"A_nodul\": 0.0049504950495049506, \"CoscinSpp\": 0.08415841584158416, \"CyclotSpp\": 0.10891089108910891, \"Rop_tess\": 0.13366336633663367, \"StephanSpp\": 0.0}, {\"Depth\": 5.05, \"Age\": 5.76, \"A_curv\": 0.03755868544600939, \"A_octon\": 0.009389671361502348, \"ActinSpp\": 0.07042253521126761, \"A_nodul\": 0.0, \"CoscinSpp\": 0.046948356807511735, \"CyclotSpp\": 0.13615023474178403, \"Rop_tess\": 0.1643192488262911, \"StephanSpp\": 0.0}, {\"Depth\": 5.1, \"Age\": 5.8, \"A_curv\": 0.024630541871921183, \"A_octon\": 0.019704433497536946, \"ActinSpp\": 0.12807881773399016, \"A_nodul\": 0.0049261083743842365, \"CoscinSpp\": 0.059113300492610835, \"CyclotSpp\": 0.11330049261083744, \"Rop_tess\": 0.14285714285714285, \"StephanSpp\": 0.0}, {\"Depth\": 5.15, \"Age\": 5.85, \"A_curv\": 0.035, \"A_octon\": 0.015, \"ActinSpp\": 0.135, \"A_nodul\": 0.015, \"CoscinSpp\": 0.08, \"CyclotSpp\": 0.04, \"Rop_tess\": 0.19, \"StephanSpp\": 0.0}, {\"Depth\": 5.2, \"Age\": 5.89, \"A_curv\": 0.029850746268656716, \"A_octon\": 0.024875621890547265, \"ActinSpp\": 0.1044776119402985, \"A_nodul\": 0.05472636815920398, \"CoscinSpp\": 0.1044776119402985, \"CyclotSpp\": 0.0845771144278607, \"Rop_tess\": 0.08955223880597014, \"StephanSpp\": 0.0}, {\"Depth\": 5.25, \"Age\": 5.94, \"A_curv\": 0.035, \"A_octon\": 0.01, \"ActinSpp\": 0.24, \"A_nodul\": 0.015, \"CoscinSpp\": 0.07, \"CyclotSpp\": 0.05, \"Rop_tess\": 0.09, \"StephanSpp\": 0.0}, {\"Depth\": 5.3, \"Age\": 5.98, \"A_curv\": 0.025, \"A_octon\": 0.0, \"ActinSpp\": 0.02, \"A_nodul\": 0.005, \"CoscinSpp\": 0.01, \"CyclotSpp\": 0.065, \"Rop_tess\": 0.38, \"StephanSpp\": 0.005}, {\"Depth\": 5.35, \"Age\": 6.02, \"A_curv\": 0.025, \"A_octon\": 0.03, \"ActinSpp\": 0.09, \"A_nodul\": 0.065, \"CoscinSpp\": 0.075, \"CyclotSpp\": 0.16, \"Rop_tess\": 0.07, \"StephanSpp\": 0.0}, {\"Depth\": 5.4, \"Age\": 6.07, \"A_curv\": 0.009950248756218905, \"A_octon\": 0.01990049751243781, \"ActinSpp\": 0.07960199004975124, \"A_nodul\": 0.009950248756218905, \"CoscinSpp\": 0.05970149253731343, \"CyclotSpp\": 0.06467661691542288, \"Rop_tess\": 0.24378109452736318, \"StephanSpp\": 0.0}, {\"Depth\": 5.45, \"Age\": 6.11, \"A_curv\": 0.039473684210526314, \"A_octon\": 0.008771929824561403, \"ActinSpp\": 0.15789473684210525, \"A_nodul\": 0.017543859649122806, \"CoscinSpp\": 0.10964912280701754, \"CyclotSpp\": 0.06578947368421052, \"Rop_tess\": 0.03508771929824561, \"StephanSpp\": 0.008771929824561403}, {\"Depth\": 5.5, \"Age\": 6.15, \"A_curv\": 0.020161290322580645, \"A_octon\": 0.04435483870967742, \"ActinSpp\": 0.05241935483870968, \"A_nodul\": 0.06854838709677419, \"CoscinSpp\": 0.04838709677419355, \"CyclotSpp\": 0.056451612903225805, \"Rop_tess\": 0.11290322580645161, \"StephanSpp\": 0.0}, {\"Depth\": 5.55, \"Age\": 6.2, \"A_curv\": 0.024193548387096774, \"A_octon\": 0.04032258064516129, \"ActinSpp\": 0.06048387096774194, \"A_nodul\": 0.10483870967741936, \"CoscinSpp\": 0.036290322580645164, \"CyclotSpp\": 0.04435483870967742, \"Rop_tess\": 0.09274193548387097, \"StephanSpp\": 0.0}, {\"Depth\": 5.6, \"Age\": 6.24, \"A_curv\": 0.04128440366972477, \"A_octon\": 0.05963302752293578, \"ActinSpp\": 0.0779816513761468, \"A_nodul\": 0.0, \"CoscinSpp\": 0.10091743119266056, \"CyclotSpp\": 0.06422018348623854, \"Rop_tess\": 0.11467889908256881, \"StephanSpp\": 0.0}, {\"Depth\": 5.65, \"Age\": 6.29, \"A_curv\": 0.03686635944700461, \"A_octon\": 0.027649769585253458, \"ActinSpp\": 0.08755760368663594, \"A_nodul\": 0.0, \"CoscinSpp\": 0.06912442396313365, \"CyclotSpp\": 0.09216589861751152, \"Rop_tess\": 0.14746543778801843, \"StephanSpp\": 0.0}, {\"Depth\": 5.7, \"Age\": 6.33, \"A_curv\": 0.012096774193548387, \"A_octon\": 0.016129032258064516, \"ActinSpp\": 0.04435483870967742, \"A_nodul\": 0.0, \"CoscinSpp\": 0.04032258064516129, \"CyclotSpp\": 0.03225806451612903, \"Rop_tess\": 0.2540322580645161, \"StephanSpp\": 0.0}, {\"Depth\": 5.75, \"Age\": 6.37, \"A_curv\": 0.03619909502262444, \"A_octon\": 0.04524886877828054, \"ActinSpp\": 0.08144796380090498, \"A_nodul\": 0.00904977375565611, \"CoscinSpp\": 0.08597285067873303, \"CyclotSpp\": 0.058823529411764705, \"Rop_tess\": 0.13574660633484162, \"StephanSpp\": 0.0}, {\"Depth\": 5.8, \"Age\": 6.42, \"A_curv\": 0.06, \"A_octon\": 0.02, \"ActinSpp\": 0.075, \"A_nodul\": 0.005, \"CoscinSpp\": 0.085, \"CyclotSpp\": 0.09, \"Rop_tess\": 0.17, \"StephanSpp\": 0.0}, {\"Depth\": 5.85, \"Age\": 6.46, \"A_curv\": 0.075, \"A_octon\": 0.015, \"ActinSpp\": 0.14, \"A_nodul\": 0.005, \"CoscinSpp\": 0.09, \"CyclotSpp\": 0.05, \"Rop_tess\": 0.135, \"StephanSpp\": 0.0}, {\"Depth\": 5.9, \"Age\": 6.51, \"A_curv\": 0.024752475247524754, \"A_octon\": 0.0297029702970297, \"ActinSpp\": 0.054455445544554455, \"A_nodul\": 0.0, \"CoscinSpp\": 0.07920792079207921, \"CyclotSpp\": 0.10396039603960396, \"Rop_tess\": 0.20297029702970298, \"StephanSpp\": 0.0}, {\"Depth\": 5.95, \"Age\": 6.55, \"A_curv\": 0.054187192118226604, \"A_octon\": 0.014778325123152709, \"ActinSpp\": 0.12807881773399016, \"A_nodul\": 0.0, \"CoscinSpp\": 0.12315270935960591, \"CyclotSpp\": 0.06896551724137931, \"Rop_tess\": 0.10344827586206896, \"StephanSpp\": 0.0}, {\"Depth\": 6.0, \"Age\": 6.59, \"A_curv\": 0.05, \"A_octon\": 0.01, \"ActinSpp\": 0.185, \"A_nodul\": 0.0, \"CoscinSpp\": 0.06, \"CyclotSpp\": 0.105, \"Rop_tess\": 0.09, \"StephanSpp\": 0.005}, {\"Depth\": 6.05, \"Age\": 6.64, \"A_curv\": 0.013513513513513514, \"A_octon\": 0.009009009009009009, \"ActinSpp\": 0.11711711711711711, \"A_nodul\": 0.009009009009009009, \"CoscinSpp\": 0.14414414414414414, \"CyclotSpp\": 0.05405405405405406, \"Rop_tess\": 0.0945945945945946, \"StephanSpp\": 0.009009009009009009}, {\"Depth\": 6.1, \"Age\": 6.68, \"A_curv\": 0.023809523809523808, \"A_octon\": 0.02857142857142857, \"ActinSpp\": 0.19523809523809524, \"A_nodul\": 0.004761904761904762, \"CoscinSpp\": 0.12380952380952381, \"CyclotSpp\": 0.09047619047619047, \"Rop_tess\": 0.009523809523809525, \"StephanSpp\": 0.0}, {\"Depth\": 6.15, \"Age\": 6.72, \"A_curv\": 0.017777777777777778, \"A_octon\": 0.008888888888888889, \"ActinSpp\": 0.16, \"A_nodul\": 0.0044444444444444444, \"CoscinSpp\": 0.07111111111111111, \"CyclotSpp\": 0.04, \"Rop_tess\": 0.14222222222222222, \"StephanSpp\": 0.0}, {\"Depth\": 6.2, \"Age\": 6.77, \"A_curv\": 0.03404255319148936, \"A_octon\": 0.01276595744680851, \"ActinSpp\": 0.2, \"A_nodul\": 0.0, \"CoscinSpp\": 0.0851063829787234, \"CyclotSpp\": 0.04680851063829787, \"Rop_tess\": 0.04680851063829787, \"StephanSpp\": 0.0}, {\"Depth\": 6.25, \"Age\": 6.81, \"A_curv\": 0.017316017316017316, \"A_octon\": 0.012987012987012988, \"ActinSpp\": 0.11688311688311688, \"A_nodul\": 0.0, \"CoscinSpp\": 0.10822510822510822, \"CyclotSpp\": 0.04329004329004329, \"Rop_tess\": 0.1341991341991342, \"StephanSpp\": 0.0}, {\"Depth\": 6.3, \"Age\": 6.86, \"A_curv\": 0.034653465346534656, \"A_octon\": 0.0297029702970297, \"ActinSpp\": 0.06930693069306931, \"A_nodul\": 0.0, \"CoscinSpp\": 0.04950495049504951, \"CyclotSpp\": 0.09405940594059406, \"Rop_tess\": 0.21782178217821782, \"StephanSpp\": 0.0}, {\"Depth\": 6.35, \"Age\": 6.9, \"A_curv\": 0.01951219512195122, \"A_octon\": 0.004878048780487805, \"ActinSpp\": 0.22926829268292684, \"A_nodul\": 0.0, \"CoscinSpp\": 0.14634146341463414, \"CyclotSpp\": 0.07317073170731707, \"Rop_tess\": 0.014634146341463415, \"StephanSpp\": 0.0}, {\"Depth\": 6.4, \"Age\": 6.94, \"A_curv\": 0.01, \"A_octon\": 0.0, \"ActinSpp\": 0.02, \"A_nodul\": 0.0, \"CoscinSpp\": 0.02, \"CyclotSpp\": 0.025, \"Rop_tess\": 0.435, \"StephanSpp\": 0.0}, {\"Depth\": 6.45, \"Age\": 6.99, \"A_curv\": 0.035398230088495575, \"A_octon\": 0.008849557522123894, \"ActinSpp\": 0.19469026548672566, \"A_nodul\": 0.004424778761061947, \"CoscinSpp\": 0.10176991150442478, \"CyclotSpp\": 0.061946902654867256, \"Rop_tess\": 0.02654867256637168, \"StephanSpp\": 0.008849557522123894}, {\"Depth\": 6.5, \"Age\": 7.03, \"A_curv\": 0.02, \"A_octon\": 0.015, \"ActinSpp\": 0.105, \"A_nodul\": 0.055, \"CoscinSpp\": 0.075, \"CyclotSpp\": 0.06, \"Rop_tess\": 0.175, \"StephanSpp\": 0.005}, {\"Depth\": 6.55, \"Age\": 7.08, \"A_curv\": 0.011904761904761904, \"A_octon\": 0.011904761904761904, \"ActinSpp\": 0.17063492063492064, \"A_nodul\": 0.031746031746031744, \"CoscinSpp\": 0.1111111111111111, \"CyclotSpp\": 0.03571428571428571, \"Rop_tess\": 0.023809523809523808, \"StephanSpp\": 0.003968253968253968}, {\"Depth\": 6.6, \"Age\": 7.12, \"A_curv\": 0.013452914798206279, \"A_octon\": 0.008968609865470852, \"ActinSpp\": 0.17937219730941703, \"A_nodul\": 0.004484304932735426, \"CoscinSpp\": 0.08071748878923767, \"CyclotSpp\": 0.13004484304932734, \"Rop_tess\": 0.03139013452914798, \"StephanSpp\": 0.0}, {\"Depth\": 6.65, \"Age\": 7.16, \"A_curv\": 0.02145922746781116, \"A_octon\": 0.02145922746781116, \"ActinSpp\": 0.11158798283261803, \"A_nodul\": 0.004291845493562232, \"CoscinSpp\": 0.11587982832618025, \"CyclotSpp\": 0.09012875536480687, \"Rop_tess\": 0.06437768240343347, \"StephanSpp\": 0.0}, {\"Depth\": 6.7, \"Age\": 7.21, \"A_curv\": 0.01327433628318584, \"A_octon\": 0.017699115044247787, \"ActinSpp\": 0.1415929203539823, \"A_nodul\": 0.0, \"CoscinSpp\": 0.10619469026548672, \"CyclotSpp\": 0.09292035398230089, \"Rop_tess\": 0.061946902654867256, \"StephanSpp\": 0.0}, {\"Depth\": 6.75, \"Age\": 7.25, \"A_curv\": 0.04128440366972477, \"A_octon\": 0.03211009174311927, \"ActinSpp\": 0.10550458715596331, \"A_nodul\": 0.0, \"CoscinSpp\": 0.10550458715596331, \"CyclotSpp\": 0.07339449541284404, \"Rop_tess\": 0.0963302752293578, \"StephanSpp\": 0.0045871559633027525}, {\"Depth\": 6.8, \"Age\": 7.29, \"A_curv\": 0.00816326530612245, \"A_octon\": 0.02040816326530612, \"ActinSpp\": 0.0653061224489796, \"A_nodul\": 0.0, \"CoscinSpp\": 0.02857142857142857, \"CyclotSpp\": 0.04897959183673469, \"Rop_tess\": 0.23673469387755103, \"StephanSpp\": 0.0}, {\"Depth\": 6.85, \"Age\": 7.34, \"A_curv\": 0.008547008547008548, \"A_octon\": 0.017094017094017096, \"ActinSpp\": 0.07692307692307693, \"A_nodul\": 0.0, \"CoscinSpp\": 0.06837606837606838, \"CyclotSpp\": 0.029914529914529916, \"Rop_tess\": 0.2264957264957265, \"StephanSpp\": 0.0}, {\"Depth\": 6.9, \"Age\": 7.38, \"A_curv\": 0.04, \"A_octon\": 0.025, \"ActinSpp\": 0.08, \"A_nodul\": 0.0, \"CoscinSpp\": 0.145, \"CyclotSpp\": 0.02, \"Rop_tess\": 0.19, \"StephanSpp\": 0.005}, {\"Depth\": 6.95, \"Age\": 7.43, \"A_curv\": 0.05, \"A_octon\": 0.025, \"ActinSpp\": 0.135, \"A_nodul\": 0.005, \"CoscinSpp\": 0.16, \"CyclotSpp\": 0.04, \"Rop_tess\": 0.09, \"StephanSpp\": 0.0}, {\"Depth\": 7.0, \"Age\": 7.47, \"A_curv\": 0.014634146341463415, \"A_octon\": 0.01951219512195122, \"ActinSpp\": 0.08780487804878048, \"A_nodul\": 0.004878048780487805, \"CoscinSpp\": 0.1073170731707317, \"CyclotSpp\": 0.01951219512195122, \"Rop_tess\": 0.22926829268292684, \"StephanSpp\": 0.004878048780487805}, {\"Depth\": 7.05, \"Age\": 7.51, \"A_curv\": 0.028455284552845527, \"A_octon\": 0.016260162601626018, \"ActinSpp\": 0.17073170731707318, \"A_nodul\": 0.0, \"CoscinSpp\": 0.08943089430894309, \"CyclotSpp\": 0.06097560975609756, \"Rop_tess\": 0.04065040650406504, \"StephanSpp\": 0.0}, {\"Depth\": 7.1, \"Age\": 7.56, \"A_curv\": 0.029166666666666667, \"A_octon\": 0.0125, \"ActinSpp\": 0.14166666666666666, \"A_nodul\": 0.0, \"CoscinSpp\": 0.1, \"CyclotSpp\": 0.058333333333333334, \"Rop_tess\": 0.075, \"StephanSpp\": 0.0}, {\"Depth\": 7.15, \"Age\": 7.6, \"A_curv\": 0.04975124378109453, \"A_octon\": 0.01990049751243781, \"ActinSpp\": 0.08955223880597014, \"A_nodul\": 0.0, \"CoscinSpp\": 0.0845771144278607, \"CyclotSpp\": 0.03482587064676617, \"Rop_tess\": 0.18407960199004975, \"StephanSpp\": 0.024875621890547265}, {\"Depth\": 7.2, \"Age\": 7.65, \"A_curv\": 0.01937984496124031, \"A_octon\": 0.027131782945736434, \"ActinSpp\": 0.12403100775193798, \"A_nodul\": 0.0, \"CoscinSpp\": 0.08139534883720931, \"CyclotSpp\": 0.05426356589147287, \"Rop_tess\": 0.08139534883720931, \"StephanSpp\": 0.0}, {\"Depth\": 7.25, \"Age\": 7.69, \"A_curv\": 0.015, \"A_octon\": 0.025, \"ActinSpp\": 0.215, \"A_nodul\": 0.0, \"CoscinSpp\": 0.12, \"CyclotSpp\": 0.055, \"Rop_tess\": 0.075, \"StephanSpp\": 0.0}, {\"Depth\": 7.3, \"Age\": 7.73, \"A_curv\": 0.0075, \"A_octon\": 0.005, \"ActinSpp\": 0.03, \"A_nodul\": 0.0, \"CoscinSpp\": 0.02, \"CyclotSpp\": 0.01, \"Rop_tess\": 0.1775, \"StephanSpp\": 0.0}, {\"Depth\": 7.35, \"Age\": 7.78, \"A_curv\": 0.013392857142857142, \"A_octon\": 0.017857142857142856, \"ActinSpp\": 0.14732142857142858, \"A_nodul\": 0.0, \"CoscinSpp\": 0.12946428571428573, \"CyclotSpp\": 0.07142857142857142, \"Rop_tess\": 0.06696428571428571, \"StephanSpp\": 0.004464285714285714}, {\"Depth\": 7.4, \"Age\": 7.82, \"A_curv\": 0.04, \"A_octon\": 0.015, \"ActinSpp\": 0.165, \"A_nodul\": 0.005, \"CoscinSpp\": 0.115, \"CyclotSpp\": 0.08, \"Rop_tess\": 0.085, \"StephanSpp\": 0.005}, {\"Depth\": 7.45, \"Age\": 7.87, \"A_curv\": 0.0049504950495049506, \"A_octon\": 0.034653465346534656, \"ActinSpp\": 0.0891089108910891, \"A_nodul\": 0.0, \"CoscinSpp\": 0.04950495049504951, \"CyclotSpp\": 0.06930693069306931, \"Rop_tess\": 0.24752475247524752, \"StephanSpp\": 0.0}, {\"Depth\": 7.5, \"Age\": 7.91, \"A_curv\": 0.019801980198019802, \"A_octon\": 0.009900990099009901, \"ActinSpp\": 0.14356435643564355, \"A_nodul\": 0.009900990099009901, \"CoscinSpp\": 0.08415841584158416, \"CyclotSpp\": 0.04455445544554455, \"Rop_tess\": 0.1782178217821782, \"StephanSpp\": 0.0}, {\"Depth\": 7.55, \"Age\": 7.95, \"A_curv\": 0.023696682464454975, \"A_octon\": 0.05687203791469194, \"ActinSpp\": 0.14691943127962084, \"A_nodul\": 0.0, \"CoscinSpp\": 0.12796208530805686, \"CyclotSpp\": 0.07582938388625593, \"Rop_tess\": 0.04265402843601896, \"StephanSpp\": 0.0}, {\"Depth\": 7.6, \"Age\": 8.0, \"A_curv\": 0.024630541871921183, \"A_octon\": 0.054187192118226604, \"ActinSpp\": 0.14285714285714285, \"A_nodul\": 0.0, \"CoscinSpp\": 0.06896551724137931, \"CyclotSpp\": 0.09852216748768473, \"Rop_tess\": 0.10344827586206896, \"StephanSpp\": 0.0}, {\"Depth\": 7.65, \"Age\": 8.04, \"A_curv\": 0.019704433497536946, \"A_octon\": 0.0049261083743842365, \"ActinSpp\": 0.04926108374384237, \"A_nodul\": 0.0, \"CoscinSpp\": 0.009852216748768473, \"CyclotSpp\": 0.04433497536945813, \"Rop_tess\": 0.35467980295566504, \"StephanSpp\": 0.0}, {\"Depth\": 7.7, \"Age\": 8.08, \"A_curv\": 0.034482758620689655, \"A_octon\": 0.06403940886699508, \"ActinSpp\": 0.12807881773399016, \"A_nodul\": 0.0, \"CoscinSpp\": 0.07881773399014778, \"CyclotSpp\": 0.10837438423645321, \"Rop_tess\": 0.06403940886699508, \"StephanSpp\": 0.014778325123152709}, {\"Depth\": 7.75, \"Age\": 8.13, \"A_curv\": 0.021367521367521368, \"A_octon\": 0.02564102564102564, \"ActinSpp\": 0.1452991452991453, \"A_nodul\": 0.004273504273504274, \"CoscinSpp\": 0.08547008547008547, \"CyclotSpp\": 0.1282051282051282, \"Rop_tess\": 0.017094017094017096, \"StephanSpp\": 0.0}, {\"Depth\": 7.8, \"Age\": 8.17, \"A_curv\": 0.024390243902439025, \"A_octon\": 0.024390243902439025, \"ActinSpp\": 0.08292682926829269, \"A_nodul\": 0.004878048780487805, \"CoscinSpp\": 0.07317073170731707, \"CyclotSpp\": 0.12195121951219512, \"Rop_tess\": 0.15121951219512195, \"StephanSpp\": 0.0}, {\"Depth\": 8.3, \"Age\": 8.61, \"A_curv\": 0.019801980198019802, \"A_octon\": 0.009900990099009901, \"ActinSpp\": 0.13366336633663367, \"A_nodul\": 0.0, \"CoscinSpp\": 0.0891089108910891, \"CyclotSpp\": 0.0049504950495049506, \"Rop_tess\": 0.2376237623762376, \"StephanSpp\": 0.0}, {\"Depth\": 8.35, \"Age\": 8.65, \"A_curv\": 0.047619047619047616, \"A_octon\": 0.009523809523809525, \"ActinSpp\": 0.14285714285714285, \"A_nodul\": 0.0, \"CoscinSpp\": 0.19523809523809524, \"CyclotSpp\": 0.047619047619047616, \"Rop_tess\": 0.02857142857142857, \"StephanSpp\": 0.0}, {\"Depth\": 8.4, \"Age\": 8.7, \"A_curv\": 0.014634146341463415, \"A_octon\": 0.024390243902439025, \"ActinSpp\": 0.1902439024390244, \"A_nodul\": 0.0, \"CoscinSpp\": 0.12682926829268293, \"CyclotSpp\": 0.014634146341463415, \"Rop_tess\": 0.11219512195121951, \"StephanSpp\": 0.0}, {\"Depth\": 8.45, \"Age\": 8.74, \"A_curv\": 0.024875621890547265, \"A_octon\": 0.18407960199004975, \"ActinSpp\": 0.11442786069651742, \"A_nodul\": 0.0, \"CoscinSpp\": 0.12935323383084577, \"CyclotSpp\": 0.004975124378109453, \"Rop_tess\": 0.029850746268656716, \"StephanSpp\": 0.0}, {\"Depth\": 8.5, \"Age\": 8.79, \"A_curv\": 0.025, \"A_octon\": 0.01, \"ActinSpp\": 0.135, \"A_nodul\": 0.0, \"CoscinSpp\": 0.11, \"CyclotSpp\": 0.055, \"Rop_tess\": 0.165, \"StephanSpp\": 0.005}, {\"Depth\": 8.55, \"Age\": 8.83, \"A_curv\": 0.00980392156862745, \"A_octon\": 0.00980392156862745, \"ActinSpp\": 0.24019607843137256, \"A_nodul\": 0.0, \"CoscinSpp\": 0.06862745098039216, \"CyclotSpp\": 0.03431372549019608, \"Rop_tess\": 0.12745098039215685, \"StephanSpp\": 0.0}, {\"Depth\": 8.6, \"Age\": 8.87, \"A_curv\": 0.013636363636363636, \"A_octon\": 0.01818181818181818, \"ActinSpp\": 0.22272727272727272, \"A_nodul\": 0.0, \"CoscinSpp\": 0.12727272727272726, \"CyclotSpp\": 0.03636363636363636, \"Rop_tess\": 0.03636363636363636, \"StephanSpp\": 0.0}, {\"Depth\": 8.65, \"Age\": 8.92, \"A_curv\": 0.0048543689320388345, \"A_octon\": 0.0048543689320388345, \"ActinSpp\": 0.2087378640776699, \"A_nodul\": 0.0, \"CoscinSpp\": 0.043689320388349516, \"CyclotSpp\": 0.11165048543689321, \"Rop_tess\": 0.11165048543689321, \"StephanSpp\": 0.0}, {\"Depth\": 8.7, \"Age\": 8.96, \"A_curv\": 0.03482587064676617, \"A_octon\": 0.014925373134328358, \"ActinSpp\": 0.24378109452736318, \"A_nodul\": 0.0, \"CoscinSpp\": 0.12437810945273632, \"CyclotSpp\": 0.04477611940298507, \"Rop_tess\": 0.024875621890547265, \"StephanSpp\": 0.0}, {\"Depth\": 9.5, \"Age\": 10.1, \"A_curv\": 0.04, \"A_octon\": 0.015, \"ActinSpp\": 0.22, \"A_nodul\": 0.0, \"CoscinSpp\": 0.06, \"CyclotSpp\": 0.05, \"Rop_tess\": 0.125, \"StephanSpp\": 0.0}, {\"Depth\": 9.55, \"Age\": 10.18, \"A_curv\": 0.025, \"A_octon\": 0.005, \"ActinSpp\": 0.165, \"A_nodul\": 0.0, \"CoscinSpp\": 0.06, \"CyclotSpp\": 0.025, \"Rop_tess\": 0.225, \"StephanSpp\": 0.0}, {\"Depth\": 9.6, \"Age\": 10.27, \"A_curv\": 0.04477611940298507, \"A_octon\": 0.014925373134328358, \"ActinSpp\": 0.263681592039801, \"A_nodul\": 0.004975124378109453, \"CoscinSpp\": 0.08955223880597014, \"CyclotSpp\": 0.004975124378109453, \"Rop_tess\": 0.04975124378109453, \"StephanSpp\": 0.01990049751243781}, {\"Depth\": 9.65, \"Age\": 10.35, \"A_curv\": 0.024752475247524754, \"A_octon\": 0.0297029702970297, \"ActinSpp\": 0.15841584158415842, \"A_nodul\": 0.0049504950495049506, \"CoscinSpp\": 0.09900990099009901, \"CyclotSpp\": 0.04455445544554455, \"Rop_tess\": 0.12871287128712872, \"StephanSpp\": 0.0}, {\"Depth\": 9.7, \"Age\": 10.43, \"A_curv\": 0.054455445544554455, \"A_octon\": 0.009900990099009901, \"ActinSpp\": 0.22772277227722773, \"A_nodul\": 0.0, \"CoscinSpp\": 0.13861386138613863, \"CyclotSpp\": 0.0297029702970297, \"Rop_tess\": 0.024752475247524754, \"StephanSpp\": 0.009900990099009901}, {\"Depth\": 9.75, \"Age\": 10.52, \"A_curv\": 0.06403940886699508, \"A_octon\": 0.04926108374384237, \"ActinSpp\": 0.14285714285714285, \"A_nodul\": 0.0, \"CoscinSpp\": 0.09852216748768473, \"CyclotSpp\": 0.06896551724137931, \"Rop_tess\": 0.06403940886699508, \"StephanSpp\": 0.0}, {\"Depth\": 9.8, \"Age\": 10.6, \"A_curv\": 0.075, \"A_octon\": 0.01, \"ActinSpp\": 0.2, \"A_nodul\": 0.005, \"CoscinSpp\": 0.125, \"CyclotSpp\": 0.015, \"Rop_tess\": 0.08, \"StephanSpp\": 0.0}, {\"Depth\": 9.85, \"Age\": 10.68, \"A_curv\": 0.06, \"A_octon\": 0.01, \"ActinSpp\": 0.25, \"A_nodul\": 0.06, \"CoscinSpp\": 0.105, \"CyclotSpp\": 0.005, \"Rop_tess\": 0.02, \"StephanSpp\": 0.0}, {\"Depth\": 9.9, \"Age\": 10.77, \"A_curv\": 0.029850746268656716, \"A_octon\": 0.004975124378109453, \"ActinSpp\": 0.24875621890547264, \"A_nodul\": 0.07960199004975124, \"CoscinSpp\": 0.06965174129353234, \"CyclotSpp\": 0.029850746268656716, \"Rop_tess\": 0.029850746268656716, \"StephanSpp\": 0.0}, {\"Depth\": 9.95, \"Age\": 10.85, \"A_curv\": 0.034653465346534656, \"A_octon\": 0.009900990099009901, \"ActinSpp\": 0.22772277227722773, \"A_nodul\": 0.04950495049504951, \"CoscinSpp\": 0.13366336633663367, \"CyclotSpp\": 0.019801980198019802, \"Rop_tess\": 0.0049504950495049506, \"StephanSpp\": 0.0049504950495049506}, {\"Depth\": 10.0, \"Age\": 10.93, \"A_curv\": 0.01990049751243781, \"A_octon\": 0.014925373134328358, \"ActinSpp\": 0.19900497512437812, \"A_nodul\": 0.11442786069651742, \"CoscinSpp\": 0.13432835820895522, \"CyclotSpp\": 0.0, \"Rop_tess\": 0.009950248756218905, \"StephanSpp\": 0.0}, {\"Depth\": 10.05, \"Age\": 11.02, \"A_curv\": 0.04433497536945813, \"A_octon\": 0.0049261083743842365, \"ActinSpp\": 0.2561576354679803, \"A_nodul\": 0.08866995073891626, \"CoscinSpp\": 0.06403940886699508, \"CyclotSpp\": 0.024630541871921183, \"Rop_tess\": 0.0049261083743842365, \"StephanSpp\": 0.0}, {\"Depth\": 10.1, \"Age\": 11.1, \"A_curv\": 0.034482758620689655, \"A_octon\": 0.0049261083743842365, \"ActinSpp\": 0.16748768472906403, \"A_nodul\": 0.054187192118226604, \"CoscinSpp\": 0.1625615763546798, \"CyclotSpp\": 0.024630541871921183, \"Rop_tess\": 0.029556650246305417, \"StephanSpp\": 0.0049261083743842365}, {\"Depth\": 10.15, \"Age\": 11.18, \"A_curv\": 0.054455445544554455, \"A_octon\": 0.0, \"ActinSpp\": 0.15346534653465346, \"A_nodul\": 0.09900990099009901, \"CoscinSpp\": 0.09900990099009901, \"CyclotSpp\": 0.01485148514851485, \"Rop_tess\": 0.06435643564356436, \"StephanSpp\": 0.0049504950495049506}, {\"Depth\": 10.2, \"Age\": 11.27, \"A_curv\": 0.0196078431372549, \"A_octon\": 0.0, \"ActinSpp\": 0.15196078431372548, \"A_nodul\": 0.058823529411764705, \"CoscinSpp\": 0.14215686274509803, \"CyclotSpp\": 0.04411764705882353, \"Rop_tess\": 0.07352941176470588, \"StephanSpp\": 0.0}, {\"Depth\": 10.25, \"Age\": 11.35, \"A_curv\": 0.03902439024390244, \"A_octon\": 0.00975609756097561, \"ActinSpp\": 0.17560975609756097, \"A_nodul\": 0.08780487804878048, \"CoscinSpp\": 0.08780487804878048, \"CyclotSpp\": 0.05853658536585366, \"Rop_tess\": 0.02926829268292683, \"StephanSpp\": 0.0}, {\"Depth\": 10.3, \"Age\": 11.43, \"A_curv\": 0.024509803921568627, \"A_octon\": 0.004901960784313725, \"ActinSpp\": 0.13725490196078433, \"A_nodul\": 0.049019607843137254, \"CoscinSpp\": 0.12745098039215685, \"CyclotSpp\": 0.024509803921568627, \"Rop_tess\": 0.12254901960784313, \"StephanSpp\": 0.0}, {\"Depth\": 10.35, \"Age\": 11.52, \"A_curv\": 0.01990049751243781, \"A_octon\": 0.01990049751243781, \"ActinSpp\": 0.19900497512437812, \"A_nodul\": 0.04975124378109453, \"CoscinSpp\": 0.12935323383084577, \"CyclotSpp\": 0.03482587064676617, \"Rop_tess\": 0.03980099502487562, \"StephanSpp\": 0.0}, {\"Depth\": 10.4, \"Age\": 11.6, \"A_curv\": 0.034482758620689655, \"A_octon\": 0.009852216748768473, \"ActinSpp\": 0.22660098522167488, \"A_nodul\": 0.024630541871921183, \"CoscinSpp\": 0.12807881773399016, \"CyclotSpp\": 0.029556650246305417, \"Rop_tess\": 0.034482758620689655, \"StephanSpp\": 0.0}, {\"Depth\": 10.45, \"Age\": 11.68, \"A_curv\": 0.009950248756218905, \"A_octon\": 0.024875621890547265, \"ActinSpp\": 0.18407960199004975, \"A_nodul\": 0.11442786069651742, \"CoscinSpp\": 0.09950248756218906, \"CyclotSpp\": 0.04477611940298507, \"Rop_tess\": 0.014925373134328358, \"StephanSpp\": 0.0}, {\"Depth\": 10.5, \"Age\": 11.77, \"A_curv\": 0.0, \"A_octon\": 0.0048543689320388345, \"ActinSpp\": 0.0970873786407767, \"A_nodul\": 0.13592233009708737, \"CoscinSpp\": 0.1407766990291262, \"CyclotSpp\": 0.0825242718446602, \"Rop_tess\": 0.024271844660194174, \"StephanSpp\": 0.0}, {\"Depth\": 10.55, \"Age\": 11.85, \"A_curv\": 0.0, \"A_octon\": 0.004807692307692308, \"ActinSpp\": 0.038461538461538464, \"A_nodul\": 0.28846153846153844, \"CoscinSpp\": 0.10576923076923077, \"CyclotSpp\": 0.038461538461538464, \"Rop_tess\": 0.004807692307692308, \"StephanSpp\": 0.0}, {\"Depth\": 10.6, \"Age\": 11.93, \"A_curv\": 0.009615384615384616, \"A_octon\": 0.0, \"ActinSpp\": 0.09134615384615384, \"A_nodul\": 0.1971153846153846, \"CoscinSpp\": 0.1201923076923077, \"CyclotSpp\": 0.052884615384615384, \"Rop_tess\": 0.0, \"StephanSpp\": 0.0}, {\"Depth\": 10.65, \"Age\": 12.02, \"A_curv\": 0.0049504950495049506, \"A_octon\": 0.0049504950495049506, \"ActinSpp\": 0.06930693069306931, \"A_nodul\": 0.30198019801980197, \"CoscinSpp\": 0.054455445544554455, \"CyclotSpp\": 0.054455445544554455, \"Rop_tess\": 0.0, \"StephanSpp\": 0.0}, {\"Depth\": 10.7, \"Age\": 12.1, \"A_curv\": 0.0049261083743842365, \"A_octon\": 0.009852216748768473, \"ActinSpp\": 0.04926108374384237, \"A_nodul\": 0.3054187192118227, \"CoscinSpp\": 0.06896551724137931, \"CyclotSpp\": 0.04926108374384237, \"Rop_tess\": 0.0, \"StephanSpp\": 0.0}, {\"Depth\": 10.75, \"Age\": 12.18, \"A_curv\": 0.019704433497536946, \"A_octon\": 0.0049261083743842365, \"ActinSpp\": 0.034482758620689655, \"A_nodul\": 0.31527093596059114, \"CoscinSpp\": 0.06403940886699508, \"CyclotSpp\": 0.054187192118226604, \"Rop_tess\": 0.0, \"StephanSpp\": 0.0}, {\"Depth\": 10.8, \"Age\": 12.27, \"A_curv\": 0.009900990099009901, \"A_octon\": 0.0049504950495049506, \"ActinSpp\": 0.06930693069306931, \"A_nodul\": 0.26732673267326734, \"CoscinSpp\": 0.08415841584158416, \"CyclotSpp\": 0.054455445544554455, \"Rop_tess\": 0.0049504950495049506, \"StephanSpp\": 0.0}, {\"Depth\": 10.85, \"Age\": 12.35, \"A_curv\": 0.00975609756097561, \"A_octon\": 0.004878048780487805, \"ActinSpp\": 0.05853658536585366, \"A_nodul\": 0.2926829268292683, \"CoscinSpp\": 0.07804878048780488, \"CyclotSpp\": 0.03902439024390244, \"Rop_tess\": 0.0, \"StephanSpp\": 0.0}, {\"Depth\": 10.9, \"Age\": 12.43, \"A_curv\": 0.004901960784313725, \"A_octon\": 0.00980392156862745, \"ActinSpp\": 0.06372549019607843, \"A_nodul\": 0.25980392156862747, \"CoscinSpp\": 0.09313725490196079, \"CyclotSpp\": 0.05392156862745098, \"Rop_tess\": 0.0, \"StephanSpp\": 0.0}, {\"Depth\": 10.95, \"Age\": 12.52, \"A_curv\": 0.009852216748768473, \"A_octon\": 0.009852216748768473, \"ActinSpp\": 0.06896551724137931, \"A_nodul\": 0.2512315270935961, \"CoscinSpp\": 0.08866995073891626, \"CyclotSpp\": 0.059113300492610835, \"Rop_tess\": 0.0049261083743842365, \"StephanSpp\": 0.0}, {\"Depth\": 11.0, \"Age\": 12.64, \"A_curv\": 0.0049504950495049506, \"A_octon\": 0.009900990099009901, \"ActinSpp\": 0.09405940594059406, \"A_nodul\": 0.21287128712871287, \"CoscinSpp\": 0.10891089108910891, \"CyclotSpp\": 0.0594059405940594, \"Rop_tess\": 0.0, \"StephanSpp\": 0.0049504950495049506}, {\"Depth\": 11.05, \"Age\": 12.73, \"A_curv\": 0.0049504950495049506, \"A_octon\": 0.0049504950495049506, \"ActinSpp\": 0.06435643564356436, \"A_nodul\": 0.25742574257425743, \"CoscinSpp\": 0.09405940594059406, \"CyclotSpp\": 0.054455445544554455, \"Rop_tess\": 0.0049504950495049506, \"StephanSpp\": 0.0}, {\"Depth\": 11.35, \"Age\": 13.08, \"A_curv\": 0.023923444976076555, \"A_octon\": 0.03827751196172249, \"ActinSpp\": 0.17703349282296652, \"A_nodul\": 0.1339712918660287, \"CoscinSpp\": 0.06698564593301436, \"CyclotSpp\": 0.023923444976076555, \"Rop_tess\": 0.0, \"StephanSpp\": 0.004784688995215311}, {\"Depth\": 11.4, \"Age\": 13.12, \"A_curv\": 0.0196078431372549, \"A_octon\": 0.0392156862745098, \"ActinSpp\": 0.10294117647058823, \"A_nodul\": 0.25980392156862747, \"CoscinSpp\": 0.05392156862745098, \"CyclotSpp\": 0.014705882352941176, \"Rop_tess\": 0.0, \"StephanSpp\": 0.0}, {\"Depth\": 11.45, \"Age\": 13.17, \"A_curv\": 0.009708737864077669, \"A_octon\": 0.038834951456310676, \"ActinSpp\": 0.1407766990291262, \"A_nodul\": 0.18446601941747573, \"CoscinSpp\": 0.10194174757281553, \"CyclotSpp\": 0.009708737864077669, \"Rop_tess\": 0.0, \"StephanSpp\": 0.0}, {\"Depth\": 11.5, \"Age\": 13.21, \"A_curv\": 0.054187192118226604, \"A_octon\": 0.019704433497536946, \"ActinSpp\": 0.14285714285714285, \"A_nodul\": 0.12807881773399016, \"CoscinSpp\": 0.11822660098522167, \"CyclotSpp\": 0.024630541871921183, \"Rop_tess\": 0.0, \"StephanSpp\": 0.0}, {\"Depth\": 11.55, \"Age\": 13.26, \"A_curv\": 0.00980392156862745, \"A_octon\": 0.0, \"ActinSpp\": 0.2107843137254902, \"A_nodul\": 0.18627450980392157, \"CoscinSpp\": 0.06862745098039216, \"CyclotSpp\": 0.00980392156862745, \"Rop_tess\": 0.0, \"StephanSpp\": 0.0}, {\"Depth\": 11.6, \"Age\": 13.3, \"A_curv\": 0.05263157894736842, \"A_octon\": 0.019138755980861243, \"ActinSpp\": 0.15311004784688995, \"A_nodul\": 0.11961722488038277, \"CoscinSpp\": 0.07177033492822966, \"CyclotSpp\": 0.05741626794258373, \"Rop_tess\": 0.0, \"StephanSpp\": 0.004784688995215311}, {\"Depth\": 11.65, \"Age\": 13.35, \"A_curv\": 0.02912621359223301, \"A_octon\": 0.03398058252427184, \"ActinSpp\": 0.1407766990291262, \"A_nodul\": 0.1262135922330097, \"CoscinSpp\": 0.1262135922330097, \"CyclotSpp\": 0.024271844660194174, \"Rop_tess\": 0.0, \"StephanSpp\": 0.0}, {\"Depth\": 11.7, \"Age\": 13.39, \"A_curv\": 0.029411764705882353, \"A_octon\": 0.00980392156862745, \"ActinSpp\": 0.20588235294117646, \"A_nodul\": 0.13725490196078433, \"CoscinSpp\": 0.08823529411764706, \"CyclotSpp\": 0.014705882352941176, \"Rop_tess\": 0.0, \"StephanSpp\": 0.0}, {\"Depth\": 11.75, \"Age\": 13.44, \"A_curv\": 0.10396039603960396, \"A_octon\": 0.0049504950495049506, \"ActinSpp\": 0.16336633663366337, \"A_nodul\": 0.0297029702970297, \"CoscinSpp\": 0.07425742574257425, \"CyclotSpp\": 0.10891089108910891, \"Rop_tess\": 0.0049504950495049506, \"StephanSpp\": 0.0}, {\"Depth\": 11.8, \"Age\": 13.48, \"A_curv\": 0.014705882352941176, \"A_octon\": 0.0196078431372549, \"ActinSpp\": 0.16666666666666666, \"A_nodul\": 0.14215686274509803, \"CoscinSpp\": 0.09313725490196079, \"CyclotSpp\": 0.04411764705882353, \"Rop_tess\": 0.00980392156862745, \"StephanSpp\": 0.0}, {\"Depth\": 11.85, \"Age\": 13.53, \"A_curv\": 0.03940886699507389, \"A_octon\": 0.009852216748768473, \"ActinSpp\": 0.18719211822660098, \"A_nodul\": 0.13793103448275862, \"CoscinSpp\": 0.07389162561576355, \"CyclotSpp\": 0.03940886699507389, \"Rop_tess\": 0.0049261083743842365, \"StephanSpp\": 0.0}, {\"Depth\": 11.9, \"Age\": 13.57, \"A_curv\": 0.00980392156862745, \"A_octon\": 0.014705882352941176, \"ActinSpp\": 0.17647058823529413, \"A_nodul\": 0.1568627450980392, \"CoscinSpp\": 0.07352941176470588, \"CyclotSpp\": 0.049019607843137254, \"Rop_tess\": 0.0, \"StephanSpp\": 0.004901960784313725}, {\"Depth\": 11.95, \"Age\": 13.61, \"A_curv\": 0.11386138613861387, \"A_octon\": 0.01485148514851485, \"ActinSpp\": 0.19306930693069307, \"A_nodul\": 0.04950495049504951, \"CoscinSpp\": 0.08415841584158416, \"CyclotSpp\": 0.0297029702970297, \"Rop_tess\": 0.0, \"StephanSpp\": 0.0}, {\"Depth\": 12.0, \"Age\": 13.66, \"A_curv\": 0.05365853658536585, \"A_octon\": 0.02926829268292683, \"ActinSpp\": 0.2097560975609756, \"A_nodul\": 0.09268292682926829, \"CoscinSpp\": 0.06341463414634146, \"CyclotSpp\": 0.03902439024390244, \"Rop_tess\": 0.0, \"StephanSpp\": 0.0}, {\"Depth\": 12.05, \"Age\": 13.7, \"A_curv\": 0.014354066985645933, \"A_octon\": 0.009569377990430622, \"ActinSpp\": 0.04784688995215311, \"A_nodul\": 0.24401913875598086, \"CoscinSpp\": 0.0430622009569378, \"CyclotSpp\": 0.04784688995215311, \"Rop_tess\": 0.07655502392344497, \"StephanSpp\": 0.0}, {\"Depth\": 12.1, \"Age\": 13.75, \"A_curv\": 0.04926108374384237, \"A_octon\": 0.014778325123152709, \"ActinSpp\": 0.1477832512315271, \"A_nodul\": 0.1477832512315271, \"CoscinSpp\": 0.10344827586206896, \"CyclotSpp\": 0.029556650246305417, \"Rop_tess\": 0.0, \"StephanSpp\": 0.0}, {\"Depth\": 12.15, \"Age\": 13.79, \"A_curv\": 0.019230769230769232, \"A_octon\": 0.038461538461538464, \"ActinSpp\": 0.12980769230769232, \"A_nodul\": 0.18269230769230768, \"CoscinSpp\": 0.052884615384615384, \"CyclotSpp\": 0.057692307692307696, \"Rop_tess\": 0.0, \"StephanSpp\": 0.0}, {\"Depth\": 11.1, \"Age\": 12.82, \"A_curv\": 0.0, \"A_octon\": 0.004901960784313725, \"ActinSpp\": 0.06862745098039216, \"A_nodul\": 0.22549019607843138, \"CoscinSpp\": 0.1323529411764706, \"CyclotSpp\": 0.049019607843137254, \"Rop_tess\": 0.0, \"StephanSpp\": 0.0}, {\"Depth\": 11.15, \"Age\": 12.9, \"A_curv\": 0.0, \"A_octon\": 0.009900990099009901, \"ActinSpp\": 0.0891089108910891, \"A_nodul\": 0.23267326732673269, \"CoscinSpp\": 0.11386138613861387, \"CyclotSpp\": 0.04455445544554455, \"Rop_tess\": 0.0049504950495049506, \"StephanSpp\": 0.0}, {\"Depth\": 11.2, \"Age\": 12.94, \"A_curv\": 0.004901960784313725, \"A_octon\": 0.00980392156862745, \"ActinSpp\": 0.09803921568627451, \"A_nodul\": 0.24509803921568626, \"CoscinSpp\": 0.09803921568627451, \"CyclotSpp\": 0.029411764705882353, \"Rop_tess\": 0.0, \"StephanSpp\": 0.0}, {\"Depth\": 11.25, \"Age\": 12.99, \"A_curv\": 0.00980392156862745, \"A_octon\": 0.0196078431372549, \"ActinSpp\": 0.19117647058823528, \"A_nodul\": 0.08823529411764706, \"CoscinSpp\": 0.16176470588235295, \"CyclotSpp\": 0.014705882352941176, \"Rop_tess\": 0.0, \"StephanSpp\": 0.004901960784313725}, {\"Depth\": 11.3, \"Age\": 13.03, \"A_curv\": 0.00980392156862745, \"A_octon\": 0.0392156862745098, \"ActinSpp\": 0.06372549019607843, \"A_nodul\": 0.24509803921568626, \"CoscinSpp\": 0.07352941176470588, \"CyclotSpp\": 0.0392156862745098, \"Rop_tess\": 0.014705882352941176, \"StephanSpp\": 0.0}, {\"Depth\": 12.2, \"Age\": 13.84, \"A_curv\": 0.054187192118226604, \"A_octon\": 0.014778325123152709, \"ActinSpp\": 0.2660098522167488, \"A_nodul\": 0.06896551724137931, \"CoscinSpp\": 0.04926108374384237, \"CyclotSpp\": 0.029556650246305417, \"Rop_tess\": 0.0, \"StephanSpp\": 0.0049261083743842365}, {\"Depth\": 12.25, \"Age\": 13.88, \"A_curv\": 0.04411764705882353, \"A_octon\": 0.004901960784313725, \"ActinSpp\": 0.1568627450980392, \"A_nodul\": 0.09803921568627451, \"CoscinSpp\": 0.12745098039215685, \"CyclotSpp\": 0.049019607843137254, \"Rop_tess\": 0.004901960784313725, \"StephanSpp\": 0.0}, {\"Depth\": 12.3, \"Age\": 13.93, \"A_curv\": 0.06435643564356436, \"A_octon\": 0.009900990099009901, \"ActinSpp\": 0.12871287128712872, \"A_nodul\": 0.15346534653465346, \"CoscinSpp\": 0.0891089108910891, \"CyclotSpp\": 0.039603960396039604, \"Rop_tess\": 0.0, \"StephanSpp\": 0.0049504950495049506}, {\"Depth\": 12.35, \"Age\": 13.97, \"A_curv\": 0.00980392156862745, \"A_octon\": 0.004901960784313725, \"ActinSpp\": 0.12745098039215685, \"A_nodul\": 0.21568627450980393, \"CoscinSpp\": 0.10294117647058823, \"CyclotSpp\": 0.029411764705882353, \"Rop_tess\": 0.0, \"StephanSpp\": 0.0}, {\"Depth\": 12.4, \"Age\": 14.02, \"A_curv\": 0.03940886699507389, \"A_octon\": 0.009852216748768473, \"ActinSpp\": 0.22167487684729065, \"A_nodul\": 0.11330049261083744, \"CoscinSpp\": 0.06896551724137931, \"CyclotSpp\": 0.03940886699507389, \"Rop_tess\": 0.0, \"StephanSpp\": 0.0}, {\"Depth\": 12.45, \"Age\": 14.06, \"A_curv\": 0.05314009661835749, \"A_octon\": 0.01932367149758454, \"ActinSpp\": 0.14009661835748793, \"A_nodul\": 0.1111111111111111, \"CoscinSpp\": 0.13043478260869565, \"CyclotSpp\": 0.033816425120772944, \"Rop_tess\": 0.0, \"StephanSpp\": 0.0}, {\"Depth\": 12.5, \"Age\": 14.11, \"A_curv\": 0.024390243902439025, \"A_octon\": 0.004878048780487805, \"ActinSpp\": 0.17073170731707318, \"A_nodul\": 0.14146341463414633, \"CoscinSpp\": 0.06829268292682927, \"CyclotSpp\": 0.06341463414634146, \"Rop_tess\": 0.014634146341463415, \"StephanSpp\": 0.0}, {\"Depth\": 12.55, \"Age\": 14.15, \"A_curv\": 0.028985507246376812, \"A_octon\": 0.00966183574879227, \"ActinSpp\": 0.14009661835748793, \"A_nodul\": 0.15942028985507245, \"CoscinSpp\": 0.08695652173913043, \"CyclotSpp\": 0.057971014492753624, \"Rop_tess\": 0.0, \"StephanSpp\": 0.0}, {\"Depth\": 12.6, \"Age\": 14.19, \"A_curv\": 0.03431372549019608, \"A_octon\": 0.014705882352941176, \"ActinSpp\": 0.1568627450980392, \"A_nodul\": 0.16666666666666666, \"CoscinSpp\": 0.09313725490196079, \"CyclotSpp\": 0.0196078431372549, \"Rop_tess\": 0.0, \"StephanSpp\": 0.0}, {\"Depth\": 12.65, \"Age\": 14.24, \"A_curv\": 0.043689320388349516, \"A_octon\": 0.019417475728155338, \"ActinSpp\": 0.16019417475728157, \"A_nodul\": 0.15048543689320387, \"CoscinSpp\": 0.07766990291262135, \"CyclotSpp\": 0.02912621359223301, \"Rop_tess\": 0.0, \"StephanSpp\": 0.0048543689320388345}, {\"Depth\": 12.7, \"Age\": 14.28, \"A_curv\": 0.009708737864077669, \"A_octon\": 0.0048543689320388345, \"ActinSpp\": 0.06796116504854369, \"A_nodul\": 0.3058252427184466, \"CoscinSpp\": 0.07766990291262135, \"CyclotSpp\": 0.009708737864077669, \"Rop_tess\": 0.0, \"StephanSpp\": 0.0}, {\"Depth\": 12.75, \"Age\": 14.33, \"A_curv\": 0.02912621359223301, \"A_octon\": 0.02912621359223301, \"ActinSpp\": 0.1796116504854369, \"A_nodul\": 0.16019417475728157, \"CoscinSpp\": 0.05339805825242718, \"CyclotSpp\": 0.024271844660194174, \"Rop_tess\": 0.0, \"StephanSpp\": 0.0048543689320388345}, {\"Depth\": 12.8, \"Age\": 14.37, \"A_curv\": 0.01951219512195122, \"A_octon\": 0.024390243902439025, \"ActinSpp\": 0.17073170731707318, \"A_nodul\": 0.18048780487804877, \"CoscinSpp\": 0.05853658536585366, \"CyclotSpp\": 0.03414634146341464, \"Rop_tess\": 0.0, \"StephanSpp\": 0.0}, {\"Depth\": 12.85, \"Age\": 14.42, \"A_curv\": 0.024630541871921183, \"A_octon\": 0.009852216748768473, \"ActinSpp\": 0.1625615763546798, \"A_nodul\": 0.17733990147783252, \"CoscinSpp\": 0.07881773399014778, \"CyclotSpp\": 0.029556650246305417, \"Rop_tess\": 0.0, \"StephanSpp\": 0.0}, {\"Depth\": 12.9, \"Age\": 14.46, \"A_curv\": 0.02926829268292683, \"A_octon\": 0.02926829268292683, \"ActinSpp\": 0.14634146341463414, \"A_nodul\": 0.15609756097560976, \"CoscinSpp\": 0.08780487804878048, \"CyclotSpp\": 0.03902439024390244, \"Rop_tess\": 0.0, \"StephanSpp\": 0.0}, {\"Depth\": 12.95, \"Age\": 14.51, \"A_curv\": 0.014492753623188406, \"A_octon\": 0.028985507246376812, \"ActinSpp\": 0.09178743961352658, \"A_nodul\": 0.2028985507246377, \"CoscinSpp\": 0.06763285024154589, \"CyclotSpp\": 0.07729468599033816, \"Rop_tess\": 0.0, \"StephanSpp\": 0.0}, {\"Depth\": 13.0, \"Age\": 14.55, \"A_curv\": 0.00975609756097561, \"A_octon\": 0.014634146341463415, \"ActinSpp\": 0.08292682926829269, \"A_nodul\": 0.32682926829268294, \"CoscinSpp\": 0.024390243902439025, \"CyclotSpp\": 0.01951219512195122, \"Rop_tess\": 0.0, \"StephanSpp\": 0.0}, {\"Depth\": 13.05, \"Age\": 14.6, \"A_curv\": 0.0, \"A_octon\": 0.019417475728155338, \"ActinSpp\": 0.10679611650485436, \"A_nodul\": 0.23786407766990292, \"CoscinSpp\": 0.0825242718446602, \"CyclotSpp\": 0.038834951456310676, \"Rop_tess\": 0.0, \"StephanSpp\": 0.0}, {\"Depth\": 13.1, \"Age\": 14.64, \"A_curv\": 0.0, \"A_octon\": 0.0, \"ActinSpp\": 0.03980099502487562, \"A_nodul\": 0.3582089552238806, \"CoscinSpp\": 0.07462686567164178, \"CyclotSpp\": 0.01990049751243781, \"Rop_tess\": 0.0, \"StephanSpp\": 0.0}, {\"Depth\": 13.15, \"Age\": 14.69, \"A_curv\": 0.004878048780487805, \"A_octon\": 0.014634146341463415, \"ActinSpp\": 0.09268292682926829, \"A_nodul\": 0.1951219512195122, \"CoscinSpp\": 0.14146341463414633, \"CyclotSpp\": 0.024390243902439025, \"Rop_tess\": 0.004878048780487805, \"StephanSpp\": 0.0}, {\"Depth\": 13.2, \"Age\": 14.73, \"A_curv\": 0.004878048780487805, \"A_octon\": 0.00975609756097561, \"ActinSpp\": 0.07317073170731707, \"A_nodul\": 0.2975609756097561, \"CoscinSpp\": 0.08292682926829269, \"CyclotSpp\": 0.014634146341463415, \"Rop_tess\": 0.0, \"StephanSpp\": 0.0}, {\"Depth\": 13.25, \"Age\": 14.78, \"A_curv\": 0.0048543689320388345, \"A_octon\": 0.0, \"ActinSpp\": 0.10679611650485436, \"A_nodul\": 0.24271844660194175, \"CoscinSpp\": 0.0970873786407767, \"CyclotSpp\": 0.02912621359223301, \"Rop_tess\": 0.0, \"StephanSpp\": 0.0}, {\"Depth\": 13.41, \"Age\": 14.92, \"A_curv\": 0.0, \"A_octon\": 0.013888888888888888, \"ActinSpp\": 0.06481481481481481, \"A_nodul\": 0.24537037037037038, \"CoscinSpp\": 0.07407407407407407, \"CyclotSpp\": 0.06018518518518518, \"Rop_tess\": 0.0, \"StephanSpp\": 0.0}, {\"Depth\": 13.46, \"Age\": 14.96, \"A_curv\": 0.0, \"A_octon\": 0.00966183574879227, \"ActinSpp\": 0.05314009661835749, \"A_nodul\": 0.2753623188405797, \"CoscinSpp\": 0.10628019323671498, \"CyclotSpp\": 0.028985507246376812, \"Rop_tess\": 0.004830917874396135, \"StephanSpp\": 0.0}, {\"Depth\": 13.51, \"Age\": 15.01, \"A_curv\": 0.0, \"A_octon\": 0.0, \"ActinSpp\": 0.04878048780487805, \"A_nodul\": 0.3073170731707317, \"CoscinSpp\": 0.1073170731707317, \"CyclotSpp\": 0.024390243902439025, \"Rop_tess\": 0.0, \"StephanSpp\": 0.0}, {\"Depth\": 13.56, \"Age\": 15.05, \"A_curv\": 0.0049261083743842365, \"A_octon\": 0.0, \"ActinSpp\": 0.034482758620689655, \"A_nodul\": 0.2660098522167488, \"CoscinSpp\": 0.12807881773399016, \"CyclotSpp\": 0.054187192118226604, \"Rop_tess\": 0.0, \"StephanSpp\": 0.0}, {\"Depth\": 13.61, \"Age\": 15.1, \"A_curv\": 0.0048543689320388345, \"A_octon\": 0.0048543689320388345, \"ActinSpp\": 0.04854368932038835, \"A_nodul\": 0.30097087378640774, \"CoscinSpp\": 0.07281553398058252, \"CyclotSpp\": 0.05339805825242718, \"Rop_tess\": 0.0, \"StephanSpp\": 0.0}, {\"Depth\": 13.66, \"Age\": 15.14, \"A_curv\": 0.014563106796116505, \"A_octon\": 0.009708737864077669, \"ActinSpp\": 0.05825242718446602, \"A_nodul\": 0.2815533980582524, \"CoscinSpp\": 0.06310679611650485, \"CyclotSpp\": 0.05825242718446602, \"Rop_tess\": 0.0, \"StephanSpp\": 0.0}, {\"Depth\": 13.71, \"Age\": 15.19, \"A_curv\": 0.004901960784313725, \"A_octon\": 0.00980392156862745, \"ActinSpp\": 0.06372549019607843, \"A_nodul\": 0.2696078431372549, \"CoscinSpp\": 0.08823529411764706, \"CyclotSpp\": 0.05392156862745098, \"Rop_tess\": 0.0, \"StephanSpp\": 0.0}]}}, {\"mode\": \"vega-lite\"});\n",
       "</script>"
      ],
      "text/plain": [
       "alt.Chart(...)"
      ]
     },
     "execution_count": 15,
     "metadata": {},
     "output_type": "execute_result"
    }
   ],
   "source": [
    "base = alt.Chart(diatoms)\n",
    "\n",
    "hist = base.transform_bin(\n",
    "    'Relative abundance of Azpeitia nodulifer',\n",
    "    field = 'A_nodul',\n",
    "    bin = alt.Bin(step = 0.03)\n",
    ").transform_aggregate(\n",
    "    Count ='count()',\n",
    "    groupby = ['Relative abundance of Azpeitia nodulifer']\n",
    ").transform_calculate(\n",
    "    Density = 'datum.Count/(0.03*230)'\n",
    ").mark_bar().encode(\n",
    "    x = 'Relative abundance of Azpeitia nodulifer:Q',\n",
    "    y = 'Density:Q'\n",
    ")\n",
    "hist"
   ]
  },
  {
   "cell_type": "markdown",
   "metadata": {},
   "source": [
    "<!-- END QUESTION -->\n",
    "\n",
    "<!-- BEGIN QUESTION -->\n",
    "\n",
    "#### (ii) Construct a kernel density estimate of the distribution.\n",
    "\n",
    "Create and store the KDE curve as `smooth` and layer it on top of the density histogram from part i.\n",
    "\n",
    "(*Remember*: experiment with the bandwidth parameter, and find a value that you feel captures the shape best.)\n"
   ]
  },
  {
   "cell_type": "code",
   "execution_count": 16,
   "metadata": {
    "tags": []
   },
   "outputs": [
    {
     "data": {
      "text/html": [
       "\n",
       "<div id=\"altair-viz-780099d40c8f4bcc9f9a7c8320f9c64f\"></div>\n",
       "<script type=\"text/javascript\">\n",
       "  var VEGA_DEBUG = (typeof VEGA_DEBUG == \"undefined\") ? {} : VEGA_DEBUG;\n",
       "  (function(spec, embedOpt){\n",
       "    let outputDiv = document.currentScript.previousElementSibling;\n",
       "    if (outputDiv.id !== \"altair-viz-780099d40c8f4bcc9f9a7c8320f9c64f\") {\n",
       "      outputDiv = document.getElementById(\"altair-viz-780099d40c8f4bcc9f9a7c8320f9c64f\");\n",
       "    }\n",
       "    const paths = {\n",
       "      \"vega\": \"https://cdn.jsdelivr.net/npm//vega@5?noext\",\n",
       "      \"vega-lib\": \"https://cdn.jsdelivr.net/npm//vega-lib?noext\",\n",
       "      \"vega-lite\": \"https://cdn.jsdelivr.net/npm//vega-lite@4.17.0?noext\",\n",
       "      \"vega-embed\": \"https://cdn.jsdelivr.net/npm//vega-embed@6?noext\",\n",
       "    };\n",
       "\n",
       "    function maybeLoadScript(lib, version) {\n",
       "      var key = `${lib.replace(\"-\", \"\")}_version`;\n",
       "      return (VEGA_DEBUG[key] == version) ?\n",
       "        Promise.resolve(paths[lib]) :\n",
       "        new Promise(function(resolve, reject) {\n",
       "          var s = document.createElement('script');\n",
       "          document.getElementsByTagName(\"head\")[0].appendChild(s);\n",
       "          s.async = true;\n",
       "          s.onload = () => {\n",
       "            VEGA_DEBUG[key] = version;\n",
       "            return resolve(paths[lib]);\n",
       "          };\n",
       "          s.onerror = () => reject(`Error loading script: ${paths[lib]}`);\n",
       "          s.src = paths[lib];\n",
       "        });\n",
       "    }\n",
       "\n",
       "    function showError(err) {\n",
       "      outputDiv.innerHTML = `<div class=\"error\" style=\"color:red;\">${err}</div>`;\n",
       "      throw err;\n",
       "    }\n",
       "\n",
       "    function displayChart(vegaEmbed) {\n",
       "      vegaEmbed(outputDiv, spec, embedOpt)\n",
       "        .catch(err => showError(`Javascript Error: ${err.message}<br>This usually means there's a typo in your chart specification. See the javascript console for the full traceback.`));\n",
       "    }\n",
       "\n",
       "    if(typeof define === \"function\" && define.amd) {\n",
       "      requirejs.config({paths});\n",
       "      require([\"vega-embed\"], displayChart, err => showError(`Error loading script: ${err.message}`));\n",
       "    } else {\n",
       "      maybeLoadScript(\"vega\", \"5\")\n",
       "        .then(() => maybeLoadScript(\"vega-lite\", \"4.17.0\"))\n",
       "        .then(() => maybeLoadScript(\"vega-embed\", \"6\"))\n",
       "        .catch(showError)\n",
       "        .then(() => displayChart(vegaEmbed));\n",
       "    }\n",
       "  })({\"config\": {\"view\": {\"continuousWidth\": 400, \"continuousHeight\": 300}}, \"layer\": [{\"mark\": \"bar\", \"encoding\": {\"x\": {\"field\": \"Relative abundance of Azpeitia nodulifer\", \"type\": \"quantitative\"}, \"y\": {\"field\": \"Density\", \"type\": \"quantitative\"}}, \"transform\": [{\"bin\": {\"step\": 0.03}, \"field\": \"A_nodul\", \"as\": \"Relative abundance of Azpeitia nodulifer\"}, {\"aggregate\": [{\"op\": \"count\", \"as\": \"Count\"}], \"groupby\": [\"Relative abundance of Azpeitia nodulifer\"]}, {\"calculate\": \"datum.Count/(0.03*230)\", \"as\": \"Density\"}]}, {\"mark\": {\"type\": \"line\", \"color\": \"black\"}, \"encoding\": {\"x\": {\"field\": \"Relative abundance of Azpeitia nodulifer\", \"type\": \"quantitative\"}, \"y\": {\"field\": \"Density\", \"type\": \"quantitative\"}}, \"transform\": [{\"density\": \"A_nodul\", \"bandwidth\": 0.02, \"extent\": [0.0, 0.35], \"steps\": 1000, \"as\": [\"Relative abundance of Azpeitia nodulifer\", \"Density\"]}]}], \"data\": {\"name\": \"data-9f4e66e54759d6b46301ea3d10ce44f6\"}, \"$schema\": \"https://vega.github.io/schema/vega-lite/v4.17.0.json\", \"datasets\": {\"data-9f4e66e54759d6b46301ea3d10ce44f6\": [{\"Depth\": 0.0, \"Age\": 1.33, \"A_curv\": 0.024875621890547265, \"A_octon\": 0.009950248756218905, \"ActinSpp\": 0.15920398009950248, \"A_nodul\": 0.06965174129353234, \"CoscinSpp\": 0.1044776119402985, \"CyclotSpp\": 0.10945273631840796, \"Rop_tess\": 0.004975124378109453, \"StephanSpp\": 0.004975124378109453}, {\"Depth\": 0.05, \"Age\": 1.37, \"A_curv\": 0.04, \"A_octon\": 0.01, \"ActinSpp\": 0.155, \"A_nodul\": 0.08, \"CoscinSpp\": 0.1, \"CyclotSpp\": 0.08, \"Rop_tess\": 0.035, \"StephanSpp\": 0.01}, {\"Depth\": 0.1, \"Age\": 1.42, \"A_curv\": 0.04, \"A_octon\": 0.03, \"ActinSpp\": 0.165, \"A_nodul\": 0.09, \"CoscinSpp\": 0.145, \"CyclotSpp\": 0.035, \"Rop_tess\": 0.005, \"StephanSpp\": 0.005}, {\"Depth\": 0.15, \"Age\": 1.46, \"A_curv\": 0.055, \"A_octon\": 0.005, \"ActinSpp\": 0.105, \"A_nodul\": 0.005, \"CoscinSpp\": 0.06, \"CyclotSpp\": 0.14, \"Rop_tess\": 0.125, \"StephanSpp\": 0.015}, {\"Depth\": 0.2, \"Age\": 1.51, \"A_curv\": 0.03666666666666667, \"A_octon\": 0.0033333333333333335, \"ActinSpp\": 0.12666666666666668, \"A_nodul\": 0.01, \"CoscinSpp\": 0.06, \"CyclotSpp\": 0.08, \"Rop_tess\": 0.01, \"StephanSpp\": 0.0}, {\"Depth\": 0.25, \"Age\": 1.55, \"A_curv\": 0.019704433497536946, \"A_octon\": 0.04433497536945813, \"ActinSpp\": 0.1477832512315271, \"A_nodul\": 0.04926108374384237, \"CoscinSpp\": 0.07881773399014778, \"CyclotSpp\": 0.06896551724137931, \"Rop_tess\": 0.07881773399014778, \"StephanSpp\": 0.0}, {\"Depth\": 0.3, \"Age\": 1.59, \"A_curv\": 0.025, \"A_octon\": 0.015, \"ActinSpp\": 0.105, \"A_nodul\": 0.02, \"CoscinSpp\": 0.06, \"CyclotSpp\": 0.08, \"Rop_tess\": 0.2, \"StephanSpp\": 0.0}, {\"Depth\": 0.35, \"Age\": 1.64, \"A_curv\": 0.035, \"A_octon\": 0.02, \"ActinSpp\": 0.18, \"A_nodul\": 0.095, \"CoscinSpp\": 0.095, \"CyclotSpp\": 0.065, \"Rop_tess\": 0.015, \"StephanSpp\": 0.005}, {\"Depth\": 0.4, \"Age\": 1.68, \"A_curv\": 0.07, \"A_octon\": 0.035, \"ActinSpp\": 0.2, \"A_nodul\": 0.02, \"CoscinSpp\": 0.12, \"CyclotSpp\": 0.055, \"Rop_tess\": 0.015, \"StephanSpp\": 0.005}, {\"Depth\": 0.45, \"Age\": 1.72, \"A_curv\": 0.03, \"A_octon\": 0.015, \"ActinSpp\": 0.185, \"A_nodul\": 0.03, \"CoscinSpp\": 0.13, \"CyclotSpp\": 0.1, \"Rop_tess\": 0.015, \"StephanSpp\": 0.005}, {\"Depth\": 0.5, \"Age\": 1.77, \"A_curv\": 0.04, \"A_octon\": 0.02, \"ActinSpp\": 0.1, \"A_nodul\": 0.055, \"CoscinSpp\": 0.055, \"CyclotSpp\": 0.1, \"Rop_tess\": 0.135, \"StephanSpp\": 0.005}, {\"Depth\": 0.55, \"Age\": 1.81, \"A_curv\": 0.024875621890547265, \"A_octon\": 0.014925373134328358, \"ActinSpp\": 0.17412935323383086, \"A_nodul\": 0.014925373134328358, \"CoscinSpp\": 0.07462686567164178, \"CyclotSpp\": 0.10945273631840796, \"Rop_tess\": 0.05970149253731343, \"StephanSpp\": 0.014925373134328358}, {\"Depth\": 0.6, \"Age\": 1.86, \"A_curv\": 0.04455445544554455, \"A_octon\": 0.01485148514851485, \"ActinSpp\": 0.1485148514851485, \"A_nodul\": 0.01485148514851485, \"CoscinSpp\": 0.0891089108910891, \"CyclotSpp\": 0.13366336633663367, \"Rop_tess\": 0.034653465346534656, \"StephanSpp\": 0.0049504950495049506}, {\"Depth\": 0.65, \"Age\": 1.9, \"A_curv\": 0.016556291390728478, \"A_octon\": 0.013245033112582781, \"ActinSpp\": 0.08940397350993377, \"A_nodul\": 0.019867549668874173, \"CoscinSpp\": 0.06291390728476821, \"CyclotSpp\": 0.11589403973509933, \"Rop_tess\": 0.013245033112582781, \"StephanSpp\": 0.0}, {\"Depth\": 0.7, \"Age\": 1.94, \"A_curv\": 0.065, \"A_octon\": 0.01, \"ActinSpp\": 0.18, \"A_nodul\": 0.04, \"CoscinSpp\": 0.075, \"CyclotSpp\": 0.105, \"Rop_tess\": 0.03, \"StephanSpp\": 0.0}, {\"Depth\": 0.75, \"Age\": 1.99, \"A_curv\": 0.029850746268656716, \"A_octon\": 0.009950248756218905, \"ActinSpp\": 0.16417910447761194, \"A_nodul\": 0.01990049751243781, \"CoscinSpp\": 0.15920398009950248, \"CyclotSpp\": 0.1044776119402985, \"Rop_tess\": 0.004975124378109453, \"StephanSpp\": 0.0}, {\"Depth\": 0.8, \"Age\": 2.03, \"A_curv\": 0.04455445544554455, \"A_octon\": 0.009900990099009901, \"ActinSpp\": 0.2079207920792079, \"A_nodul\": 0.01485148514851485, \"CoscinSpp\": 0.10396039603960396, \"CyclotSpp\": 0.0891089108910891, \"Rop_tess\": 0.019801980198019802, \"StephanSpp\": 0.0049504950495049506}, {\"Depth\": 0.85, \"Age\": 2.08, \"A_curv\": 0.06965174129353234, \"A_octon\": 0.014925373134328358, \"ActinSpp\": 0.1044776119402985, \"A_nodul\": 0.004975124378109453, \"CoscinSpp\": 0.06965174129353234, \"CyclotSpp\": 0.208955223880597, \"Rop_tess\": 0.01990049751243781, \"StephanSpp\": 0.0}, {\"Depth\": 0.9, \"Age\": 2.12, \"A_curv\": 0.04477611940298507, \"A_octon\": 0.024875621890547265, \"ActinSpp\": 0.12935323383084577, \"A_nodul\": 0.06467661691542288, \"CoscinSpp\": 0.07960199004975124, \"CyclotSpp\": 0.09950248756218906, \"Rop_tess\": 0.04477611940298507, \"StephanSpp\": 0.0}, {\"Depth\": 0.95, \"Age\": 2.16, \"A_curv\": 0.055, \"A_octon\": 0.02, \"ActinSpp\": 0.17, \"A_nodul\": 0.015, \"CoscinSpp\": 0.05, \"CyclotSpp\": 0.175, \"Rop_tess\": 0.015, \"StephanSpp\": 0.01}, {\"Depth\": 1.0, \"Age\": 2.21, \"A_curv\": 0.058823529411764705, \"A_octon\": 0.014705882352941176, \"ActinSpp\": 0.19117647058823528, \"A_nodul\": 0.004901960784313725, \"CoscinSpp\": 0.0784313725490196, \"CyclotSpp\": 0.11274509803921569, \"Rop_tess\": 0.00980392156862745, \"StephanSpp\": 0.00980392156862745}, {\"Depth\": 1.05, \"Age\": 2.25, \"A_curv\": 0.065, \"A_octon\": 0.015, \"ActinSpp\": 0.115, \"A_nodul\": 0.025, \"CoscinSpp\": 0.09, \"CyclotSpp\": 0.115, \"Rop_tess\": 0.075, \"StephanSpp\": 0.005}, {\"Depth\": 1.1, \"Age\": 2.29, \"A_curv\": 0.029850746268656716, \"A_octon\": 0.004975124378109453, \"ActinSpp\": 0.11442786069651742, \"A_nodul\": 0.01990049751243781, \"CoscinSpp\": 0.04975124378109453, \"CyclotSpp\": 0.0945273631840796, \"Rop_tess\": 0.07960199004975124, \"StephanSpp\": 0.0945273631840796}, {\"Depth\": 1.15, \"Age\": 2.34, \"A_curv\": 0.034482758620689655, \"A_octon\": 0.04433497536945813, \"ActinSpp\": 0.13793103448275862, \"A_nodul\": 0.03940886699507389, \"CoscinSpp\": 0.08866995073891626, \"CyclotSpp\": 0.11330049261083744, \"Rop_tess\": 0.034482758620689655, \"StephanSpp\": 0.0}, {\"Depth\": 1.2, \"Age\": 2.38, \"A_curv\": 0.03734439834024896, \"A_octon\": 0.012448132780082987, \"ActinSpp\": 0.04564315352697095, \"A_nodul\": 0.07883817427385892, \"CoscinSpp\": 0.04979253112033195, \"CyclotSpp\": 0.07468879668049792, \"Rop_tess\": 0.11203319502074689, \"StephanSpp\": 0.0}, {\"Depth\": 1.25, \"Age\": 2.43, \"A_curv\": 0.045, \"A_octon\": 0.015, \"ActinSpp\": 0.13, \"A_nodul\": 0.01, \"CoscinSpp\": 0.09, \"CyclotSpp\": 0.065, \"Rop_tess\": 0.11, \"StephanSpp\": 0.045}, {\"Depth\": 1.3, \"Age\": 2.47, \"A_curv\": 0.04, \"A_octon\": 0.01, \"ActinSpp\": 0.09, \"A_nodul\": 0.013333333333333334, \"CoscinSpp\": 0.043333333333333335, \"CyclotSpp\": 0.06333333333333334, \"Rop_tess\": 0.05333333333333334, \"StephanSpp\": 0.016666666666666666}, {\"Depth\": 1.35, \"Age\": 2.51, \"A_curv\": 0.04455445544554455, \"A_octon\": 0.019801980198019802, \"ActinSpp\": 0.14356435643564355, \"A_nodul\": 0.019801980198019802, \"CoscinSpp\": 0.039603960396039604, \"CyclotSpp\": 0.21287128712871287, \"Rop_tess\": 0.01485148514851485, \"StephanSpp\": 0.0}, {\"Depth\": 1.4, \"Age\": 2.56, \"A_curv\": 0.049019607843137254, \"A_octon\": 0.029411764705882353, \"ActinSpp\": 0.12254901960784313, \"A_nodul\": 0.014705882352941176, \"CoscinSpp\": 0.049019607843137254, \"CyclotSpp\": 0.17647058823529413, \"Rop_tess\": 0.04411764705882353, \"StephanSpp\": 0.004901960784313725}, {\"Depth\": 1.49, \"Age\": 2.64, \"A_curv\": 0.045, \"A_octon\": 0.015, \"ActinSpp\": 0.14, \"A_nodul\": 0.03, \"CoscinSpp\": 0.145, \"CyclotSpp\": 0.095, \"Rop_tess\": 0.045, \"StephanSpp\": 0.0}, {\"Depth\": 1.5, \"Age\": 2.65, \"A_curv\": 0.03, \"A_octon\": 0.035, \"ActinSpp\": 0.16, \"A_nodul\": 0.04, \"CoscinSpp\": 0.065, \"CyclotSpp\": 0.085, \"Rop_tess\": 0.095, \"StephanSpp\": 0.0}, {\"Depth\": 1.55, \"Age\": 2.69, \"A_curv\": 0.025, \"A_octon\": 0.035, \"ActinSpp\": 0.11, \"A_nodul\": 0.02, \"CoscinSpp\": 0.05, \"CyclotSpp\": 0.155, \"Rop_tess\": 0.115, \"StephanSpp\": 0.0}, {\"Depth\": 1.6, \"Age\": 2.73, \"A_curv\": 0.04, \"A_octon\": 0.03, \"ActinSpp\": 0.14, \"A_nodul\": 0.01, \"CoscinSpp\": 0.13, \"CyclotSpp\": 0.125, \"Rop_tess\": 0.03, \"StephanSpp\": 0.005}, {\"Depth\": 1.65, \"Age\": 2.78, \"A_curv\": 0.05, \"A_octon\": 0.005, \"ActinSpp\": 0.14, \"A_nodul\": 0.03, \"CoscinSpp\": 0.095, \"CyclotSpp\": 0.14, \"Rop_tess\": 0.05, \"StephanSpp\": 0.0}, {\"Depth\": 1.7, \"Age\": 2.82, \"A_curv\": 0.045, \"A_octon\": 0.015, \"ActinSpp\": 0.215, \"A_nodul\": 0.005, \"CoscinSpp\": 0.08, \"CyclotSpp\": 0.125, \"Rop_tess\": 0.02, \"StephanSpp\": 0.005}, {\"Depth\": 1.75, \"Age\": 2.87, \"A_curv\": 0.07881773399014778, \"A_octon\": 0.059113300492610835, \"ActinSpp\": 0.10344827586206896, \"A_nodul\": 0.019704433497536946, \"CoscinSpp\": 0.09359605911330049, \"CyclotSpp\": 0.09359605911330049, \"Rop_tess\": 0.034482758620689655, \"StephanSpp\": 0.009852216748768473}, {\"Depth\": 1.8, \"Age\": 2.91, \"A_curv\": 0.054187192118226604, \"A_octon\": 0.009852216748768473, \"ActinSpp\": 0.19704433497536947, \"A_nodul\": 0.029556650246305417, \"CoscinSpp\": 0.08374384236453201, \"CyclotSpp\": 0.07389162561576355, \"Rop_tess\": 0.034482758620689655, \"StephanSpp\": 0.0}, {\"Depth\": 1.85, \"Age\": 2.95, \"A_curv\": 0.025, \"A_octon\": 0.015, \"ActinSpp\": 0.19, \"A_nodul\": 0.025, \"CoscinSpp\": 0.115, \"CyclotSpp\": 0.105, \"Rop_tess\": 0.03, \"StephanSpp\": 0.005}, {\"Depth\": 1.9, \"Age\": 3.0, \"A_curv\": 0.03, \"A_octon\": 0.01, \"ActinSpp\": 0.09, \"A_nodul\": 0.005, \"CoscinSpp\": 0.055, \"CyclotSpp\": 0.18, \"Rop_tess\": 0.13, \"StephanSpp\": 0.005}, {\"Depth\": 1.95, \"Age\": 3.04, \"A_curv\": 0.05, \"A_octon\": 0.02, \"ActinSpp\": 0.2, \"A_nodul\": 0.01, \"CoscinSpp\": 0.075, \"CyclotSpp\": 0.12, \"Rop_tess\": 0.035, \"StephanSpp\": 0.005}, {\"Depth\": 2.0, \"Age\": 3.08, \"A_curv\": 0.0297029702970297, \"A_octon\": 0.0049504950495049506, \"ActinSpp\": 0.14356435643564355, \"A_nodul\": 0.0049504950495049506, \"CoscinSpp\": 0.0297029702970297, \"CyclotSpp\": 0.2079207920792079, \"Rop_tess\": 0.06930693069306931, \"StephanSpp\": 0.0}, {\"Depth\": 2.05, \"Age\": 3.13, \"A_curv\": 0.03, \"A_octon\": 0.04, \"ActinSpp\": 0.175, \"A_nodul\": 0.02, \"CoscinSpp\": 0.08, \"CyclotSpp\": 0.125, \"Rop_tess\": 0.04, \"StephanSpp\": 0.005}, {\"Depth\": 2.1, \"Age\": 3.17, \"A_curv\": 0.054187192118226604, \"A_octon\": 0.019704433497536946, \"ActinSpp\": 0.13793103448275862, \"A_nodul\": 0.014778325123152709, \"CoscinSpp\": 0.09359605911330049, \"CyclotSpp\": 0.1330049261083744, \"Rop_tess\": 0.03940886699507389, \"StephanSpp\": 0.0}, {\"Depth\": 2.15, \"Age\": 3.22, \"A_curv\": 0.02181818181818182, \"A_octon\": 0.01090909090909091, \"ActinSpp\": 0.13454545454545455, \"A_nodul\": 0.014545454545454545, \"CoscinSpp\": 0.04363636363636364, \"CyclotSpp\": 0.12727272727272726, \"Rop_tess\": 0.007272727272727273, \"StephanSpp\": 0.0}, {\"Depth\": 2.2, \"Age\": 3.26, \"A_curv\": 0.034653465346534656, \"A_octon\": 0.024752475247524754, \"ActinSpp\": 0.18316831683168316, \"A_nodul\": 0.06435643564356436, \"CoscinSpp\": 0.0891089108910891, \"CyclotSpp\": 0.07920792079207921, \"Rop_tess\": 0.009900990099009901, \"StephanSpp\": 0.0}, {\"Depth\": 2.25, \"Age\": 3.3, \"A_curv\": 0.035, \"A_octon\": 0.03, \"ActinSpp\": 0.18, \"A_nodul\": 0.02, \"CoscinSpp\": 0.1, \"CyclotSpp\": 0.11, \"Rop_tess\": 0.03, \"StephanSpp\": 0.005}, {\"Depth\": 2.3, \"Age\": 3.35, \"A_curv\": 0.024875621890547265, \"A_octon\": 0.029850746268656716, \"ActinSpp\": 0.15920398009950248, \"A_nodul\": 0.03482587064676617, \"CoscinSpp\": 0.10945273631840796, \"CyclotSpp\": 0.0945273631840796, \"Rop_tess\": 0.029850746268656716, \"StephanSpp\": 0.0}, {\"Depth\": 2.35, \"Age\": 3.39, \"A_curv\": 0.02666666666666667, \"A_octon\": 0.04666666666666667, \"ActinSpp\": 0.09666666666666666, \"A_nodul\": 0.01, \"CoscinSpp\": 0.04, \"CyclotSpp\": 0.10333333333333333, \"Rop_tess\": 0.01, \"StephanSpp\": 0.0}, {\"Depth\": 2.4, \"Age\": 3.44, \"A_curv\": 0.045, \"A_octon\": 0.03, \"ActinSpp\": 0.175, \"A_nodul\": 0.01, \"CoscinSpp\": 0.095, \"CyclotSpp\": 0.13, \"Rop_tess\": 0.025, \"StephanSpp\": 0.0}, {\"Depth\": 2.45, \"Age\": 3.48, \"A_curv\": 0.045, \"A_octon\": 0.04, \"ActinSpp\": 0.17, \"A_nodul\": 0.015, \"CoscinSpp\": 0.11, \"CyclotSpp\": 0.12, \"Rop_tess\": 0.01, \"StephanSpp\": 0.005}, {\"Depth\": 2.5, \"Age\": 3.52, \"A_curv\": 0.03482587064676617, \"A_octon\": 0.01990049751243781, \"ActinSpp\": 0.1791044776119403, \"A_nodul\": 0.01990049751243781, \"CoscinSpp\": 0.09950248756218906, \"CyclotSpp\": 0.12437810945273632, \"Rop_tess\": 0.004975124378109453, \"StephanSpp\": 0.009950248756218905}, {\"Depth\": 2.55, \"Age\": 3.57, \"A_curv\": 0.04455445544554455, \"A_octon\": 0.0297029702970297, \"ActinSpp\": 0.1782178217821782, \"A_nodul\": 0.024752475247524754, \"CoscinSpp\": 0.1188118811881188, \"CyclotSpp\": 0.06930693069306931, \"Rop_tess\": 0.0297029702970297, \"StephanSpp\": 0.0}, {\"Depth\": 2.59, \"Age\": 3.6, \"A_curv\": 0.03, \"A_octon\": 0.015, \"ActinSpp\": 0.22, \"A_nodul\": 0.015, \"CoscinSpp\": 0.11, \"CyclotSpp\": 0.09, \"Rop_tess\": 0.03, \"StephanSpp\": 0.0}, {\"Depth\": 2.65, \"Age\": 3.65, \"A_curv\": 0.03, \"A_octon\": 0.02, \"ActinSpp\": 0.155, \"A_nodul\": 0.035, \"CoscinSpp\": 0.095, \"CyclotSpp\": 0.155, \"Rop_tess\": 0.02, \"StephanSpp\": 0.005}, {\"Depth\": 2.7, \"Age\": 3.7, \"A_curv\": 0.04245283018867924, \"A_octon\": 0.0330188679245283, \"ActinSpp\": 0.14150943396226415, \"A_nodul\": 0.02358490566037736, \"CoscinSpp\": 0.08018867924528301, \"CyclotSpp\": 0.09905660377358491, \"Rop_tess\": 0.04716981132075472, \"StephanSpp\": 0.0}, {\"Depth\": 2.75, \"Age\": 3.74, \"A_curv\": 0.035, \"A_octon\": 0.02, \"ActinSpp\": 0.15, \"A_nodul\": 0.025, \"CoscinSpp\": 0.085, \"CyclotSpp\": 0.165, \"Rop_tess\": 0.03, \"StephanSpp\": 0.0}, {\"Depth\": 2.8, \"Age\": 3.79, \"A_curv\": 0.03515625, \"A_octon\": 0.015625, \"ActinSpp\": 0.1171875, \"A_nodul\": 0.01953125, \"CoscinSpp\": 0.05078125, \"CyclotSpp\": 0.1328125, \"Rop_tess\": 0.015625, \"StephanSpp\": 0.0}, {\"Depth\": 2.85, \"Age\": 3.83, \"A_curv\": 0.016, \"A_octon\": 0.032, \"ActinSpp\": 0.16, \"A_nodul\": 0.024, \"CoscinSpp\": 0.06, \"CyclotSpp\": 0.088, \"Rop_tess\": 0.016, \"StephanSpp\": 0.0}, {\"Depth\": 2.9, \"Age\": 3.87, \"A_curv\": 0.048, \"A_octon\": 0.016, \"ActinSpp\": 0.156, \"A_nodul\": 0.012, \"CoscinSpp\": 0.072, \"CyclotSpp\": 0.08, \"Rop_tess\": 0.012, \"StephanSpp\": 0.0}, {\"Depth\": 2.95, \"Age\": 3.92, \"A_curv\": 0.015151515151515152, \"A_octon\": 0.026515151515151516, \"ActinSpp\": 0.13257575757575757, \"A_nodul\": 0.01893939393939394, \"CoscinSpp\": 0.056818181818181816, \"CyclotSpp\": 0.12121212121212122, \"Rop_tess\": 0.007575757575757576, \"StephanSpp\": 0.0}, {\"Depth\": 3.0, \"Age\": 3.96, \"A_curv\": 0.014005602240896359, \"A_octon\": 0.025210084033613446, \"ActinSpp\": 0.08403361344537816, \"A_nodul\": 0.0056022408963585435, \"CoscinSpp\": 0.03361344537815126, \"CyclotSpp\": 0.1092436974789916, \"Rop_tess\": 0.008403361344537815, \"StephanSpp\": 0.0}, {\"Depth\": 3.0, \"Age\": 3.96, \"A_curv\": 0.03, \"A_octon\": 0.015, \"ActinSpp\": 0.065, \"A_nodul\": 0.01, \"CoscinSpp\": 0.05, \"CyclotSpp\": 0.165, \"Rop_tess\": 0.165, \"StephanSpp\": 0.005}, {\"Depth\": 3.05, \"Age\": 4.01, \"A_curv\": 0.024822695035460994, \"A_octon\": 0.014184397163120567, \"ActinSpp\": 0.09219858156028368, \"A_nodul\": 0.02127659574468085, \"CoscinSpp\": 0.05673758865248227, \"CyclotSpp\": 0.12056737588652482, \"Rop_tess\": 0.024822695035460994, \"StephanSpp\": 0.0}, {\"Depth\": 3.1, \"Age\": 4.05, \"A_curv\": 0.024, \"A_octon\": 0.008, \"ActinSpp\": 0.12, \"A_nodul\": 0.012, \"CoscinSpp\": 0.096, \"CyclotSpp\": 0.104, \"Rop_tess\": 0.04, \"StephanSpp\": 0.0}, {\"Depth\": 3.2, \"Age\": 4.14, \"A_curv\": 0.02040816326530612, \"A_octon\": 0.012244897959183673, \"ActinSpp\": 0.07755102040816327, \"A_nodul\": 0.02857142857142857, \"CoscinSpp\": 0.053061224489795916, \"CyclotSpp\": 0.10612244897959183, \"Rop_tess\": 0.11020408163265306, \"StephanSpp\": 0.0}, {\"Depth\": 3.25, \"Age\": 4.18, \"A_curv\": 0.01932367149758454, \"A_octon\": 0.00966183574879227, \"ActinSpp\": 0.15942028985507245, \"A_nodul\": 0.057971014492753624, \"CoscinSpp\": 0.057971014492753624, \"CyclotSpp\": 0.08695652173913043, \"Rop_tess\": 0.08695652173913043, \"StephanSpp\": 0.0}, {\"Depth\": 3.3, \"Age\": 4.22, \"A_curv\": 0.023696682464454975, \"A_octon\": 0.014218009478672985, \"ActinSpp\": 0.12796208530805686, \"A_nodul\": 0.052132701421800945, \"CoscinSpp\": 0.10426540284360189, \"CyclotSpp\": 0.0995260663507109, \"Rop_tess\": 0.052132701421800945, \"StephanSpp\": 0.0}, {\"Depth\": 3.35, \"Age\": 4.27, \"A_curv\": 0.009950248756218905, \"A_octon\": 0.009950248756218905, \"ActinSpp\": 0.11442786069651742, \"A_nodul\": 0.11442786069651742, \"CoscinSpp\": 0.06965174129353234, \"CyclotSpp\": 0.08955223880597014, \"Rop_tess\": 0.07960199004975124, \"StephanSpp\": 0.0}, {\"Depth\": 3.4, \"Age\": 4.31, \"A_curv\": 0.02, \"A_octon\": 0.025, \"ActinSpp\": 0.16, \"A_nodul\": 0.11, \"CoscinSpp\": 0.055, \"CyclotSpp\": 0.125, \"Rop_tess\": 0.015, \"StephanSpp\": 0.0}, {\"Depth\": 3.45, \"Age\": 4.36, \"A_curv\": 0.015, \"A_octon\": 0.005, \"ActinSpp\": 0.07, \"A_nodul\": 0.02, \"CoscinSpp\": 0.015, \"CyclotSpp\": 0.085, \"Rop_tess\": 0.3, \"StephanSpp\": 0.0}, {\"Depth\": 3.5, \"Age\": 4.4, \"A_curv\": 0.01532567049808429, \"A_octon\": 0.007662835249042145, \"ActinSpp\": 0.13026819923371646, \"A_nodul\": 0.019157088122605363, \"CoscinSpp\": 0.05747126436781609, \"CyclotSpp\": 0.11877394636015326, \"Rop_tess\": 0.03065134099616858, \"StephanSpp\": 0.0}, {\"Depth\": 3.55, \"Age\": 4.44, \"A_curv\": 0.01, \"A_octon\": 0.01, \"ActinSpp\": 0.07, \"A_nodul\": 0.03, \"CoscinSpp\": 0.035, \"CyclotSpp\": 0.115, \"Rop_tess\": 0.24, \"StephanSpp\": 0.0}, {\"Depth\": 3.6, \"Age\": 4.49, \"A_curv\": 0.017391304347826087, \"A_octon\": 0.021739130434782608, \"ActinSpp\": 0.09565217391304348, \"A_nodul\": 0.14347826086956522, \"CoscinSpp\": 0.0391304347826087, \"CyclotSpp\": 0.06956521739130435, \"Rop_tess\": 0.04782608695652174, \"StephanSpp\": 0.0}, {\"Depth\": 3.65, \"Age\": 4.53, \"A_curv\": 0.0375, \"A_octon\": 0.0125, \"ActinSpp\": 0.17083333333333334, \"A_nodul\": 0.025, \"CoscinSpp\": 0.05416666666666667, \"CyclotSpp\": 0.075, \"Rop_tess\": 0.041666666666666664, \"StephanSpp\": 0.0}, {\"Depth\": 3.7, \"Age\": 4.58, \"A_curv\": 0.017777777777777778, \"A_octon\": 0.008888888888888889, \"ActinSpp\": 0.16444444444444445, \"A_nodul\": 0.057777777777777775, \"CoscinSpp\": 0.08, \"CyclotSpp\": 0.06666666666666667, \"Rop_tess\": 0.04, \"StephanSpp\": 0.0}, {\"Depth\": 3.75, \"Age\": 4.62, \"A_curv\": 0.02857142857142857, \"A_octon\": 0.022222222222222223, \"ActinSpp\": 0.1523809523809524, \"A_nodul\": 0.009523809523809525, \"CoscinSpp\": 0.047619047619047616, \"CyclotSpp\": 0.05714285714285714, \"Rop_tess\": 0.0031746031746031746, \"StephanSpp\": 0.0}, {\"Depth\": 4.75, \"Age\": 5.5, \"A_curv\": 0.0196078431372549, \"A_octon\": 0.00980392156862745, \"ActinSpp\": 0.19117647058823528, \"A_nodul\": 0.04411764705882353, \"CoscinSpp\": 0.11764705882352941, \"CyclotSpp\": 0.06862745098039216, \"Rop_tess\": 0.014705882352941176, \"StephanSpp\": 0.014705882352941176}, {\"Depth\": 4.8, \"Age\": 5.54, \"A_curv\": 0.0297029702970297, \"A_octon\": 0.019801980198019802, \"ActinSpp\": 0.15346534653465346, \"A_nodul\": 0.09405940594059406, \"CoscinSpp\": 0.08415841584158416, \"CyclotSpp\": 0.07425742574257425, \"Rop_tess\": 0.0297029702970297, \"StephanSpp\": 0.0049504950495049506}, {\"Depth\": 4.85, \"Age\": 5.58, \"A_curv\": 0.024271844660194174, \"A_octon\": 0.014563106796116505, \"ActinSpp\": 0.2087378640776699, \"A_nodul\": 0.05339805825242718, \"CoscinSpp\": 0.05825242718446602, \"CyclotSpp\": 0.0825242718446602, \"Rop_tess\": 0.038834951456310676, \"StephanSpp\": 0.0}, {\"Depth\": 4.9, \"Age\": 5.63, \"A_curv\": 0.03, \"A_octon\": 0.02, \"ActinSpp\": 0.16, \"A_nodul\": 0.01, \"CoscinSpp\": 0.095, \"CyclotSpp\": 0.075, \"Rop_tess\": 0.11, \"StephanSpp\": 0.005}, {\"Depth\": 4.95, \"Age\": 5.67, \"A_curv\": 0.035, \"A_octon\": 0.035, \"ActinSpp\": 0.12, \"A_nodul\": 0.02, \"CoscinSpp\": 0.09, \"CyclotSpp\": 0.13, \"Rop_tess\": 0.08, \"StephanSpp\": 0.0}, {\"Depth\": 5.0, \"Age\": 5.72, \"A_curv\": 0.034653465346534656, \"A_octon\": 0.019801980198019802, \"ActinSpp\": 0.11386138613861387, \"A_nodul\": 0.0049504950495049506, \"CoscinSpp\": 0.08415841584158416, \"CyclotSpp\": 0.10891089108910891, \"Rop_tess\": 0.13366336633663367, \"StephanSpp\": 0.0}, {\"Depth\": 5.05, \"Age\": 5.76, \"A_curv\": 0.03755868544600939, \"A_octon\": 0.009389671361502348, \"ActinSpp\": 0.07042253521126761, \"A_nodul\": 0.0, \"CoscinSpp\": 0.046948356807511735, \"CyclotSpp\": 0.13615023474178403, \"Rop_tess\": 0.1643192488262911, \"StephanSpp\": 0.0}, {\"Depth\": 5.1, \"Age\": 5.8, \"A_curv\": 0.024630541871921183, \"A_octon\": 0.019704433497536946, \"ActinSpp\": 0.12807881773399016, \"A_nodul\": 0.0049261083743842365, \"CoscinSpp\": 0.059113300492610835, \"CyclotSpp\": 0.11330049261083744, \"Rop_tess\": 0.14285714285714285, \"StephanSpp\": 0.0}, {\"Depth\": 5.15, \"Age\": 5.85, \"A_curv\": 0.035, \"A_octon\": 0.015, \"ActinSpp\": 0.135, \"A_nodul\": 0.015, \"CoscinSpp\": 0.08, \"CyclotSpp\": 0.04, \"Rop_tess\": 0.19, \"StephanSpp\": 0.0}, {\"Depth\": 5.2, \"Age\": 5.89, \"A_curv\": 0.029850746268656716, \"A_octon\": 0.024875621890547265, \"ActinSpp\": 0.1044776119402985, \"A_nodul\": 0.05472636815920398, \"CoscinSpp\": 0.1044776119402985, \"CyclotSpp\": 0.0845771144278607, \"Rop_tess\": 0.08955223880597014, \"StephanSpp\": 0.0}, {\"Depth\": 5.25, \"Age\": 5.94, \"A_curv\": 0.035, \"A_octon\": 0.01, \"ActinSpp\": 0.24, \"A_nodul\": 0.015, \"CoscinSpp\": 0.07, \"CyclotSpp\": 0.05, \"Rop_tess\": 0.09, \"StephanSpp\": 0.0}, {\"Depth\": 5.3, \"Age\": 5.98, \"A_curv\": 0.025, \"A_octon\": 0.0, \"ActinSpp\": 0.02, \"A_nodul\": 0.005, \"CoscinSpp\": 0.01, \"CyclotSpp\": 0.065, \"Rop_tess\": 0.38, \"StephanSpp\": 0.005}, {\"Depth\": 5.35, \"Age\": 6.02, \"A_curv\": 0.025, \"A_octon\": 0.03, \"ActinSpp\": 0.09, \"A_nodul\": 0.065, \"CoscinSpp\": 0.075, \"CyclotSpp\": 0.16, \"Rop_tess\": 0.07, \"StephanSpp\": 0.0}, {\"Depth\": 5.4, \"Age\": 6.07, \"A_curv\": 0.009950248756218905, \"A_octon\": 0.01990049751243781, \"ActinSpp\": 0.07960199004975124, \"A_nodul\": 0.009950248756218905, \"CoscinSpp\": 0.05970149253731343, \"CyclotSpp\": 0.06467661691542288, \"Rop_tess\": 0.24378109452736318, \"StephanSpp\": 0.0}, {\"Depth\": 5.45, \"Age\": 6.11, \"A_curv\": 0.039473684210526314, \"A_octon\": 0.008771929824561403, \"ActinSpp\": 0.15789473684210525, \"A_nodul\": 0.017543859649122806, \"CoscinSpp\": 0.10964912280701754, \"CyclotSpp\": 0.06578947368421052, \"Rop_tess\": 0.03508771929824561, \"StephanSpp\": 0.008771929824561403}, {\"Depth\": 5.5, \"Age\": 6.15, \"A_curv\": 0.020161290322580645, \"A_octon\": 0.04435483870967742, \"ActinSpp\": 0.05241935483870968, \"A_nodul\": 0.06854838709677419, \"CoscinSpp\": 0.04838709677419355, \"CyclotSpp\": 0.056451612903225805, \"Rop_tess\": 0.11290322580645161, \"StephanSpp\": 0.0}, {\"Depth\": 5.55, \"Age\": 6.2, \"A_curv\": 0.024193548387096774, \"A_octon\": 0.04032258064516129, \"ActinSpp\": 0.06048387096774194, \"A_nodul\": 0.10483870967741936, \"CoscinSpp\": 0.036290322580645164, \"CyclotSpp\": 0.04435483870967742, \"Rop_tess\": 0.09274193548387097, \"StephanSpp\": 0.0}, {\"Depth\": 5.6, \"Age\": 6.24, \"A_curv\": 0.04128440366972477, \"A_octon\": 0.05963302752293578, \"ActinSpp\": 0.0779816513761468, \"A_nodul\": 0.0, \"CoscinSpp\": 0.10091743119266056, \"CyclotSpp\": 0.06422018348623854, \"Rop_tess\": 0.11467889908256881, \"StephanSpp\": 0.0}, {\"Depth\": 5.65, \"Age\": 6.29, \"A_curv\": 0.03686635944700461, \"A_octon\": 0.027649769585253458, \"ActinSpp\": 0.08755760368663594, \"A_nodul\": 0.0, \"CoscinSpp\": 0.06912442396313365, \"CyclotSpp\": 0.09216589861751152, \"Rop_tess\": 0.14746543778801843, \"StephanSpp\": 0.0}, {\"Depth\": 5.7, \"Age\": 6.33, \"A_curv\": 0.012096774193548387, \"A_octon\": 0.016129032258064516, \"ActinSpp\": 0.04435483870967742, \"A_nodul\": 0.0, \"CoscinSpp\": 0.04032258064516129, \"CyclotSpp\": 0.03225806451612903, \"Rop_tess\": 0.2540322580645161, \"StephanSpp\": 0.0}, {\"Depth\": 5.75, \"Age\": 6.37, \"A_curv\": 0.03619909502262444, \"A_octon\": 0.04524886877828054, \"ActinSpp\": 0.08144796380090498, \"A_nodul\": 0.00904977375565611, \"CoscinSpp\": 0.08597285067873303, \"CyclotSpp\": 0.058823529411764705, \"Rop_tess\": 0.13574660633484162, \"StephanSpp\": 0.0}, {\"Depth\": 5.8, \"Age\": 6.42, \"A_curv\": 0.06, \"A_octon\": 0.02, \"ActinSpp\": 0.075, \"A_nodul\": 0.005, \"CoscinSpp\": 0.085, \"CyclotSpp\": 0.09, \"Rop_tess\": 0.17, \"StephanSpp\": 0.0}, {\"Depth\": 5.85, \"Age\": 6.46, \"A_curv\": 0.075, \"A_octon\": 0.015, \"ActinSpp\": 0.14, \"A_nodul\": 0.005, \"CoscinSpp\": 0.09, \"CyclotSpp\": 0.05, \"Rop_tess\": 0.135, \"StephanSpp\": 0.0}, {\"Depth\": 5.9, \"Age\": 6.51, \"A_curv\": 0.024752475247524754, \"A_octon\": 0.0297029702970297, \"ActinSpp\": 0.054455445544554455, \"A_nodul\": 0.0, \"CoscinSpp\": 0.07920792079207921, \"CyclotSpp\": 0.10396039603960396, \"Rop_tess\": 0.20297029702970298, \"StephanSpp\": 0.0}, {\"Depth\": 5.95, \"Age\": 6.55, \"A_curv\": 0.054187192118226604, \"A_octon\": 0.014778325123152709, \"ActinSpp\": 0.12807881773399016, \"A_nodul\": 0.0, \"CoscinSpp\": 0.12315270935960591, \"CyclotSpp\": 0.06896551724137931, \"Rop_tess\": 0.10344827586206896, \"StephanSpp\": 0.0}, {\"Depth\": 6.0, \"Age\": 6.59, \"A_curv\": 0.05, \"A_octon\": 0.01, \"ActinSpp\": 0.185, \"A_nodul\": 0.0, \"CoscinSpp\": 0.06, \"CyclotSpp\": 0.105, \"Rop_tess\": 0.09, \"StephanSpp\": 0.005}, {\"Depth\": 6.05, \"Age\": 6.64, \"A_curv\": 0.013513513513513514, \"A_octon\": 0.009009009009009009, \"ActinSpp\": 0.11711711711711711, \"A_nodul\": 0.009009009009009009, \"CoscinSpp\": 0.14414414414414414, \"CyclotSpp\": 0.05405405405405406, \"Rop_tess\": 0.0945945945945946, \"StephanSpp\": 0.009009009009009009}, {\"Depth\": 6.1, \"Age\": 6.68, \"A_curv\": 0.023809523809523808, \"A_octon\": 0.02857142857142857, \"ActinSpp\": 0.19523809523809524, \"A_nodul\": 0.004761904761904762, \"CoscinSpp\": 0.12380952380952381, \"CyclotSpp\": 0.09047619047619047, \"Rop_tess\": 0.009523809523809525, \"StephanSpp\": 0.0}, {\"Depth\": 6.15, \"Age\": 6.72, \"A_curv\": 0.017777777777777778, \"A_octon\": 0.008888888888888889, \"ActinSpp\": 0.16, \"A_nodul\": 0.0044444444444444444, \"CoscinSpp\": 0.07111111111111111, \"CyclotSpp\": 0.04, \"Rop_tess\": 0.14222222222222222, \"StephanSpp\": 0.0}, {\"Depth\": 6.2, \"Age\": 6.77, \"A_curv\": 0.03404255319148936, \"A_octon\": 0.01276595744680851, \"ActinSpp\": 0.2, \"A_nodul\": 0.0, \"CoscinSpp\": 0.0851063829787234, \"CyclotSpp\": 0.04680851063829787, \"Rop_tess\": 0.04680851063829787, \"StephanSpp\": 0.0}, {\"Depth\": 6.25, \"Age\": 6.81, \"A_curv\": 0.017316017316017316, \"A_octon\": 0.012987012987012988, \"ActinSpp\": 0.11688311688311688, \"A_nodul\": 0.0, \"CoscinSpp\": 0.10822510822510822, \"CyclotSpp\": 0.04329004329004329, \"Rop_tess\": 0.1341991341991342, \"StephanSpp\": 0.0}, {\"Depth\": 6.3, \"Age\": 6.86, \"A_curv\": 0.034653465346534656, \"A_octon\": 0.0297029702970297, \"ActinSpp\": 0.06930693069306931, \"A_nodul\": 0.0, \"CoscinSpp\": 0.04950495049504951, \"CyclotSpp\": 0.09405940594059406, \"Rop_tess\": 0.21782178217821782, \"StephanSpp\": 0.0}, {\"Depth\": 6.35, \"Age\": 6.9, \"A_curv\": 0.01951219512195122, \"A_octon\": 0.004878048780487805, \"ActinSpp\": 0.22926829268292684, \"A_nodul\": 0.0, \"CoscinSpp\": 0.14634146341463414, \"CyclotSpp\": 0.07317073170731707, \"Rop_tess\": 0.014634146341463415, \"StephanSpp\": 0.0}, {\"Depth\": 6.4, \"Age\": 6.94, \"A_curv\": 0.01, \"A_octon\": 0.0, \"ActinSpp\": 0.02, \"A_nodul\": 0.0, \"CoscinSpp\": 0.02, \"CyclotSpp\": 0.025, \"Rop_tess\": 0.435, \"StephanSpp\": 0.0}, {\"Depth\": 6.45, \"Age\": 6.99, \"A_curv\": 0.035398230088495575, \"A_octon\": 0.008849557522123894, \"ActinSpp\": 0.19469026548672566, \"A_nodul\": 0.004424778761061947, \"CoscinSpp\": 0.10176991150442478, \"CyclotSpp\": 0.061946902654867256, \"Rop_tess\": 0.02654867256637168, \"StephanSpp\": 0.008849557522123894}, {\"Depth\": 6.5, \"Age\": 7.03, \"A_curv\": 0.02, \"A_octon\": 0.015, \"ActinSpp\": 0.105, \"A_nodul\": 0.055, \"CoscinSpp\": 0.075, \"CyclotSpp\": 0.06, \"Rop_tess\": 0.175, \"StephanSpp\": 0.005}, {\"Depth\": 6.55, \"Age\": 7.08, \"A_curv\": 0.011904761904761904, \"A_octon\": 0.011904761904761904, \"ActinSpp\": 0.17063492063492064, \"A_nodul\": 0.031746031746031744, \"CoscinSpp\": 0.1111111111111111, \"CyclotSpp\": 0.03571428571428571, \"Rop_tess\": 0.023809523809523808, \"StephanSpp\": 0.003968253968253968}, {\"Depth\": 6.6, \"Age\": 7.12, \"A_curv\": 0.013452914798206279, \"A_octon\": 0.008968609865470852, \"ActinSpp\": 0.17937219730941703, \"A_nodul\": 0.004484304932735426, \"CoscinSpp\": 0.08071748878923767, \"CyclotSpp\": 0.13004484304932734, \"Rop_tess\": 0.03139013452914798, \"StephanSpp\": 0.0}, {\"Depth\": 6.65, \"Age\": 7.16, \"A_curv\": 0.02145922746781116, \"A_octon\": 0.02145922746781116, \"ActinSpp\": 0.11158798283261803, \"A_nodul\": 0.004291845493562232, \"CoscinSpp\": 0.11587982832618025, \"CyclotSpp\": 0.09012875536480687, \"Rop_tess\": 0.06437768240343347, \"StephanSpp\": 0.0}, {\"Depth\": 6.7, \"Age\": 7.21, \"A_curv\": 0.01327433628318584, \"A_octon\": 0.017699115044247787, \"ActinSpp\": 0.1415929203539823, \"A_nodul\": 0.0, \"CoscinSpp\": 0.10619469026548672, \"CyclotSpp\": 0.09292035398230089, \"Rop_tess\": 0.061946902654867256, \"StephanSpp\": 0.0}, {\"Depth\": 6.75, \"Age\": 7.25, \"A_curv\": 0.04128440366972477, \"A_octon\": 0.03211009174311927, \"ActinSpp\": 0.10550458715596331, \"A_nodul\": 0.0, \"CoscinSpp\": 0.10550458715596331, \"CyclotSpp\": 0.07339449541284404, \"Rop_tess\": 0.0963302752293578, \"StephanSpp\": 0.0045871559633027525}, {\"Depth\": 6.8, \"Age\": 7.29, \"A_curv\": 0.00816326530612245, \"A_octon\": 0.02040816326530612, \"ActinSpp\": 0.0653061224489796, \"A_nodul\": 0.0, \"CoscinSpp\": 0.02857142857142857, \"CyclotSpp\": 0.04897959183673469, \"Rop_tess\": 0.23673469387755103, \"StephanSpp\": 0.0}, {\"Depth\": 6.85, \"Age\": 7.34, \"A_curv\": 0.008547008547008548, \"A_octon\": 0.017094017094017096, \"ActinSpp\": 0.07692307692307693, \"A_nodul\": 0.0, \"CoscinSpp\": 0.06837606837606838, \"CyclotSpp\": 0.029914529914529916, \"Rop_tess\": 0.2264957264957265, \"StephanSpp\": 0.0}, {\"Depth\": 6.9, \"Age\": 7.38, \"A_curv\": 0.04, \"A_octon\": 0.025, \"ActinSpp\": 0.08, \"A_nodul\": 0.0, \"CoscinSpp\": 0.145, \"CyclotSpp\": 0.02, \"Rop_tess\": 0.19, \"StephanSpp\": 0.005}, {\"Depth\": 6.95, \"Age\": 7.43, \"A_curv\": 0.05, \"A_octon\": 0.025, \"ActinSpp\": 0.135, \"A_nodul\": 0.005, \"CoscinSpp\": 0.16, \"CyclotSpp\": 0.04, \"Rop_tess\": 0.09, \"StephanSpp\": 0.0}, {\"Depth\": 7.0, \"Age\": 7.47, \"A_curv\": 0.014634146341463415, \"A_octon\": 0.01951219512195122, \"ActinSpp\": 0.08780487804878048, \"A_nodul\": 0.004878048780487805, \"CoscinSpp\": 0.1073170731707317, \"CyclotSpp\": 0.01951219512195122, \"Rop_tess\": 0.22926829268292684, \"StephanSpp\": 0.004878048780487805}, {\"Depth\": 7.05, \"Age\": 7.51, \"A_curv\": 0.028455284552845527, \"A_octon\": 0.016260162601626018, \"ActinSpp\": 0.17073170731707318, \"A_nodul\": 0.0, \"CoscinSpp\": 0.08943089430894309, \"CyclotSpp\": 0.06097560975609756, \"Rop_tess\": 0.04065040650406504, \"StephanSpp\": 0.0}, {\"Depth\": 7.1, \"Age\": 7.56, \"A_curv\": 0.029166666666666667, \"A_octon\": 0.0125, \"ActinSpp\": 0.14166666666666666, \"A_nodul\": 0.0, \"CoscinSpp\": 0.1, \"CyclotSpp\": 0.058333333333333334, \"Rop_tess\": 0.075, \"StephanSpp\": 0.0}, {\"Depth\": 7.15, \"Age\": 7.6, \"A_curv\": 0.04975124378109453, \"A_octon\": 0.01990049751243781, \"ActinSpp\": 0.08955223880597014, \"A_nodul\": 0.0, \"CoscinSpp\": 0.0845771144278607, \"CyclotSpp\": 0.03482587064676617, \"Rop_tess\": 0.18407960199004975, \"StephanSpp\": 0.024875621890547265}, {\"Depth\": 7.2, \"Age\": 7.65, \"A_curv\": 0.01937984496124031, \"A_octon\": 0.027131782945736434, \"ActinSpp\": 0.12403100775193798, \"A_nodul\": 0.0, \"CoscinSpp\": 0.08139534883720931, \"CyclotSpp\": 0.05426356589147287, \"Rop_tess\": 0.08139534883720931, \"StephanSpp\": 0.0}, {\"Depth\": 7.25, \"Age\": 7.69, \"A_curv\": 0.015, \"A_octon\": 0.025, \"ActinSpp\": 0.215, \"A_nodul\": 0.0, \"CoscinSpp\": 0.12, \"CyclotSpp\": 0.055, \"Rop_tess\": 0.075, \"StephanSpp\": 0.0}, {\"Depth\": 7.3, \"Age\": 7.73, \"A_curv\": 0.0075, \"A_octon\": 0.005, \"ActinSpp\": 0.03, \"A_nodul\": 0.0, \"CoscinSpp\": 0.02, \"CyclotSpp\": 0.01, \"Rop_tess\": 0.1775, \"StephanSpp\": 0.0}, {\"Depth\": 7.35, \"Age\": 7.78, \"A_curv\": 0.013392857142857142, \"A_octon\": 0.017857142857142856, \"ActinSpp\": 0.14732142857142858, \"A_nodul\": 0.0, \"CoscinSpp\": 0.12946428571428573, \"CyclotSpp\": 0.07142857142857142, \"Rop_tess\": 0.06696428571428571, \"StephanSpp\": 0.004464285714285714}, {\"Depth\": 7.4, \"Age\": 7.82, \"A_curv\": 0.04, \"A_octon\": 0.015, \"ActinSpp\": 0.165, \"A_nodul\": 0.005, \"CoscinSpp\": 0.115, \"CyclotSpp\": 0.08, \"Rop_tess\": 0.085, \"StephanSpp\": 0.005}, {\"Depth\": 7.45, \"Age\": 7.87, \"A_curv\": 0.0049504950495049506, \"A_octon\": 0.034653465346534656, \"ActinSpp\": 0.0891089108910891, \"A_nodul\": 0.0, \"CoscinSpp\": 0.04950495049504951, \"CyclotSpp\": 0.06930693069306931, \"Rop_tess\": 0.24752475247524752, \"StephanSpp\": 0.0}, {\"Depth\": 7.5, \"Age\": 7.91, \"A_curv\": 0.019801980198019802, \"A_octon\": 0.009900990099009901, \"ActinSpp\": 0.14356435643564355, \"A_nodul\": 0.009900990099009901, \"CoscinSpp\": 0.08415841584158416, \"CyclotSpp\": 0.04455445544554455, \"Rop_tess\": 0.1782178217821782, \"StephanSpp\": 0.0}, {\"Depth\": 7.55, \"Age\": 7.95, \"A_curv\": 0.023696682464454975, \"A_octon\": 0.05687203791469194, \"ActinSpp\": 0.14691943127962084, \"A_nodul\": 0.0, \"CoscinSpp\": 0.12796208530805686, \"CyclotSpp\": 0.07582938388625593, \"Rop_tess\": 0.04265402843601896, \"StephanSpp\": 0.0}, {\"Depth\": 7.6, \"Age\": 8.0, \"A_curv\": 0.024630541871921183, \"A_octon\": 0.054187192118226604, \"ActinSpp\": 0.14285714285714285, \"A_nodul\": 0.0, \"CoscinSpp\": 0.06896551724137931, \"CyclotSpp\": 0.09852216748768473, \"Rop_tess\": 0.10344827586206896, \"StephanSpp\": 0.0}, {\"Depth\": 7.65, \"Age\": 8.04, \"A_curv\": 0.019704433497536946, \"A_octon\": 0.0049261083743842365, \"ActinSpp\": 0.04926108374384237, \"A_nodul\": 0.0, \"CoscinSpp\": 0.009852216748768473, \"CyclotSpp\": 0.04433497536945813, \"Rop_tess\": 0.35467980295566504, \"StephanSpp\": 0.0}, {\"Depth\": 7.7, \"Age\": 8.08, \"A_curv\": 0.034482758620689655, \"A_octon\": 0.06403940886699508, \"ActinSpp\": 0.12807881773399016, \"A_nodul\": 0.0, \"CoscinSpp\": 0.07881773399014778, \"CyclotSpp\": 0.10837438423645321, \"Rop_tess\": 0.06403940886699508, \"StephanSpp\": 0.014778325123152709}, {\"Depth\": 7.75, \"Age\": 8.13, \"A_curv\": 0.021367521367521368, \"A_octon\": 0.02564102564102564, \"ActinSpp\": 0.1452991452991453, \"A_nodul\": 0.004273504273504274, \"CoscinSpp\": 0.08547008547008547, \"CyclotSpp\": 0.1282051282051282, \"Rop_tess\": 0.017094017094017096, \"StephanSpp\": 0.0}, {\"Depth\": 7.8, \"Age\": 8.17, \"A_curv\": 0.024390243902439025, \"A_octon\": 0.024390243902439025, \"ActinSpp\": 0.08292682926829269, \"A_nodul\": 0.004878048780487805, \"CoscinSpp\": 0.07317073170731707, \"CyclotSpp\": 0.12195121951219512, \"Rop_tess\": 0.15121951219512195, \"StephanSpp\": 0.0}, {\"Depth\": 8.3, \"Age\": 8.61, \"A_curv\": 0.019801980198019802, \"A_octon\": 0.009900990099009901, \"ActinSpp\": 0.13366336633663367, \"A_nodul\": 0.0, \"CoscinSpp\": 0.0891089108910891, \"CyclotSpp\": 0.0049504950495049506, \"Rop_tess\": 0.2376237623762376, \"StephanSpp\": 0.0}, {\"Depth\": 8.35, \"Age\": 8.65, \"A_curv\": 0.047619047619047616, \"A_octon\": 0.009523809523809525, \"ActinSpp\": 0.14285714285714285, \"A_nodul\": 0.0, \"CoscinSpp\": 0.19523809523809524, \"CyclotSpp\": 0.047619047619047616, \"Rop_tess\": 0.02857142857142857, \"StephanSpp\": 0.0}, {\"Depth\": 8.4, \"Age\": 8.7, \"A_curv\": 0.014634146341463415, \"A_octon\": 0.024390243902439025, \"ActinSpp\": 0.1902439024390244, \"A_nodul\": 0.0, \"CoscinSpp\": 0.12682926829268293, \"CyclotSpp\": 0.014634146341463415, \"Rop_tess\": 0.11219512195121951, \"StephanSpp\": 0.0}, {\"Depth\": 8.45, \"Age\": 8.74, \"A_curv\": 0.024875621890547265, \"A_octon\": 0.18407960199004975, \"ActinSpp\": 0.11442786069651742, \"A_nodul\": 0.0, \"CoscinSpp\": 0.12935323383084577, \"CyclotSpp\": 0.004975124378109453, \"Rop_tess\": 0.029850746268656716, \"StephanSpp\": 0.0}, {\"Depth\": 8.5, \"Age\": 8.79, \"A_curv\": 0.025, \"A_octon\": 0.01, \"ActinSpp\": 0.135, \"A_nodul\": 0.0, \"CoscinSpp\": 0.11, \"CyclotSpp\": 0.055, \"Rop_tess\": 0.165, \"StephanSpp\": 0.005}, {\"Depth\": 8.55, \"Age\": 8.83, \"A_curv\": 0.00980392156862745, \"A_octon\": 0.00980392156862745, \"ActinSpp\": 0.24019607843137256, \"A_nodul\": 0.0, \"CoscinSpp\": 0.06862745098039216, \"CyclotSpp\": 0.03431372549019608, \"Rop_tess\": 0.12745098039215685, \"StephanSpp\": 0.0}, {\"Depth\": 8.6, \"Age\": 8.87, \"A_curv\": 0.013636363636363636, \"A_octon\": 0.01818181818181818, \"ActinSpp\": 0.22272727272727272, \"A_nodul\": 0.0, \"CoscinSpp\": 0.12727272727272726, \"CyclotSpp\": 0.03636363636363636, \"Rop_tess\": 0.03636363636363636, \"StephanSpp\": 0.0}, {\"Depth\": 8.65, \"Age\": 8.92, \"A_curv\": 0.0048543689320388345, \"A_octon\": 0.0048543689320388345, \"ActinSpp\": 0.2087378640776699, \"A_nodul\": 0.0, \"CoscinSpp\": 0.043689320388349516, \"CyclotSpp\": 0.11165048543689321, \"Rop_tess\": 0.11165048543689321, \"StephanSpp\": 0.0}, {\"Depth\": 8.7, \"Age\": 8.96, \"A_curv\": 0.03482587064676617, \"A_octon\": 0.014925373134328358, \"ActinSpp\": 0.24378109452736318, \"A_nodul\": 0.0, \"CoscinSpp\": 0.12437810945273632, \"CyclotSpp\": 0.04477611940298507, \"Rop_tess\": 0.024875621890547265, \"StephanSpp\": 0.0}, {\"Depth\": 9.5, \"Age\": 10.1, \"A_curv\": 0.04, \"A_octon\": 0.015, \"ActinSpp\": 0.22, \"A_nodul\": 0.0, \"CoscinSpp\": 0.06, \"CyclotSpp\": 0.05, \"Rop_tess\": 0.125, \"StephanSpp\": 0.0}, {\"Depth\": 9.55, \"Age\": 10.18, \"A_curv\": 0.025, \"A_octon\": 0.005, \"ActinSpp\": 0.165, \"A_nodul\": 0.0, \"CoscinSpp\": 0.06, \"CyclotSpp\": 0.025, \"Rop_tess\": 0.225, \"StephanSpp\": 0.0}, {\"Depth\": 9.6, \"Age\": 10.27, \"A_curv\": 0.04477611940298507, \"A_octon\": 0.014925373134328358, \"ActinSpp\": 0.263681592039801, \"A_nodul\": 0.004975124378109453, \"CoscinSpp\": 0.08955223880597014, \"CyclotSpp\": 0.004975124378109453, \"Rop_tess\": 0.04975124378109453, \"StephanSpp\": 0.01990049751243781}, {\"Depth\": 9.65, \"Age\": 10.35, \"A_curv\": 0.024752475247524754, \"A_octon\": 0.0297029702970297, \"ActinSpp\": 0.15841584158415842, \"A_nodul\": 0.0049504950495049506, \"CoscinSpp\": 0.09900990099009901, \"CyclotSpp\": 0.04455445544554455, \"Rop_tess\": 0.12871287128712872, \"StephanSpp\": 0.0}, {\"Depth\": 9.7, \"Age\": 10.43, \"A_curv\": 0.054455445544554455, \"A_octon\": 0.009900990099009901, \"ActinSpp\": 0.22772277227722773, \"A_nodul\": 0.0, \"CoscinSpp\": 0.13861386138613863, \"CyclotSpp\": 0.0297029702970297, \"Rop_tess\": 0.024752475247524754, \"StephanSpp\": 0.009900990099009901}, {\"Depth\": 9.75, \"Age\": 10.52, \"A_curv\": 0.06403940886699508, \"A_octon\": 0.04926108374384237, \"ActinSpp\": 0.14285714285714285, \"A_nodul\": 0.0, \"CoscinSpp\": 0.09852216748768473, \"CyclotSpp\": 0.06896551724137931, \"Rop_tess\": 0.06403940886699508, \"StephanSpp\": 0.0}, {\"Depth\": 9.8, \"Age\": 10.6, \"A_curv\": 0.075, \"A_octon\": 0.01, \"ActinSpp\": 0.2, \"A_nodul\": 0.005, \"CoscinSpp\": 0.125, \"CyclotSpp\": 0.015, \"Rop_tess\": 0.08, \"StephanSpp\": 0.0}, {\"Depth\": 9.85, \"Age\": 10.68, \"A_curv\": 0.06, \"A_octon\": 0.01, \"ActinSpp\": 0.25, \"A_nodul\": 0.06, \"CoscinSpp\": 0.105, \"CyclotSpp\": 0.005, \"Rop_tess\": 0.02, \"StephanSpp\": 0.0}, {\"Depth\": 9.9, \"Age\": 10.77, \"A_curv\": 0.029850746268656716, \"A_octon\": 0.004975124378109453, \"ActinSpp\": 0.24875621890547264, \"A_nodul\": 0.07960199004975124, \"CoscinSpp\": 0.06965174129353234, \"CyclotSpp\": 0.029850746268656716, \"Rop_tess\": 0.029850746268656716, \"StephanSpp\": 0.0}, {\"Depth\": 9.95, \"Age\": 10.85, \"A_curv\": 0.034653465346534656, \"A_octon\": 0.009900990099009901, \"ActinSpp\": 0.22772277227722773, \"A_nodul\": 0.04950495049504951, \"CoscinSpp\": 0.13366336633663367, \"CyclotSpp\": 0.019801980198019802, \"Rop_tess\": 0.0049504950495049506, \"StephanSpp\": 0.0049504950495049506}, {\"Depth\": 10.0, \"Age\": 10.93, \"A_curv\": 0.01990049751243781, \"A_octon\": 0.014925373134328358, \"ActinSpp\": 0.19900497512437812, \"A_nodul\": 0.11442786069651742, \"CoscinSpp\": 0.13432835820895522, \"CyclotSpp\": 0.0, \"Rop_tess\": 0.009950248756218905, \"StephanSpp\": 0.0}, {\"Depth\": 10.05, \"Age\": 11.02, \"A_curv\": 0.04433497536945813, \"A_octon\": 0.0049261083743842365, \"ActinSpp\": 0.2561576354679803, \"A_nodul\": 0.08866995073891626, \"CoscinSpp\": 0.06403940886699508, \"CyclotSpp\": 0.024630541871921183, \"Rop_tess\": 0.0049261083743842365, \"StephanSpp\": 0.0}, {\"Depth\": 10.1, \"Age\": 11.1, \"A_curv\": 0.034482758620689655, \"A_octon\": 0.0049261083743842365, \"ActinSpp\": 0.16748768472906403, \"A_nodul\": 0.054187192118226604, \"CoscinSpp\": 0.1625615763546798, \"CyclotSpp\": 0.024630541871921183, \"Rop_tess\": 0.029556650246305417, \"StephanSpp\": 0.0049261083743842365}, {\"Depth\": 10.15, \"Age\": 11.18, \"A_curv\": 0.054455445544554455, \"A_octon\": 0.0, \"ActinSpp\": 0.15346534653465346, \"A_nodul\": 0.09900990099009901, \"CoscinSpp\": 0.09900990099009901, \"CyclotSpp\": 0.01485148514851485, \"Rop_tess\": 0.06435643564356436, \"StephanSpp\": 0.0049504950495049506}, {\"Depth\": 10.2, \"Age\": 11.27, \"A_curv\": 0.0196078431372549, \"A_octon\": 0.0, \"ActinSpp\": 0.15196078431372548, \"A_nodul\": 0.058823529411764705, \"CoscinSpp\": 0.14215686274509803, \"CyclotSpp\": 0.04411764705882353, \"Rop_tess\": 0.07352941176470588, \"StephanSpp\": 0.0}, {\"Depth\": 10.25, \"Age\": 11.35, \"A_curv\": 0.03902439024390244, \"A_octon\": 0.00975609756097561, \"ActinSpp\": 0.17560975609756097, \"A_nodul\": 0.08780487804878048, \"CoscinSpp\": 0.08780487804878048, \"CyclotSpp\": 0.05853658536585366, \"Rop_tess\": 0.02926829268292683, \"StephanSpp\": 0.0}, {\"Depth\": 10.3, \"Age\": 11.43, \"A_curv\": 0.024509803921568627, \"A_octon\": 0.004901960784313725, \"ActinSpp\": 0.13725490196078433, \"A_nodul\": 0.049019607843137254, \"CoscinSpp\": 0.12745098039215685, \"CyclotSpp\": 0.024509803921568627, \"Rop_tess\": 0.12254901960784313, \"StephanSpp\": 0.0}, {\"Depth\": 10.35, \"Age\": 11.52, \"A_curv\": 0.01990049751243781, \"A_octon\": 0.01990049751243781, \"ActinSpp\": 0.19900497512437812, \"A_nodul\": 0.04975124378109453, \"CoscinSpp\": 0.12935323383084577, \"CyclotSpp\": 0.03482587064676617, \"Rop_tess\": 0.03980099502487562, \"StephanSpp\": 0.0}, {\"Depth\": 10.4, \"Age\": 11.6, \"A_curv\": 0.034482758620689655, \"A_octon\": 0.009852216748768473, \"ActinSpp\": 0.22660098522167488, \"A_nodul\": 0.024630541871921183, \"CoscinSpp\": 0.12807881773399016, \"CyclotSpp\": 0.029556650246305417, \"Rop_tess\": 0.034482758620689655, \"StephanSpp\": 0.0}, {\"Depth\": 10.45, \"Age\": 11.68, \"A_curv\": 0.009950248756218905, \"A_octon\": 0.024875621890547265, \"ActinSpp\": 0.18407960199004975, \"A_nodul\": 0.11442786069651742, \"CoscinSpp\": 0.09950248756218906, \"CyclotSpp\": 0.04477611940298507, \"Rop_tess\": 0.014925373134328358, \"StephanSpp\": 0.0}, {\"Depth\": 10.5, \"Age\": 11.77, \"A_curv\": 0.0, \"A_octon\": 0.0048543689320388345, \"ActinSpp\": 0.0970873786407767, \"A_nodul\": 0.13592233009708737, \"CoscinSpp\": 0.1407766990291262, \"CyclotSpp\": 0.0825242718446602, \"Rop_tess\": 0.024271844660194174, \"StephanSpp\": 0.0}, {\"Depth\": 10.55, \"Age\": 11.85, \"A_curv\": 0.0, \"A_octon\": 0.004807692307692308, \"ActinSpp\": 0.038461538461538464, \"A_nodul\": 0.28846153846153844, \"CoscinSpp\": 0.10576923076923077, \"CyclotSpp\": 0.038461538461538464, \"Rop_tess\": 0.004807692307692308, \"StephanSpp\": 0.0}, {\"Depth\": 10.6, \"Age\": 11.93, \"A_curv\": 0.009615384615384616, \"A_octon\": 0.0, \"ActinSpp\": 0.09134615384615384, \"A_nodul\": 0.1971153846153846, \"CoscinSpp\": 0.1201923076923077, \"CyclotSpp\": 0.052884615384615384, \"Rop_tess\": 0.0, \"StephanSpp\": 0.0}, {\"Depth\": 10.65, \"Age\": 12.02, \"A_curv\": 0.0049504950495049506, \"A_octon\": 0.0049504950495049506, \"ActinSpp\": 0.06930693069306931, \"A_nodul\": 0.30198019801980197, \"CoscinSpp\": 0.054455445544554455, \"CyclotSpp\": 0.054455445544554455, \"Rop_tess\": 0.0, \"StephanSpp\": 0.0}, {\"Depth\": 10.7, \"Age\": 12.1, \"A_curv\": 0.0049261083743842365, \"A_octon\": 0.009852216748768473, \"ActinSpp\": 0.04926108374384237, \"A_nodul\": 0.3054187192118227, \"CoscinSpp\": 0.06896551724137931, \"CyclotSpp\": 0.04926108374384237, \"Rop_tess\": 0.0, \"StephanSpp\": 0.0}, {\"Depth\": 10.75, \"Age\": 12.18, \"A_curv\": 0.019704433497536946, \"A_octon\": 0.0049261083743842365, \"ActinSpp\": 0.034482758620689655, \"A_nodul\": 0.31527093596059114, \"CoscinSpp\": 0.06403940886699508, \"CyclotSpp\": 0.054187192118226604, \"Rop_tess\": 0.0, \"StephanSpp\": 0.0}, {\"Depth\": 10.8, \"Age\": 12.27, \"A_curv\": 0.009900990099009901, \"A_octon\": 0.0049504950495049506, \"ActinSpp\": 0.06930693069306931, \"A_nodul\": 0.26732673267326734, \"CoscinSpp\": 0.08415841584158416, \"CyclotSpp\": 0.054455445544554455, \"Rop_tess\": 0.0049504950495049506, \"StephanSpp\": 0.0}, {\"Depth\": 10.85, \"Age\": 12.35, \"A_curv\": 0.00975609756097561, \"A_octon\": 0.004878048780487805, \"ActinSpp\": 0.05853658536585366, \"A_nodul\": 0.2926829268292683, \"CoscinSpp\": 0.07804878048780488, \"CyclotSpp\": 0.03902439024390244, \"Rop_tess\": 0.0, \"StephanSpp\": 0.0}, {\"Depth\": 10.9, \"Age\": 12.43, \"A_curv\": 0.004901960784313725, \"A_octon\": 0.00980392156862745, \"ActinSpp\": 0.06372549019607843, \"A_nodul\": 0.25980392156862747, \"CoscinSpp\": 0.09313725490196079, \"CyclotSpp\": 0.05392156862745098, \"Rop_tess\": 0.0, \"StephanSpp\": 0.0}, {\"Depth\": 10.95, \"Age\": 12.52, \"A_curv\": 0.009852216748768473, \"A_octon\": 0.009852216748768473, \"ActinSpp\": 0.06896551724137931, \"A_nodul\": 0.2512315270935961, \"CoscinSpp\": 0.08866995073891626, \"CyclotSpp\": 0.059113300492610835, \"Rop_tess\": 0.0049261083743842365, \"StephanSpp\": 0.0}, {\"Depth\": 11.0, \"Age\": 12.64, \"A_curv\": 0.0049504950495049506, \"A_octon\": 0.009900990099009901, \"ActinSpp\": 0.09405940594059406, \"A_nodul\": 0.21287128712871287, \"CoscinSpp\": 0.10891089108910891, \"CyclotSpp\": 0.0594059405940594, \"Rop_tess\": 0.0, \"StephanSpp\": 0.0049504950495049506}, {\"Depth\": 11.05, \"Age\": 12.73, \"A_curv\": 0.0049504950495049506, \"A_octon\": 0.0049504950495049506, \"ActinSpp\": 0.06435643564356436, \"A_nodul\": 0.25742574257425743, \"CoscinSpp\": 0.09405940594059406, \"CyclotSpp\": 0.054455445544554455, \"Rop_tess\": 0.0049504950495049506, \"StephanSpp\": 0.0}, {\"Depth\": 11.35, \"Age\": 13.08, \"A_curv\": 0.023923444976076555, \"A_octon\": 0.03827751196172249, \"ActinSpp\": 0.17703349282296652, \"A_nodul\": 0.1339712918660287, \"CoscinSpp\": 0.06698564593301436, \"CyclotSpp\": 0.023923444976076555, \"Rop_tess\": 0.0, \"StephanSpp\": 0.004784688995215311}, {\"Depth\": 11.4, \"Age\": 13.12, \"A_curv\": 0.0196078431372549, \"A_octon\": 0.0392156862745098, \"ActinSpp\": 0.10294117647058823, \"A_nodul\": 0.25980392156862747, \"CoscinSpp\": 0.05392156862745098, \"CyclotSpp\": 0.014705882352941176, \"Rop_tess\": 0.0, \"StephanSpp\": 0.0}, {\"Depth\": 11.45, \"Age\": 13.17, \"A_curv\": 0.009708737864077669, \"A_octon\": 0.038834951456310676, \"ActinSpp\": 0.1407766990291262, \"A_nodul\": 0.18446601941747573, \"CoscinSpp\": 0.10194174757281553, \"CyclotSpp\": 0.009708737864077669, \"Rop_tess\": 0.0, \"StephanSpp\": 0.0}, {\"Depth\": 11.5, \"Age\": 13.21, \"A_curv\": 0.054187192118226604, \"A_octon\": 0.019704433497536946, \"ActinSpp\": 0.14285714285714285, \"A_nodul\": 0.12807881773399016, \"CoscinSpp\": 0.11822660098522167, \"CyclotSpp\": 0.024630541871921183, \"Rop_tess\": 0.0, \"StephanSpp\": 0.0}, {\"Depth\": 11.55, \"Age\": 13.26, \"A_curv\": 0.00980392156862745, \"A_octon\": 0.0, \"ActinSpp\": 0.2107843137254902, \"A_nodul\": 0.18627450980392157, \"CoscinSpp\": 0.06862745098039216, \"CyclotSpp\": 0.00980392156862745, \"Rop_tess\": 0.0, \"StephanSpp\": 0.0}, {\"Depth\": 11.6, \"Age\": 13.3, \"A_curv\": 0.05263157894736842, \"A_octon\": 0.019138755980861243, \"ActinSpp\": 0.15311004784688995, \"A_nodul\": 0.11961722488038277, \"CoscinSpp\": 0.07177033492822966, \"CyclotSpp\": 0.05741626794258373, \"Rop_tess\": 0.0, \"StephanSpp\": 0.004784688995215311}, {\"Depth\": 11.65, \"Age\": 13.35, \"A_curv\": 0.02912621359223301, \"A_octon\": 0.03398058252427184, \"ActinSpp\": 0.1407766990291262, \"A_nodul\": 0.1262135922330097, \"CoscinSpp\": 0.1262135922330097, \"CyclotSpp\": 0.024271844660194174, \"Rop_tess\": 0.0, \"StephanSpp\": 0.0}, {\"Depth\": 11.7, \"Age\": 13.39, \"A_curv\": 0.029411764705882353, \"A_octon\": 0.00980392156862745, \"ActinSpp\": 0.20588235294117646, \"A_nodul\": 0.13725490196078433, \"CoscinSpp\": 0.08823529411764706, \"CyclotSpp\": 0.014705882352941176, \"Rop_tess\": 0.0, \"StephanSpp\": 0.0}, {\"Depth\": 11.75, \"Age\": 13.44, \"A_curv\": 0.10396039603960396, \"A_octon\": 0.0049504950495049506, \"ActinSpp\": 0.16336633663366337, \"A_nodul\": 0.0297029702970297, \"CoscinSpp\": 0.07425742574257425, \"CyclotSpp\": 0.10891089108910891, \"Rop_tess\": 0.0049504950495049506, \"StephanSpp\": 0.0}, {\"Depth\": 11.8, \"Age\": 13.48, \"A_curv\": 0.014705882352941176, \"A_octon\": 0.0196078431372549, \"ActinSpp\": 0.16666666666666666, \"A_nodul\": 0.14215686274509803, \"CoscinSpp\": 0.09313725490196079, \"CyclotSpp\": 0.04411764705882353, \"Rop_tess\": 0.00980392156862745, \"StephanSpp\": 0.0}, {\"Depth\": 11.85, \"Age\": 13.53, \"A_curv\": 0.03940886699507389, \"A_octon\": 0.009852216748768473, \"ActinSpp\": 0.18719211822660098, \"A_nodul\": 0.13793103448275862, \"CoscinSpp\": 0.07389162561576355, \"CyclotSpp\": 0.03940886699507389, \"Rop_tess\": 0.0049261083743842365, \"StephanSpp\": 0.0}, {\"Depth\": 11.9, \"Age\": 13.57, \"A_curv\": 0.00980392156862745, \"A_octon\": 0.014705882352941176, \"ActinSpp\": 0.17647058823529413, \"A_nodul\": 0.1568627450980392, \"CoscinSpp\": 0.07352941176470588, \"CyclotSpp\": 0.049019607843137254, \"Rop_tess\": 0.0, \"StephanSpp\": 0.004901960784313725}, {\"Depth\": 11.95, \"Age\": 13.61, \"A_curv\": 0.11386138613861387, \"A_octon\": 0.01485148514851485, \"ActinSpp\": 0.19306930693069307, \"A_nodul\": 0.04950495049504951, \"CoscinSpp\": 0.08415841584158416, \"CyclotSpp\": 0.0297029702970297, \"Rop_tess\": 0.0, \"StephanSpp\": 0.0}, {\"Depth\": 12.0, \"Age\": 13.66, \"A_curv\": 0.05365853658536585, \"A_octon\": 0.02926829268292683, \"ActinSpp\": 0.2097560975609756, \"A_nodul\": 0.09268292682926829, \"CoscinSpp\": 0.06341463414634146, \"CyclotSpp\": 0.03902439024390244, \"Rop_tess\": 0.0, \"StephanSpp\": 0.0}, {\"Depth\": 12.05, \"Age\": 13.7, \"A_curv\": 0.014354066985645933, \"A_octon\": 0.009569377990430622, \"ActinSpp\": 0.04784688995215311, \"A_nodul\": 0.24401913875598086, \"CoscinSpp\": 0.0430622009569378, \"CyclotSpp\": 0.04784688995215311, \"Rop_tess\": 0.07655502392344497, \"StephanSpp\": 0.0}, {\"Depth\": 12.1, \"Age\": 13.75, \"A_curv\": 0.04926108374384237, \"A_octon\": 0.014778325123152709, \"ActinSpp\": 0.1477832512315271, \"A_nodul\": 0.1477832512315271, \"CoscinSpp\": 0.10344827586206896, \"CyclotSpp\": 0.029556650246305417, \"Rop_tess\": 0.0, \"StephanSpp\": 0.0}, {\"Depth\": 12.15, \"Age\": 13.79, \"A_curv\": 0.019230769230769232, \"A_octon\": 0.038461538461538464, \"ActinSpp\": 0.12980769230769232, \"A_nodul\": 0.18269230769230768, \"CoscinSpp\": 0.052884615384615384, \"CyclotSpp\": 0.057692307692307696, \"Rop_tess\": 0.0, \"StephanSpp\": 0.0}, {\"Depth\": 11.1, \"Age\": 12.82, \"A_curv\": 0.0, \"A_octon\": 0.004901960784313725, \"ActinSpp\": 0.06862745098039216, \"A_nodul\": 0.22549019607843138, \"CoscinSpp\": 0.1323529411764706, \"CyclotSpp\": 0.049019607843137254, \"Rop_tess\": 0.0, \"StephanSpp\": 0.0}, {\"Depth\": 11.15, \"Age\": 12.9, \"A_curv\": 0.0, \"A_octon\": 0.009900990099009901, \"ActinSpp\": 0.0891089108910891, \"A_nodul\": 0.23267326732673269, \"CoscinSpp\": 0.11386138613861387, \"CyclotSpp\": 0.04455445544554455, \"Rop_tess\": 0.0049504950495049506, \"StephanSpp\": 0.0}, {\"Depth\": 11.2, \"Age\": 12.94, \"A_curv\": 0.004901960784313725, \"A_octon\": 0.00980392156862745, \"ActinSpp\": 0.09803921568627451, \"A_nodul\": 0.24509803921568626, \"CoscinSpp\": 0.09803921568627451, \"CyclotSpp\": 0.029411764705882353, \"Rop_tess\": 0.0, \"StephanSpp\": 0.0}, {\"Depth\": 11.25, \"Age\": 12.99, \"A_curv\": 0.00980392156862745, \"A_octon\": 0.0196078431372549, \"ActinSpp\": 0.19117647058823528, \"A_nodul\": 0.08823529411764706, \"CoscinSpp\": 0.16176470588235295, \"CyclotSpp\": 0.014705882352941176, \"Rop_tess\": 0.0, \"StephanSpp\": 0.004901960784313725}, {\"Depth\": 11.3, \"Age\": 13.03, \"A_curv\": 0.00980392156862745, \"A_octon\": 0.0392156862745098, \"ActinSpp\": 0.06372549019607843, \"A_nodul\": 0.24509803921568626, \"CoscinSpp\": 0.07352941176470588, \"CyclotSpp\": 0.0392156862745098, \"Rop_tess\": 0.014705882352941176, \"StephanSpp\": 0.0}, {\"Depth\": 12.2, \"Age\": 13.84, \"A_curv\": 0.054187192118226604, \"A_octon\": 0.014778325123152709, \"ActinSpp\": 0.2660098522167488, \"A_nodul\": 0.06896551724137931, \"CoscinSpp\": 0.04926108374384237, \"CyclotSpp\": 0.029556650246305417, \"Rop_tess\": 0.0, \"StephanSpp\": 0.0049261083743842365}, {\"Depth\": 12.25, \"Age\": 13.88, \"A_curv\": 0.04411764705882353, \"A_octon\": 0.004901960784313725, \"ActinSpp\": 0.1568627450980392, \"A_nodul\": 0.09803921568627451, \"CoscinSpp\": 0.12745098039215685, \"CyclotSpp\": 0.049019607843137254, \"Rop_tess\": 0.004901960784313725, \"StephanSpp\": 0.0}, {\"Depth\": 12.3, \"Age\": 13.93, \"A_curv\": 0.06435643564356436, \"A_octon\": 0.009900990099009901, \"ActinSpp\": 0.12871287128712872, \"A_nodul\": 0.15346534653465346, \"CoscinSpp\": 0.0891089108910891, \"CyclotSpp\": 0.039603960396039604, \"Rop_tess\": 0.0, \"StephanSpp\": 0.0049504950495049506}, {\"Depth\": 12.35, \"Age\": 13.97, \"A_curv\": 0.00980392156862745, \"A_octon\": 0.004901960784313725, \"ActinSpp\": 0.12745098039215685, \"A_nodul\": 0.21568627450980393, \"CoscinSpp\": 0.10294117647058823, \"CyclotSpp\": 0.029411764705882353, \"Rop_tess\": 0.0, \"StephanSpp\": 0.0}, {\"Depth\": 12.4, \"Age\": 14.02, \"A_curv\": 0.03940886699507389, \"A_octon\": 0.009852216748768473, \"ActinSpp\": 0.22167487684729065, \"A_nodul\": 0.11330049261083744, \"CoscinSpp\": 0.06896551724137931, \"CyclotSpp\": 0.03940886699507389, \"Rop_tess\": 0.0, \"StephanSpp\": 0.0}, {\"Depth\": 12.45, \"Age\": 14.06, \"A_curv\": 0.05314009661835749, \"A_octon\": 0.01932367149758454, \"ActinSpp\": 0.14009661835748793, \"A_nodul\": 0.1111111111111111, \"CoscinSpp\": 0.13043478260869565, \"CyclotSpp\": 0.033816425120772944, \"Rop_tess\": 0.0, \"StephanSpp\": 0.0}, {\"Depth\": 12.5, \"Age\": 14.11, \"A_curv\": 0.024390243902439025, \"A_octon\": 0.004878048780487805, \"ActinSpp\": 0.17073170731707318, \"A_nodul\": 0.14146341463414633, \"CoscinSpp\": 0.06829268292682927, \"CyclotSpp\": 0.06341463414634146, \"Rop_tess\": 0.014634146341463415, \"StephanSpp\": 0.0}, {\"Depth\": 12.55, \"Age\": 14.15, \"A_curv\": 0.028985507246376812, \"A_octon\": 0.00966183574879227, \"ActinSpp\": 0.14009661835748793, \"A_nodul\": 0.15942028985507245, \"CoscinSpp\": 0.08695652173913043, \"CyclotSpp\": 0.057971014492753624, \"Rop_tess\": 0.0, \"StephanSpp\": 0.0}, {\"Depth\": 12.6, \"Age\": 14.19, \"A_curv\": 0.03431372549019608, \"A_octon\": 0.014705882352941176, \"ActinSpp\": 0.1568627450980392, \"A_nodul\": 0.16666666666666666, \"CoscinSpp\": 0.09313725490196079, \"CyclotSpp\": 0.0196078431372549, \"Rop_tess\": 0.0, \"StephanSpp\": 0.0}, {\"Depth\": 12.65, \"Age\": 14.24, \"A_curv\": 0.043689320388349516, \"A_octon\": 0.019417475728155338, \"ActinSpp\": 0.16019417475728157, \"A_nodul\": 0.15048543689320387, \"CoscinSpp\": 0.07766990291262135, \"CyclotSpp\": 0.02912621359223301, \"Rop_tess\": 0.0, \"StephanSpp\": 0.0048543689320388345}, {\"Depth\": 12.7, \"Age\": 14.28, \"A_curv\": 0.009708737864077669, \"A_octon\": 0.0048543689320388345, \"ActinSpp\": 0.06796116504854369, \"A_nodul\": 0.3058252427184466, \"CoscinSpp\": 0.07766990291262135, \"CyclotSpp\": 0.009708737864077669, \"Rop_tess\": 0.0, \"StephanSpp\": 0.0}, {\"Depth\": 12.75, \"Age\": 14.33, \"A_curv\": 0.02912621359223301, \"A_octon\": 0.02912621359223301, \"ActinSpp\": 0.1796116504854369, \"A_nodul\": 0.16019417475728157, \"CoscinSpp\": 0.05339805825242718, \"CyclotSpp\": 0.024271844660194174, \"Rop_tess\": 0.0, \"StephanSpp\": 0.0048543689320388345}, {\"Depth\": 12.8, \"Age\": 14.37, \"A_curv\": 0.01951219512195122, \"A_octon\": 0.024390243902439025, \"ActinSpp\": 0.17073170731707318, \"A_nodul\": 0.18048780487804877, \"CoscinSpp\": 0.05853658536585366, \"CyclotSpp\": 0.03414634146341464, \"Rop_tess\": 0.0, \"StephanSpp\": 0.0}, {\"Depth\": 12.85, \"Age\": 14.42, \"A_curv\": 0.024630541871921183, \"A_octon\": 0.009852216748768473, \"ActinSpp\": 0.1625615763546798, \"A_nodul\": 0.17733990147783252, \"CoscinSpp\": 0.07881773399014778, \"CyclotSpp\": 0.029556650246305417, \"Rop_tess\": 0.0, \"StephanSpp\": 0.0}, {\"Depth\": 12.9, \"Age\": 14.46, \"A_curv\": 0.02926829268292683, \"A_octon\": 0.02926829268292683, \"ActinSpp\": 0.14634146341463414, \"A_nodul\": 0.15609756097560976, \"CoscinSpp\": 0.08780487804878048, \"CyclotSpp\": 0.03902439024390244, \"Rop_tess\": 0.0, \"StephanSpp\": 0.0}, {\"Depth\": 12.95, \"Age\": 14.51, \"A_curv\": 0.014492753623188406, \"A_octon\": 0.028985507246376812, \"ActinSpp\": 0.09178743961352658, \"A_nodul\": 0.2028985507246377, \"CoscinSpp\": 0.06763285024154589, \"CyclotSpp\": 0.07729468599033816, \"Rop_tess\": 0.0, \"StephanSpp\": 0.0}, {\"Depth\": 13.0, \"Age\": 14.55, \"A_curv\": 0.00975609756097561, \"A_octon\": 0.014634146341463415, \"ActinSpp\": 0.08292682926829269, \"A_nodul\": 0.32682926829268294, \"CoscinSpp\": 0.024390243902439025, \"CyclotSpp\": 0.01951219512195122, \"Rop_tess\": 0.0, \"StephanSpp\": 0.0}, {\"Depth\": 13.05, \"Age\": 14.6, \"A_curv\": 0.0, \"A_octon\": 0.019417475728155338, \"ActinSpp\": 0.10679611650485436, \"A_nodul\": 0.23786407766990292, \"CoscinSpp\": 0.0825242718446602, \"CyclotSpp\": 0.038834951456310676, \"Rop_tess\": 0.0, \"StephanSpp\": 0.0}, {\"Depth\": 13.1, \"Age\": 14.64, \"A_curv\": 0.0, \"A_octon\": 0.0, \"ActinSpp\": 0.03980099502487562, \"A_nodul\": 0.3582089552238806, \"CoscinSpp\": 0.07462686567164178, \"CyclotSpp\": 0.01990049751243781, \"Rop_tess\": 0.0, \"StephanSpp\": 0.0}, {\"Depth\": 13.15, \"Age\": 14.69, \"A_curv\": 0.004878048780487805, \"A_octon\": 0.014634146341463415, \"ActinSpp\": 0.09268292682926829, \"A_nodul\": 0.1951219512195122, \"CoscinSpp\": 0.14146341463414633, \"CyclotSpp\": 0.024390243902439025, \"Rop_tess\": 0.004878048780487805, \"StephanSpp\": 0.0}, {\"Depth\": 13.2, \"Age\": 14.73, \"A_curv\": 0.004878048780487805, \"A_octon\": 0.00975609756097561, \"ActinSpp\": 0.07317073170731707, \"A_nodul\": 0.2975609756097561, \"CoscinSpp\": 0.08292682926829269, \"CyclotSpp\": 0.014634146341463415, \"Rop_tess\": 0.0, \"StephanSpp\": 0.0}, {\"Depth\": 13.25, \"Age\": 14.78, \"A_curv\": 0.0048543689320388345, \"A_octon\": 0.0, \"ActinSpp\": 0.10679611650485436, \"A_nodul\": 0.24271844660194175, \"CoscinSpp\": 0.0970873786407767, \"CyclotSpp\": 0.02912621359223301, \"Rop_tess\": 0.0, \"StephanSpp\": 0.0}, {\"Depth\": 13.41, \"Age\": 14.92, \"A_curv\": 0.0, \"A_octon\": 0.013888888888888888, \"ActinSpp\": 0.06481481481481481, \"A_nodul\": 0.24537037037037038, \"CoscinSpp\": 0.07407407407407407, \"CyclotSpp\": 0.06018518518518518, \"Rop_tess\": 0.0, \"StephanSpp\": 0.0}, {\"Depth\": 13.46, \"Age\": 14.96, \"A_curv\": 0.0, \"A_octon\": 0.00966183574879227, \"ActinSpp\": 0.05314009661835749, \"A_nodul\": 0.2753623188405797, \"CoscinSpp\": 0.10628019323671498, \"CyclotSpp\": 0.028985507246376812, \"Rop_tess\": 0.004830917874396135, \"StephanSpp\": 0.0}, {\"Depth\": 13.51, \"Age\": 15.01, \"A_curv\": 0.0, \"A_octon\": 0.0, \"ActinSpp\": 0.04878048780487805, \"A_nodul\": 0.3073170731707317, \"CoscinSpp\": 0.1073170731707317, \"CyclotSpp\": 0.024390243902439025, \"Rop_tess\": 0.0, \"StephanSpp\": 0.0}, {\"Depth\": 13.56, \"Age\": 15.05, \"A_curv\": 0.0049261083743842365, \"A_octon\": 0.0, \"ActinSpp\": 0.034482758620689655, \"A_nodul\": 0.2660098522167488, \"CoscinSpp\": 0.12807881773399016, \"CyclotSpp\": 0.054187192118226604, \"Rop_tess\": 0.0, \"StephanSpp\": 0.0}, {\"Depth\": 13.61, \"Age\": 15.1, \"A_curv\": 0.0048543689320388345, \"A_octon\": 0.0048543689320388345, \"ActinSpp\": 0.04854368932038835, \"A_nodul\": 0.30097087378640774, \"CoscinSpp\": 0.07281553398058252, \"CyclotSpp\": 0.05339805825242718, \"Rop_tess\": 0.0, \"StephanSpp\": 0.0}, {\"Depth\": 13.66, \"Age\": 15.14, \"A_curv\": 0.014563106796116505, \"A_octon\": 0.009708737864077669, \"ActinSpp\": 0.05825242718446602, \"A_nodul\": 0.2815533980582524, \"CoscinSpp\": 0.06310679611650485, \"CyclotSpp\": 0.05825242718446602, \"Rop_tess\": 0.0, \"StephanSpp\": 0.0}, {\"Depth\": 13.71, \"Age\": 15.19, \"A_curv\": 0.004901960784313725, \"A_octon\": 0.00980392156862745, \"ActinSpp\": 0.06372549019607843, \"A_nodul\": 0.2696078431372549, \"CoscinSpp\": 0.08823529411764706, \"CyclotSpp\": 0.05392156862745098, \"Rop_tess\": 0.0, \"StephanSpp\": 0.0}]}}, {\"mode\": \"vega-lite\"});\n",
       "</script>"
      ],
      "text/plain": [
       "alt.LayerChart(...)"
      ]
     },
     "execution_count": 16,
     "metadata": {},
     "output_type": "execute_result"
    }
   ],
   "source": [
    "smooth = base.transform_density(\n",
    "    density = 'A_nodul',\n",
    "    as_ = ['Relative abundance of Azpeitia nodulifer', 'Density'],\n",
    "    bandwidth = 0.02,\n",
    "    extent = [0.0, 0.35],\n",
    "    steps = 1000\n",
    ").mark_line(color = 'black').encode(\n",
    "    x = 'Relative abundance of Azpeitia nodulifer:Q',\n",
    "    y = 'Density:Q'\n",
    ")\n",
    "    \n",
    "hist + smooth   "
   ]
  },
  {
   "cell_type": "markdown",
   "metadata": {},
   "source": [
    "<!-- END QUESTION -->\n",
    "\n",
    "<!-- BEGIN QUESTION -->\n",
    "\n",
    "#### (iii) Which values are common?\n"
   ]
  },
  {
   "cell_type": "markdown",
   "metadata": {},
   "source": [
    "_0.0 is the most common value for abundance, with approximately 0.03 being the second most common._"
   ]
  },
  {
   "cell_type": "markdown",
   "metadata": {},
   "source": [
    "<!-- END QUESTION -->\n",
    "\n",
    "<!-- BEGIN QUESTION -->\n",
    "\n",
    "#### (iv) Which values are rare?\n"
   ]
  },
  {
   "cell_type": "markdown",
   "metadata": {},
   "source": [
    "_0.33 is the rarest value, but values from 0.15-0.21 as well as 0.27 are also very rare._"
   ]
  },
  {
   "cell_type": "markdown",
   "metadata": {},
   "source": [
    "<!-- END QUESTION -->\n",
    "\n",
    "<!-- BEGIN QUESTION -->\n",
    "\n",
    "#### (v) How spread out are the values and how are they spread out?\n"
   ]
  },
  {
   "cell_type": "markdown",
   "metadata": {},
   "source": [
    "_As abundance increases density decreases, and the values drop significantly when there is any abundance > 0._"
   ]
  },
  {
   "cell_type": "markdown",
   "metadata": {},
   "source": [
    "<!-- END QUESTION -->\n",
    "\n",
    "<!-- BEGIN QUESTION -->\n",
    "\n",
    "#### (vi) How would you describe the shape?\n"
   ]
  },
  {
   "cell_type": "markdown",
   "metadata": {},
   "source": [
    "_The shape is extremely right-skewed._"
   ]
  },
  {
   "cell_type": "markdown",
   "metadata": {},
   "source": [
    "<!-- END QUESTION -->\n",
    "\n",
    "#### Comment: 'zero inflation'\n",
    "\n",
    "There are a disproportionately large number of zeroes, because in many samples no *Azpeitia nodulifer* diatoms were observed. This is a common phenomenon in ecological data, and even has a name: it results in a 'zero inflated' distribution of values. The statistician to identify and name the phenomenon was Diane Lambert, whose highly influential work on the subject (>4k citations) was published in 1992.\n",
    "\n",
    "Zero inflation can present a variety of challenges. You may have noticed, for example, that there was no bandwidth parameter for the KDE curve that *both* captured the shape of the histogram near zero *and* away from zero -- it either got the height near zero right but was too wiggly, or got the shape away from zero right but was too low near zero."
   ]
  },
  {
   "cell_type": "markdown",
   "metadata": {},
   "source": [
    "### Conditioning on a climate event\n",
    "\n",
    "There was a major climate event during the time span covered by the diatom data. The oldest data points in the diatom data correspond to the end of the Pleistocene epoch (ice age), at which time there was a pronounced warming (Late Glacial Interstadial, 14.7 - 12.9 KyrBP) followed by a return to glacial conditions (Younger Dryas, 12.9 - 11.7 KyrBP). \n",
    "\n",
    "This fluctuation can be seen from temperature reconstructions. Below is a plot of sea surface temperature reconstructions off the coast of Northern California. Data come from the following source:\n",
    "\n",
    "> Barron *et al.*, 2003. Northern Coastal California High Resolution Holocene/Late Pleistocene Oceanographic Data. IGBP PAGES/World Data Center for Paleoclimatology. Data Contribution Series # 2003-014. NOAA/NGDC Paleoclimatology Program, Boulder CO, USA.\n",
    "\n",
    "The shaded region indicates the time window with unusually large flucutations in sea surface temperature; this window roughly corresponds to the dates of the climate event."
   ]
  },
  {
   "cell_type": "code",
   "execution_count": 17,
   "metadata": {},
   "outputs": [
    {
     "data": {
      "text/html": [
       "\n",
       "<div id=\"altair-viz-070ab6543a8a4f978c86c10790f336eb\"></div>\n",
       "<script type=\"text/javascript\">\n",
       "  var VEGA_DEBUG = (typeof VEGA_DEBUG == \"undefined\") ? {} : VEGA_DEBUG;\n",
       "  (function(spec, embedOpt){\n",
       "    let outputDiv = document.currentScript.previousElementSibling;\n",
       "    if (outputDiv.id !== \"altair-viz-070ab6543a8a4f978c86c10790f336eb\") {\n",
       "      outputDiv = document.getElementById(\"altair-viz-070ab6543a8a4f978c86c10790f336eb\");\n",
       "    }\n",
       "    const paths = {\n",
       "      \"vega\": \"https://cdn.jsdelivr.net/npm//vega@5?noext\",\n",
       "      \"vega-lib\": \"https://cdn.jsdelivr.net/npm//vega-lib?noext\",\n",
       "      \"vega-lite\": \"https://cdn.jsdelivr.net/npm//vega-lite@4.17.0?noext\",\n",
       "      \"vega-embed\": \"https://cdn.jsdelivr.net/npm//vega-embed@6?noext\",\n",
       "    };\n",
       "\n",
       "    function maybeLoadScript(lib, version) {\n",
       "      var key = `${lib.replace(\"-\", \"\")}_version`;\n",
       "      return (VEGA_DEBUG[key] == version) ?\n",
       "        Promise.resolve(paths[lib]) :\n",
       "        new Promise(function(resolve, reject) {\n",
       "          var s = document.createElement('script');\n",
       "          document.getElementsByTagName(\"head\")[0].appendChild(s);\n",
       "          s.async = true;\n",
       "          s.onload = () => {\n",
       "            VEGA_DEBUG[key] = version;\n",
       "            return resolve(paths[lib]);\n",
       "          };\n",
       "          s.onerror = () => reject(`Error loading script: ${paths[lib]}`);\n",
       "          s.src = paths[lib];\n",
       "        });\n",
       "    }\n",
       "\n",
       "    function showError(err) {\n",
       "      outputDiv.innerHTML = `<div class=\"error\" style=\"color:red;\">${err}</div>`;\n",
       "      throw err;\n",
       "    }\n",
       "\n",
       "    function displayChart(vegaEmbed) {\n",
       "      vegaEmbed(outputDiv, spec, embedOpt)\n",
       "        .catch(err => showError(`Javascript Error: ${err.message}<br>This usually means there's a typo in your chart specification. See the javascript console for the full traceback.`));\n",
       "    }\n",
       "\n",
       "    if(typeof define === \"function\" && define.amd) {\n",
       "      requirejs.config({paths});\n",
       "      require([\"vega-embed\"], displayChart, err => showError(`Error loading script: ${err.message}`));\n",
       "    } else {\n",
       "      maybeLoadScript(\"vega\", \"5\")\n",
       "        .then(() => maybeLoadScript(\"vega-lite\", \"4.17.0\"))\n",
       "        .then(() => maybeLoadScript(\"vega-embed\", \"6\"))\n",
       "        .catch(showError)\n",
       "        .then(() => displayChart(vegaEmbed));\n",
       "    }\n",
       "  })({\"config\": {\"view\": {\"continuousWidth\": 400, \"continuousHeight\": 300}}, \"layer\": [{\"data\": {\"name\": \"data-3a58caeda919fa504e554b7173d0eec4\"}, \"mark\": \"line\", \"encoding\": {\"x\": {\"field\": \"Age\", \"title\": \"Thousands of years before present\", \"type\": \"quantitative\"}, \"y\": {\"field\": \"SST\", \"type\": \"quantitative\"}}}, {\"data\": {\"name\": \"data-6cea38239315c3d997ab47994b5133ac\"}, \"mark\": {\"type\": \"area\", \"color\": \"orange\", \"opacity\": 0.2}, \"encoding\": {\"x\": {\"field\": \"upr\", \"title\": \"Thousands of years before present\", \"type\": \"quantitative\"}, \"x2\": {\"field\": \"lwr\"}, \"y\": {\"field\": \"SST\", \"type\": \"quantitative\"}}}, {\"data\": {\"name\": \"data-3a58caeda919fa504e554b7173d0eec4\"}, \"mark\": {\"type\": \"line\", \"color\": \"black\"}, \"encoding\": {\"x\": {\"field\": \"Age\", \"title\": \"Thousands of years before present\", \"type\": \"quantitative\"}, \"y\": {\"field\": \"SST\", \"type\": \"quantitative\"}}, \"transform\": [{\"loess\": \"SST\", \"on\": \"Age\", \"bandwidth\": 0.2}]}], \"$schema\": \"https://vega.github.io/schema/vega-lite/v4.17.0.json\", \"datasets\": {\"data-3a58caeda919fa504e554b7173d0eec4\": [{\"Age\": 0.16, \"SST\": 11.7}, {\"Age\": 0.16, \"SST\": 11.6}, {\"Age\": 0.29, \"SST\": 11.5}, {\"Age\": 0.29, \"SST\": 11.4}, {\"Age\": 0.55, \"SST\": 11.3}, {\"Age\": 0.68, \"SST\": 11.4}, {\"Age\": 0.82, \"SST\": 11.6}, {\"Age\": 0.95, \"SST\": 11.3}, {\"Age\": 1.21, \"SST\": 11.5}, {\"Age\": 1.34, \"SST\": 11.5}, {\"Age\": 1.47, \"SST\": 11.7}, {\"Age\": 1.61, \"SST\": 11.6}, {\"Age\": 1.87, \"SST\": 11.5}, {\"Age\": 1.87, \"SST\": 11.4}, {\"Age\": 2.0, \"SST\": 11.3}, {\"Age\": 2.0, \"SST\": 11.2}, {\"Age\": 2.13, \"SST\": 10.9}, {\"Age\": 2.26, \"SST\": 11.5}, {\"Age\": 2.53, \"SST\": 11.8}, {\"Age\": 2.66, \"SST\": 11.9}, {\"Age\": 2.79, \"SST\": 12.1}, {\"Age\": 2.92, \"SST\": 11.6}, {\"Age\": 3.18, \"SST\": 12.2}, {\"Age\": 3.32, \"SST\": 11.3}, {\"Age\": 3.45, \"SST\": 10.5}, {\"Age\": 3.58, \"SST\": 10.8}, {\"Age\": 3.58, \"SST\": 10.8}, {\"Age\": 3.58, \"SST\": 10.8}, {\"Age\": 3.84, \"SST\": 11.0}, {\"Age\": 3.97, \"SST\": 10.7}, {\"Age\": 4.11, \"SST\": 11.0}, {\"Age\": 4.24, \"SST\": 10.6}, {\"Age\": 4.5, \"SST\": 11.2}, {\"Age\": 4.63, \"SST\": 10.4}, {\"Age\": 4.76, \"SST\": 10.6}, {\"Age\": 4.89, \"SST\": 10.4}, {\"Age\": 5.18, \"SST\": 10.5}, {\"Age\": 5.29, \"SST\": 10.5}, {\"Age\": 5.42, \"SST\": 10.6}, {\"Age\": 5.52, \"SST\": 10.6}, {\"Age\": 5.52, \"SST\": 10.8}, {\"Age\": 5.73, \"SST\": 10.8}, {\"Age\": 5.83, \"SST\": 10.7}, {\"Age\": 5.94, \"SST\": 10.8}, {\"Age\": 6.05, \"SST\": 10.8}, {\"Age\": 6.26, \"SST\": 10.4}, {\"Age\": 6.37, \"SST\": 10.2}, {\"Age\": 6.49, \"SST\": 9.8}, {\"Age\": 6.58, \"SST\": 10.1}, {\"Age\": 6.79, \"SST\": 10.4}, {\"Age\": 6.92, \"SST\": 10.2}, {\"Age\": 6.92, \"SST\": 10.2}, {\"Age\": 7.0, \"SST\": 10.7}, {\"Age\": 7.11, \"SST\": 10.6}, {\"Age\": 7.32, \"SST\": 10.4}, {\"Age\": 7.43, \"SST\": 10.4}, {\"Age\": 7.54, \"SST\": 10.9}, {\"Age\": 7.73, \"SST\": 10.9}, {\"Age\": 7.84, \"SST\": 10.6}, {\"Age\": 7.94, \"SST\": 11.5}, {\"Age\": 8.05, \"SST\": 10.8}, {\"Age\": 8.2, \"SST\": 10.2}, {\"Age\": 8.39, \"SST\": 11.3}, {\"Age\": 8.49, \"SST\": 11.3}, {\"Age\": 8.6, \"SST\": 11.8}, {\"Age\": 8.71, \"SST\": 11.3}, {\"Age\": 8.92, \"SST\": 11.6}, {\"Age\": 8.92, \"SST\": 11.8}, {\"Age\": 9.03, \"SST\": 11.7}, {\"Age\": 9.13, \"SST\": 11.7}, {\"Age\": 9.26, \"SST\": 11.5}, {\"Age\": 9.37, \"SST\": 11.9}, {\"Age\": 9.56, \"SST\": 11.8}, {\"Age\": 9.66, \"SST\": 11.1}, {\"Age\": 9.77, \"SST\": 12.7}, {\"Age\": 9.97, \"SST\": 12.8}, {\"Age\": 10.05, \"SST\": 13.2}, {\"Age\": 10.17, \"SST\": 11.6}, {\"Age\": 10.22, \"SST\": 12.0}, {\"Age\": 10.35, \"SST\": 11.9}, {\"Age\": 10.4, \"SST\": 11.9}, {\"Age\": 10.52, \"SST\": 11.6}, {\"Age\": 10.58, \"SST\": 11.7}, {\"Age\": 10.66, \"SST\": 11.3}, {\"Age\": 10.72, \"SST\": 11.5}, {\"Age\": 10.77, \"SST\": 11.0}, {\"Age\": 10.83, \"SST\": 10.8}, {\"Age\": 10.99, \"SST\": 10.3}, {\"Age\": 11.07, \"SST\": 11.2}, {\"Age\": 11.15, \"SST\": 13.1}, {\"Age\": 11.31, \"SST\": 13.1}, {\"Age\": 11.31, \"SST\": 11.9}, {\"Age\": 11.41, \"SST\": 11.7}, {\"Age\": 11.49, \"SST\": 11.1}, {\"Age\": 11.57, \"SST\": 9.5}, {\"Age\": 11.57, \"SST\": 9.6}, {\"Age\": 11.73, \"SST\": 8.4}, {\"Age\": 11.8, \"SST\": 8.0}, {\"Age\": 11.96, \"SST\": 8.0}, {\"Age\": 12.13, \"SST\": 7.7}, {\"Age\": 12.21, \"SST\": 7.6}, {\"Age\": 12.28, \"SST\": 7.5}, {\"Age\": 12.36, \"SST\": 7.6}, {\"Age\": 12.52, \"SST\": 7.6}, {\"Age\": 12.52, \"SST\": 7.5}, {\"Age\": 12.6, \"SST\": 7.3}, {\"Age\": 12.68, \"SST\": 7.4}, {\"Age\": 12.84, \"SST\": 8.1}, {\"Age\": 12.92, \"SST\": 8.5}, {\"Age\": 13.01, \"SST\": 9.4}, {\"Age\": 13.09, \"SST\": 10.8}, {\"Age\": 13.17, \"SST\": 10.0}, {\"Age\": 13.33, \"SST\": 10.3}, {\"Age\": 13.41, \"SST\": 10.3}, {\"Age\": 13.49, \"SST\": 10.4}, {\"Age\": 13.57, \"SST\": 12.9}, {\"Age\": 13.73, \"SST\": 10.4}, {\"Age\": 13.81, \"SST\": 10.7}, {\"Age\": 13.89, \"SST\": 9.0}, {\"Age\": 13.97, \"SST\": 10.3}, {\"Age\": 14.13, \"SST\": 9.7}, {\"Age\": 14.21, \"SST\": 9.0}, {\"Age\": 14.3, \"SST\": 9.3}, {\"Age\": 14.38, \"SST\": 11.1}, {\"Age\": 14.62, \"SST\": 12.1}, {\"Age\": 14.7, \"SST\": 10.8}, {\"Age\": 14.78, \"SST\": 8.5}, {\"Age\": 14.94, \"SST\": 11.3}], \"data-6cea38239315c3d997ab47994b5133ac\": [{\"SST\": 0.0, \"upr\": 11, \"lwr\": 15}, {\"SST\": 0.1414141414141414, \"upr\": 11, \"lwr\": 15}, {\"SST\": 0.2828282828282828, \"upr\": 11, \"lwr\": 15}, {\"SST\": 0.4242424242424242, \"upr\": 11, \"lwr\": 15}, {\"SST\": 0.5656565656565656, \"upr\": 11, \"lwr\": 15}, {\"SST\": 0.7070707070707071, \"upr\": 11, \"lwr\": 15}, {\"SST\": 0.8484848484848484, \"upr\": 11, \"lwr\": 15}, {\"SST\": 0.9898989898989898, \"upr\": 11, \"lwr\": 15}, {\"SST\": 1.1313131313131313, \"upr\": 11, \"lwr\": 15}, {\"SST\": 1.2727272727272727, \"upr\": 11, \"lwr\": 15}, {\"SST\": 1.4141414141414141, \"upr\": 11, \"lwr\": 15}, {\"SST\": 1.5555555555555556, \"upr\": 11, \"lwr\": 15}, {\"SST\": 1.6969696969696968, \"upr\": 11, \"lwr\": 15}, {\"SST\": 1.8383838383838382, \"upr\": 11, \"lwr\": 15}, {\"SST\": 1.9797979797979797, \"upr\": 11, \"lwr\": 15}, {\"SST\": 2.121212121212121, \"upr\": 11, \"lwr\": 15}, {\"SST\": 2.2626262626262625, \"upr\": 11, \"lwr\": 15}, {\"SST\": 2.404040404040404, \"upr\": 11, \"lwr\": 15}, {\"SST\": 2.5454545454545454, \"upr\": 11, \"lwr\": 15}, {\"SST\": 2.686868686868687, \"upr\": 11, \"lwr\": 15}, {\"SST\": 2.8282828282828283, \"upr\": 11, \"lwr\": 15}, {\"SST\": 2.9696969696969697, \"upr\": 11, \"lwr\": 15}, {\"SST\": 3.111111111111111, \"upr\": 11, \"lwr\": 15}, {\"SST\": 3.2525252525252526, \"upr\": 11, \"lwr\": 15}, {\"SST\": 3.3939393939393936, \"upr\": 11, \"lwr\": 15}, {\"SST\": 3.535353535353535, \"upr\": 11, \"lwr\": 15}, {\"SST\": 3.6767676767676765, \"upr\": 11, \"lwr\": 15}, {\"SST\": 3.818181818181818, \"upr\": 11, \"lwr\": 15}, {\"SST\": 3.9595959595959593, \"upr\": 11, \"lwr\": 15}, {\"SST\": 4.101010101010101, \"upr\": 11, \"lwr\": 15}, {\"SST\": 4.242424242424242, \"upr\": 11, \"lwr\": 15}, {\"SST\": 4.383838383838384, \"upr\": 11, \"lwr\": 15}, {\"SST\": 4.525252525252525, \"upr\": 11, \"lwr\": 15}, {\"SST\": 4.666666666666666, \"upr\": 11, \"lwr\": 15}, {\"SST\": 4.808080808080808, \"upr\": 11, \"lwr\": 15}, {\"SST\": 4.949494949494949, \"upr\": 11, \"lwr\": 15}, {\"SST\": 5.090909090909091, \"upr\": 11, \"lwr\": 15}, {\"SST\": 5.232323232323232, \"upr\": 11, \"lwr\": 15}, {\"SST\": 5.373737373737374, \"upr\": 11, \"lwr\": 15}, {\"SST\": 5.515151515151515, \"upr\": 11, \"lwr\": 15}, {\"SST\": 5.656565656565657, \"upr\": 11, \"lwr\": 15}, {\"SST\": 5.797979797979798, \"upr\": 11, \"lwr\": 15}, {\"SST\": 5.9393939393939394, \"upr\": 11, \"lwr\": 15}, {\"SST\": 6.08080808080808, \"upr\": 11, \"lwr\": 15}, {\"SST\": 6.222222222222222, \"upr\": 11, \"lwr\": 15}, {\"SST\": 6.363636363636363, \"upr\": 11, \"lwr\": 15}, {\"SST\": 6.505050505050505, \"upr\": 11, \"lwr\": 15}, {\"SST\": 6.646464646464646, \"upr\": 11, \"lwr\": 15}, {\"SST\": 6.787878787878787, \"upr\": 11, \"lwr\": 15}, {\"SST\": 6.929292929292929, \"upr\": 11, \"lwr\": 15}, {\"SST\": 7.07070707070707, \"upr\": 11, \"lwr\": 15}, {\"SST\": 7.212121212121212, \"upr\": 11, \"lwr\": 15}, {\"SST\": 7.353535353535353, \"upr\": 11, \"lwr\": 15}, {\"SST\": 7.494949494949495, \"upr\": 11, \"lwr\": 15}, {\"SST\": 7.636363636363636, \"upr\": 11, \"lwr\": 15}, {\"SST\": 7.777777777777778, \"upr\": 11, \"lwr\": 15}, {\"SST\": 7.919191919191919, \"upr\": 11, \"lwr\": 15}, {\"SST\": 8.06060606060606, \"upr\": 11, \"lwr\": 15}, {\"SST\": 8.202020202020202, \"upr\": 11, \"lwr\": 15}, {\"SST\": 8.343434343434343, \"upr\": 11, \"lwr\": 15}, {\"SST\": 8.484848484848484, \"upr\": 11, \"lwr\": 15}, {\"SST\": 8.626262626262626, \"upr\": 11, \"lwr\": 15}, {\"SST\": 8.767676767676768, \"upr\": 11, \"lwr\": 15}, {\"SST\": 8.909090909090908, \"upr\": 11, \"lwr\": 15}, {\"SST\": 9.05050505050505, \"upr\": 11, \"lwr\": 15}, {\"SST\": 9.191919191919192, \"upr\": 11, \"lwr\": 15}, {\"SST\": 9.333333333333332, \"upr\": 11, \"lwr\": 15}, {\"SST\": 9.474747474747474, \"upr\": 11, \"lwr\": 15}, {\"SST\": 9.616161616161616, \"upr\": 11, \"lwr\": 15}, {\"SST\": 9.757575757575758, \"upr\": 11, \"lwr\": 15}, {\"SST\": 9.898989898989898, \"upr\": 11, \"lwr\": 15}, {\"SST\": 10.04040404040404, \"upr\": 11, \"lwr\": 15}, {\"SST\": 10.181818181818182, \"upr\": 11, \"lwr\": 15}, {\"SST\": 10.323232323232324, \"upr\": 11, \"lwr\": 15}, {\"SST\": 10.464646464646464, \"upr\": 11, \"lwr\": 15}, {\"SST\": 10.606060606060606, \"upr\": 11, \"lwr\": 15}, {\"SST\": 10.747474747474747, \"upr\": 11, \"lwr\": 15}, {\"SST\": 10.88888888888889, \"upr\": 11, \"lwr\": 15}, {\"SST\": 11.03030303030303, \"upr\": 11, \"lwr\": 15}, {\"SST\": 11.171717171717171, \"upr\": 11, \"lwr\": 15}, {\"SST\": 11.313131313131313, \"upr\": 11, \"lwr\": 15}, {\"SST\": 11.454545454545453, \"upr\": 11, \"lwr\": 15}, {\"SST\": 11.595959595959595, \"upr\": 11, \"lwr\": 15}, {\"SST\": 11.737373737373737, \"upr\": 11, \"lwr\": 15}, {\"SST\": 11.878787878787879, \"upr\": 11, \"lwr\": 15}, {\"SST\": 12.020202020202019, \"upr\": 11, \"lwr\": 15}, {\"SST\": 12.16161616161616, \"upr\": 11, \"lwr\": 15}, {\"SST\": 12.303030303030303, \"upr\": 11, \"lwr\": 15}, {\"SST\": 12.444444444444445, \"upr\": 11, \"lwr\": 15}, {\"SST\": 12.585858585858585, \"upr\": 11, \"lwr\": 15}, {\"SST\": 12.727272727272727, \"upr\": 11, \"lwr\": 15}, {\"SST\": 12.868686868686869, \"upr\": 11, \"lwr\": 15}, {\"SST\": 13.01010101010101, \"upr\": 11, \"lwr\": 15}, {\"SST\": 13.15151515151515, \"upr\": 11, \"lwr\": 15}, {\"SST\": 13.292929292929292, \"upr\": 11, \"lwr\": 15}, {\"SST\": 13.434343434343434, \"upr\": 11, \"lwr\": 15}, {\"SST\": 13.575757575757574, \"upr\": 11, \"lwr\": 15}, {\"SST\": 13.717171717171716, \"upr\": 11, \"lwr\": 15}, {\"SST\": 13.858585858585858, \"upr\": 11, \"lwr\": 15}, {\"SST\": 14.0, \"upr\": 11, \"lwr\": 15}]}}, {\"mode\": \"vega-lite\"});\n",
       "</script>"
      ],
      "text/plain": [
       "alt.LayerChart(...)"
      ]
     },
     "execution_count": 17,
     "metadata": {},
     "output_type": "execute_result"
    }
   ],
   "source": [
    "# import sea surface temp reconstruction\n",
    "seatemps = pd.read_csv('data/barron-sst.csv')\n",
    "\n",
    "# line plot of time series\n",
    "line = alt.Chart(seatemps).mark_line().encode(\n",
    "    x = alt.X('Age', title = 'Thousands of years before present'),\n",
    "    y = 'SST'\n",
    ")\n",
    "\n",
    "# highlight region with large variations\n",
    "highlight = alt.Chart(\n",
    "    pd.DataFrame(\n",
    "        {'SST': np.linspace(0, 14, 100), \n",
    "         'upr': np.repeat(11, 100), \n",
    "         'lwr': np.repeat(15, 100)}\n",
    "    )\n",
    ").mark_area(opacity = 0.2, color = 'orange').encode(\n",
    "    y = 'SST',\n",
    "    x = alt.X('upr', title = 'Thousands of years before present'),\n",
    "    x2 = 'lwr'\n",
    ")\n",
    "\n",
    "# add smooth trend\n",
    "smooth = line.transform_loess(\n",
    "    on = 'Age',\n",
    "    loess = 'SST',\n",
    "    bandwidth = 0.2\n",
    ").mark_line(color = 'black')\n",
    "\n",
    "# layer\n",
    "line + highlight + smooth"
   ]
  },
  {
   "cell_type": "markdown",
   "metadata": {},
   "source": [
    "<!-- BEGIN QUESTION -->\n",
    "\n",
    "### Q1 (d). Conditional distributions of relative abundance\n",
    "\n",
    "Does the distribution of relative abundance of *Azpeitia nodulifer* differ when variation in sea temperatures was higher (before 11KyrBP)? \n",
    "\n",
    "#### (i) Plot kernel density estimates to show the distribution of relative abundances before and after 11KyrBP.\n",
    "\n",
    "1. Use `.transform_caluculate(...)` to calculate an indicator variable, `pre_dryas`, that indicates whether `Age` exceeds 11.\n",
    "\n",
    "2. Use `.transform_density(...)` to compute KDEs separately for observations of relative abundance before and after 11KyrBP.\n",
    "    + *Hint*: group by `pre_dryas`\n",
    "\n",
    "\n",
    "3. Plot the KDEs distinguished by color; give the color legend the title 'Before 11KyrBP' and store the plot as `kdes`.\n",
    "\n",
    "4. Add a shaded area beneath the KDE curves. Adjust the opacity of the area to your liking.\n"
   ]
  },
  {
   "cell_type": "code",
   "execution_count": 18,
   "metadata": {
    "tags": []
   },
   "outputs": [
    {
     "data": {
      "text/html": [
       "\n",
       "<div id=\"altair-viz-a922ffae01c244db9e734afb8118b95d\"></div>\n",
       "<script type=\"text/javascript\">\n",
       "  var VEGA_DEBUG = (typeof VEGA_DEBUG == \"undefined\") ? {} : VEGA_DEBUG;\n",
       "  (function(spec, embedOpt){\n",
       "    let outputDiv = document.currentScript.previousElementSibling;\n",
       "    if (outputDiv.id !== \"altair-viz-a922ffae01c244db9e734afb8118b95d\") {\n",
       "      outputDiv = document.getElementById(\"altair-viz-a922ffae01c244db9e734afb8118b95d\");\n",
       "    }\n",
       "    const paths = {\n",
       "      \"vega\": \"https://cdn.jsdelivr.net/npm//vega@5?noext\",\n",
       "      \"vega-lib\": \"https://cdn.jsdelivr.net/npm//vega-lib?noext\",\n",
       "      \"vega-lite\": \"https://cdn.jsdelivr.net/npm//vega-lite@4.17.0?noext\",\n",
       "      \"vega-embed\": \"https://cdn.jsdelivr.net/npm//vega-embed@6?noext\",\n",
       "    };\n",
       "\n",
       "    function maybeLoadScript(lib, version) {\n",
       "      var key = `${lib.replace(\"-\", \"\")}_version`;\n",
       "      return (VEGA_DEBUG[key] == version) ?\n",
       "        Promise.resolve(paths[lib]) :\n",
       "        new Promise(function(resolve, reject) {\n",
       "          var s = document.createElement('script');\n",
       "          document.getElementsByTagName(\"head\")[0].appendChild(s);\n",
       "          s.async = true;\n",
       "          s.onload = () => {\n",
       "            VEGA_DEBUG[key] = version;\n",
       "            return resolve(paths[lib]);\n",
       "          };\n",
       "          s.onerror = () => reject(`Error loading script: ${paths[lib]}`);\n",
       "          s.src = paths[lib];\n",
       "        });\n",
       "    }\n",
       "\n",
       "    function showError(err) {\n",
       "      outputDiv.innerHTML = `<div class=\"error\" style=\"color:red;\">${err}</div>`;\n",
       "      throw err;\n",
       "    }\n",
       "\n",
       "    function displayChart(vegaEmbed) {\n",
       "      vegaEmbed(outputDiv, spec, embedOpt)\n",
       "        .catch(err => showError(`Javascript Error: ${err.message}<br>This usually means there's a typo in your chart specification. See the javascript console for the full traceback.`));\n",
       "    }\n",
       "\n",
       "    if(typeof define === \"function\" && define.amd) {\n",
       "      requirejs.config({paths});\n",
       "      require([\"vega-embed\"], displayChart, err => showError(`Error loading script: ${err.message}`));\n",
       "    } else {\n",
       "      maybeLoadScript(\"vega\", \"5\")\n",
       "        .then(() => maybeLoadScript(\"vega-lite\", \"4.17.0\"))\n",
       "        .then(() => maybeLoadScript(\"vega-embed\", \"6\"))\n",
       "        .catch(showError)\n",
       "        .then(() => displayChart(vegaEmbed));\n",
       "    }\n",
       "  })({\"config\": {\"view\": {\"continuousWidth\": 400, \"continuousHeight\": 300}}, \"layer\": [{\"mark\": \"line\", \"encoding\": {\"color\": {\"field\": \"pre_dryas\", \"title\": \"Before 11KyrBP\", \"type\": \"nominal\"}, \"x\": {\"field\": \"Relative abundance of Azpeitia nodulifer\", \"type\": \"quantitative\"}, \"y\": {\"field\": \"Density\", \"type\": \"quantitative\"}}, \"transform\": [{\"calculate\": \"datum.Age > 11\", \"as\": \"pre_dryas\"}, {\"density\": \"A_nodul\", \"bandwidth\": 0.02, \"extent\": [0, 0.35], \"groupby\": [\"pre_dryas\"], \"steps\": 1000, \"as\": [\"Relative abundance of Azpeitia nodulifer\", \"Density\"]}]}, {\"mark\": {\"type\": \"area\", \"opacity\": 0.2}, \"encoding\": {\"color\": {\"field\": \"pre_dryas\", \"title\": \"Before 11KyrBP\", \"type\": \"nominal\"}, \"x\": {\"field\": \"Relative abundance of Azpeitia nodulifer\", \"type\": \"quantitative\"}, \"y\": {\"field\": \"Density\", \"type\": \"quantitative\"}}, \"transform\": [{\"calculate\": \"datum.Age > 11\", \"as\": \"pre_dryas\"}, {\"density\": \"A_nodul\", \"bandwidth\": 0.02, \"extent\": [0, 0.35], \"groupby\": [\"pre_dryas\"], \"steps\": 1000, \"as\": [\"Relative abundance of Azpeitia nodulifer\", \"Density\"]}]}], \"data\": {\"name\": \"data-9f4e66e54759d6b46301ea3d10ce44f6\"}, \"$schema\": \"https://vega.github.io/schema/vega-lite/v4.17.0.json\", \"datasets\": {\"data-9f4e66e54759d6b46301ea3d10ce44f6\": [{\"Depth\": 0.0, \"Age\": 1.33, \"A_curv\": 0.024875621890547265, \"A_octon\": 0.009950248756218905, \"ActinSpp\": 0.15920398009950248, \"A_nodul\": 0.06965174129353234, \"CoscinSpp\": 0.1044776119402985, \"CyclotSpp\": 0.10945273631840796, \"Rop_tess\": 0.004975124378109453, \"StephanSpp\": 0.004975124378109453}, {\"Depth\": 0.05, \"Age\": 1.37, \"A_curv\": 0.04, \"A_octon\": 0.01, \"ActinSpp\": 0.155, \"A_nodul\": 0.08, \"CoscinSpp\": 0.1, \"CyclotSpp\": 0.08, \"Rop_tess\": 0.035, \"StephanSpp\": 0.01}, {\"Depth\": 0.1, \"Age\": 1.42, \"A_curv\": 0.04, \"A_octon\": 0.03, \"ActinSpp\": 0.165, \"A_nodul\": 0.09, \"CoscinSpp\": 0.145, \"CyclotSpp\": 0.035, \"Rop_tess\": 0.005, \"StephanSpp\": 0.005}, {\"Depth\": 0.15, \"Age\": 1.46, \"A_curv\": 0.055, \"A_octon\": 0.005, \"ActinSpp\": 0.105, \"A_nodul\": 0.005, \"CoscinSpp\": 0.06, \"CyclotSpp\": 0.14, \"Rop_tess\": 0.125, \"StephanSpp\": 0.015}, {\"Depth\": 0.2, \"Age\": 1.51, \"A_curv\": 0.03666666666666667, \"A_octon\": 0.0033333333333333335, \"ActinSpp\": 0.12666666666666668, \"A_nodul\": 0.01, \"CoscinSpp\": 0.06, \"CyclotSpp\": 0.08, \"Rop_tess\": 0.01, \"StephanSpp\": 0.0}, {\"Depth\": 0.25, \"Age\": 1.55, \"A_curv\": 0.019704433497536946, \"A_octon\": 0.04433497536945813, \"ActinSpp\": 0.1477832512315271, \"A_nodul\": 0.04926108374384237, \"CoscinSpp\": 0.07881773399014778, \"CyclotSpp\": 0.06896551724137931, \"Rop_tess\": 0.07881773399014778, \"StephanSpp\": 0.0}, {\"Depth\": 0.3, \"Age\": 1.59, \"A_curv\": 0.025, \"A_octon\": 0.015, \"ActinSpp\": 0.105, \"A_nodul\": 0.02, \"CoscinSpp\": 0.06, \"CyclotSpp\": 0.08, \"Rop_tess\": 0.2, \"StephanSpp\": 0.0}, {\"Depth\": 0.35, \"Age\": 1.64, \"A_curv\": 0.035, \"A_octon\": 0.02, \"ActinSpp\": 0.18, \"A_nodul\": 0.095, \"CoscinSpp\": 0.095, \"CyclotSpp\": 0.065, \"Rop_tess\": 0.015, \"StephanSpp\": 0.005}, {\"Depth\": 0.4, \"Age\": 1.68, \"A_curv\": 0.07, \"A_octon\": 0.035, \"ActinSpp\": 0.2, \"A_nodul\": 0.02, \"CoscinSpp\": 0.12, \"CyclotSpp\": 0.055, \"Rop_tess\": 0.015, \"StephanSpp\": 0.005}, {\"Depth\": 0.45, \"Age\": 1.72, \"A_curv\": 0.03, \"A_octon\": 0.015, \"ActinSpp\": 0.185, \"A_nodul\": 0.03, \"CoscinSpp\": 0.13, \"CyclotSpp\": 0.1, \"Rop_tess\": 0.015, \"StephanSpp\": 0.005}, {\"Depth\": 0.5, \"Age\": 1.77, \"A_curv\": 0.04, \"A_octon\": 0.02, \"ActinSpp\": 0.1, \"A_nodul\": 0.055, \"CoscinSpp\": 0.055, \"CyclotSpp\": 0.1, \"Rop_tess\": 0.135, \"StephanSpp\": 0.005}, {\"Depth\": 0.55, \"Age\": 1.81, \"A_curv\": 0.024875621890547265, \"A_octon\": 0.014925373134328358, \"ActinSpp\": 0.17412935323383086, \"A_nodul\": 0.014925373134328358, \"CoscinSpp\": 0.07462686567164178, \"CyclotSpp\": 0.10945273631840796, \"Rop_tess\": 0.05970149253731343, \"StephanSpp\": 0.014925373134328358}, {\"Depth\": 0.6, \"Age\": 1.86, \"A_curv\": 0.04455445544554455, \"A_octon\": 0.01485148514851485, \"ActinSpp\": 0.1485148514851485, \"A_nodul\": 0.01485148514851485, \"CoscinSpp\": 0.0891089108910891, \"CyclotSpp\": 0.13366336633663367, \"Rop_tess\": 0.034653465346534656, \"StephanSpp\": 0.0049504950495049506}, {\"Depth\": 0.65, \"Age\": 1.9, \"A_curv\": 0.016556291390728478, \"A_octon\": 0.013245033112582781, \"ActinSpp\": 0.08940397350993377, \"A_nodul\": 0.019867549668874173, \"CoscinSpp\": 0.06291390728476821, \"CyclotSpp\": 0.11589403973509933, \"Rop_tess\": 0.013245033112582781, \"StephanSpp\": 0.0}, {\"Depth\": 0.7, \"Age\": 1.94, \"A_curv\": 0.065, \"A_octon\": 0.01, \"ActinSpp\": 0.18, \"A_nodul\": 0.04, \"CoscinSpp\": 0.075, \"CyclotSpp\": 0.105, \"Rop_tess\": 0.03, \"StephanSpp\": 0.0}, {\"Depth\": 0.75, \"Age\": 1.99, \"A_curv\": 0.029850746268656716, \"A_octon\": 0.009950248756218905, \"ActinSpp\": 0.16417910447761194, \"A_nodul\": 0.01990049751243781, \"CoscinSpp\": 0.15920398009950248, \"CyclotSpp\": 0.1044776119402985, \"Rop_tess\": 0.004975124378109453, \"StephanSpp\": 0.0}, {\"Depth\": 0.8, \"Age\": 2.03, \"A_curv\": 0.04455445544554455, \"A_octon\": 0.009900990099009901, \"ActinSpp\": 0.2079207920792079, \"A_nodul\": 0.01485148514851485, \"CoscinSpp\": 0.10396039603960396, \"CyclotSpp\": 0.0891089108910891, \"Rop_tess\": 0.019801980198019802, \"StephanSpp\": 0.0049504950495049506}, {\"Depth\": 0.85, \"Age\": 2.08, \"A_curv\": 0.06965174129353234, \"A_octon\": 0.014925373134328358, \"ActinSpp\": 0.1044776119402985, \"A_nodul\": 0.004975124378109453, \"CoscinSpp\": 0.06965174129353234, \"CyclotSpp\": 0.208955223880597, \"Rop_tess\": 0.01990049751243781, \"StephanSpp\": 0.0}, {\"Depth\": 0.9, \"Age\": 2.12, \"A_curv\": 0.04477611940298507, \"A_octon\": 0.024875621890547265, \"ActinSpp\": 0.12935323383084577, \"A_nodul\": 0.06467661691542288, \"CoscinSpp\": 0.07960199004975124, \"CyclotSpp\": 0.09950248756218906, \"Rop_tess\": 0.04477611940298507, \"StephanSpp\": 0.0}, {\"Depth\": 0.95, \"Age\": 2.16, \"A_curv\": 0.055, \"A_octon\": 0.02, \"ActinSpp\": 0.17, \"A_nodul\": 0.015, \"CoscinSpp\": 0.05, \"CyclotSpp\": 0.175, \"Rop_tess\": 0.015, \"StephanSpp\": 0.01}, {\"Depth\": 1.0, \"Age\": 2.21, \"A_curv\": 0.058823529411764705, \"A_octon\": 0.014705882352941176, \"ActinSpp\": 0.19117647058823528, \"A_nodul\": 0.004901960784313725, \"CoscinSpp\": 0.0784313725490196, \"CyclotSpp\": 0.11274509803921569, \"Rop_tess\": 0.00980392156862745, \"StephanSpp\": 0.00980392156862745}, {\"Depth\": 1.05, \"Age\": 2.25, \"A_curv\": 0.065, \"A_octon\": 0.015, \"ActinSpp\": 0.115, \"A_nodul\": 0.025, \"CoscinSpp\": 0.09, \"CyclotSpp\": 0.115, \"Rop_tess\": 0.075, \"StephanSpp\": 0.005}, {\"Depth\": 1.1, \"Age\": 2.29, \"A_curv\": 0.029850746268656716, \"A_octon\": 0.004975124378109453, \"ActinSpp\": 0.11442786069651742, \"A_nodul\": 0.01990049751243781, \"CoscinSpp\": 0.04975124378109453, \"CyclotSpp\": 0.0945273631840796, \"Rop_tess\": 0.07960199004975124, \"StephanSpp\": 0.0945273631840796}, {\"Depth\": 1.15, \"Age\": 2.34, \"A_curv\": 0.034482758620689655, \"A_octon\": 0.04433497536945813, \"ActinSpp\": 0.13793103448275862, \"A_nodul\": 0.03940886699507389, \"CoscinSpp\": 0.08866995073891626, \"CyclotSpp\": 0.11330049261083744, \"Rop_tess\": 0.034482758620689655, \"StephanSpp\": 0.0}, {\"Depth\": 1.2, \"Age\": 2.38, \"A_curv\": 0.03734439834024896, \"A_octon\": 0.012448132780082987, \"ActinSpp\": 0.04564315352697095, \"A_nodul\": 0.07883817427385892, \"CoscinSpp\": 0.04979253112033195, \"CyclotSpp\": 0.07468879668049792, \"Rop_tess\": 0.11203319502074689, \"StephanSpp\": 0.0}, {\"Depth\": 1.25, \"Age\": 2.43, \"A_curv\": 0.045, \"A_octon\": 0.015, \"ActinSpp\": 0.13, \"A_nodul\": 0.01, \"CoscinSpp\": 0.09, \"CyclotSpp\": 0.065, \"Rop_tess\": 0.11, \"StephanSpp\": 0.045}, {\"Depth\": 1.3, \"Age\": 2.47, \"A_curv\": 0.04, \"A_octon\": 0.01, \"ActinSpp\": 0.09, \"A_nodul\": 0.013333333333333334, \"CoscinSpp\": 0.043333333333333335, \"CyclotSpp\": 0.06333333333333334, \"Rop_tess\": 0.05333333333333334, \"StephanSpp\": 0.016666666666666666}, {\"Depth\": 1.35, \"Age\": 2.51, \"A_curv\": 0.04455445544554455, \"A_octon\": 0.019801980198019802, \"ActinSpp\": 0.14356435643564355, \"A_nodul\": 0.019801980198019802, \"CoscinSpp\": 0.039603960396039604, \"CyclotSpp\": 0.21287128712871287, \"Rop_tess\": 0.01485148514851485, \"StephanSpp\": 0.0}, {\"Depth\": 1.4, \"Age\": 2.56, \"A_curv\": 0.049019607843137254, \"A_octon\": 0.029411764705882353, \"ActinSpp\": 0.12254901960784313, \"A_nodul\": 0.014705882352941176, \"CoscinSpp\": 0.049019607843137254, \"CyclotSpp\": 0.17647058823529413, \"Rop_tess\": 0.04411764705882353, \"StephanSpp\": 0.004901960784313725}, {\"Depth\": 1.49, \"Age\": 2.64, \"A_curv\": 0.045, \"A_octon\": 0.015, \"ActinSpp\": 0.14, \"A_nodul\": 0.03, \"CoscinSpp\": 0.145, \"CyclotSpp\": 0.095, \"Rop_tess\": 0.045, \"StephanSpp\": 0.0}, {\"Depth\": 1.5, \"Age\": 2.65, \"A_curv\": 0.03, \"A_octon\": 0.035, \"ActinSpp\": 0.16, \"A_nodul\": 0.04, \"CoscinSpp\": 0.065, \"CyclotSpp\": 0.085, \"Rop_tess\": 0.095, \"StephanSpp\": 0.0}, {\"Depth\": 1.55, \"Age\": 2.69, \"A_curv\": 0.025, \"A_octon\": 0.035, \"ActinSpp\": 0.11, \"A_nodul\": 0.02, \"CoscinSpp\": 0.05, \"CyclotSpp\": 0.155, \"Rop_tess\": 0.115, \"StephanSpp\": 0.0}, {\"Depth\": 1.6, \"Age\": 2.73, \"A_curv\": 0.04, \"A_octon\": 0.03, \"ActinSpp\": 0.14, \"A_nodul\": 0.01, \"CoscinSpp\": 0.13, \"CyclotSpp\": 0.125, \"Rop_tess\": 0.03, \"StephanSpp\": 0.005}, {\"Depth\": 1.65, \"Age\": 2.78, \"A_curv\": 0.05, \"A_octon\": 0.005, \"ActinSpp\": 0.14, \"A_nodul\": 0.03, \"CoscinSpp\": 0.095, \"CyclotSpp\": 0.14, \"Rop_tess\": 0.05, \"StephanSpp\": 0.0}, {\"Depth\": 1.7, \"Age\": 2.82, \"A_curv\": 0.045, \"A_octon\": 0.015, \"ActinSpp\": 0.215, \"A_nodul\": 0.005, \"CoscinSpp\": 0.08, \"CyclotSpp\": 0.125, \"Rop_tess\": 0.02, \"StephanSpp\": 0.005}, {\"Depth\": 1.75, \"Age\": 2.87, \"A_curv\": 0.07881773399014778, \"A_octon\": 0.059113300492610835, \"ActinSpp\": 0.10344827586206896, \"A_nodul\": 0.019704433497536946, \"CoscinSpp\": 0.09359605911330049, \"CyclotSpp\": 0.09359605911330049, \"Rop_tess\": 0.034482758620689655, \"StephanSpp\": 0.009852216748768473}, {\"Depth\": 1.8, \"Age\": 2.91, \"A_curv\": 0.054187192118226604, \"A_octon\": 0.009852216748768473, \"ActinSpp\": 0.19704433497536947, \"A_nodul\": 0.029556650246305417, \"CoscinSpp\": 0.08374384236453201, \"CyclotSpp\": 0.07389162561576355, \"Rop_tess\": 0.034482758620689655, \"StephanSpp\": 0.0}, {\"Depth\": 1.85, \"Age\": 2.95, \"A_curv\": 0.025, \"A_octon\": 0.015, \"ActinSpp\": 0.19, \"A_nodul\": 0.025, \"CoscinSpp\": 0.115, \"CyclotSpp\": 0.105, \"Rop_tess\": 0.03, \"StephanSpp\": 0.005}, {\"Depth\": 1.9, \"Age\": 3.0, \"A_curv\": 0.03, \"A_octon\": 0.01, \"ActinSpp\": 0.09, \"A_nodul\": 0.005, \"CoscinSpp\": 0.055, \"CyclotSpp\": 0.18, \"Rop_tess\": 0.13, \"StephanSpp\": 0.005}, {\"Depth\": 1.95, \"Age\": 3.04, \"A_curv\": 0.05, \"A_octon\": 0.02, \"ActinSpp\": 0.2, \"A_nodul\": 0.01, \"CoscinSpp\": 0.075, \"CyclotSpp\": 0.12, \"Rop_tess\": 0.035, \"StephanSpp\": 0.005}, {\"Depth\": 2.0, \"Age\": 3.08, \"A_curv\": 0.0297029702970297, \"A_octon\": 0.0049504950495049506, \"ActinSpp\": 0.14356435643564355, \"A_nodul\": 0.0049504950495049506, \"CoscinSpp\": 0.0297029702970297, \"CyclotSpp\": 0.2079207920792079, \"Rop_tess\": 0.06930693069306931, \"StephanSpp\": 0.0}, {\"Depth\": 2.05, \"Age\": 3.13, \"A_curv\": 0.03, \"A_octon\": 0.04, \"ActinSpp\": 0.175, \"A_nodul\": 0.02, \"CoscinSpp\": 0.08, \"CyclotSpp\": 0.125, \"Rop_tess\": 0.04, \"StephanSpp\": 0.005}, {\"Depth\": 2.1, \"Age\": 3.17, \"A_curv\": 0.054187192118226604, \"A_octon\": 0.019704433497536946, \"ActinSpp\": 0.13793103448275862, \"A_nodul\": 0.014778325123152709, \"CoscinSpp\": 0.09359605911330049, \"CyclotSpp\": 0.1330049261083744, \"Rop_tess\": 0.03940886699507389, \"StephanSpp\": 0.0}, {\"Depth\": 2.15, \"Age\": 3.22, \"A_curv\": 0.02181818181818182, \"A_octon\": 0.01090909090909091, \"ActinSpp\": 0.13454545454545455, \"A_nodul\": 0.014545454545454545, \"CoscinSpp\": 0.04363636363636364, \"CyclotSpp\": 0.12727272727272726, \"Rop_tess\": 0.007272727272727273, \"StephanSpp\": 0.0}, {\"Depth\": 2.2, \"Age\": 3.26, \"A_curv\": 0.034653465346534656, \"A_octon\": 0.024752475247524754, \"ActinSpp\": 0.18316831683168316, \"A_nodul\": 0.06435643564356436, \"CoscinSpp\": 0.0891089108910891, \"CyclotSpp\": 0.07920792079207921, \"Rop_tess\": 0.009900990099009901, \"StephanSpp\": 0.0}, {\"Depth\": 2.25, \"Age\": 3.3, \"A_curv\": 0.035, \"A_octon\": 0.03, \"ActinSpp\": 0.18, \"A_nodul\": 0.02, \"CoscinSpp\": 0.1, \"CyclotSpp\": 0.11, \"Rop_tess\": 0.03, \"StephanSpp\": 0.005}, {\"Depth\": 2.3, \"Age\": 3.35, \"A_curv\": 0.024875621890547265, \"A_octon\": 0.029850746268656716, \"ActinSpp\": 0.15920398009950248, \"A_nodul\": 0.03482587064676617, \"CoscinSpp\": 0.10945273631840796, \"CyclotSpp\": 0.0945273631840796, \"Rop_tess\": 0.029850746268656716, \"StephanSpp\": 0.0}, {\"Depth\": 2.35, \"Age\": 3.39, \"A_curv\": 0.02666666666666667, \"A_octon\": 0.04666666666666667, \"ActinSpp\": 0.09666666666666666, \"A_nodul\": 0.01, \"CoscinSpp\": 0.04, \"CyclotSpp\": 0.10333333333333333, \"Rop_tess\": 0.01, \"StephanSpp\": 0.0}, {\"Depth\": 2.4, \"Age\": 3.44, \"A_curv\": 0.045, \"A_octon\": 0.03, \"ActinSpp\": 0.175, \"A_nodul\": 0.01, \"CoscinSpp\": 0.095, \"CyclotSpp\": 0.13, \"Rop_tess\": 0.025, \"StephanSpp\": 0.0}, {\"Depth\": 2.45, \"Age\": 3.48, \"A_curv\": 0.045, \"A_octon\": 0.04, \"ActinSpp\": 0.17, \"A_nodul\": 0.015, \"CoscinSpp\": 0.11, \"CyclotSpp\": 0.12, \"Rop_tess\": 0.01, \"StephanSpp\": 0.005}, {\"Depth\": 2.5, \"Age\": 3.52, \"A_curv\": 0.03482587064676617, \"A_octon\": 0.01990049751243781, \"ActinSpp\": 0.1791044776119403, \"A_nodul\": 0.01990049751243781, \"CoscinSpp\": 0.09950248756218906, \"CyclotSpp\": 0.12437810945273632, \"Rop_tess\": 0.004975124378109453, \"StephanSpp\": 0.009950248756218905}, {\"Depth\": 2.55, \"Age\": 3.57, \"A_curv\": 0.04455445544554455, \"A_octon\": 0.0297029702970297, \"ActinSpp\": 0.1782178217821782, \"A_nodul\": 0.024752475247524754, \"CoscinSpp\": 0.1188118811881188, \"CyclotSpp\": 0.06930693069306931, \"Rop_tess\": 0.0297029702970297, \"StephanSpp\": 0.0}, {\"Depth\": 2.59, \"Age\": 3.6, \"A_curv\": 0.03, \"A_octon\": 0.015, \"ActinSpp\": 0.22, \"A_nodul\": 0.015, \"CoscinSpp\": 0.11, \"CyclotSpp\": 0.09, \"Rop_tess\": 0.03, \"StephanSpp\": 0.0}, {\"Depth\": 2.65, \"Age\": 3.65, \"A_curv\": 0.03, \"A_octon\": 0.02, \"ActinSpp\": 0.155, \"A_nodul\": 0.035, \"CoscinSpp\": 0.095, \"CyclotSpp\": 0.155, \"Rop_tess\": 0.02, \"StephanSpp\": 0.005}, {\"Depth\": 2.7, \"Age\": 3.7, \"A_curv\": 0.04245283018867924, \"A_octon\": 0.0330188679245283, \"ActinSpp\": 0.14150943396226415, \"A_nodul\": 0.02358490566037736, \"CoscinSpp\": 0.08018867924528301, \"CyclotSpp\": 0.09905660377358491, \"Rop_tess\": 0.04716981132075472, \"StephanSpp\": 0.0}, {\"Depth\": 2.75, \"Age\": 3.74, \"A_curv\": 0.035, \"A_octon\": 0.02, \"ActinSpp\": 0.15, \"A_nodul\": 0.025, \"CoscinSpp\": 0.085, \"CyclotSpp\": 0.165, \"Rop_tess\": 0.03, \"StephanSpp\": 0.0}, {\"Depth\": 2.8, \"Age\": 3.79, \"A_curv\": 0.03515625, \"A_octon\": 0.015625, \"ActinSpp\": 0.1171875, \"A_nodul\": 0.01953125, \"CoscinSpp\": 0.05078125, \"CyclotSpp\": 0.1328125, \"Rop_tess\": 0.015625, \"StephanSpp\": 0.0}, {\"Depth\": 2.85, \"Age\": 3.83, \"A_curv\": 0.016, \"A_octon\": 0.032, \"ActinSpp\": 0.16, \"A_nodul\": 0.024, \"CoscinSpp\": 0.06, \"CyclotSpp\": 0.088, \"Rop_tess\": 0.016, \"StephanSpp\": 0.0}, {\"Depth\": 2.9, \"Age\": 3.87, \"A_curv\": 0.048, \"A_octon\": 0.016, \"ActinSpp\": 0.156, \"A_nodul\": 0.012, \"CoscinSpp\": 0.072, \"CyclotSpp\": 0.08, \"Rop_tess\": 0.012, \"StephanSpp\": 0.0}, {\"Depth\": 2.95, \"Age\": 3.92, \"A_curv\": 0.015151515151515152, \"A_octon\": 0.026515151515151516, \"ActinSpp\": 0.13257575757575757, \"A_nodul\": 0.01893939393939394, \"CoscinSpp\": 0.056818181818181816, \"CyclotSpp\": 0.12121212121212122, \"Rop_tess\": 0.007575757575757576, \"StephanSpp\": 0.0}, {\"Depth\": 3.0, \"Age\": 3.96, \"A_curv\": 0.014005602240896359, \"A_octon\": 0.025210084033613446, \"ActinSpp\": 0.08403361344537816, \"A_nodul\": 0.0056022408963585435, \"CoscinSpp\": 0.03361344537815126, \"CyclotSpp\": 0.1092436974789916, \"Rop_tess\": 0.008403361344537815, \"StephanSpp\": 0.0}, {\"Depth\": 3.0, \"Age\": 3.96, \"A_curv\": 0.03, \"A_octon\": 0.015, \"ActinSpp\": 0.065, \"A_nodul\": 0.01, \"CoscinSpp\": 0.05, \"CyclotSpp\": 0.165, \"Rop_tess\": 0.165, \"StephanSpp\": 0.005}, {\"Depth\": 3.05, \"Age\": 4.01, \"A_curv\": 0.024822695035460994, \"A_octon\": 0.014184397163120567, \"ActinSpp\": 0.09219858156028368, \"A_nodul\": 0.02127659574468085, \"CoscinSpp\": 0.05673758865248227, \"CyclotSpp\": 0.12056737588652482, \"Rop_tess\": 0.024822695035460994, \"StephanSpp\": 0.0}, {\"Depth\": 3.1, \"Age\": 4.05, \"A_curv\": 0.024, \"A_octon\": 0.008, \"ActinSpp\": 0.12, \"A_nodul\": 0.012, \"CoscinSpp\": 0.096, \"CyclotSpp\": 0.104, \"Rop_tess\": 0.04, \"StephanSpp\": 0.0}, {\"Depth\": 3.2, \"Age\": 4.14, \"A_curv\": 0.02040816326530612, \"A_octon\": 0.012244897959183673, \"ActinSpp\": 0.07755102040816327, \"A_nodul\": 0.02857142857142857, \"CoscinSpp\": 0.053061224489795916, \"CyclotSpp\": 0.10612244897959183, \"Rop_tess\": 0.11020408163265306, \"StephanSpp\": 0.0}, {\"Depth\": 3.25, \"Age\": 4.18, \"A_curv\": 0.01932367149758454, \"A_octon\": 0.00966183574879227, \"ActinSpp\": 0.15942028985507245, \"A_nodul\": 0.057971014492753624, \"CoscinSpp\": 0.057971014492753624, \"CyclotSpp\": 0.08695652173913043, \"Rop_tess\": 0.08695652173913043, \"StephanSpp\": 0.0}, {\"Depth\": 3.3, \"Age\": 4.22, \"A_curv\": 0.023696682464454975, \"A_octon\": 0.014218009478672985, \"ActinSpp\": 0.12796208530805686, \"A_nodul\": 0.052132701421800945, \"CoscinSpp\": 0.10426540284360189, \"CyclotSpp\": 0.0995260663507109, \"Rop_tess\": 0.052132701421800945, \"StephanSpp\": 0.0}, {\"Depth\": 3.35, \"Age\": 4.27, \"A_curv\": 0.009950248756218905, \"A_octon\": 0.009950248756218905, \"ActinSpp\": 0.11442786069651742, \"A_nodul\": 0.11442786069651742, \"CoscinSpp\": 0.06965174129353234, \"CyclotSpp\": 0.08955223880597014, \"Rop_tess\": 0.07960199004975124, \"StephanSpp\": 0.0}, {\"Depth\": 3.4, \"Age\": 4.31, \"A_curv\": 0.02, \"A_octon\": 0.025, \"ActinSpp\": 0.16, \"A_nodul\": 0.11, \"CoscinSpp\": 0.055, \"CyclotSpp\": 0.125, \"Rop_tess\": 0.015, \"StephanSpp\": 0.0}, {\"Depth\": 3.45, \"Age\": 4.36, \"A_curv\": 0.015, \"A_octon\": 0.005, \"ActinSpp\": 0.07, \"A_nodul\": 0.02, \"CoscinSpp\": 0.015, \"CyclotSpp\": 0.085, \"Rop_tess\": 0.3, \"StephanSpp\": 0.0}, {\"Depth\": 3.5, \"Age\": 4.4, \"A_curv\": 0.01532567049808429, \"A_octon\": 0.007662835249042145, \"ActinSpp\": 0.13026819923371646, \"A_nodul\": 0.019157088122605363, \"CoscinSpp\": 0.05747126436781609, \"CyclotSpp\": 0.11877394636015326, \"Rop_tess\": 0.03065134099616858, \"StephanSpp\": 0.0}, {\"Depth\": 3.55, \"Age\": 4.44, \"A_curv\": 0.01, \"A_octon\": 0.01, \"ActinSpp\": 0.07, \"A_nodul\": 0.03, \"CoscinSpp\": 0.035, \"CyclotSpp\": 0.115, \"Rop_tess\": 0.24, \"StephanSpp\": 0.0}, {\"Depth\": 3.6, \"Age\": 4.49, \"A_curv\": 0.017391304347826087, \"A_octon\": 0.021739130434782608, \"ActinSpp\": 0.09565217391304348, \"A_nodul\": 0.14347826086956522, \"CoscinSpp\": 0.0391304347826087, \"CyclotSpp\": 0.06956521739130435, \"Rop_tess\": 0.04782608695652174, \"StephanSpp\": 0.0}, {\"Depth\": 3.65, \"Age\": 4.53, \"A_curv\": 0.0375, \"A_octon\": 0.0125, \"ActinSpp\": 0.17083333333333334, \"A_nodul\": 0.025, \"CoscinSpp\": 0.05416666666666667, \"CyclotSpp\": 0.075, \"Rop_tess\": 0.041666666666666664, \"StephanSpp\": 0.0}, {\"Depth\": 3.7, \"Age\": 4.58, \"A_curv\": 0.017777777777777778, \"A_octon\": 0.008888888888888889, \"ActinSpp\": 0.16444444444444445, \"A_nodul\": 0.057777777777777775, \"CoscinSpp\": 0.08, \"CyclotSpp\": 0.06666666666666667, \"Rop_tess\": 0.04, \"StephanSpp\": 0.0}, {\"Depth\": 3.75, \"Age\": 4.62, \"A_curv\": 0.02857142857142857, \"A_octon\": 0.022222222222222223, \"ActinSpp\": 0.1523809523809524, \"A_nodul\": 0.009523809523809525, \"CoscinSpp\": 0.047619047619047616, \"CyclotSpp\": 0.05714285714285714, \"Rop_tess\": 0.0031746031746031746, \"StephanSpp\": 0.0}, {\"Depth\": 4.75, \"Age\": 5.5, \"A_curv\": 0.0196078431372549, \"A_octon\": 0.00980392156862745, \"ActinSpp\": 0.19117647058823528, \"A_nodul\": 0.04411764705882353, \"CoscinSpp\": 0.11764705882352941, \"CyclotSpp\": 0.06862745098039216, \"Rop_tess\": 0.014705882352941176, \"StephanSpp\": 0.014705882352941176}, {\"Depth\": 4.8, \"Age\": 5.54, \"A_curv\": 0.0297029702970297, \"A_octon\": 0.019801980198019802, \"ActinSpp\": 0.15346534653465346, \"A_nodul\": 0.09405940594059406, \"CoscinSpp\": 0.08415841584158416, \"CyclotSpp\": 0.07425742574257425, \"Rop_tess\": 0.0297029702970297, \"StephanSpp\": 0.0049504950495049506}, {\"Depth\": 4.85, \"Age\": 5.58, \"A_curv\": 0.024271844660194174, \"A_octon\": 0.014563106796116505, \"ActinSpp\": 0.2087378640776699, \"A_nodul\": 0.05339805825242718, \"CoscinSpp\": 0.05825242718446602, \"CyclotSpp\": 0.0825242718446602, \"Rop_tess\": 0.038834951456310676, \"StephanSpp\": 0.0}, {\"Depth\": 4.9, \"Age\": 5.63, \"A_curv\": 0.03, \"A_octon\": 0.02, \"ActinSpp\": 0.16, \"A_nodul\": 0.01, \"CoscinSpp\": 0.095, \"CyclotSpp\": 0.075, \"Rop_tess\": 0.11, \"StephanSpp\": 0.005}, {\"Depth\": 4.95, \"Age\": 5.67, \"A_curv\": 0.035, \"A_octon\": 0.035, \"ActinSpp\": 0.12, \"A_nodul\": 0.02, \"CoscinSpp\": 0.09, \"CyclotSpp\": 0.13, \"Rop_tess\": 0.08, \"StephanSpp\": 0.0}, {\"Depth\": 5.0, \"Age\": 5.72, \"A_curv\": 0.034653465346534656, \"A_octon\": 0.019801980198019802, \"ActinSpp\": 0.11386138613861387, \"A_nodul\": 0.0049504950495049506, \"CoscinSpp\": 0.08415841584158416, \"CyclotSpp\": 0.10891089108910891, \"Rop_tess\": 0.13366336633663367, \"StephanSpp\": 0.0}, {\"Depth\": 5.05, \"Age\": 5.76, \"A_curv\": 0.03755868544600939, \"A_octon\": 0.009389671361502348, \"ActinSpp\": 0.07042253521126761, \"A_nodul\": 0.0, \"CoscinSpp\": 0.046948356807511735, \"CyclotSpp\": 0.13615023474178403, \"Rop_tess\": 0.1643192488262911, \"StephanSpp\": 0.0}, {\"Depth\": 5.1, \"Age\": 5.8, \"A_curv\": 0.024630541871921183, \"A_octon\": 0.019704433497536946, \"ActinSpp\": 0.12807881773399016, \"A_nodul\": 0.0049261083743842365, \"CoscinSpp\": 0.059113300492610835, \"CyclotSpp\": 0.11330049261083744, \"Rop_tess\": 0.14285714285714285, \"StephanSpp\": 0.0}, {\"Depth\": 5.15, \"Age\": 5.85, \"A_curv\": 0.035, \"A_octon\": 0.015, \"ActinSpp\": 0.135, \"A_nodul\": 0.015, \"CoscinSpp\": 0.08, \"CyclotSpp\": 0.04, \"Rop_tess\": 0.19, \"StephanSpp\": 0.0}, {\"Depth\": 5.2, \"Age\": 5.89, \"A_curv\": 0.029850746268656716, \"A_octon\": 0.024875621890547265, \"ActinSpp\": 0.1044776119402985, \"A_nodul\": 0.05472636815920398, \"CoscinSpp\": 0.1044776119402985, \"CyclotSpp\": 0.0845771144278607, \"Rop_tess\": 0.08955223880597014, \"StephanSpp\": 0.0}, {\"Depth\": 5.25, \"Age\": 5.94, \"A_curv\": 0.035, \"A_octon\": 0.01, \"ActinSpp\": 0.24, \"A_nodul\": 0.015, \"CoscinSpp\": 0.07, \"CyclotSpp\": 0.05, \"Rop_tess\": 0.09, \"StephanSpp\": 0.0}, {\"Depth\": 5.3, \"Age\": 5.98, \"A_curv\": 0.025, \"A_octon\": 0.0, \"ActinSpp\": 0.02, \"A_nodul\": 0.005, \"CoscinSpp\": 0.01, \"CyclotSpp\": 0.065, \"Rop_tess\": 0.38, \"StephanSpp\": 0.005}, {\"Depth\": 5.35, \"Age\": 6.02, \"A_curv\": 0.025, \"A_octon\": 0.03, \"ActinSpp\": 0.09, \"A_nodul\": 0.065, \"CoscinSpp\": 0.075, \"CyclotSpp\": 0.16, \"Rop_tess\": 0.07, \"StephanSpp\": 0.0}, {\"Depth\": 5.4, \"Age\": 6.07, \"A_curv\": 0.009950248756218905, \"A_octon\": 0.01990049751243781, \"ActinSpp\": 0.07960199004975124, \"A_nodul\": 0.009950248756218905, \"CoscinSpp\": 0.05970149253731343, \"CyclotSpp\": 0.06467661691542288, \"Rop_tess\": 0.24378109452736318, \"StephanSpp\": 0.0}, {\"Depth\": 5.45, \"Age\": 6.11, \"A_curv\": 0.039473684210526314, \"A_octon\": 0.008771929824561403, \"ActinSpp\": 0.15789473684210525, \"A_nodul\": 0.017543859649122806, \"CoscinSpp\": 0.10964912280701754, \"CyclotSpp\": 0.06578947368421052, \"Rop_tess\": 0.03508771929824561, \"StephanSpp\": 0.008771929824561403}, {\"Depth\": 5.5, \"Age\": 6.15, \"A_curv\": 0.020161290322580645, \"A_octon\": 0.04435483870967742, \"ActinSpp\": 0.05241935483870968, \"A_nodul\": 0.06854838709677419, \"CoscinSpp\": 0.04838709677419355, \"CyclotSpp\": 0.056451612903225805, \"Rop_tess\": 0.11290322580645161, \"StephanSpp\": 0.0}, {\"Depth\": 5.55, \"Age\": 6.2, \"A_curv\": 0.024193548387096774, \"A_octon\": 0.04032258064516129, \"ActinSpp\": 0.06048387096774194, \"A_nodul\": 0.10483870967741936, \"CoscinSpp\": 0.036290322580645164, \"CyclotSpp\": 0.04435483870967742, \"Rop_tess\": 0.09274193548387097, \"StephanSpp\": 0.0}, {\"Depth\": 5.6, \"Age\": 6.24, \"A_curv\": 0.04128440366972477, \"A_octon\": 0.05963302752293578, \"ActinSpp\": 0.0779816513761468, \"A_nodul\": 0.0, \"CoscinSpp\": 0.10091743119266056, \"CyclotSpp\": 0.06422018348623854, \"Rop_tess\": 0.11467889908256881, \"StephanSpp\": 0.0}, {\"Depth\": 5.65, \"Age\": 6.29, \"A_curv\": 0.03686635944700461, \"A_octon\": 0.027649769585253458, \"ActinSpp\": 0.08755760368663594, \"A_nodul\": 0.0, \"CoscinSpp\": 0.06912442396313365, \"CyclotSpp\": 0.09216589861751152, \"Rop_tess\": 0.14746543778801843, \"StephanSpp\": 0.0}, {\"Depth\": 5.7, \"Age\": 6.33, \"A_curv\": 0.012096774193548387, \"A_octon\": 0.016129032258064516, \"ActinSpp\": 0.04435483870967742, \"A_nodul\": 0.0, \"CoscinSpp\": 0.04032258064516129, \"CyclotSpp\": 0.03225806451612903, \"Rop_tess\": 0.2540322580645161, \"StephanSpp\": 0.0}, {\"Depth\": 5.75, \"Age\": 6.37, \"A_curv\": 0.03619909502262444, \"A_octon\": 0.04524886877828054, \"ActinSpp\": 0.08144796380090498, \"A_nodul\": 0.00904977375565611, \"CoscinSpp\": 0.08597285067873303, \"CyclotSpp\": 0.058823529411764705, \"Rop_tess\": 0.13574660633484162, \"StephanSpp\": 0.0}, {\"Depth\": 5.8, \"Age\": 6.42, \"A_curv\": 0.06, \"A_octon\": 0.02, \"ActinSpp\": 0.075, \"A_nodul\": 0.005, \"CoscinSpp\": 0.085, \"CyclotSpp\": 0.09, \"Rop_tess\": 0.17, \"StephanSpp\": 0.0}, {\"Depth\": 5.85, \"Age\": 6.46, \"A_curv\": 0.075, \"A_octon\": 0.015, \"ActinSpp\": 0.14, \"A_nodul\": 0.005, \"CoscinSpp\": 0.09, \"CyclotSpp\": 0.05, \"Rop_tess\": 0.135, \"StephanSpp\": 0.0}, {\"Depth\": 5.9, \"Age\": 6.51, \"A_curv\": 0.024752475247524754, \"A_octon\": 0.0297029702970297, \"ActinSpp\": 0.054455445544554455, \"A_nodul\": 0.0, \"CoscinSpp\": 0.07920792079207921, \"CyclotSpp\": 0.10396039603960396, \"Rop_tess\": 0.20297029702970298, \"StephanSpp\": 0.0}, {\"Depth\": 5.95, \"Age\": 6.55, \"A_curv\": 0.054187192118226604, \"A_octon\": 0.014778325123152709, \"ActinSpp\": 0.12807881773399016, \"A_nodul\": 0.0, \"CoscinSpp\": 0.12315270935960591, \"CyclotSpp\": 0.06896551724137931, \"Rop_tess\": 0.10344827586206896, \"StephanSpp\": 0.0}, {\"Depth\": 6.0, \"Age\": 6.59, \"A_curv\": 0.05, \"A_octon\": 0.01, \"ActinSpp\": 0.185, \"A_nodul\": 0.0, \"CoscinSpp\": 0.06, \"CyclotSpp\": 0.105, \"Rop_tess\": 0.09, \"StephanSpp\": 0.005}, {\"Depth\": 6.05, \"Age\": 6.64, \"A_curv\": 0.013513513513513514, \"A_octon\": 0.009009009009009009, \"ActinSpp\": 0.11711711711711711, \"A_nodul\": 0.009009009009009009, \"CoscinSpp\": 0.14414414414414414, \"CyclotSpp\": 0.05405405405405406, \"Rop_tess\": 0.0945945945945946, \"StephanSpp\": 0.009009009009009009}, {\"Depth\": 6.1, \"Age\": 6.68, \"A_curv\": 0.023809523809523808, \"A_octon\": 0.02857142857142857, \"ActinSpp\": 0.19523809523809524, \"A_nodul\": 0.004761904761904762, \"CoscinSpp\": 0.12380952380952381, \"CyclotSpp\": 0.09047619047619047, \"Rop_tess\": 0.009523809523809525, \"StephanSpp\": 0.0}, {\"Depth\": 6.15, \"Age\": 6.72, \"A_curv\": 0.017777777777777778, \"A_octon\": 0.008888888888888889, \"ActinSpp\": 0.16, \"A_nodul\": 0.0044444444444444444, \"CoscinSpp\": 0.07111111111111111, \"CyclotSpp\": 0.04, \"Rop_tess\": 0.14222222222222222, \"StephanSpp\": 0.0}, {\"Depth\": 6.2, \"Age\": 6.77, \"A_curv\": 0.03404255319148936, \"A_octon\": 0.01276595744680851, \"ActinSpp\": 0.2, \"A_nodul\": 0.0, \"CoscinSpp\": 0.0851063829787234, \"CyclotSpp\": 0.04680851063829787, \"Rop_tess\": 0.04680851063829787, \"StephanSpp\": 0.0}, {\"Depth\": 6.25, \"Age\": 6.81, \"A_curv\": 0.017316017316017316, \"A_octon\": 0.012987012987012988, \"ActinSpp\": 0.11688311688311688, \"A_nodul\": 0.0, \"CoscinSpp\": 0.10822510822510822, \"CyclotSpp\": 0.04329004329004329, \"Rop_tess\": 0.1341991341991342, \"StephanSpp\": 0.0}, {\"Depth\": 6.3, \"Age\": 6.86, \"A_curv\": 0.034653465346534656, \"A_octon\": 0.0297029702970297, \"ActinSpp\": 0.06930693069306931, \"A_nodul\": 0.0, \"CoscinSpp\": 0.04950495049504951, \"CyclotSpp\": 0.09405940594059406, \"Rop_tess\": 0.21782178217821782, \"StephanSpp\": 0.0}, {\"Depth\": 6.35, \"Age\": 6.9, \"A_curv\": 0.01951219512195122, \"A_octon\": 0.004878048780487805, \"ActinSpp\": 0.22926829268292684, \"A_nodul\": 0.0, \"CoscinSpp\": 0.14634146341463414, \"CyclotSpp\": 0.07317073170731707, \"Rop_tess\": 0.014634146341463415, \"StephanSpp\": 0.0}, {\"Depth\": 6.4, \"Age\": 6.94, \"A_curv\": 0.01, \"A_octon\": 0.0, \"ActinSpp\": 0.02, \"A_nodul\": 0.0, \"CoscinSpp\": 0.02, \"CyclotSpp\": 0.025, \"Rop_tess\": 0.435, \"StephanSpp\": 0.0}, {\"Depth\": 6.45, \"Age\": 6.99, \"A_curv\": 0.035398230088495575, \"A_octon\": 0.008849557522123894, \"ActinSpp\": 0.19469026548672566, \"A_nodul\": 0.004424778761061947, \"CoscinSpp\": 0.10176991150442478, \"CyclotSpp\": 0.061946902654867256, \"Rop_tess\": 0.02654867256637168, \"StephanSpp\": 0.008849557522123894}, {\"Depth\": 6.5, \"Age\": 7.03, \"A_curv\": 0.02, \"A_octon\": 0.015, \"ActinSpp\": 0.105, \"A_nodul\": 0.055, \"CoscinSpp\": 0.075, \"CyclotSpp\": 0.06, \"Rop_tess\": 0.175, \"StephanSpp\": 0.005}, {\"Depth\": 6.55, \"Age\": 7.08, \"A_curv\": 0.011904761904761904, \"A_octon\": 0.011904761904761904, \"ActinSpp\": 0.17063492063492064, \"A_nodul\": 0.031746031746031744, \"CoscinSpp\": 0.1111111111111111, \"CyclotSpp\": 0.03571428571428571, \"Rop_tess\": 0.023809523809523808, \"StephanSpp\": 0.003968253968253968}, {\"Depth\": 6.6, \"Age\": 7.12, \"A_curv\": 0.013452914798206279, \"A_octon\": 0.008968609865470852, \"ActinSpp\": 0.17937219730941703, \"A_nodul\": 0.004484304932735426, \"CoscinSpp\": 0.08071748878923767, \"CyclotSpp\": 0.13004484304932734, \"Rop_tess\": 0.03139013452914798, \"StephanSpp\": 0.0}, {\"Depth\": 6.65, \"Age\": 7.16, \"A_curv\": 0.02145922746781116, \"A_octon\": 0.02145922746781116, \"ActinSpp\": 0.11158798283261803, \"A_nodul\": 0.004291845493562232, \"CoscinSpp\": 0.11587982832618025, \"CyclotSpp\": 0.09012875536480687, \"Rop_tess\": 0.06437768240343347, \"StephanSpp\": 0.0}, {\"Depth\": 6.7, \"Age\": 7.21, \"A_curv\": 0.01327433628318584, \"A_octon\": 0.017699115044247787, \"ActinSpp\": 0.1415929203539823, \"A_nodul\": 0.0, \"CoscinSpp\": 0.10619469026548672, \"CyclotSpp\": 0.09292035398230089, \"Rop_tess\": 0.061946902654867256, \"StephanSpp\": 0.0}, {\"Depth\": 6.75, \"Age\": 7.25, \"A_curv\": 0.04128440366972477, \"A_octon\": 0.03211009174311927, \"ActinSpp\": 0.10550458715596331, \"A_nodul\": 0.0, \"CoscinSpp\": 0.10550458715596331, \"CyclotSpp\": 0.07339449541284404, \"Rop_tess\": 0.0963302752293578, \"StephanSpp\": 0.0045871559633027525}, {\"Depth\": 6.8, \"Age\": 7.29, \"A_curv\": 0.00816326530612245, \"A_octon\": 0.02040816326530612, \"ActinSpp\": 0.0653061224489796, \"A_nodul\": 0.0, \"CoscinSpp\": 0.02857142857142857, \"CyclotSpp\": 0.04897959183673469, \"Rop_tess\": 0.23673469387755103, \"StephanSpp\": 0.0}, {\"Depth\": 6.85, \"Age\": 7.34, \"A_curv\": 0.008547008547008548, \"A_octon\": 0.017094017094017096, \"ActinSpp\": 0.07692307692307693, \"A_nodul\": 0.0, \"CoscinSpp\": 0.06837606837606838, \"CyclotSpp\": 0.029914529914529916, \"Rop_tess\": 0.2264957264957265, \"StephanSpp\": 0.0}, {\"Depth\": 6.9, \"Age\": 7.38, \"A_curv\": 0.04, \"A_octon\": 0.025, \"ActinSpp\": 0.08, \"A_nodul\": 0.0, \"CoscinSpp\": 0.145, \"CyclotSpp\": 0.02, \"Rop_tess\": 0.19, \"StephanSpp\": 0.005}, {\"Depth\": 6.95, \"Age\": 7.43, \"A_curv\": 0.05, \"A_octon\": 0.025, \"ActinSpp\": 0.135, \"A_nodul\": 0.005, \"CoscinSpp\": 0.16, \"CyclotSpp\": 0.04, \"Rop_tess\": 0.09, \"StephanSpp\": 0.0}, {\"Depth\": 7.0, \"Age\": 7.47, \"A_curv\": 0.014634146341463415, \"A_octon\": 0.01951219512195122, \"ActinSpp\": 0.08780487804878048, \"A_nodul\": 0.004878048780487805, \"CoscinSpp\": 0.1073170731707317, \"CyclotSpp\": 0.01951219512195122, \"Rop_tess\": 0.22926829268292684, \"StephanSpp\": 0.004878048780487805}, {\"Depth\": 7.05, \"Age\": 7.51, \"A_curv\": 0.028455284552845527, \"A_octon\": 0.016260162601626018, \"ActinSpp\": 0.17073170731707318, \"A_nodul\": 0.0, \"CoscinSpp\": 0.08943089430894309, \"CyclotSpp\": 0.06097560975609756, \"Rop_tess\": 0.04065040650406504, \"StephanSpp\": 0.0}, {\"Depth\": 7.1, \"Age\": 7.56, \"A_curv\": 0.029166666666666667, \"A_octon\": 0.0125, \"ActinSpp\": 0.14166666666666666, \"A_nodul\": 0.0, \"CoscinSpp\": 0.1, \"CyclotSpp\": 0.058333333333333334, \"Rop_tess\": 0.075, \"StephanSpp\": 0.0}, {\"Depth\": 7.15, \"Age\": 7.6, \"A_curv\": 0.04975124378109453, \"A_octon\": 0.01990049751243781, \"ActinSpp\": 0.08955223880597014, \"A_nodul\": 0.0, \"CoscinSpp\": 0.0845771144278607, \"CyclotSpp\": 0.03482587064676617, \"Rop_tess\": 0.18407960199004975, \"StephanSpp\": 0.024875621890547265}, {\"Depth\": 7.2, \"Age\": 7.65, \"A_curv\": 0.01937984496124031, \"A_octon\": 0.027131782945736434, \"ActinSpp\": 0.12403100775193798, \"A_nodul\": 0.0, \"CoscinSpp\": 0.08139534883720931, \"CyclotSpp\": 0.05426356589147287, \"Rop_tess\": 0.08139534883720931, \"StephanSpp\": 0.0}, {\"Depth\": 7.25, \"Age\": 7.69, \"A_curv\": 0.015, \"A_octon\": 0.025, \"ActinSpp\": 0.215, \"A_nodul\": 0.0, \"CoscinSpp\": 0.12, \"CyclotSpp\": 0.055, \"Rop_tess\": 0.075, \"StephanSpp\": 0.0}, {\"Depth\": 7.3, \"Age\": 7.73, \"A_curv\": 0.0075, \"A_octon\": 0.005, \"ActinSpp\": 0.03, \"A_nodul\": 0.0, \"CoscinSpp\": 0.02, \"CyclotSpp\": 0.01, \"Rop_tess\": 0.1775, \"StephanSpp\": 0.0}, {\"Depth\": 7.35, \"Age\": 7.78, \"A_curv\": 0.013392857142857142, \"A_octon\": 0.017857142857142856, \"ActinSpp\": 0.14732142857142858, \"A_nodul\": 0.0, \"CoscinSpp\": 0.12946428571428573, \"CyclotSpp\": 0.07142857142857142, \"Rop_tess\": 0.06696428571428571, \"StephanSpp\": 0.004464285714285714}, {\"Depth\": 7.4, \"Age\": 7.82, \"A_curv\": 0.04, \"A_octon\": 0.015, \"ActinSpp\": 0.165, \"A_nodul\": 0.005, \"CoscinSpp\": 0.115, \"CyclotSpp\": 0.08, \"Rop_tess\": 0.085, \"StephanSpp\": 0.005}, {\"Depth\": 7.45, \"Age\": 7.87, \"A_curv\": 0.0049504950495049506, \"A_octon\": 0.034653465346534656, \"ActinSpp\": 0.0891089108910891, \"A_nodul\": 0.0, \"CoscinSpp\": 0.04950495049504951, \"CyclotSpp\": 0.06930693069306931, \"Rop_tess\": 0.24752475247524752, \"StephanSpp\": 0.0}, {\"Depth\": 7.5, \"Age\": 7.91, \"A_curv\": 0.019801980198019802, \"A_octon\": 0.009900990099009901, \"ActinSpp\": 0.14356435643564355, \"A_nodul\": 0.009900990099009901, \"CoscinSpp\": 0.08415841584158416, \"CyclotSpp\": 0.04455445544554455, \"Rop_tess\": 0.1782178217821782, \"StephanSpp\": 0.0}, {\"Depth\": 7.55, \"Age\": 7.95, \"A_curv\": 0.023696682464454975, \"A_octon\": 0.05687203791469194, \"ActinSpp\": 0.14691943127962084, \"A_nodul\": 0.0, \"CoscinSpp\": 0.12796208530805686, \"CyclotSpp\": 0.07582938388625593, \"Rop_tess\": 0.04265402843601896, \"StephanSpp\": 0.0}, {\"Depth\": 7.6, \"Age\": 8.0, \"A_curv\": 0.024630541871921183, \"A_octon\": 0.054187192118226604, \"ActinSpp\": 0.14285714285714285, \"A_nodul\": 0.0, \"CoscinSpp\": 0.06896551724137931, \"CyclotSpp\": 0.09852216748768473, \"Rop_tess\": 0.10344827586206896, \"StephanSpp\": 0.0}, {\"Depth\": 7.65, \"Age\": 8.04, \"A_curv\": 0.019704433497536946, \"A_octon\": 0.0049261083743842365, \"ActinSpp\": 0.04926108374384237, \"A_nodul\": 0.0, \"CoscinSpp\": 0.009852216748768473, \"CyclotSpp\": 0.04433497536945813, \"Rop_tess\": 0.35467980295566504, \"StephanSpp\": 0.0}, {\"Depth\": 7.7, \"Age\": 8.08, \"A_curv\": 0.034482758620689655, \"A_octon\": 0.06403940886699508, \"ActinSpp\": 0.12807881773399016, \"A_nodul\": 0.0, \"CoscinSpp\": 0.07881773399014778, \"CyclotSpp\": 0.10837438423645321, \"Rop_tess\": 0.06403940886699508, \"StephanSpp\": 0.014778325123152709}, {\"Depth\": 7.75, \"Age\": 8.13, \"A_curv\": 0.021367521367521368, \"A_octon\": 0.02564102564102564, \"ActinSpp\": 0.1452991452991453, \"A_nodul\": 0.004273504273504274, \"CoscinSpp\": 0.08547008547008547, \"CyclotSpp\": 0.1282051282051282, \"Rop_tess\": 0.017094017094017096, \"StephanSpp\": 0.0}, {\"Depth\": 7.8, \"Age\": 8.17, \"A_curv\": 0.024390243902439025, \"A_octon\": 0.024390243902439025, \"ActinSpp\": 0.08292682926829269, \"A_nodul\": 0.004878048780487805, \"CoscinSpp\": 0.07317073170731707, \"CyclotSpp\": 0.12195121951219512, \"Rop_tess\": 0.15121951219512195, \"StephanSpp\": 0.0}, {\"Depth\": 8.3, \"Age\": 8.61, \"A_curv\": 0.019801980198019802, \"A_octon\": 0.009900990099009901, \"ActinSpp\": 0.13366336633663367, \"A_nodul\": 0.0, \"CoscinSpp\": 0.0891089108910891, \"CyclotSpp\": 0.0049504950495049506, \"Rop_tess\": 0.2376237623762376, \"StephanSpp\": 0.0}, {\"Depth\": 8.35, \"Age\": 8.65, \"A_curv\": 0.047619047619047616, \"A_octon\": 0.009523809523809525, \"ActinSpp\": 0.14285714285714285, \"A_nodul\": 0.0, \"CoscinSpp\": 0.19523809523809524, \"CyclotSpp\": 0.047619047619047616, \"Rop_tess\": 0.02857142857142857, \"StephanSpp\": 0.0}, {\"Depth\": 8.4, \"Age\": 8.7, \"A_curv\": 0.014634146341463415, \"A_octon\": 0.024390243902439025, \"ActinSpp\": 0.1902439024390244, \"A_nodul\": 0.0, \"CoscinSpp\": 0.12682926829268293, \"CyclotSpp\": 0.014634146341463415, \"Rop_tess\": 0.11219512195121951, \"StephanSpp\": 0.0}, {\"Depth\": 8.45, \"Age\": 8.74, \"A_curv\": 0.024875621890547265, \"A_octon\": 0.18407960199004975, \"ActinSpp\": 0.11442786069651742, \"A_nodul\": 0.0, \"CoscinSpp\": 0.12935323383084577, \"CyclotSpp\": 0.004975124378109453, \"Rop_tess\": 0.029850746268656716, \"StephanSpp\": 0.0}, {\"Depth\": 8.5, \"Age\": 8.79, \"A_curv\": 0.025, \"A_octon\": 0.01, \"ActinSpp\": 0.135, \"A_nodul\": 0.0, \"CoscinSpp\": 0.11, \"CyclotSpp\": 0.055, \"Rop_tess\": 0.165, \"StephanSpp\": 0.005}, {\"Depth\": 8.55, \"Age\": 8.83, \"A_curv\": 0.00980392156862745, \"A_octon\": 0.00980392156862745, \"ActinSpp\": 0.24019607843137256, \"A_nodul\": 0.0, \"CoscinSpp\": 0.06862745098039216, \"CyclotSpp\": 0.03431372549019608, \"Rop_tess\": 0.12745098039215685, \"StephanSpp\": 0.0}, {\"Depth\": 8.6, \"Age\": 8.87, \"A_curv\": 0.013636363636363636, \"A_octon\": 0.01818181818181818, \"ActinSpp\": 0.22272727272727272, \"A_nodul\": 0.0, \"CoscinSpp\": 0.12727272727272726, \"CyclotSpp\": 0.03636363636363636, \"Rop_tess\": 0.03636363636363636, \"StephanSpp\": 0.0}, {\"Depth\": 8.65, \"Age\": 8.92, \"A_curv\": 0.0048543689320388345, \"A_octon\": 0.0048543689320388345, \"ActinSpp\": 0.2087378640776699, \"A_nodul\": 0.0, \"CoscinSpp\": 0.043689320388349516, \"CyclotSpp\": 0.11165048543689321, \"Rop_tess\": 0.11165048543689321, \"StephanSpp\": 0.0}, {\"Depth\": 8.7, \"Age\": 8.96, \"A_curv\": 0.03482587064676617, \"A_octon\": 0.014925373134328358, \"ActinSpp\": 0.24378109452736318, \"A_nodul\": 0.0, \"CoscinSpp\": 0.12437810945273632, \"CyclotSpp\": 0.04477611940298507, \"Rop_tess\": 0.024875621890547265, \"StephanSpp\": 0.0}, {\"Depth\": 9.5, \"Age\": 10.1, \"A_curv\": 0.04, \"A_octon\": 0.015, \"ActinSpp\": 0.22, \"A_nodul\": 0.0, \"CoscinSpp\": 0.06, \"CyclotSpp\": 0.05, \"Rop_tess\": 0.125, \"StephanSpp\": 0.0}, {\"Depth\": 9.55, \"Age\": 10.18, \"A_curv\": 0.025, \"A_octon\": 0.005, \"ActinSpp\": 0.165, \"A_nodul\": 0.0, \"CoscinSpp\": 0.06, \"CyclotSpp\": 0.025, \"Rop_tess\": 0.225, \"StephanSpp\": 0.0}, {\"Depth\": 9.6, \"Age\": 10.27, \"A_curv\": 0.04477611940298507, \"A_octon\": 0.014925373134328358, \"ActinSpp\": 0.263681592039801, \"A_nodul\": 0.004975124378109453, \"CoscinSpp\": 0.08955223880597014, \"CyclotSpp\": 0.004975124378109453, \"Rop_tess\": 0.04975124378109453, \"StephanSpp\": 0.01990049751243781}, {\"Depth\": 9.65, \"Age\": 10.35, \"A_curv\": 0.024752475247524754, \"A_octon\": 0.0297029702970297, \"ActinSpp\": 0.15841584158415842, \"A_nodul\": 0.0049504950495049506, \"CoscinSpp\": 0.09900990099009901, \"CyclotSpp\": 0.04455445544554455, \"Rop_tess\": 0.12871287128712872, \"StephanSpp\": 0.0}, {\"Depth\": 9.7, \"Age\": 10.43, \"A_curv\": 0.054455445544554455, \"A_octon\": 0.009900990099009901, \"ActinSpp\": 0.22772277227722773, \"A_nodul\": 0.0, \"CoscinSpp\": 0.13861386138613863, \"CyclotSpp\": 0.0297029702970297, \"Rop_tess\": 0.024752475247524754, \"StephanSpp\": 0.009900990099009901}, {\"Depth\": 9.75, \"Age\": 10.52, \"A_curv\": 0.06403940886699508, \"A_octon\": 0.04926108374384237, \"ActinSpp\": 0.14285714285714285, \"A_nodul\": 0.0, \"CoscinSpp\": 0.09852216748768473, \"CyclotSpp\": 0.06896551724137931, \"Rop_tess\": 0.06403940886699508, \"StephanSpp\": 0.0}, {\"Depth\": 9.8, \"Age\": 10.6, \"A_curv\": 0.075, \"A_octon\": 0.01, \"ActinSpp\": 0.2, \"A_nodul\": 0.005, \"CoscinSpp\": 0.125, \"CyclotSpp\": 0.015, \"Rop_tess\": 0.08, \"StephanSpp\": 0.0}, {\"Depth\": 9.85, \"Age\": 10.68, \"A_curv\": 0.06, \"A_octon\": 0.01, \"ActinSpp\": 0.25, \"A_nodul\": 0.06, \"CoscinSpp\": 0.105, \"CyclotSpp\": 0.005, \"Rop_tess\": 0.02, \"StephanSpp\": 0.0}, {\"Depth\": 9.9, \"Age\": 10.77, \"A_curv\": 0.029850746268656716, \"A_octon\": 0.004975124378109453, \"ActinSpp\": 0.24875621890547264, \"A_nodul\": 0.07960199004975124, \"CoscinSpp\": 0.06965174129353234, \"CyclotSpp\": 0.029850746268656716, \"Rop_tess\": 0.029850746268656716, \"StephanSpp\": 0.0}, {\"Depth\": 9.95, \"Age\": 10.85, \"A_curv\": 0.034653465346534656, \"A_octon\": 0.009900990099009901, \"ActinSpp\": 0.22772277227722773, \"A_nodul\": 0.04950495049504951, \"CoscinSpp\": 0.13366336633663367, \"CyclotSpp\": 0.019801980198019802, \"Rop_tess\": 0.0049504950495049506, \"StephanSpp\": 0.0049504950495049506}, {\"Depth\": 10.0, \"Age\": 10.93, \"A_curv\": 0.01990049751243781, \"A_octon\": 0.014925373134328358, \"ActinSpp\": 0.19900497512437812, \"A_nodul\": 0.11442786069651742, \"CoscinSpp\": 0.13432835820895522, \"CyclotSpp\": 0.0, \"Rop_tess\": 0.009950248756218905, \"StephanSpp\": 0.0}, {\"Depth\": 10.05, \"Age\": 11.02, \"A_curv\": 0.04433497536945813, \"A_octon\": 0.0049261083743842365, \"ActinSpp\": 0.2561576354679803, \"A_nodul\": 0.08866995073891626, \"CoscinSpp\": 0.06403940886699508, \"CyclotSpp\": 0.024630541871921183, \"Rop_tess\": 0.0049261083743842365, \"StephanSpp\": 0.0}, {\"Depth\": 10.1, \"Age\": 11.1, \"A_curv\": 0.034482758620689655, \"A_octon\": 0.0049261083743842365, \"ActinSpp\": 0.16748768472906403, \"A_nodul\": 0.054187192118226604, \"CoscinSpp\": 0.1625615763546798, \"CyclotSpp\": 0.024630541871921183, \"Rop_tess\": 0.029556650246305417, \"StephanSpp\": 0.0049261083743842365}, {\"Depth\": 10.15, \"Age\": 11.18, \"A_curv\": 0.054455445544554455, \"A_octon\": 0.0, \"ActinSpp\": 0.15346534653465346, \"A_nodul\": 0.09900990099009901, \"CoscinSpp\": 0.09900990099009901, \"CyclotSpp\": 0.01485148514851485, \"Rop_tess\": 0.06435643564356436, \"StephanSpp\": 0.0049504950495049506}, {\"Depth\": 10.2, \"Age\": 11.27, \"A_curv\": 0.0196078431372549, \"A_octon\": 0.0, \"ActinSpp\": 0.15196078431372548, \"A_nodul\": 0.058823529411764705, \"CoscinSpp\": 0.14215686274509803, \"CyclotSpp\": 0.04411764705882353, \"Rop_tess\": 0.07352941176470588, \"StephanSpp\": 0.0}, {\"Depth\": 10.25, \"Age\": 11.35, \"A_curv\": 0.03902439024390244, \"A_octon\": 0.00975609756097561, \"ActinSpp\": 0.17560975609756097, \"A_nodul\": 0.08780487804878048, \"CoscinSpp\": 0.08780487804878048, \"CyclotSpp\": 0.05853658536585366, \"Rop_tess\": 0.02926829268292683, \"StephanSpp\": 0.0}, {\"Depth\": 10.3, \"Age\": 11.43, \"A_curv\": 0.024509803921568627, \"A_octon\": 0.004901960784313725, \"ActinSpp\": 0.13725490196078433, \"A_nodul\": 0.049019607843137254, \"CoscinSpp\": 0.12745098039215685, \"CyclotSpp\": 0.024509803921568627, \"Rop_tess\": 0.12254901960784313, \"StephanSpp\": 0.0}, {\"Depth\": 10.35, \"Age\": 11.52, \"A_curv\": 0.01990049751243781, \"A_octon\": 0.01990049751243781, \"ActinSpp\": 0.19900497512437812, \"A_nodul\": 0.04975124378109453, \"CoscinSpp\": 0.12935323383084577, \"CyclotSpp\": 0.03482587064676617, \"Rop_tess\": 0.03980099502487562, \"StephanSpp\": 0.0}, {\"Depth\": 10.4, \"Age\": 11.6, \"A_curv\": 0.034482758620689655, \"A_octon\": 0.009852216748768473, \"ActinSpp\": 0.22660098522167488, \"A_nodul\": 0.024630541871921183, \"CoscinSpp\": 0.12807881773399016, \"CyclotSpp\": 0.029556650246305417, \"Rop_tess\": 0.034482758620689655, \"StephanSpp\": 0.0}, {\"Depth\": 10.45, \"Age\": 11.68, \"A_curv\": 0.009950248756218905, \"A_octon\": 0.024875621890547265, \"ActinSpp\": 0.18407960199004975, \"A_nodul\": 0.11442786069651742, \"CoscinSpp\": 0.09950248756218906, \"CyclotSpp\": 0.04477611940298507, \"Rop_tess\": 0.014925373134328358, \"StephanSpp\": 0.0}, {\"Depth\": 10.5, \"Age\": 11.77, \"A_curv\": 0.0, \"A_octon\": 0.0048543689320388345, \"ActinSpp\": 0.0970873786407767, \"A_nodul\": 0.13592233009708737, \"CoscinSpp\": 0.1407766990291262, \"CyclotSpp\": 0.0825242718446602, \"Rop_tess\": 0.024271844660194174, \"StephanSpp\": 0.0}, {\"Depth\": 10.55, \"Age\": 11.85, \"A_curv\": 0.0, \"A_octon\": 0.004807692307692308, \"ActinSpp\": 0.038461538461538464, \"A_nodul\": 0.28846153846153844, \"CoscinSpp\": 0.10576923076923077, \"CyclotSpp\": 0.038461538461538464, \"Rop_tess\": 0.004807692307692308, \"StephanSpp\": 0.0}, {\"Depth\": 10.6, \"Age\": 11.93, \"A_curv\": 0.009615384615384616, \"A_octon\": 0.0, \"ActinSpp\": 0.09134615384615384, \"A_nodul\": 0.1971153846153846, \"CoscinSpp\": 0.1201923076923077, \"CyclotSpp\": 0.052884615384615384, \"Rop_tess\": 0.0, \"StephanSpp\": 0.0}, {\"Depth\": 10.65, \"Age\": 12.02, \"A_curv\": 0.0049504950495049506, \"A_octon\": 0.0049504950495049506, \"ActinSpp\": 0.06930693069306931, \"A_nodul\": 0.30198019801980197, \"CoscinSpp\": 0.054455445544554455, \"CyclotSpp\": 0.054455445544554455, \"Rop_tess\": 0.0, \"StephanSpp\": 0.0}, {\"Depth\": 10.7, \"Age\": 12.1, \"A_curv\": 0.0049261083743842365, \"A_octon\": 0.009852216748768473, \"ActinSpp\": 0.04926108374384237, \"A_nodul\": 0.3054187192118227, \"CoscinSpp\": 0.06896551724137931, \"CyclotSpp\": 0.04926108374384237, \"Rop_tess\": 0.0, \"StephanSpp\": 0.0}, {\"Depth\": 10.75, \"Age\": 12.18, \"A_curv\": 0.019704433497536946, \"A_octon\": 0.0049261083743842365, \"ActinSpp\": 0.034482758620689655, \"A_nodul\": 0.31527093596059114, \"CoscinSpp\": 0.06403940886699508, \"CyclotSpp\": 0.054187192118226604, \"Rop_tess\": 0.0, \"StephanSpp\": 0.0}, {\"Depth\": 10.8, \"Age\": 12.27, \"A_curv\": 0.009900990099009901, \"A_octon\": 0.0049504950495049506, \"ActinSpp\": 0.06930693069306931, \"A_nodul\": 0.26732673267326734, \"CoscinSpp\": 0.08415841584158416, \"CyclotSpp\": 0.054455445544554455, \"Rop_tess\": 0.0049504950495049506, \"StephanSpp\": 0.0}, {\"Depth\": 10.85, \"Age\": 12.35, \"A_curv\": 0.00975609756097561, \"A_octon\": 0.004878048780487805, \"ActinSpp\": 0.05853658536585366, \"A_nodul\": 0.2926829268292683, \"CoscinSpp\": 0.07804878048780488, \"CyclotSpp\": 0.03902439024390244, \"Rop_tess\": 0.0, \"StephanSpp\": 0.0}, {\"Depth\": 10.9, \"Age\": 12.43, \"A_curv\": 0.004901960784313725, \"A_octon\": 0.00980392156862745, \"ActinSpp\": 0.06372549019607843, \"A_nodul\": 0.25980392156862747, \"CoscinSpp\": 0.09313725490196079, \"CyclotSpp\": 0.05392156862745098, \"Rop_tess\": 0.0, \"StephanSpp\": 0.0}, {\"Depth\": 10.95, \"Age\": 12.52, \"A_curv\": 0.009852216748768473, \"A_octon\": 0.009852216748768473, \"ActinSpp\": 0.06896551724137931, \"A_nodul\": 0.2512315270935961, \"CoscinSpp\": 0.08866995073891626, \"CyclotSpp\": 0.059113300492610835, \"Rop_tess\": 0.0049261083743842365, \"StephanSpp\": 0.0}, {\"Depth\": 11.0, \"Age\": 12.64, \"A_curv\": 0.0049504950495049506, \"A_octon\": 0.009900990099009901, \"ActinSpp\": 0.09405940594059406, \"A_nodul\": 0.21287128712871287, \"CoscinSpp\": 0.10891089108910891, \"CyclotSpp\": 0.0594059405940594, \"Rop_tess\": 0.0, \"StephanSpp\": 0.0049504950495049506}, {\"Depth\": 11.05, \"Age\": 12.73, \"A_curv\": 0.0049504950495049506, \"A_octon\": 0.0049504950495049506, \"ActinSpp\": 0.06435643564356436, \"A_nodul\": 0.25742574257425743, \"CoscinSpp\": 0.09405940594059406, \"CyclotSpp\": 0.054455445544554455, \"Rop_tess\": 0.0049504950495049506, \"StephanSpp\": 0.0}, {\"Depth\": 11.35, \"Age\": 13.08, \"A_curv\": 0.023923444976076555, \"A_octon\": 0.03827751196172249, \"ActinSpp\": 0.17703349282296652, \"A_nodul\": 0.1339712918660287, \"CoscinSpp\": 0.06698564593301436, \"CyclotSpp\": 0.023923444976076555, \"Rop_tess\": 0.0, \"StephanSpp\": 0.004784688995215311}, {\"Depth\": 11.4, \"Age\": 13.12, \"A_curv\": 0.0196078431372549, \"A_octon\": 0.0392156862745098, \"ActinSpp\": 0.10294117647058823, \"A_nodul\": 0.25980392156862747, \"CoscinSpp\": 0.05392156862745098, \"CyclotSpp\": 0.014705882352941176, \"Rop_tess\": 0.0, \"StephanSpp\": 0.0}, {\"Depth\": 11.45, \"Age\": 13.17, \"A_curv\": 0.009708737864077669, \"A_octon\": 0.038834951456310676, \"ActinSpp\": 0.1407766990291262, \"A_nodul\": 0.18446601941747573, \"CoscinSpp\": 0.10194174757281553, \"CyclotSpp\": 0.009708737864077669, \"Rop_tess\": 0.0, \"StephanSpp\": 0.0}, {\"Depth\": 11.5, \"Age\": 13.21, \"A_curv\": 0.054187192118226604, \"A_octon\": 0.019704433497536946, \"ActinSpp\": 0.14285714285714285, \"A_nodul\": 0.12807881773399016, \"CoscinSpp\": 0.11822660098522167, \"CyclotSpp\": 0.024630541871921183, \"Rop_tess\": 0.0, \"StephanSpp\": 0.0}, {\"Depth\": 11.55, \"Age\": 13.26, \"A_curv\": 0.00980392156862745, \"A_octon\": 0.0, \"ActinSpp\": 0.2107843137254902, \"A_nodul\": 0.18627450980392157, \"CoscinSpp\": 0.06862745098039216, \"CyclotSpp\": 0.00980392156862745, \"Rop_tess\": 0.0, \"StephanSpp\": 0.0}, {\"Depth\": 11.6, \"Age\": 13.3, \"A_curv\": 0.05263157894736842, \"A_octon\": 0.019138755980861243, \"ActinSpp\": 0.15311004784688995, \"A_nodul\": 0.11961722488038277, \"CoscinSpp\": 0.07177033492822966, \"CyclotSpp\": 0.05741626794258373, \"Rop_tess\": 0.0, \"StephanSpp\": 0.004784688995215311}, {\"Depth\": 11.65, \"Age\": 13.35, \"A_curv\": 0.02912621359223301, \"A_octon\": 0.03398058252427184, \"ActinSpp\": 0.1407766990291262, \"A_nodul\": 0.1262135922330097, \"CoscinSpp\": 0.1262135922330097, \"CyclotSpp\": 0.024271844660194174, \"Rop_tess\": 0.0, \"StephanSpp\": 0.0}, {\"Depth\": 11.7, \"Age\": 13.39, \"A_curv\": 0.029411764705882353, \"A_octon\": 0.00980392156862745, \"ActinSpp\": 0.20588235294117646, \"A_nodul\": 0.13725490196078433, \"CoscinSpp\": 0.08823529411764706, \"CyclotSpp\": 0.014705882352941176, \"Rop_tess\": 0.0, \"StephanSpp\": 0.0}, {\"Depth\": 11.75, \"Age\": 13.44, \"A_curv\": 0.10396039603960396, \"A_octon\": 0.0049504950495049506, \"ActinSpp\": 0.16336633663366337, \"A_nodul\": 0.0297029702970297, \"CoscinSpp\": 0.07425742574257425, \"CyclotSpp\": 0.10891089108910891, \"Rop_tess\": 0.0049504950495049506, \"StephanSpp\": 0.0}, {\"Depth\": 11.8, \"Age\": 13.48, \"A_curv\": 0.014705882352941176, \"A_octon\": 0.0196078431372549, \"ActinSpp\": 0.16666666666666666, \"A_nodul\": 0.14215686274509803, \"CoscinSpp\": 0.09313725490196079, \"CyclotSpp\": 0.04411764705882353, \"Rop_tess\": 0.00980392156862745, \"StephanSpp\": 0.0}, {\"Depth\": 11.85, \"Age\": 13.53, \"A_curv\": 0.03940886699507389, \"A_octon\": 0.009852216748768473, \"ActinSpp\": 0.18719211822660098, \"A_nodul\": 0.13793103448275862, \"CoscinSpp\": 0.07389162561576355, \"CyclotSpp\": 0.03940886699507389, \"Rop_tess\": 0.0049261083743842365, \"StephanSpp\": 0.0}, {\"Depth\": 11.9, \"Age\": 13.57, \"A_curv\": 0.00980392156862745, \"A_octon\": 0.014705882352941176, \"ActinSpp\": 0.17647058823529413, \"A_nodul\": 0.1568627450980392, \"CoscinSpp\": 0.07352941176470588, \"CyclotSpp\": 0.049019607843137254, \"Rop_tess\": 0.0, \"StephanSpp\": 0.004901960784313725}, {\"Depth\": 11.95, \"Age\": 13.61, \"A_curv\": 0.11386138613861387, \"A_octon\": 0.01485148514851485, \"ActinSpp\": 0.19306930693069307, \"A_nodul\": 0.04950495049504951, \"CoscinSpp\": 0.08415841584158416, \"CyclotSpp\": 0.0297029702970297, \"Rop_tess\": 0.0, \"StephanSpp\": 0.0}, {\"Depth\": 12.0, \"Age\": 13.66, \"A_curv\": 0.05365853658536585, \"A_octon\": 0.02926829268292683, \"ActinSpp\": 0.2097560975609756, \"A_nodul\": 0.09268292682926829, \"CoscinSpp\": 0.06341463414634146, \"CyclotSpp\": 0.03902439024390244, \"Rop_tess\": 0.0, \"StephanSpp\": 0.0}, {\"Depth\": 12.05, \"Age\": 13.7, \"A_curv\": 0.014354066985645933, \"A_octon\": 0.009569377990430622, \"ActinSpp\": 0.04784688995215311, \"A_nodul\": 0.24401913875598086, \"CoscinSpp\": 0.0430622009569378, \"CyclotSpp\": 0.04784688995215311, \"Rop_tess\": 0.07655502392344497, \"StephanSpp\": 0.0}, {\"Depth\": 12.1, \"Age\": 13.75, \"A_curv\": 0.04926108374384237, \"A_octon\": 0.014778325123152709, \"ActinSpp\": 0.1477832512315271, \"A_nodul\": 0.1477832512315271, \"CoscinSpp\": 0.10344827586206896, \"CyclotSpp\": 0.029556650246305417, \"Rop_tess\": 0.0, \"StephanSpp\": 0.0}, {\"Depth\": 12.15, \"Age\": 13.79, \"A_curv\": 0.019230769230769232, \"A_octon\": 0.038461538461538464, \"ActinSpp\": 0.12980769230769232, \"A_nodul\": 0.18269230769230768, \"CoscinSpp\": 0.052884615384615384, \"CyclotSpp\": 0.057692307692307696, \"Rop_tess\": 0.0, \"StephanSpp\": 0.0}, {\"Depth\": 11.1, \"Age\": 12.82, \"A_curv\": 0.0, \"A_octon\": 0.004901960784313725, \"ActinSpp\": 0.06862745098039216, \"A_nodul\": 0.22549019607843138, \"CoscinSpp\": 0.1323529411764706, \"CyclotSpp\": 0.049019607843137254, \"Rop_tess\": 0.0, \"StephanSpp\": 0.0}, {\"Depth\": 11.15, \"Age\": 12.9, \"A_curv\": 0.0, \"A_octon\": 0.009900990099009901, \"ActinSpp\": 0.0891089108910891, \"A_nodul\": 0.23267326732673269, \"CoscinSpp\": 0.11386138613861387, \"CyclotSpp\": 0.04455445544554455, \"Rop_tess\": 0.0049504950495049506, \"StephanSpp\": 0.0}, {\"Depth\": 11.2, \"Age\": 12.94, \"A_curv\": 0.004901960784313725, \"A_octon\": 0.00980392156862745, \"ActinSpp\": 0.09803921568627451, \"A_nodul\": 0.24509803921568626, \"CoscinSpp\": 0.09803921568627451, \"CyclotSpp\": 0.029411764705882353, \"Rop_tess\": 0.0, \"StephanSpp\": 0.0}, {\"Depth\": 11.25, \"Age\": 12.99, \"A_curv\": 0.00980392156862745, \"A_octon\": 0.0196078431372549, \"ActinSpp\": 0.19117647058823528, \"A_nodul\": 0.08823529411764706, \"CoscinSpp\": 0.16176470588235295, \"CyclotSpp\": 0.014705882352941176, \"Rop_tess\": 0.0, \"StephanSpp\": 0.004901960784313725}, {\"Depth\": 11.3, \"Age\": 13.03, \"A_curv\": 0.00980392156862745, \"A_octon\": 0.0392156862745098, \"ActinSpp\": 0.06372549019607843, \"A_nodul\": 0.24509803921568626, \"CoscinSpp\": 0.07352941176470588, \"CyclotSpp\": 0.0392156862745098, \"Rop_tess\": 0.014705882352941176, \"StephanSpp\": 0.0}, {\"Depth\": 12.2, \"Age\": 13.84, \"A_curv\": 0.054187192118226604, \"A_octon\": 0.014778325123152709, \"ActinSpp\": 0.2660098522167488, \"A_nodul\": 0.06896551724137931, \"CoscinSpp\": 0.04926108374384237, \"CyclotSpp\": 0.029556650246305417, \"Rop_tess\": 0.0, \"StephanSpp\": 0.0049261083743842365}, {\"Depth\": 12.25, \"Age\": 13.88, \"A_curv\": 0.04411764705882353, \"A_octon\": 0.004901960784313725, \"ActinSpp\": 0.1568627450980392, \"A_nodul\": 0.09803921568627451, \"CoscinSpp\": 0.12745098039215685, \"CyclotSpp\": 0.049019607843137254, \"Rop_tess\": 0.004901960784313725, \"StephanSpp\": 0.0}, {\"Depth\": 12.3, \"Age\": 13.93, \"A_curv\": 0.06435643564356436, \"A_octon\": 0.009900990099009901, \"ActinSpp\": 0.12871287128712872, \"A_nodul\": 0.15346534653465346, \"CoscinSpp\": 0.0891089108910891, \"CyclotSpp\": 0.039603960396039604, \"Rop_tess\": 0.0, \"StephanSpp\": 0.0049504950495049506}, {\"Depth\": 12.35, \"Age\": 13.97, \"A_curv\": 0.00980392156862745, \"A_octon\": 0.004901960784313725, \"ActinSpp\": 0.12745098039215685, \"A_nodul\": 0.21568627450980393, \"CoscinSpp\": 0.10294117647058823, \"CyclotSpp\": 0.029411764705882353, \"Rop_tess\": 0.0, \"StephanSpp\": 0.0}, {\"Depth\": 12.4, \"Age\": 14.02, \"A_curv\": 0.03940886699507389, \"A_octon\": 0.009852216748768473, \"ActinSpp\": 0.22167487684729065, \"A_nodul\": 0.11330049261083744, \"CoscinSpp\": 0.06896551724137931, \"CyclotSpp\": 0.03940886699507389, \"Rop_tess\": 0.0, \"StephanSpp\": 0.0}, {\"Depth\": 12.45, \"Age\": 14.06, \"A_curv\": 0.05314009661835749, \"A_octon\": 0.01932367149758454, \"ActinSpp\": 0.14009661835748793, \"A_nodul\": 0.1111111111111111, \"CoscinSpp\": 0.13043478260869565, \"CyclotSpp\": 0.033816425120772944, \"Rop_tess\": 0.0, \"StephanSpp\": 0.0}, {\"Depth\": 12.5, \"Age\": 14.11, \"A_curv\": 0.024390243902439025, \"A_octon\": 0.004878048780487805, \"ActinSpp\": 0.17073170731707318, \"A_nodul\": 0.14146341463414633, \"CoscinSpp\": 0.06829268292682927, \"CyclotSpp\": 0.06341463414634146, \"Rop_tess\": 0.014634146341463415, \"StephanSpp\": 0.0}, {\"Depth\": 12.55, \"Age\": 14.15, \"A_curv\": 0.028985507246376812, \"A_octon\": 0.00966183574879227, \"ActinSpp\": 0.14009661835748793, \"A_nodul\": 0.15942028985507245, \"CoscinSpp\": 0.08695652173913043, \"CyclotSpp\": 0.057971014492753624, \"Rop_tess\": 0.0, \"StephanSpp\": 0.0}, {\"Depth\": 12.6, \"Age\": 14.19, \"A_curv\": 0.03431372549019608, \"A_octon\": 0.014705882352941176, \"ActinSpp\": 0.1568627450980392, \"A_nodul\": 0.16666666666666666, \"CoscinSpp\": 0.09313725490196079, \"CyclotSpp\": 0.0196078431372549, \"Rop_tess\": 0.0, \"StephanSpp\": 0.0}, {\"Depth\": 12.65, \"Age\": 14.24, \"A_curv\": 0.043689320388349516, \"A_octon\": 0.019417475728155338, \"ActinSpp\": 0.16019417475728157, \"A_nodul\": 0.15048543689320387, \"CoscinSpp\": 0.07766990291262135, \"CyclotSpp\": 0.02912621359223301, \"Rop_tess\": 0.0, \"StephanSpp\": 0.0048543689320388345}, {\"Depth\": 12.7, \"Age\": 14.28, \"A_curv\": 0.009708737864077669, \"A_octon\": 0.0048543689320388345, \"ActinSpp\": 0.06796116504854369, \"A_nodul\": 0.3058252427184466, \"CoscinSpp\": 0.07766990291262135, \"CyclotSpp\": 0.009708737864077669, \"Rop_tess\": 0.0, \"StephanSpp\": 0.0}, {\"Depth\": 12.75, \"Age\": 14.33, \"A_curv\": 0.02912621359223301, \"A_octon\": 0.02912621359223301, \"ActinSpp\": 0.1796116504854369, \"A_nodul\": 0.16019417475728157, \"CoscinSpp\": 0.05339805825242718, \"CyclotSpp\": 0.024271844660194174, \"Rop_tess\": 0.0, \"StephanSpp\": 0.0048543689320388345}, {\"Depth\": 12.8, \"Age\": 14.37, \"A_curv\": 0.01951219512195122, \"A_octon\": 0.024390243902439025, \"ActinSpp\": 0.17073170731707318, \"A_nodul\": 0.18048780487804877, \"CoscinSpp\": 0.05853658536585366, \"CyclotSpp\": 0.03414634146341464, \"Rop_tess\": 0.0, \"StephanSpp\": 0.0}, {\"Depth\": 12.85, \"Age\": 14.42, \"A_curv\": 0.024630541871921183, \"A_octon\": 0.009852216748768473, \"ActinSpp\": 0.1625615763546798, \"A_nodul\": 0.17733990147783252, \"CoscinSpp\": 0.07881773399014778, \"CyclotSpp\": 0.029556650246305417, \"Rop_tess\": 0.0, \"StephanSpp\": 0.0}, {\"Depth\": 12.9, \"Age\": 14.46, \"A_curv\": 0.02926829268292683, \"A_octon\": 0.02926829268292683, \"ActinSpp\": 0.14634146341463414, \"A_nodul\": 0.15609756097560976, \"CoscinSpp\": 0.08780487804878048, \"CyclotSpp\": 0.03902439024390244, \"Rop_tess\": 0.0, \"StephanSpp\": 0.0}, {\"Depth\": 12.95, \"Age\": 14.51, \"A_curv\": 0.014492753623188406, \"A_octon\": 0.028985507246376812, \"ActinSpp\": 0.09178743961352658, \"A_nodul\": 0.2028985507246377, \"CoscinSpp\": 0.06763285024154589, \"CyclotSpp\": 0.07729468599033816, \"Rop_tess\": 0.0, \"StephanSpp\": 0.0}, {\"Depth\": 13.0, \"Age\": 14.55, \"A_curv\": 0.00975609756097561, \"A_octon\": 0.014634146341463415, \"ActinSpp\": 0.08292682926829269, \"A_nodul\": 0.32682926829268294, \"CoscinSpp\": 0.024390243902439025, \"CyclotSpp\": 0.01951219512195122, \"Rop_tess\": 0.0, \"StephanSpp\": 0.0}, {\"Depth\": 13.05, \"Age\": 14.6, \"A_curv\": 0.0, \"A_octon\": 0.019417475728155338, \"ActinSpp\": 0.10679611650485436, \"A_nodul\": 0.23786407766990292, \"CoscinSpp\": 0.0825242718446602, \"CyclotSpp\": 0.038834951456310676, \"Rop_tess\": 0.0, \"StephanSpp\": 0.0}, {\"Depth\": 13.1, \"Age\": 14.64, \"A_curv\": 0.0, \"A_octon\": 0.0, \"ActinSpp\": 0.03980099502487562, \"A_nodul\": 0.3582089552238806, \"CoscinSpp\": 0.07462686567164178, \"CyclotSpp\": 0.01990049751243781, \"Rop_tess\": 0.0, \"StephanSpp\": 0.0}, {\"Depth\": 13.15, \"Age\": 14.69, \"A_curv\": 0.004878048780487805, \"A_octon\": 0.014634146341463415, \"ActinSpp\": 0.09268292682926829, \"A_nodul\": 0.1951219512195122, \"CoscinSpp\": 0.14146341463414633, \"CyclotSpp\": 0.024390243902439025, \"Rop_tess\": 0.004878048780487805, \"StephanSpp\": 0.0}, {\"Depth\": 13.2, \"Age\": 14.73, \"A_curv\": 0.004878048780487805, \"A_octon\": 0.00975609756097561, \"ActinSpp\": 0.07317073170731707, \"A_nodul\": 0.2975609756097561, \"CoscinSpp\": 0.08292682926829269, \"CyclotSpp\": 0.014634146341463415, \"Rop_tess\": 0.0, \"StephanSpp\": 0.0}, {\"Depth\": 13.25, \"Age\": 14.78, \"A_curv\": 0.0048543689320388345, \"A_octon\": 0.0, \"ActinSpp\": 0.10679611650485436, \"A_nodul\": 0.24271844660194175, \"CoscinSpp\": 0.0970873786407767, \"CyclotSpp\": 0.02912621359223301, \"Rop_tess\": 0.0, \"StephanSpp\": 0.0}, {\"Depth\": 13.41, \"Age\": 14.92, \"A_curv\": 0.0, \"A_octon\": 0.013888888888888888, \"ActinSpp\": 0.06481481481481481, \"A_nodul\": 0.24537037037037038, \"CoscinSpp\": 0.07407407407407407, \"CyclotSpp\": 0.06018518518518518, \"Rop_tess\": 0.0, \"StephanSpp\": 0.0}, {\"Depth\": 13.46, \"Age\": 14.96, \"A_curv\": 0.0, \"A_octon\": 0.00966183574879227, \"ActinSpp\": 0.05314009661835749, \"A_nodul\": 0.2753623188405797, \"CoscinSpp\": 0.10628019323671498, \"CyclotSpp\": 0.028985507246376812, \"Rop_tess\": 0.004830917874396135, \"StephanSpp\": 0.0}, {\"Depth\": 13.51, \"Age\": 15.01, \"A_curv\": 0.0, \"A_octon\": 0.0, \"ActinSpp\": 0.04878048780487805, \"A_nodul\": 0.3073170731707317, \"CoscinSpp\": 0.1073170731707317, \"CyclotSpp\": 0.024390243902439025, \"Rop_tess\": 0.0, \"StephanSpp\": 0.0}, {\"Depth\": 13.56, \"Age\": 15.05, \"A_curv\": 0.0049261083743842365, \"A_octon\": 0.0, \"ActinSpp\": 0.034482758620689655, \"A_nodul\": 0.2660098522167488, \"CoscinSpp\": 0.12807881773399016, \"CyclotSpp\": 0.054187192118226604, \"Rop_tess\": 0.0, \"StephanSpp\": 0.0}, {\"Depth\": 13.61, \"Age\": 15.1, \"A_curv\": 0.0048543689320388345, \"A_octon\": 0.0048543689320388345, \"ActinSpp\": 0.04854368932038835, \"A_nodul\": 0.30097087378640774, \"CoscinSpp\": 0.07281553398058252, \"CyclotSpp\": 0.05339805825242718, \"Rop_tess\": 0.0, \"StephanSpp\": 0.0}, {\"Depth\": 13.66, \"Age\": 15.14, \"A_curv\": 0.014563106796116505, \"A_octon\": 0.009708737864077669, \"ActinSpp\": 0.05825242718446602, \"A_nodul\": 0.2815533980582524, \"CoscinSpp\": 0.06310679611650485, \"CyclotSpp\": 0.05825242718446602, \"Rop_tess\": 0.0, \"StephanSpp\": 0.0}, {\"Depth\": 13.71, \"Age\": 15.19, \"A_curv\": 0.004901960784313725, \"A_octon\": 0.00980392156862745, \"ActinSpp\": 0.06372549019607843, \"A_nodul\": 0.2696078431372549, \"CoscinSpp\": 0.08823529411764706, \"CyclotSpp\": 0.05392156862745098, \"Rop_tess\": 0.0, \"StephanSpp\": 0.0}]}}, {\"mode\": \"vega-lite\"});\n",
       "</script>"
      ],
      "text/plain": [
       "alt.LayerChart(...)"
      ]
     },
     "execution_count": 18,
     "metadata": {},
     "output_type": "execute_result"
    }
   ],
   "source": [
    "kdes = alt.Chart(diatoms).transform_calculate(\n",
    "    pre_dryas = 'datum.Age > 11'\n",
    ").transform_density(\n",
    "    density = 'A_nodul',\n",
    "    as_ = ['Relative abundance of Azpeitia nodulifer', 'Density'],\n",
    "    bandwidth = 0.02,\n",
    "    extent = [0,0.35],\n",
    "    steps = 1000,\n",
    "    groupby = ['pre_dryas']\n",
    ").mark_line().encode(\n",
    "    x = 'Relative abundance of Azpeitia nodulifer:Q', \n",
    "    y = 'Density:Q',\n",
    "    color = alt.Color('pre_dryas:N', title = 'Before 11KyrBP')\n",
    ")\n",
    "kdes + kdes.mark_area(opacity =0.2)"
   ]
  },
  {
   "cell_type": "markdown",
   "metadata": {},
   "source": [
    "<!-- END QUESTION -->\n",
    "\n",
    "<!-- BEGIN QUESTION -->\n",
    "\n",
    "#### (ii) Describe the variation in relative abundance of *Azpeitia nodulifer* between now and 11,000 years ago.\n"
   ]
  },
  {
   "cell_type": "markdown",
   "metadata": {},
   "source": [
    "_Between now and 11,000 years ago, there has been little to no variation in the abundance of Azpeitia nodulifer, as it has stayed relatively close to 0._"
   ]
  },
  {
   "cell_type": "markdown",
   "metadata": {},
   "source": [
    "<!-- END QUESTION -->\n",
    "\n",
    "<!-- BEGIN QUESTION -->\n",
    "\n",
    "#### (iii) Describe the variation in relative abundance of *Azpeitia nodulifer* between 11,000 and 14,000 years ago.\n"
   ]
  },
  {
   "cell_type": "markdown",
   "metadata": {},
   "source": [
    "_Between 11,000 and 14,000 years ago, Azpeitia nodulifer was more abundant, with the most common abundances between 0.15 and 0.25, but a lot more variation than now-11,000 years ago._"
   ]
  },
  {
   "cell_type": "markdown",
   "metadata": {},
   "source": [
    "<!-- END QUESTION -->\n",
    "\n",
    "---\n",
    "\n",
    "## 2. Visualizing community composition with PCA\n",
    "\n",
    "So far you've seen that the abundances of one taxon -- *Azpeitia nodulifer* -- change markedly before and after a shift in climate conditions. In this part you'll use PCA to explore variation in community composition *among* all eight taxa.\n",
    "\n",
    "Throughout this part, it may help you to refer to code examples from lab 5. "
   ]
  },
  {
   "cell_type": "markdown",
   "metadata": {},
   "source": [
    "### Q2 (a). Pairwise correlations in relative abundances\n",
    "\n",
    "Before carrying out PCA it is a good idea to inspect the correlations between relative abundances directly. Here you'll compute and then visualize the correlation matrix.\n",
    "\n",
    "#### (i) Compute the pairwise correlations between relative abundances.\n",
    "\n",
    "Be sure to remove or set to indices the Depth and Age variables before computing the correlation matrix. Save the matrix as `corr_mx` and print the result. \n",
    "\n",
    "*Hint:* See the [pandas documentation for `.corr()`](https://pandas.pydata.org/docs/reference/api/pandas.DataFrame.corr.html).\n"
   ]
  },
  {
   "cell_type": "code",
   "execution_count": 19,
   "metadata": {
    "tags": []
   },
   "outputs": [
    {
     "data": {
      "text/html": [
       "<div>\n",
       "<style scoped>\n",
       "    .dataframe tbody tr th:only-of-type {\n",
       "        vertical-align: middle;\n",
       "    }\n",
       "\n",
       "    .dataframe tbody tr th {\n",
       "        vertical-align: top;\n",
       "    }\n",
       "\n",
       "    .dataframe thead th {\n",
       "        text-align: right;\n",
       "    }\n",
       "</style>\n",
       "<table border=\"1\" class=\"dataframe\">\n",
       "  <thead>\n",
       "    <tr style=\"text-align: right;\">\n",
       "      <th></th>\n",
       "      <th>A_curv</th>\n",
       "      <th>A_octon</th>\n",
       "      <th>ActinSpp</th>\n",
       "      <th>A_nodul</th>\n",
       "      <th>CoscinSpp</th>\n",
       "      <th>CyclotSpp</th>\n",
       "      <th>Rop_tess</th>\n",
       "      <th>StephanSpp</th>\n",
       "    </tr>\n",
       "  </thead>\n",
       "  <tbody>\n",
       "    <tr>\n",
       "      <th>A_curv</th>\n",
       "      <td>1.000000</td>\n",
       "      <td>0.111480</td>\n",
       "      <td>0.390898</td>\n",
       "      <td>-0.446778</td>\n",
       "      <td>0.091222</td>\n",
       "      <td>0.219439</td>\n",
       "      <td>-0.062690</td>\n",
       "      <td>0.151909</td>\n",
       "    </tr>\n",
       "    <tr>\n",
       "      <th>A_octon</th>\n",
       "      <td>0.111480</td>\n",
       "      <td>1.000000</td>\n",
       "      <td>-0.005009</td>\n",
       "      <td>-0.217992</td>\n",
       "      <td>0.049589</td>\n",
       "      <td>0.065249</td>\n",
       "      <td>-0.023047</td>\n",
       "      <td>-0.041017</td>\n",
       "    </tr>\n",
       "    <tr>\n",
       "      <th>ActinSpp</th>\n",
       "      <td>0.390898</td>\n",
       "      <td>-0.005009</td>\n",
       "      <td>1.000000</td>\n",
       "      <td>-0.363475</td>\n",
       "      <td>0.306021</td>\n",
       "      <td>-0.055732</td>\n",
       "      <td>-0.343410</td>\n",
       "      <td>0.058494</td>\n",
       "    </tr>\n",
       "    <tr>\n",
       "      <th>A_nodul</th>\n",
       "      <td>-0.446778</td>\n",
       "      <td>-0.217992</td>\n",
       "      <td>-0.363475</td>\n",
       "      <td>1.000000</td>\n",
       "      <td>-0.010920</td>\n",
       "      <td>-0.407338</td>\n",
       "      <td>-0.471941</td>\n",
       "      <td>-0.151409</td>\n",
       "    </tr>\n",
       "    <tr>\n",
       "      <th>CoscinSpp</th>\n",
       "      <td>0.091222</td>\n",
       "      <td>0.049589</td>\n",
       "      <td>0.306021</td>\n",
       "      <td>-0.010920</td>\n",
       "      <td>1.000000</td>\n",
       "      <td>-0.266157</td>\n",
       "      <td>-0.341755</td>\n",
       "      <td>-0.016332</td>\n",
       "    </tr>\n",
       "    <tr>\n",
       "      <th>CyclotSpp</th>\n",
       "      <td>0.219439</td>\n",
       "      <td>0.065249</td>\n",
       "      <td>-0.055732</td>\n",
       "      <td>-0.407338</td>\n",
       "      <td>-0.266157</td>\n",
       "      <td>1.000000</td>\n",
       "      <td>0.018149</td>\n",
       "      <td>0.070684</td>\n",
       "    </tr>\n",
       "    <tr>\n",
       "      <th>Rop_tess</th>\n",
       "      <td>-0.062690</td>\n",
       "      <td>-0.023047</td>\n",
       "      <td>-0.343410</td>\n",
       "      <td>-0.471941</td>\n",
       "      <td>-0.341755</td>\n",
       "      <td>0.018149</td>\n",
       "      <td>1.000000</td>\n",
       "      <td>0.032607</td>\n",
       "    </tr>\n",
       "    <tr>\n",
       "      <th>StephanSpp</th>\n",
       "      <td>0.151909</td>\n",
       "      <td>-0.041017</td>\n",
       "      <td>0.058494</td>\n",
       "      <td>-0.151409</td>\n",
       "      <td>-0.016332</td>\n",
       "      <td>0.070684</td>\n",
       "      <td>0.032607</td>\n",
       "      <td>1.000000</td>\n",
       "    </tr>\n",
       "  </tbody>\n",
       "</table>\n",
       "</div>"
      ],
      "text/plain": [
       "              A_curv   A_octon  ActinSpp   A_nodul  CoscinSpp  CyclotSpp  \\\n",
       "A_curv      1.000000  0.111480  0.390898 -0.446778   0.091222   0.219439   \n",
       "A_octon     0.111480  1.000000 -0.005009 -0.217992   0.049589   0.065249   \n",
       "ActinSpp    0.390898 -0.005009  1.000000 -0.363475   0.306021  -0.055732   \n",
       "A_nodul    -0.446778 -0.217992 -0.363475  1.000000  -0.010920  -0.407338   \n",
       "CoscinSpp   0.091222  0.049589  0.306021 -0.010920   1.000000  -0.266157   \n",
       "CyclotSpp   0.219439  0.065249 -0.055732 -0.407338  -0.266157   1.000000   \n",
       "Rop_tess   -0.062690 -0.023047 -0.343410 -0.471941  -0.341755   0.018149   \n",
       "StephanSpp  0.151909 -0.041017  0.058494 -0.151409  -0.016332   0.070684   \n",
       "\n",
       "            Rop_tess  StephanSpp  \n",
       "A_curv     -0.062690    0.151909  \n",
       "A_octon    -0.023047   -0.041017  \n",
       "ActinSpp   -0.343410    0.058494  \n",
       "A_nodul    -0.471941   -0.151409  \n",
       "CoscinSpp  -0.341755   -0.016332  \n",
       "CyclotSpp   0.018149    0.070684  \n",
       "Rop_tess    1.000000    0.032607  \n",
       "StephanSpp  0.032607    1.000000  "
      ]
     },
     "execution_count": 19,
     "metadata": {},
     "output_type": "execute_result"
    }
   ],
   "source": [
    "corr_mx = diatoms.drop(columns = ['Depth', 'Age']).corr()\n",
    "corr_mx"
   ]
  },
  {
   "cell_type": "code",
   "execution_count": 20,
   "metadata": {
    "deletable": false,
    "editable": false
   },
   "outputs": [
    {
     "data": {
      "text/html": [
       "<p><strong><pre style='display: inline;'>q2_a_i</pre></strong> passed! 🚀</p>"
      ],
      "text/plain": [
       "q2_a_i results: All test cases passed!"
      ]
     },
     "execution_count": 20,
     "metadata": {},
     "output_type": "execute_result"
    }
   ],
   "source": [
    "grader.check(\"q2_a_i\")"
   ]
  },
  {
   "cell_type": "markdown",
   "metadata": {},
   "source": [
    "<!-- BEGIN QUESTION -->\n",
    "\n",
    "#### (ii) Visualize the correlation matrix as a heatmap\n",
    "\n",
    "Have a look at either lab 5 or [this example](https://altair-viz.github.io/gallery/simple_heatmap.html) (or both!). Notice that to make a heatmap of a matrix, you'll need to melt it into long format.\n",
    "\n",
    "1. Melt `corr_mx` to obtain a dataframe with three columns: \n",
    "    + `row`, which contains the values of the index of `corr_mx` (taxon names); \n",
    "    + `column`, which contains the names of the columns of `corr_mx` (also taxon names); and\n",
    "    + `Correlation`, which contains the values of `corr_mx`. \n",
    "    \n",
    "    **Store the result as `corr_mx_long`.**\n",
    "\n",
    "\n",
    "2. Create an Altair chart based on `corr_mx_long` and construct the heatmap by following the examples indicated above.\n",
    "    + Adjust the color scheme to `blueorange` over the extent (-1, 1) to obtain a diverging color gradient where a correlation of zero is blank (white).\n",
    "    + Adjust the color legend to indicate the color values corresponding to correlations of 1, 0.5, 0, -0.5, and -1.\n",
    "    + Sort the rows and columns in ascending order of correlation. \n"
   ]
  },
  {
   "cell_type": "code",
   "execution_count": 21,
   "metadata": {
    "tags": []
   },
   "outputs": [
    {
     "data": {
      "text/html": [
       "\n",
       "<div id=\"altair-viz-b40420c4fa044ecd88566350860d3e5e\"></div>\n",
       "<script type=\"text/javascript\">\n",
       "  var VEGA_DEBUG = (typeof VEGA_DEBUG == \"undefined\") ? {} : VEGA_DEBUG;\n",
       "  (function(spec, embedOpt){\n",
       "    let outputDiv = document.currentScript.previousElementSibling;\n",
       "    if (outputDiv.id !== \"altair-viz-b40420c4fa044ecd88566350860d3e5e\") {\n",
       "      outputDiv = document.getElementById(\"altair-viz-b40420c4fa044ecd88566350860d3e5e\");\n",
       "    }\n",
       "    const paths = {\n",
       "      \"vega\": \"https://cdn.jsdelivr.net/npm//vega@5?noext\",\n",
       "      \"vega-lib\": \"https://cdn.jsdelivr.net/npm//vega-lib?noext\",\n",
       "      \"vega-lite\": \"https://cdn.jsdelivr.net/npm//vega-lite@4.17.0?noext\",\n",
       "      \"vega-embed\": \"https://cdn.jsdelivr.net/npm//vega-embed@6?noext\",\n",
       "    };\n",
       "\n",
       "    function maybeLoadScript(lib, version) {\n",
       "      var key = `${lib.replace(\"-\", \"\")}_version`;\n",
       "      return (VEGA_DEBUG[key] == version) ?\n",
       "        Promise.resolve(paths[lib]) :\n",
       "        new Promise(function(resolve, reject) {\n",
       "          var s = document.createElement('script');\n",
       "          document.getElementsByTagName(\"head\")[0].appendChild(s);\n",
       "          s.async = true;\n",
       "          s.onload = () => {\n",
       "            VEGA_DEBUG[key] = version;\n",
       "            return resolve(paths[lib]);\n",
       "          };\n",
       "          s.onerror = () => reject(`Error loading script: ${paths[lib]}`);\n",
       "          s.src = paths[lib];\n",
       "        });\n",
       "    }\n",
       "\n",
       "    function showError(err) {\n",
       "      outputDiv.innerHTML = `<div class=\"error\" style=\"color:red;\">${err}</div>`;\n",
       "      throw err;\n",
       "    }\n",
       "\n",
       "    function displayChart(vegaEmbed) {\n",
       "      vegaEmbed(outputDiv, spec, embedOpt)\n",
       "        .catch(err => showError(`Javascript Error: ${err.message}<br>This usually means there's a typo in your chart specification. See the javascript console for the full traceback.`));\n",
       "    }\n",
       "\n",
       "    if(typeof define === \"function\" && define.amd) {\n",
       "      requirejs.config({paths});\n",
       "      require([\"vega-embed\"], displayChart, err => showError(`Error loading script: ${err.message}`));\n",
       "    } else {\n",
       "      maybeLoadScript(\"vega\", \"5\")\n",
       "        .then(() => maybeLoadScript(\"vega-lite\", \"4.17.0\"))\n",
       "        .then(() => maybeLoadScript(\"vega-embed\", \"6\"))\n",
       "        .catch(showError)\n",
       "        .then(() => displayChart(vegaEmbed));\n",
       "    }\n",
       "  })({\"config\": {\"view\": {\"continuousWidth\": 400, \"continuousHeight\": 300}}, \"data\": {\"name\": \"data-9ee510db773f5545a7d2d7974b488e8b\"}, \"mark\": \"rect\", \"encoding\": {\"color\": {\"field\": \"Correlation\", \"legend\": {\"tickCount\": 5}, \"scale\": {\"domain\": [-1, 1], \"scheme\": \"blueorange\", \"type\": \"sqrt\"}, \"type\": \"quantitative\"}, \"x\": {\"field\": \"col\", \"sort\": {\"field\": \"Correlation\", \"order\": \"ascending\"}, \"title\": \"\", \"type\": \"nominal\"}, \"y\": {\"field\": \"row\", \"sort\": {\"field\": \"Correlation\", \"order\": \"ascending\"}, \"title\": \"\", \"type\": \"nominal\"}}, \"height\": 300, \"width\": 300, \"$schema\": \"https://vega.github.io/schema/vega-lite/v4.17.0.json\", \"datasets\": {\"data-9ee510db773f5545a7d2d7974b488e8b\": [{\"row\": \"A_curv\", \"col\": \"A_curv\", \"Correlation\": 1.0}, {\"row\": \"A_octon\", \"col\": \"A_curv\", \"Correlation\": 0.11148012704163955}, {\"row\": \"ActinSpp\", \"col\": \"A_curv\", \"Correlation\": 0.3908983210789049}, {\"row\": \"A_nodul\", \"col\": \"A_curv\", \"Correlation\": -0.4467783794634828}, {\"row\": \"CoscinSpp\", \"col\": \"A_curv\", \"Correlation\": 0.09122238756013563}, {\"row\": \"CyclotSpp\", \"col\": \"A_curv\", \"Correlation\": 0.21943881178532748}, {\"row\": \"Rop_tess\", \"col\": \"A_curv\", \"Correlation\": -0.06268987663790046}, {\"row\": \"StephanSpp\", \"col\": \"A_curv\", \"Correlation\": 0.15190926871442448}, {\"row\": \"A_curv\", \"col\": \"A_octon\", \"Correlation\": 0.11148012704163955}, {\"row\": \"A_octon\", \"col\": \"A_octon\", \"Correlation\": 1.0}, {\"row\": \"ActinSpp\", \"col\": \"A_octon\", \"Correlation\": -0.005009031137348913}, {\"row\": \"A_nodul\", \"col\": \"A_octon\", \"Correlation\": -0.21799220763122606}, {\"row\": \"CoscinSpp\", \"col\": \"A_octon\", \"Correlation\": 0.04958934728741469}, {\"row\": \"CyclotSpp\", \"col\": \"A_octon\", \"Correlation\": 0.06524911658995947}, {\"row\": \"Rop_tess\", \"col\": \"A_octon\", \"Correlation\": -0.023046710627739175}, {\"row\": \"StephanSpp\", \"col\": \"A_octon\", \"Correlation\": -0.04101728630045759}, {\"row\": \"A_curv\", \"col\": \"ActinSpp\", \"Correlation\": 0.3908983210789049}, {\"row\": \"A_octon\", \"col\": \"ActinSpp\", \"Correlation\": -0.005009031137348913}, {\"row\": \"ActinSpp\", \"col\": \"ActinSpp\", \"Correlation\": 1.0}, {\"row\": \"A_nodul\", \"col\": \"ActinSpp\", \"Correlation\": -0.36347511559409307}, {\"row\": \"CoscinSpp\", \"col\": \"ActinSpp\", \"Correlation\": 0.30602097625707547}, {\"row\": \"CyclotSpp\", \"col\": \"ActinSpp\", \"Correlation\": -0.05573194440277609}, {\"row\": \"Rop_tess\", \"col\": \"ActinSpp\", \"Correlation\": -0.3434096542828656}, {\"row\": \"StephanSpp\", \"col\": \"ActinSpp\", \"Correlation\": 0.05849426108338282}, {\"row\": \"A_curv\", \"col\": \"A_nodul\", \"Correlation\": -0.4467783794634828}, {\"row\": \"A_octon\", \"col\": \"A_nodul\", \"Correlation\": -0.21799220763122606}, {\"row\": \"ActinSpp\", \"col\": \"A_nodul\", \"Correlation\": -0.36347511559409307}, {\"row\": \"A_nodul\", \"col\": \"A_nodul\", \"Correlation\": 1.0}, {\"row\": \"CoscinSpp\", \"col\": \"A_nodul\", \"Correlation\": -0.010920227836139393}, {\"row\": \"CyclotSpp\", \"col\": \"A_nodul\", \"Correlation\": -0.4073376790554347}, {\"row\": \"Rop_tess\", \"col\": \"A_nodul\", \"Correlation\": -0.47194075252401796}, {\"row\": \"StephanSpp\", \"col\": \"A_nodul\", \"Correlation\": -0.15140866339925804}, {\"row\": \"A_curv\", \"col\": \"CoscinSpp\", \"Correlation\": 0.09122238756013563}, {\"row\": \"A_octon\", \"col\": \"CoscinSpp\", \"Correlation\": 0.04958934728741469}, {\"row\": \"ActinSpp\", \"col\": \"CoscinSpp\", \"Correlation\": 0.30602097625707547}, {\"row\": \"A_nodul\", \"col\": \"CoscinSpp\", \"Correlation\": -0.010920227836139393}, {\"row\": \"CoscinSpp\", \"col\": \"CoscinSpp\", \"Correlation\": 1.0}, {\"row\": \"CyclotSpp\", \"col\": \"CoscinSpp\", \"Correlation\": -0.26615674332029876}, {\"row\": \"Rop_tess\", \"col\": \"CoscinSpp\", \"Correlation\": -0.3417547521258265}, {\"row\": \"StephanSpp\", \"col\": \"CoscinSpp\", \"Correlation\": -0.016331607089081487}, {\"row\": \"A_curv\", \"col\": \"CyclotSpp\", \"Correlation\": 0.21943881178532748}, {\"row\": \"A_octon\", \"col\": \"CyclotSpp\", \"Correlation\": 0.06524911658995947}, {\"row\": \"ActinSpp\", \"col\": \"CyclotSpp\", \"Correlation\": -0.05573194440277609}, {\"row\": \"A_nodul\", \"col\": \"CyclotSpp\", \"Correlation\": -0.4073376790554347}, {\"row\": \"CoscinSpp\", \"col\": \"CyclotSpp\", \"Correlation\": -0.26615674332029876}, {\"row\": \"CyclotSpp\", \"col\": \"CyclotSpp\", \"Correlation\": 1.0}, {\"row\": \"Rop_tess\", \"col\": \"CyclotSpp\", \"Correlation\": 0.018149478515156917}, {\"row\": \"StephanSpp\", \"col\": \"CyclotSpp\", \"Correlation\": 0.07068436521730259}, {\"row\": \"A_curv\", \"col\": \"Rop_tess\", \"Correlation\": -0.06268987663790046}, {\"row\": \"A_octon\", \"col\": \"Rop_tess\", \"Correlation\": -0.023046710627739175}, {\"row\": \"ActinSpp\", \"col\": \"Rop_tess\", \"Correlation\": -0.3434096542828656}, {\"row\": \"A_nodul\", \"col\": \"Rop_tess\", \"Correlation\": -0.47194075252401796}, {\"row\": \"CoscinSpp\", \"col\": \"Rop_tess\", \"Correlation\": -0.3417547521258265}, {\"row\": \"CyclotSpp\", \"col\": \"Rop_tess\", \"Correlation\": 0.018149478515156917}, {\"row\": \"Rop_tess\", \"col\": \"Rop_tess\", \"Correlation\": 1.0}, {\"row\": \"StephanSpp\", \"col\": \"Rop_tess\", \"Correlation\": 0.03260666162779185}, {\"row\": \"A_curv\", \"col\": \"StephanSpp\", \"Correlation\": 0.15190926871442448}, {\"row\": \"A_octon\", \"col\": \"StephanSpp\", \"Correlation\": -0.04101728630045759}, {\"row\": \"ActinSpp\", \"col\": \"StephanSpp\", \"Correlation\": 0.05849426108338282}, {\"row\": \"A_nodul\", \"col\": \"StephanSpp\", \"Correlation\": -0.15140866339925804}, {\"row\": \"CoscinSpp\", \"col\": \"StephanSpp\", \"Correlation\": -0.016331607089081487}, {\"row\": \"CyclotSpp\", \"col\": \"StephanSpp\", \"Correlation\": 0.07068436521730259}, {\"row\": \"Rop_tess\", \"col\": \"StephanSpp\", \"Correlation\": 0.03260666162779185}, {\"row\": \"StephanSpp\", \"col\": \"StephanSpp\", \"Correlation\": 1.0}]}}, {\"mode\": \"vega-lite\"});\n",
       "</script>"
      ],
      "text/plain": [
       "alt.Chart(...)"
      ]
     },
     "execution_count": 21,
     "metadata": {},
     "output_type": "execute_result"
    }
   ],
   "source": [
    "# melt corr_mx\n",
    "corr_mx_long = corr_mx.reset_index().rename(\n",
    "    columns = {'index': 'row'}\n",
    ").melt(\n",
    "    id_vars = 'row',\n",
    "    var_name = 'col',\n",
    "    value_name = 'Correlation'\n",
    ")\n",
    "\n",
    "# construct plot\n",
    "alt.Chart(corr_mx_long).mark_rect().encode(\n",
    "    x = alt.X('col', title = '', sort = {'field': 'Correlation', 'order': 'ascending'}), \n",
    "    y = alt.Y('row', title = '', sort = {'field': 'Correlation', 'order': 'ascending'}),\n",
    "    color = alt.Color('Correlation', \n",
    "                      scale = alt.Scale(scheme = 'blueorange', # diverging gradient\n",
    "                                        domain = (-1, 1), # ensure white = 0\n",
    "                                        type = 'sqrt'), # adjust gradient scale\n",
    "                     legend = alt.Legend(tickCount = 5)) # add ticks to colorbar at 0.5 for reference\n",
    ").properties(width = 300, height = 300)"
   ]
  },
  {
   "cell_type": "code",
   "execution_count": 22,
   "metadata": {
    "deletable": false,
    "editable": false
   },
   "outputs": [
    {
     "data": {
      "text/html": [
       "<p><strong><pre style='display: inline;'>q2_a_ii</pre></strong> passed! ✨</p>"
      ],
      "text/plain": [
       "q2_a_ii results: All test cases passed!"
      ]
     },
     "execution_count": 22,
     "metadata": {},
     "output_type": "execute_result"
    }
   ],
   "source": [
    "grader.check(\"q2_a_ii\")"
   ]
  },
  {
   "cell_type": "markdown",
   "metadata": {},
   "source": [
    "<!-- END QUESTION -->\n",
    "\n",
    "<!-- BEGIN QUESTION -->\n",
    "\n",
    "#### (iii) How does the relative abundance of *Azpeitia nodulifer* seem to covary with the other taxa?\n"
   ]
  },
  {
   "cell_type": "markdown",
   "metadata": {},
   "source": [
    "_TThe relative abundanceof Azpeitia nodulifer covaries positively with all of the other taxa, most strongly with Rop_tess, A_curv, and CyclotSpp, and most weakly with CoscinSpp and StephanSpp._"
   ]
  },
  {
   "cell_type": "markdown",
   "metadata": {},
   "source": [
    "<!-- END QUESTION -->\n",
    "\n",
    "### Q2 (b). Computing and selecting principal components\n",
    "\n",
    "Here you'll perform all of the calculations involved in PCA and check the variance ratios to select an appropriate number of principal components. The parts of this question correspond to the individual steps in this process.\n",
    "\n",
    "#### (i) Center and scale the data columns.\n",
    "\n",
    "For PCA it is usually recommended to center and scale the data; set Depth and Age as indices and center and scale the relative abundances. Store the normalized result as `pcdata`. \n"
   ]
  },
  {
   "cell_type": "code",
   "execution_count": 23,
   "metadata": {
    "tags": []
   },
   "outputs": [],
   "source": [
    "# helper variable pcdata_raw; set Depth and Age as indices\n",
    "pcdata_raw = diatoms.set_index(['Depth', 'Age'])\n",
    "\n",
    "# center and scale the relative abundances\n",
    "pcdata = (pcdata_raw-pcdata_raw.mean())/pcdata_raw.std()"
   ]
  },
  {
   "cell_type": "code",
   "execution_count": 24,
   "metadata": {
    "deletable": false,
    "editable": false
   },
   "outputs": [
    {
     "data": {
      "text/html": [
       "<p><strong><pre style='display: inline;'>q2_b_i</pre></strong> passed! 🍀</p>"
      ],
      "text/plain": [
       "q2_b_i results: All test cases passed!"
      ]
     },
     "execution_count": 24,
     "metadata": {},
     "output_type": "execute_result"
    }
   ],
   "source": [
    "grader.check(\"q2_b_i\")"
   ]
  },
  {
   "cell_type": "markdown",
   "metadata": {},
   "source": [
    "#### (ii) Compute the principal components.\n",
    "\n",
    "Compute *all 8* principal components. (For this part you do not need to show any specific output.) \n"
   ]
  },
  {
   "cell_type": "code",
   "execution_count": 25,
   "metadata": {
    "tags": []
   },
   "outputs": [
    {
     "data": {
      "text/plain": [
       "PCA(n_components=8)"
      ]
     },
     "execution_count": 25,
     "metadata": {},
     "output_type": "execute_result"
    }
   ],
   "source": [
    "pca = PCA(n_components = pcdata_raw.shape[1])\n",
    "pca.fit(pcdata)"
   ]
  },
  {
   "cell_type": "code",
   "execution_count": 26,
   "metadata": {
    "deletable": false,
    "editable": false
   },
   "outputs": [
    {
     "data": {
      "text/html": [
       "<p><strong><pre style='display: inline;'>q2_b_ii</pre></strong> passed! 🚀</p>"
      ],
      "text/plain": [
       "q2_b_ii results: All test cases passed!"
      ]
     },
     "execution_count": 26,
     "metadata": {},
     "output_type": "execute_result"
    }
   ],
   "source": [
    "grader.check(\"q2_b_ii\")"
   ]
  },
  {
   "cell_type": "markdown",
   "metadata": {},
   "source": [
    "#### (iii) Examine the variance ratios.\n",
    "\n",
    "Create a dataframe called `pcvars` with the variance information by following these steps:\n",
    "\n",
    "1. Store the proportion of variance explained (called `.explained_variance_ratio_` in the PCA output) as a dataframe named `pcvars` with just one column named `Proportion of variance explained`.\n",
    "2. Add a column named `Component` to `pcvars` with the integers 1 through 8 as values (indicating the component number).\n",
    "3. Add a column named `Cumulative variance explained` to `pcvars` that is the cumulative sum of `Proportion of variance explained`.\n",
    "    + *Hint*: slice the `Proportion of variance explained` column and use `.cumsum(axis = ...)`.\n",
    "\n",
    "\n",
    "Print the dataframe `pcvars`.\n"
   ]
  },
  {
   "cell_type": "code",
   "execution_count": 27,
   "metadata": {
    "tags": []
   },
   "outputs": [
    {
     "data": {
      "text/html": [
       "<div>\n",
       "<style scoped>\n",
       "    .dataframe tbody tr th:only-of-type {\n",
       "        vertical-align: middle;\n",
       "    }\n",
       "\n",
       "    .dataframe tbody tr th {\n",
       "        vertical-align: top;\n",
       "    }\n",
       "\n",
       "    .dataframe thead th {\n",
       "        text-align: right;\n",
       "    }\n",
       "</style>\n",
       "<table border=\"1\" class=\"dataframe\">\n",
       "  <thead>\n",
       "    <tr style=\"text-align: right;\">\n",
       "      <th></th>\n",
       "      <th>Proportion of variance explained</th>\n",
       "      <th>Component</th>\n",
       "      <th>Cumulative variance explained</th>\n",
       "    </tr>\n",
       "  </thead>\n",
       "  <tbody>\n",
       "    <tr>\n",
       "      <th>0</th>\n",
       "      <td>0.255513</td>\n",
       "      <td>1</td>\n",
       "      <td>0.255513</td>\n",
       "    </tr>\n",
       "    <tr>\n",
       "      <th>1</th>\n",
       "      <td>0.223354</td>\n",
       "      <td>2</td>\n",
       "      <td>0.478867</td>\n",
       "    </tr>\n",
       "    <tr>\n",
       "      <th>2</th>\n",
       "      <td>0.132145</td>\n",
       "      <td>3</td>\n",
       "      <td>0.611012</td>\n",
       "    </tr>\n",
       "    <tr>\n",
       "      <th>3</th>\n",
       "      <td>0.122549</td>\n",
       "      <td>4</td>\n",
       "      <td>0.733560</td>\n",
       "    </tr>\n",
       "    <tr>\n",
       "      <th>4</th>\n",
       "      <td>0.110833</td>\n",
       "      <td>5</td>\n",
       "      <td>0.844394</td>\n",
       "    </tr>\n",
       "    <tr>\n",
       "      <th>5</th>\n",
       "      <td>0.077988</td>\n",
       "      <td>6</td>\n",
       "      <td>0.922382</td>\n",
       "    </tr>\n",
       "    <tr>\n",
       "      <th>6</th>\n",
       "      <td>0.067303</td>\n",
       "      <td>7</td>\n",
       "      <td>0.989684</td>\n",
       "    </tr>\n",
       "    <tr>\n",
       "      <th>7</th>\n",
       "      <td>0.010316</td>\n",
       "      <td>8</td>\n",
       "      <td>1.000000</td>\n",
       "    </tr>\n",
       "  </tbody>\n",
       "</table>\n",
       "</div>"
      ],
      "text/plain": [
       "   Proportion of variance explained  Component  Cumulative variance explained\n",
       "0                          0.255513          1                       0.255513\n",
       "1                          0.223354          2                       0.478867\n",
       "2                          0.132145          3                       0.611012\n",
       "3                          0.122549          4                       0.733560\n",
       "4                          0.110833          5                       0.844394\n",
       "5                          0.077988          6                       0.922382\n",
       "6                          0.067303          7                       0.989684\n",
       "7                          0.010316          8                       1.000000"
      ]
     },
     "execution_count": 27,
     "metadata": {},
     "output_type": "execute_result"
    }
   ],
   "source": [
    "# store proportion of variance explained as a dataframe\n",
    "pcvars = pd.DataFrame(\n",
    "    {'Proportion of variance explained': pca.explained_variance_ratio_})\n",
    "\n",
    "# add component number as a new column\n",
    "pcvars['Component'] = np.arange(1,9)\n",
    "\n",
    "# add cumulative variance explained as a new column\n",
    "pcvars['Cumulative variance explained'] = pcvars.iloc[:,0].cumsum(axis = 0)\n",
    "\n",
    "# print\n",
    "pcvars"
   ]
  },
  {
   "cell_type": "code",
   "execution_count": 28,
   "metadata": {
    "deletable": false,
    "editable": false
   },
   "outputs": [
    {
     "data": {
      "text/html": [
       "<p><strong><pre style='display: inline;'>q2_b_iii</pre></strong> passed! 🌈</p>"
      ],
      "text/plain": [
       "q2_b_iii results: All test cases passed!"
      ]
     },
     "execution_count": 28,
     "metadata": {},
     "output_type": "execute_result"
    }
   ],
   "source": [
    "grader.check(\"q2_b_iii\")"
   ]
  },
  {
   "cell_type": "markdown",
   "metadata": {},
   "source": [
    "<!-- BEGIN QUESTION -->\n",
    "\n",
    "#### (iv) Plot the variance explained by each PC.\n",
    "\n",
    "Use `pcvars` to construct a dual-axis plot showing the proportion of variance explained (left y axis) and cumulative variance explained (right y axis) as a function of component number (x axis), with points indicating the variance ratios and lines connecting the points. \n",
    "\n",
    "Follow these steps:\n",
    "\n",
    "1. Construct a base chart that encodes only `Component` on the `X` channel. Store this as `base`.\n",
    "2. Make a base layer for the proportion of variance explained that modifies `base` by encoding `Proportion of variance explained` on the `Y` channel. Store the result as `prop_var_base`.\n",
    "    + Give the `Y` axis title a distinct color of your choosing via `alt.Y(..., axis = alt.Axis(titleColor = ...))`.\n",
    "\n",
    "\n",
    "3. Make a base layer for the cumulative variance explained that modifies `base` by endocing `Cumulative variance explained` on the `Y` channel. Store the result as `cum_var_base`.\n",
    "    + Give the `Y` axis title another distinct color of your choosing via `alt.Y(..., axis = alt.Axis(titleColor = ...))`.\n",
    "\n",
    "\n",
    "4. Create a plot layer for the proportion of variance explained by combining points (`prop_var_base.mark_point()`) with lines (`prop_var_base.mark_line()`). Store the result as `prop_var`.\n",
    "    + Apply the color you chose for the axis title to the points and lines.\n",
    "\n",
    "\n",
    "5. Repeat the previous step for the cumulative variance explained. Store the result as `cum_var`.\n",
    "    + Apply the color you chose for the axis title to the points and lines.\n",
    "\n",
    "\n",
    "6. Layer the plots together using `alt.layer(l1, l2).resolve_scale(y = 'independent')`.\n",
    "\n"
   ]
  },
  {
   "cell_type": "code",
   "execution_count": 29,
   "metadata": {
    "tags": []
   },
   "outputs": [
    {
     "data": {
      "text/html": [
       "\n",
       "<div id=\"altair-viz-b200b5ff6c58439390794d479e636af9\"></div>\n",
       "<script type=\"text/javascript\">\n",
       "  var VEGA_DEBUG = (typeof VEGA_DEBUG == \"undefined\") ? {} : VEGA_DEBUG;\n",
       "  (function(spec, embedOpt){\n",
       "    let outputDiv = document.currentScript.previousElementSibling;\n",
       "    if (outputDiv.id !== \"altair-viz-b200b5ff6c58439390794d479e636af9\") {\n",
       "      outputDiv = document.getElementById(\"altair-viz-b200b5ff6c58439390794d479e636af9\");\n",
       "    }\n",
       "    const paths = {\n",
       "      \"vega\": \"https://cdn.jsdelivr.net/npm//vega@5?noext\",\n",
       "      \"vega-lib\": \"https://cdn.jsdelivr.net/npm//vega-lib?noext\",\n",
       "      \"vega-lite\": \"https://cdn.jsdelivr.net/npm//vega-lite@4.17.0?noext\",\n",
       "      \"vega-embed\": \"https://cdn.jsdelivr.net/npm//vega-embed@6?noext\",\n",
       "    };\n",
       "\n",
       "    function maybeLoadScript(lib, version) {\n",
       "      var key = `${lib.replace(\"-\", \"\")}_version`;\n",
       "      return (VEGA_DEBUG[key] == version) ?\n",
       "        Promise.resolve(paths[lib]) :\n",
       "        new Promise(function(resolve, reject) {\n",
       "          var s = document.createElement('script');\n",
       "          document.getElementsByTagName(\"head\")[0].appendChild(s);\n",
       "          s.async = true;\n",
       "          s.onload = () => {\n",
       "            VEGA_DEBUG[key] = version;\n",
       "            return resolve(paths[lib]);\n",
       "          };\n",
       "          s.onerror = () => reject(`Error loading script: ${paths[lib]}`);\n",
       "          s.src = paths[lib];\n",
       "        });\n",
       "    }\n",
       "\n",
       "    function showError(err) {\n",
       "      outputDiv.innerHTML = `<div class=\"error\" style=\"color:red;\">${err}</div>`;\n",
       "      throw err;\n",
       "    }\n",
       "\n",
       "    function displayChart(vegaEmbed) {\n",
       "      vegaEmbed(outputDiv, spec, embedOpt)\n",
       "        .catch(err => showError(`Javascript Error: ${err.message}<br>This usually means there's a typo in your chart specification. See the javascript console for the full traceback.`));\n",
       "    }\n",
       "\n",
       "    if(typeof define === \"function\" && define.amd) {\n",
       "      requirejs.config({paths});\n",
       "      require([\"vega-embed\"], displayChart, err => showError(`Error loading script: ${err.message}`));\n",
       "    } else {\n",
       "      maybeLoadScript(\"vega\", \"5\")\n",
       "        .then(() => maybeLoadScript(\"vega-lite\", \"4.17.0\"))\n",
       "        .then(() => maybeLoadScript(\"vega-embed\", \"6\"))\n",
       "        .catch(showError)\n",
       "        .then(() => displayChart(vegaEmbed));\n",
       "    }\n",
       "  })({\"config\": {\"view\": {\"continuousWidth\": 400, \"continuousHeight\": 300}}, \"layer\": [{\"layer\": [{\"mark\": {\"type\": \"point\", \"stroke\": \"blue\"}, \"encoding\": {\"x\": {\"field\": \"Component\", \"type\": \"quantitative\"}, \"y\": {\"axis\": {\"titleColor\": \"blue\"}, \"field\": \"Proportion of variance explained\", \"type\": \"quantitative\"}}}, {\"mark\": {\"type\": \"line\", \"stroke\": \"blue\"}, \"encoding\": {\"x\": {\"field\": \"Component\", \"type\": \"quantitative\"}, \"y\": {\"axis\": {\"titleColor\": \"blue\"}, \"field\": \"Proportion of variance explained\", \"type\": \"quantitative\"}}}]}, {\"layer\": [{\"mark\": {\"type\": \"point\", \"stroke\": \"red\"}, \"encoding\": {\"x\": {\"field\": \"Component\", \"type\": \"quantitative\"}, \"y\": {\"axis\": {\"titleColor\": \"red\"}, \"field\": \"Cumulative variance explained\", \"type\": \"quantitative\"}}}, {\"mark\": {\"type\": \"line\", \"stroke\": \"red\"}, \"encoding\": {\"x\": {\"field\": \"Component\", \"type\": \"quantitative\"}, \"y\": {\"axis\": {\"titleColor\": \"red\"}, \"field\": \"Cumulative variance explained\", \"type\": \"quantitative\"}}}]}], \"data\": {\"name\": \"data-559c2b33ed582de0b2b90ca294b2ce3f\"}, \"resolve\": {\"scale\": {\"y\": \"independent\"}}, \"$schema\": \"https://vega.github.io/schema/vega-lite/v4.17.0.json\", \"datasets\": {\"data-559c2b33ed582de0b2b90ca294b2ce3f\": [{\"Proportion of variance explained\": 0.2555128666490461, \"Component\": 1, \"Cumulative variance explained\": 0.2555128666490461}, {\"Proportion of variance explained\": 0.22335385859837661, \"Component\": 2, \"Cumulative variance explained\": 0.4788667252474227}, {\"Proportion of variance explained\": 0.13214482809098443, \"Component\": 3, \"Cumulative variance explained\": 0.6110115533384071}, {\"Proportion of variance explained\": 0.12254865210172862, \"Component\": 4, \"Cumulative variance explained\": 0.7335602054401357}, {\"Proportion of variance explained\": 0.11083337768890687, \"Component\": 5, \"Cumulative variance explained\": 0.8443935831290426}, {\"Proportion of variance explained\": 0.07798798130438567, \"Component\": 6, \"Cumulative variance explained\": 0.9223815644334282}, {\"Proportion of variance explained\": 0.0673026168238884, \"Component\": 7, \"Cumulative variance explained\": 0.9896841812573166}, {\"Proportion of variance explained\": 0.010315818742683364, \"Component\": 8, \"Cumulative variance explained\": 1.0}]}}, {\"mode\": \"vega-lite\"});\n",
       "</script>"
      ],
      "text/plain": [
       "alt.LayerChart(...)"
      ]
     },
     "execution_count": 29,
     "metadata": {},
     "output_type": "execute_result"
    }
   ],
   "source": [
    "# encode component axis only as base layer\n",
    "base = alt.Chart(pcvars).encode(\n",
    "    x = alt.X('Component')\n",
    ")\n",
    "\n",
    "# make a base layer for the proportion of variance explained\n",
    "prop_var_base = base.encode(\n",
    "    y = alt.Y('Proportion of variance explained',\n",
    "              axis = alt.Axis(titleColor = 'blue')\n",
    "             )\n",
    ")\n",
    "\n",
    "# make a base layer for the cumulative variance explained\n",
    "cum_var_base = base.encode(\n",
    "    y = alt.Y('Cumulative variance explained',\n",
    "              axis = alt.Axis(titleColor = 'red')\n",
    "             )\n",
    ")\n",
    "\n",
    "# add points and lines to each base layer\n",
    "prop_var = prop_var_base.mark_point(stroke = 'blue') + prop_var_base.mark_line(stroke = 'blue')\n",
    "cum_var = cum_var_base.mark_point(stroke = 'red') + cum_var_base.mark_line(stroke= 'red')\n",
    "# layer the layers\n",
    "alt.layer(prop_var, cum_var).resolve_scale(y='independent')"
   ]
  },
  {
   "cell_type": "markdown",
   "metadata": {},
   "source": [
    "<!-- END QUESTION -->\n",
    "\n",
    "<!-- BEGIN QUESTION -->\n",
    "\n",
    "#### (v) How many PCs?\n",
    "\n",
    "How many principal components capture a high proportion of covariation in relative abundances? How much total variation do these explain together?\n"
   ]
  },
  {
   "cell_type": "markdown",
   "metadata": {},
   "source": [
    "_The first two components capture a high proportion of the covariation in relative abundances, explaining just under 50% of the total covariation together at 48%._"
   ]
  },
  {
   "cell_type": "markdown",
   "metadata": {},
   "source": [
    "<!-- END QUESTION -->\n",
    "\n",
    "### Q2 (c). Interpreting component loadings\n",
    "\n",
    "Now that you've performed the calculations for PCA, you can move on to the fun part: figuring out what they say about the data!\n",
    "\n",
    "The first step in this process is to examine the loadings. Each principal component is a linear combination of the relative abundances by taxon, and the loadings tell you *how* that combination is formed; the loadings are the linear combination coefficients, and thus correspond to the weight of each taxon in the corresponding principal component. Some useful points to keep in mind:\n",
    "* a high loading value (negative or positive) indicates that a variable strongly influences the principal component;\n",
    "* a negative loading value indicates that\n",
    "    + increases in the value of a variable *decrease* the value of the principal component \n",
    "    + and decreases in the value of a variable *increase* the value of the principal component;\n",
    "* a positive loading value indicates that \n",
    "    + increases in the value of a variable *increase* the value of the principal component\n",
    "    + and decreases in the value of a variable *decrease* the value of the principal component;\n",
    "* similar loadings between two or more variables indicate that the principal component reflects their *average*;\n",
    "* divergent loadings between two sets of variables indicates that the principal component reflects their *difference*.\n",
    "\n",
    "#### (i) Extract the loadings from `pca`.\n",
    "\n",
    "Store the loadings for the first two principal components (called `.components_` in the PCA output) in a dataframe named `loading_df`. Name the columns `PC1` and `PC2`, and append a column `Taxon` with the corresponding variable names, and print the resulting dataframe.\n"
   ]
  },
  {
   "cell_type": "code",
   "execution_count": 30,
   "metadata": {
    "tags": []
   },
   "outputs": [
    {
     "data": {
      "text/html": [
       "<div>\n",
       "<style scoped>\n",
       "    .dataframe tbody tr th:only-of-type {\n",
       "        vertical-align: middle;\n",
       "    }\n",
       "\n",
       "    .dataframe tbody tr th {\n",
       "        vertical-align: top;\n",
       "    }\n",
       "\n",
       "    .dataframe thead th {\n",
       "        text-align: right;\n",
       "    }\n",
       "</style>\n",
       "<table border=\"1\" class=\"dataframe\">\n",
       "  <thead>\n",
       "    <tr style=\"text-align: right;\">\n",
       "      <th></th>\n",
       "      <th>PC1</th>\n",
       "      <th>PC2</th>\n",
       "      <th>Taxon</th>\n",
       "    </tr>\n",
       "  </thead>\n",
       "  <tbody>\n",
       "    <tr>\n",
       "      <th>0</th>\n",
       "      <td>-0.521378</td>\n",
       "      <td>-0.157880</td>\n",
       "      <td>A_curv</td>\n",
       "    </tr>\n",
       "    <tr>\n",
       "      <th>1</th>\n",
       "      <td>-0.194520</td>\n",
       "      <td>0.001639</td>\n",
       "      <td>A_octon</td>\n",
       "    </tr>\n",
       "    <tr>\n",
       "      <th>2</th>\n",
       "      <td>-0.373815</td>\n",
       "      <td>-0.477144</td>\n",
       "      <td>ActinSpp</td>\n",
       "    </tr>\n",
       "    <tr>\n",
       "      <th>3</th>\n",
       "      <td>0.611563</td>\n",
       "      <td>-0.181503</td>\n",
       "      <td>A_nodul</td>\n",
       "    </tr>\n",
       "    <tr>\n",
       "      <th>4</th>\n",
       "      <td>-0.041199</td>\n",
       "      <td>-0.548427</td>\n",
       "      <td>CoscinSpp</td>\n",
       "    </tr>\n",
       "    <tr>\n",
       "      <th>5</th>\n",
       "      <td>-0.345726</td>\n",
       "      <td>0.285330</td>\n",
       "      <td>CyclotSpp</td>\n",
       "    </tr>\n",
       "    <tr>\n",
       "      <th>6</th>\n",
       "      <td>-0.116786</td>\n",
       "      <td>0.575665</td>\n",
       "      <td>Rop_tess</td>\n",
       "    </tr>\n",
       "    <tr>\n",
       "      <th>7</th>\n",
       "      <td>-0.204250</td>\n",
       "      <td>0.029760</td>\n",
       "      <td>StephanSpp</td>\n",
       "    </tr>\n",
       "  </tbody>\n",
       "</table>\n",
       "</div>"
      ],
      "text/plain": [
       "        PC1       PC2       Taxon\n",
       "0 -0.521378 -0.157880      A_curv\n",
       "1 -0.194520  0.001639     A_octon\n",
       "2 -0.373815 -0.477144    ActinSpp\n",
       "3  0.611563 -0.181503     A_nodul\n",
       "4 -0.041199 -0.548427   CoscinSpp\n",
       "5 -0.345726  0.285330   CyclotSpp\n",
       "6 -0.116786  0.575665    Rop_tess\n",
       "7 -0.204250  0.029760  StephanSpp"
      ]
     },
     "execution_count": 30,
     "metadata": {},
     "output_type": "execute_result"
    }
   ],
   "source": [
    "# store the loadings as a data frame with appropriate names\n",
    "loading_df = pd.DataFrame(pca.components_).transpose().rename(\n",
    "    columns = {0: 'PC1', 1: 'PC2'}\n",
    ").loc[:,['PC1','PC2']]\n",
    "# add a column with the taxon names\n",
    "loading_df['Taxon'] = pcdata.columns.values\n",
    "\n",
    "# print\n",
    "loading_df"
   ]
  },
  {
   "cell_type": "code",
   "execution_count": 31,
   "metadata": {
    "deletable": false,
    "editable": false
   },
   "outputs": [
    {
     "data": {
      "text/html": [
       "<p><strong><pre style='display: inline;'>q2_c_i</pre></strong> passed! 💯</p>"
      ],
      "text/plain": [
       "q2_c_i results: All test cases passed!"
      ]
     },
     "execution_count": 31,
     "metadata": {},
     "output_type": "execute_result"
    }
   ],
   "source": [
    "grader.check(\"q2_c_i\")"
   ]
  },
  {
   "cell_type": "markdown",
   "metadata": {},
   "source": [
    "<!-- BEGIN QUESTION -->\n",
    "\n",
    "#### (ii) Loading plots\n",
    "\n",
    "Construct a line-and-point plot connecting the loadings of the first two principal components. Display the value of the loading on the y axis and the taxa names on the x axis, and show points indicating the loading values. Distinguish the PC's by color, and add lines connecting the loading values for each principal component.\n",
    "\n",
    "*Hint*: you will need to first melt `loading_df` to long form with three columns -- the taxon name, the principal component (1 or 2), and the value of the loading.\n"
   ]
  },
  {
   "cell_type": "code",
   "execution_count": 32,
   "metadata": {
    "tags": []
   },
   "outputs": [
    {
     "data": {
      "text/html": [
       "\n",
       "<div id=\"altair-viz-6ef3aaf989dc4d6d832d0f09bfea7e3e\"></div>\n",
       "<script type=\"text/javascript\">\n",
       "  var VEGA_DEBUG = (typeof VEGA_DEBUG == \"undefined\") ? {} : VEGA_DEBUG;\n",
       "  (function(spec, embedOpt){\n",
       "    let outputDiv = document.currentScript.previousElementSibling;\n",
       "    if (outputDiv.id !== \"altair-viz-6ef3aaf989dc4d6d832d0f09bfea7e3e\") {\n",
       "      outputDiv = document.getElementById(\"altair-viz-6ef3aaf989dc4d6d832d0f09bfea7e3e\");\n",
       "    }\n",
       "    const paths = {\n",
       "      \"vega\": \"https://cdn.jsdelivr.net/npm//vega@5?noext\",\n",
       "      \"vega-lib\": \"https://cdn.jsdelivr.net/npm//vega-lib?noext\",\n",
       "      \"vega-lite\": \"https://cdn.jsdelivr.net/npm//vega-lite@4.17.0?noext\",\n",
       "      \"vega-embed\": \"https://cdn.jsdelivr.net/npm//vega-embed@6?noext\",\n",
       "    };\n",
       "\n",
       "    function maybeLoadScript(lib, version) {\n",
       "      var key = `${lib.replace(\"-\", \"\")}_version`;\n",
       "      return (VEGA_DEBUG[key] == version) ?\n",
       "        Promise.resolve(paths[lib]) :\n",
       "        new Promise(function(resolve, reject) {\n",
       "          var s = document.createElement('script');\n",
       "          document.getElementsByTagName(\"head\")[0].appendChild(s);\n",
       "          s.async = true;\n",
       "          s.onload = () => {\n",
       "            VEGA_DEBUG[key] = version;\n",
       "            return resolve(paths[lib]);\n",
       "          };\n",
       "          s.onerror = () => reject(`Error loading script: ${paths[lib]}`);\n",
       "          s.src = paths[lib];\n",
       "        });\n",
       "    }\n",
       "\n",
       "    function showError(err) {\n",
       "      outputDiv.innerHTML = `<div class=\"error\" style=\"color:red;\">${err}</div>`;\n",
       "      throw err;\n",
       "    }\n",
       "\n",
       "    function displayChart(vegaEmbed) {\n",
       "      vegaEmbed(outputDiv, spec, embedOpt)\n",
       "        .catch(err => showError(`Javascript Error: ${err.message}<br>This usually means there's a typo in your chart specification. See the javascript console for the full traceback.`));\n",
       "    }\n",
       "\n",
       "    if(typeof define === \"function\" && define.amd) {\n",
       "      requirejs.config({paths});\n",
       "      require([\"vega-embed\"], displayChart, err => showError(`Error loading script: ${err.message}`));\n",
       "    } else {\n",
       "      maybeLoadScript(\"vega\", \"5\")\n",
       "        .then(() => maybeLoadScript(\"vega-lite\", \"4.17.0\"))\n",
       "        .then(() => maybeLoadScript(\"vega-embed\", \"6\"))\n",
       "        .catch(showError)\n",
       "        .then(() => displayChart(vegaEmbed));\n",
       "    }\n",
       "  })({\"config\": {\"view\": {\"continuousWidth\": 400, \"continuousHeight\": 300}}, \"layer\": [{\"mark\": \"point\", \"encoding\": {\"color\": {\"field\": \"Principal Component\", \"type\": \"nominal\"}, \"x\": {\"field\": \"Taxon\", \"type\": \"nominal\"}, \"y\": {\"field\": \"Loading\", \"type\": \"quantitative\"}}}, {\"mark\": \"line\", \"encoding\": {\"color\": {\"field\": \"Principal Component\", \"type\": \"nominal\"}, \"x\": {\"field\": \"Taxon\", \"type\": \"nominal\"}, \"y\": {\"field\": \"Loading\", \"type\": \"quantitative\"}}}, {\"data\": {\"name\": \"data-9d49ac6f4eb17edf294d313c00d511b2\"}, \"mark\": \"rule\", \"encoding\": {\"y\": {\"field\": \"Loading\", \"type\": \"quantitative\"}}}], \"data\": {\"name\": \"data-6963c4f5ac9649b7e7b593d83acdf743\"}, \"$schema\": \"https://vega.github.io/schema/vega-lite/v4.17.0.json\", \"datasets\": {\"data-6963c4f5ac9649b7e7b593d83acdf743\": [{\"Taxon\": \"A_curv\", \"Principal Component\": \"PC1\", \"Loading\": -0.5213775448914199}, {\"Taxon\": \"A_octon\", \"Principal Component\": \"PC1\", \"Loading\": -0.19451988542116894}, {\"Taxon\": \"ActinSpp\", \"Principal Component\": \"PC1\", \"Loading\": -0.37381455714043943}, {\"Taxon\": \"A_nodul\", \"Principal Component\": \"PC1\", \"Loading\": 0.6115630260808561}, {\"Taxon\": \"CoscinSpp\", \"Principal Component\": \"PC1\", \"Loading\": -0.041198716529780424}, {\"Taxon\": \"CyclotSpp\", \"Principal Component\": \"PC1\", \"Loading\": -0.34572600531760905}, {\"Taxon\": \"Rop_tess\", \"Principal Component\": \"PC1\", \"Loading\": -0.11678603992578689}, {\"Taxon\": \"StephanSpp\", \"Principal Component\": \"PC1\", \"Loading\": -0.2042499149114466}, {\"Taxon\": \"A_curv\", \"Principal Component\": \"PC2\", \"Loading\": -0.15787989052091211}, {\"Taxon\": \"A_octon\", \"Principal Component\": \"PC2\", \"Loading\": 0.0016385373844333695}, {\"Taxon\": \"ActinSpp\", \"Principal Component\": \"PC2\", \"Loading\": -0.4771442730919517}, {\"Taxon\": \"A_nodul\", \"Principal Component\": \"PC2\", \"Loading\": -0.1815027240405307}, {\"Taxon\": \"CoscinSpp\", \"Principal Component\": \"PC2\", \"Loading\": -0.548427478955877}, {\"Taxon\": \"CyclotSpp\", \"Principal Component\": \"PC2\", \"Loading\": 0.2853297361181321}, {\"Taxon\": \"Rop_tess\", \"Principal Component\": \"PC2\", \"Loading\": 0.5756648017779309}, {\"Taxon\": \"StephanSpp\", \"Principal Component\": \"PC2\", \"Loading\": 0.029759657131725466}], \"data-9d49ac6f4eb17edf294d313c00d511b2\": [{\"Loading\": 0}]}}, {\"mode\": \"vega-lite\"});\n",
       "</script>"
      ],
      "text/plain": [
       "alt.LayerChart(...)"
      ]
     },
     "execution_count": 32,
     "metadata": {},
     "output_type": "execute_result"
    }
   ],
   "source": [
    "# melt from wide to long\n",
    "loading_plot_df = loading_df.melt(\n",
    "    id_vars = 'Taxon',\n",
    "    var_name = 'Principal Component',\n",
    "    value_name = 'Loading'\n",
    ")\n",
    "\n",
    "# create base layer with encoding\n",
    "base = alt.Chart(loading_plot_df).encode(\n",
    "    x = alt.X('Taxon'),\n",
    "    y= alt.Y('Loading'),\n",
    "    color = alt.Color('Principal Component')\n",
    ")\n",
    "\n",
    "# store horizontal line at zero\n",
    "rule = alt.Chart(pd.DataFrame({'Loading': [0]})).mark_rule().encode(y='Loading')\n",
    "\n",
    "\n",
    "# layer points + lines + rule to construct loading plot\n",
    "loading_plot = base.mark_point() + base.mark_line() + rule\n",
    "\n",
    "# show\n",
    "loading_plot"
   ]
  },
  {
   "cell_type": "markdown",
   "metadata": {},
   "source": [
    "<!-- END QUESTION -->\n",
    "\n",
    "<!-- BEGIN QUESTION -->\n",
    "\n",
    "#### (iii) Interpret the first principal component.\n",
    "\n",
    "Indicate the following:\n",
    "* which taxa are up-weighted and which are down-weighted;\n",
    "* how you would describe the principal component in context (*e.g.*, average abundance among a group, differences in abundances, etc.);\n",
    "* and how you would interpret a positive value of the PC versus a negative value of the PC in terms of diatom communnity composition.\n"
   ]
  },
  {
   "cell_type": "markdown",
   "metadata": {},
   "source": [
    "_A_nodul is the only up-weighted taxon for PC1. All of the rest are negatively loaded, with A_curv being the most down-weighted. This means a high value for PC1 will have a higher than average abundance of A_nodul and a lower than average abundance of everything else, especially A_curv, since A_nodul and A_curv heavily influences PC1 due to their high magnitudes. A positive PC1 value indicates high composition of A_nodul with aeverything else being rare or absent, and vice versa for a negative PC1 value._"
   ]
  },
  {
   "cell_type": "markdown",
   "metadata": {},
   "source": [
    "<!-- END QUESTION -->\n",
    "\n",
    "<!-- BEGIN QUESTION -->\n",
    "\n",
    "#### (iv) Interpret the second principal component.\n",
    "\n",
    "Indicate the following:\n",
    "* which taxa are up-weighted and which are down-weighted;\n",
    "* how you would describe the principal component in context (*e.g.*, average abundance among a group, differences in abundances, etc.);\n",
    "* and how you would interpret a positive value of the PC versus a negative value of the PC in terms of diatom community composition.\n"
   ]
  },
  {
   "cell_type": "markdown",
   "metadata": {},
   "source": [
    "_StephanSpp, Rop_tess, and CyclotSpp are up-weighted, while the rest of the taxa are down weighted or 0. Rop_tess has the hghest positive loading, while CoscinSpp has the most negative loading. A higher than average abundance of Rop_tess and CyclotSpp correlates with an increase in PC2, while a higher than average abundance of CoscinSpp and ActinSpp decrease PC2. Taxa with loadings closer to 0 little to no impact on PC2. A positive PC2 value indicates an abundance of Rop_tess and CylotSpp and absence/scarcity of everything else, while a negative value indicates  an abundance of CoscinSpp and ActinSpp._"
   ]
  },
  {
   "cell_type": "markdown",
   "metadata": {},
   "source": [
    "<!-- END QUESTION -->\n",
    "\n",
    "### Q2 (d). Visualizing community composition\n",
    "\n",
    "Take a moment to recall that there was a shift in the *A. nodulifer* abundance before and after around 11,000 years ago, which roughly corresponded to a major transition in the earth's climate. \n",
    "\n",
    "Well, you can now use PCA to investigate whether not just individual abundances but *community composition* may have shifted around that time. To that end, let's think of the principal components as 'community composition indices':\n",
    "* consider PC1 a nodulifer/non-nodulifer community composition index; and \n",
    "* consider PC2 a complex community composition index. \n",
    "\n",
    "A pattern of variation or covariation in the principal components can be thought of as reflecting a particular ecological community composition dynamic -- a way that community composition varies throughout time. Here you'll look for distinct patterns of variation/covariation before and after 11,000 years ago via an exploratory plot of the principal components."
   ]
  },
  {
   "cell_type": "markdown",
   "metadata": {},
   "source": [
    "#### (i) Project the centered and scaled data onto the first two component directions.\n",
    "\n",
    "This sounds a little more complicated than it is -- all that means is compute the values of the principal components for each data point. \n",
    "\n",
    "Create a dataframe called `projected_data` containing just the first two principal components as two columns named `PC1` and `PC2`, and two additional columns with the Age and Depth variables. \n",
    "\n",
    "Print the first four rows of `projected_data`.\n"
   ]
  },
  {
   "cell_type": "code",
   "execution_count": 35,
   "metadata": {
    "tags": []
   },
   "outputs": [
    {
     "data": {
      "text/html": [
       "<div>\n",
       "<style scoped>\n",
       "    .dataframe tbody tr th:only-of-type {\n",
       "        vertical-align: middle;\n",
       "    }\n",
       "\n",
       "    .dataframe tbody tr th {\n",
       "        vertical-align: top;\n",
       "    }\n",
       "\n",
       "    .dataframe thead th {\n",
       "        text-align: right;\n",
       "    }\n",
       "</style>\n",
       "<table border=\"1\" class=\"dataframe\">\n",
       "  <thead>\n",
       "    <tr style=\"text-align: right;\">\n",
       "      <th></th>\n",
       "      <th>Depth</th>\n",
       "      <th>Age</th>\n",
       "      <th>PC1</th>\n",
       "      <th>PC2</th>\n",
       "    </tr>\n",
       "  </thead>\n",
       "  <tbody>\n",
       "    <tr>\n",
       "      <th>0</th>\n",
       "      <td>0.00</td>\n",
       "      <td>1.33</td>\n",
       "      <td>-0.294522</td>\n",
       "      <td>-0.633176</td>\n",
       "    </tr>\n",
       "    <tr>\n",
       "      <th>1</th>\n",
       "      <td>0.05</td>\n",
       "      <td>1.37</td>\n",
       "      <td>-0.554702</td>\n",
       "      <td>-0.618875</td>\n",
       "    </tr>\n",
       "    <tr>\n",
       "      <th>2</th>\n",
       "      <td>0.10</td>\n",
       "      <td>1.42</td>\n",
       "      <td>-0.307745</td>\n",
       "      <td>-2.050236</td>\n",
       "    </tr>\n",
       "    <tr>\n",
       "      <th>3</th>\n",
       "      <td>0.15</td>\n",
       "      <td>1.46</td>\n",
       "      <td>-1.771066</td>\n",
       "      <td>1.637274</td>\n",
       "    </tr>\n",
       "  </tbody>\n",
       "</table>\n",
       "</div>"
      ],
      "text/plain": [
       "   Depth   Age       PC1       PC2\n",
       "0   0.00  1.33 -0.294522 -0.633176\n",
       "1   0.05  1.37 -0.554702 -0.618875\n",
       "2   0.10  1.42 -0.307745 -2.050236\n",
       "3   0.15  1.46 -1.771066  1.637274"
      ]
     },
     "execution_count": 35,
     "metadata": {},
     "output_type": "execute_result"
    }
   ],
   "source": [
    "# project pcdata onto first two components; store as data frame\n",
    "projected_data = pd.DataFrame(\n",
    "    pca.fit_transform(pcdata)\n",
    ").iloc[:, 0:2].rename(columns = {0: 'PC1', 1: 'PC2'})\n",
    "\n",
    "# add depth and age to projected data\n",
    "projected_data.index = pcdata.index\n",
    "projected_data = projected_data.reset_index()\n",
    "\n",
    "# print first four rows\n",
    "projected_data.head(4)"
   ]
  },
  {
   "cell_type": "code",
   "execution_count": 36,
   "metadata": {
    "deletable": false,
    "editable": false
   },
   "outputs": [
    {
     "data": {
      "text/html": [
       "<p><strong><pre style='display: inline;'>q2_d_i</pre></strong> passed! 🙌</p>"
      ],
      "text/plain": [
       "q2_d_i results: All test cases passed!"
      ]
     },
     "execution_count": 36,
     "metadata": {},
     "output_type": "execute_result"
    }
   ],
   "source": [
    "grader.check(\"q2_d_i\")"
   ]
  },
  {
   "cell_type": "markdown",
   "metadata": {},
   "source": [
    "<!-- BEGIN QUESTION -->\n",
    "\n",
    "#### (ii) Construct a scatterplot of PC1 and PC2 by age indicator.\n",
    "\n",
    "Follow these steps to construct a scatterplot of the principal components.\n",
    "\n",
    "1. Create an Altair chart based on `projected_data` and use `.transform_calculate(...)` to define a variable `since_11KyrBP` that indicates whether `Age` is older than 11,000 years. Store the result as `base`.\n",
    "2. Modify `base` to add points with the following encodings. \n",
    "    + Pass PC1 to the `X` encoding channel and title the axis 'A. Nodulifer/non-A. nodulifer composition'.\n",
    "    + Pass PC2 to the `Y` encoding channel and title the axis 'Complex community composition'.\n",
    "    + Pass the variable you created in step 1. to the `color` encoding channel and title it 'More recent than 11KyrBP'.\n",
    "    Store the result as `scatter`.\n",
    "    \n",
    "Show the scatterplot once you complete these steps.\n"
   ]
  },
  {
   "cell_type": "code",
   "execution_count": 42,
   "metadata": {
    "tags": []
   },
   "outputs": [
    {
     "data": {
      "text/html": [
       "\n",
       "<div id=\"altair-viz-c7cca9d58f64413ba8ed74f6d023ce88\"></div>\n",
       "<script type=\"text/javascript\">\n",
       "  var VEGA_DEBUG = (typeof VEGA_DEBUG == \"undefined\") ? {} : VEGA_DEBUG;\n",
       "  (function(spec, embedOpt){\n",
       "    let outputDiv = document.currentScript.previousElementSibling;\n",
       "    if (outputDiv.id !== \"altair-viz-c7cca9d58f64413ba8ed74f6d023ce88\") {\n",
       "      outputDiv = document.getElementById(\"altair-viz-c7cca9d58f64413ba8ed74f6d023ce88\");\n",
       "    }\n",
       "    const paths = {\n",
       "      \"vega\": \"https://cdn.jsdelivr.net/npm//vega@5?noext\",\n",
       "      \"vega-lib\": \"https://cdn.jsdelivr.net/npm//vega-lib?noext\",\n",
       "      \"vega-lite\": \"https://cdn.jsdelivr.net/npm//vega-lite@4.17.0?noext\",\n",
       "      \"vega-embed\": \"https://cdn.jsdelivr.net/npm//vega-embed@6?noext\",\n",
       "    };\n",
       "\n",
       "    function maybeLoadScript(lib, version) {\n",
       "      var key = `${lib.replace(\"-\", \"\")}_version`;\n",
       "      return (VEGA_DEBUG[key] == version) ?\n",
       "        Promise.resolve(paths[lib]) :\n",
       "        new Promise(function(resolve, reject) {\n",
       "          var s = document.createElement('script');\n",
       "          document.getElementsByTagName(\"head\")[0].appendChild(s);\n",
       "          s.async = true;\n",
       "          s.onload = () => {\n",
       "            VEGA_DEBUG[key] = version;\n",
       "            return resolve(paths[lib]);\n",
       "          };\n",
       "          s.onerror = () => reject(`Error loading script: ${paths[lib]}`);\n",
       "          s.src = paths[lib];\n",
       "        });\n",
       "    }\n",
       "\n",
       "    function showError(err) {\n",
       "      outputDiv.innerHTML = `<div class=\"error\" style=\"color:red;\">${err}</div>`;\n",
       "      throw err;\n",
       "    }\n",
       "\n",
       "    function displayChart(vegaEmbed) {\n",
       "      vegaEmbed(outputDiv, spec, embedOpt)\n",
       "        .catch(err => showError(`Javascript Error: ${err.message}<br>This usually means there's a typo in your chart specification. See the javascript console for the full traceback.`));\n",
       "    }\n",
       "\n",
       "    if(typeof define === \"function\" && define.amd) {\n",
       "      requirejs.config({paths});\n",
       "      require([\"vega-embed\"], displayChart, err => showError(`Error loading script: ${err.message}`));\n",
       "    } else {\n",
       "      maybeLoadScript(\"vega\", \"5\")\n",
       "        .then(() => maybeLoadScript(\"vega-lite\", \"4.17.0\"))\n",
       "        .then(() => maybeLoadScript(\"vega-embed\", \"6\"))\n",
       "        .catch(showError)\n",
       "        .then(() => displayChart(vegaEmbed));\n",
       "    }\n",
       "  })({\"config\": {\"view\": {\"continuousWidth\": 400, \"continuousHeight\": 300}}, \"data\": {\"name\": \"data-531b4130d5069309969d2b83b31253db\"}, \"mark\": \"point\", \"encoding\": {\"color\": {\"field\": \"since_11KyrBP\", \"title\": \"More recent than 11KyrBP\", \"type\": \"nominal\"}, \"x\": {\"field\": \"PC1\", \"title\": \"A. Nodulifer/non A.nodulifer composition\", \"type\": \"quantitative\"}, \"y\": {\"field\": \"PC2\", \"title\": \"Complex community composition\", \"type\": \"quantitative\"}}, \"transform\": [{\"calculate\": \"datum.Age >11\", \"as\": \"since_11KyrBP\"}], \"$schema\": \"https://vega.github.io/schema/vega-lite/v4.17.0.json\", \"datasets\": {\"data-531b4130d5069309969d2b83b31253db\": [{\"Depth\": 0.0, \"Age\": 1.33, \"PC1\": -0.294522319604791, \"PC2\": -0.6331758100461361}, {\"Depth\": 0.05, \"Age\": 1.37, \"PC1\": -0.5547015570717816, \"PC2\": -0.618874728777421}, {\"Depth\": 0.1, \"Age\": 1.42, \"PC1\": -0.3077453927574612, \"PC2\": -2.0502358533304688}, {\"Depth\": 0.15, \"Age\": 1.46, \"PC1\": -1.7710664670390404, \"PC2\": 1.637274154058652}, {\"Depth\": 0.2, \"Age\": 1.51, \"PC1\": -0.29280577872110536, \"PC2\": 0.25943037455617907}, {\"Depth\": 0.25, \"Age\": 1.55, \"PC1\": -0.2295105479695469, \"PC2\": 0.26507953022742214}, {\"Depth\": 0.3, \"Age\": 1.59, \"PC1\": -0.17868996036000365, \"PC2\": 1.9694958262200937}, {\"Depth\": 0.35, \"Age\": 1.64, \"PC1\": -0.3157448645744504, \"PC2\": -1.0117665461421301}, {\"Depth\": 0.4, \"Age\": 1.68, \"PC1\": -2.058715498956636, \"PC2\": -1.836308131495548}, {\"Depth\": 0.45, \"Age\": 1.72, \"PC1\": -0.9107882783574474, \"PC2\": -1.2551807743864882}, {\"Depth\": 0.5, \"Age\": 1.77, \"PC1\": -0.5815080694071998, \"PC2\": 1.5668121615550552}, {\"Depth\": 0.55, \"Age\": 1.81, \"PC1\": -1.1266874034958974, \"PC2\": 0.3093534320349272}, {\"Depth\": 0.6, \"Age\": 1.86, \"PC1\": -1.4136094000991244, \"PC2\": 0.05476540313907665}, {\"Depth\": 0.65, \"Age\": 1.9, \"PC1\": 0.176513351111134, \"PC2\": 0.957973104085164}, {\"Depth\": 0.7, \"Age\": 1.94, \"PC1\": -1.5921831501633843, \"PC2\": -0.45145614508854137}, {\"Depth\": 0.75, \"Age\": 1.99, \"PC1\": -0.6955845010802746, \"PC2\": -1.6186949903858343}, {\"Depth\": 0.8, \"Age\": 2.03, \"PC1\": -1.401271563853553, \"PC2\": -1.1408054249471524}, {\"Depth\": 0.85, \"Age\": 2.08, \"PC1\": -2.3118467160723166, \"PC2\": 0.9630210472047689}, {\"Depth\": 0.9, \"Age\": 2.12, \"PC1\": -0.6701664537250002, \"PC2\": 0.11797028263326524}, {\"Depth\": 0.95, \"Age\": 2.16, \"PC1\": -2.305134405411667, \"PC2\": 0.5991679517422656}, {\"Depth\": 1.0, \"Age\": 2.21, \"PC1\": -2.07987155426504, \"PC2\": -0.5510408889074369}, {\"Depth\": 1.05, \"Age\": 2.25, \"PC1\": -1.6008420958264256, \"PC2\": 0.3231419488203273}, {\"Depth\": 1.1, \"Age\": 2.29, \"PC1\": -2.68347928625761, \"PC2\": 1.571977711321392}, {\"Depth\": 1.15, \"Age\": 2.34, \"PC1\": -0.9463018173173292, \"PC2\": 0.039198702219053444}, {\"Depth\": 1.2, \"Age\": 2.38, \"PC1\": 0.4976969447845747, \"PC2\": 1.7505992545474796}, {\"Depth\": 1.25, \"Age\": 2.43, \"PC1\": -1.9479550002010573, \"PC2\": 0.47188097086670977}, {\"Depth\": 1.3, \"Age\": 2.47, \"PC1\": -0.5382172591771395, \"PC2\": 1.1179186050879484}, {\"Depth\": 1.35, \"Age\": 2.51, \"PC1\": -1.825027998371447, \"PC2\": 1.3072303284315192}, {\"Depth\": 1.4, \"Age\": 2.56, \"PC1\": -1.8414578227374991, \"PC2\": 1.2997171613602816}, {\"Depth\": 1.49, \"Age\": 2.64, \"PC1\": -0.9109678036987054, \"PC2\": -1.0680572158558899}, {\"Depth\": 1.5, \"Age\": 2.65, \"PC1\": -0.6913942906795854, \"PC2\": 0.5551512174846955}, {\"Depth\": 1.55, \"Age\": 2.69, \"PC1\": -0.9175204859414476, \"PC2\": 1.9610600500808055}, {\"Depth\": 1.6, \"Age\": 2.73, \"PC1\": -1.4143217338225624, \"PC2\": -0.6186513637457461}, {\"Depth\": 1.65, \"Age\": 2.78, \"PC1\": -1.2425786554614355, \"PC2\": 0.09143702235286015}, {\"Depth\": 1.7, \"Age\": 2.82, \"PC1\": -1.851259183666506, \"PC2\": -0.5312005135220136}, {\"Depth\": 1.75, \"Age\": 2.87, \"PC1\": -2.360370223585119, \"PC2\": -0.17069958517996514}, {\"Depth\": 1.8, \"Age\": 2.91, \"PC1\": -1.2394197395941409, \"PC2\": -0.8165599639934636}, {\"Depth\": 1.85, \"Age\": 2.95, \"PC1\": -0.882717985083442, \"PC2\": -0.8414674502599618}, {\"Depth\": 1.9, \"Age\": 3.0, \"PC1\": -1.0878313299685691, \"PC2\": 2.337546562616651}, {\"Depth\": 1.95, \"Age\": 3.04, \"PC1\": -1.8890381356773511, \"PC2\": -0.28380396887337245}, {\"Depth\": 2.0, \"Age\": 3.08, \"PC1\": -1.3617183350383044, \"PC2\": 2.0103110008936316}, {\"Depth\": 2.05, \"Age\": 3.13, \"PC1\": -1.379957334609474, \"PC2\": 0.07528943882535252}, {\"Depth\": 2.1, \"Age\": 3.17, \"PC1\": -1.5446451117098399, \"PC2\": 0.0025736508906941177}, {\"Depth\": 2.15, \"Age\": 3.22, \"PC1\": -0.3507472666364957, \"PC2\": 0.8869935281172718}, {\"Depth\": 2.2, \"Age\": 3.26, \"PC1\": -0.5544577521959401, \"PC2\": -0.8371115987584362}, {\"Depth\": 2.25, \"Age\": 3.3, \"PC1\": -1.325025434147663, \"PC2\": -0.5339992714472331}, {\"Depth\": 2.3, \"Age\": 3.35, \"PC1\": -0.5508080948514795, \"PC2\": -0.5801906024455538}, {\"Depth\": 2.35, \"Age\": 3.39, \"PC1\": -0.4802491787207462, \"PC2\": 1.1166082623789861}, {\"Depth\": 2.4, \"Age\": 3.44, \"PC1\": -1.6531092150364082, \"PC2\": -0.3912761398496661}, {\"Depth\": 2.45, \"Age\": 3.48, \"PC1\": -1.7507105665855498, \"PC2\": -0.7759144099665698}, {\"Depth\": 2.5, \"Age\": 3.52, \"PC1\": -1.4043484025241861, \"PC2\": -0.5903283227659694}, {\"Depth\": 2.55, \"Age\": 3.57, \"PC1\": -1.1055773069642227, \"PC2\": -1.2283162769710299}, {\"Depth\": 2.59, \"Age\": 3.6, \"PC1\": -1.0363072181913504, \"PC2\": -1.164317307989263}, {\"Depth\": 2.65, \"Age\": 3.65, \"PC1\": -1.1389478492354301, \"PC2\": 0.013058153799310919}, {\"Depth\": 2.7, \"Age\": 3.7, \"PC1\": -1.057682189707091, \"PC2\": 0.11614544871170018}, {\"Depth\": 2.75, \"Age\": 3.74, \"PC1\": -1.2619390834615014, \"PC2\": 0.3306741913157266}, {\"Depth\": 2.8, \"Age\": 3.79, \"PC1\": -0.6940052421082858, \"PC2\": 0.8956520824849235}, {\"Depth\": 2.85, \"Age\": 3.83, \"PC1\": -0.2658752916205618, \"PC2\": 0.21381499071694685}, {\"Depth\": 2.9, \"Age\": 3.87, \"PC1\": -0.9693466816673262, \"PC2\": -0.29143927045490314}, {\"Depth\": 2.95, \"Age\": 3.92, \"PC1\": -0.27373877451484546, \"PC2\": 0.6881518621400192}, {\"Depth\": 3.0, \"Age\": 3.96, \"PC1\": 0.14942344648325864, \"PC2\": 1.480424410115066}, {\"Depth\": 3.0, \"Age\": 3.96, \"PC1\": -0.865183310961076, \"PC2\": 2.8001097658601}, {\"Depth\": 3.05, \"Age\": 4.01, \"PC1\": -0.1242443272003653, \"PC2\": 1.0859101792399763}, {\"Depth\": 3.1, \"Age\": 4.05, \"PC1\": -0.2216719304636301, \"PC2\": 0.19001674791523068}, {\"Depth\": 3.2, \"Age\": 4.14, \"PC1\": 0.16376703153881442, \"PC2\": 1.850959975351753}, {\"Depth\": 3.25, \"Age\": 4.18, \"PC1\": 0.035309592717584194, \"PC2\": 0.6867420057544669}, {\"Depth\": 3.3, \"Age\": 4.22, \"PC1\": -0.06999547114985835, \"PC2\": -0.036885037443506345}, {\"Depth\": 3.35, \"Age\": 4.27, \"PC1\": 0.9548042729755273, \"PC2\": 0.8151577581513235}, {\"Depth\": 3.4, \"Age\": 4.31, \"PC1\": -0.021303471279941977, \"PC2\": 0.33827796511941366}, {\"Depth\": 3.45, \"Age\": 4.36, \"PC1\": 0.3270259074893791, \"PC2\": 3.9301009432516407}, {\"Depth\": 3.5, \"Age\": 4.4, \"PC1\": -0.054816819682169136, \"PC2\": 0.8517352736789842}, {\"Depth\": 3.55, \"Age\": 4.44, \"PC1\": 0.29576408826166795, \"PC2\": 3.3563638904360324}, {\"Depth\": 3.6, \"Age\": 4.49, \"PC1\": 1.180336500715219, \"PC2\": 1.0144631323481585}, {\"Depth\": 3.65, \"Age\": 4.53, \"PC1\": -0.6326656553408878, \"PC2\": 0.13870050678537044}, {\"Depth\": 3.7, \"Age\": 4.58, \"PC1\": 0.26045340943747414, \"PC2\": -0.21605083896033273}, {\"Depth\": 3.75, \"Age\": 4.62, \"PC1\": -0.25809884374460607, \"PC2\": 0.11106936401720101}, {\"Depth\": 4.75, \"Age\": 5.5, \"PC1\": -0.4925354334183133, \"PC2\": -1.212673050206015}, {\"Depth\": 4.8, \"Age\": 5.54, \"PC1\": -0.06941772401480259, \"PC2\": -0.3693393651119204}, {\"Depth\": 4.85, \"Age\": 5.58, \"PC1\": -0.42454112432130237, \"PC2\": -0.18191969999471694}, {\"Depth\": 4.9, \"Age\": 5.63, \"PC1\": -0.8248246097243236, \"PC2\": 0.16043391503578353}, {\"Depth\": 4.95, \"Age\": 5.67, \"PC1\": -1.0616648007259883, \"PC2\": 0.6646308592742446}, {\"Depth\": 5.0, \"Age\": 5.72, \"PC1\": -0.8319777583653071, \"PC2\": 1.1148474255691796}, {\"Depth\": 5.05, \"Age\": 5.76, \"PC1\": -0.7420373396010853, \"PC2\": 2.541065487889772}, {\"Depth\": 5.1, \"Age\": 5.8, \"PC1\": -0.6662878048951345, \"PC2\": 1.6049220913842668}, {\"Depth\": 5.15, \"Age\": 5.85, \"PC1\": -0.3850111580195579, \"PC2\": 0.9386781233166086}, {\"Depth\": 5.2, \"Age\": 5.89, \"PC1\": -0.1239645060626701, \"PC2\": 0.2940235512637386}, {\"Depth\": 5.25, \"Age\": 5.94, \"PC1\": -0.9706199667990001, \"PC2\": -0.5098349347075939}, {\"Depth\": 5.3, \"Age\": 5.98, \"PC1\": 0.2686855182282745, \"PC2\": 4.893758534046296}, {\"Depth\": 5.35, \"Age\": 6.02, \"PC1\": -0.4266094582374682, \"PC2\": 1.311816233007063}, {\"Depth\": 5.4, \"Age\": 6.07, \"PC1\": 0.353466801276577, \"PC2\": 2.575939941437685}, {\"Depth\": 5.45, \"Age\": 6.11, \"PC1\": -0.8220355910974381, \"PC2\": -0.7839710948652754}, {\"Depth\": 5.5, \"Age\": 6.15, \"PC1\": 0.6364777750313362, \"PC2\": 1.7678254375621463}, {\"Depth\": 5.55, \"Age\": 6.2, \"PC1\": 0.899734836545374, \"PC2\": 1.5653808170284462}, {\"Depth\": 5.6, \"Age\": 6.24, \"PC1\": -0.9001202190867955, \"PC2\": 0.6571933360755217}, {\"Depth\": 5.65, \"Age\": 6.29, \"PC1\": -0.7018443537947995, \"PC2\": 1.5909449349860016}, {\"Depth\": 5.7, \"Age\": 6.33, \"PC1\": 0.7906932391535434, \"PC2\": 3.0832239656760034}, {\"Depth\": 5.75, \"Age\": 6.37, \"PC1\": -0.5210107185930007, \"PC2\": 1.0313052039569837}, {\"Depth\": 5.8, \"Age\": 6.42, \"PC1\": -1.1771051425521222, \"PC2\": 1.3774965971569693}, {\"Depth\": 5.85, \"Age\": 6.46, \"PC1\": -1.6169006977707623, \"PC2\": 0.05313747629886678}, {\"Depth\": 5.9, \"Age\": 6.51, \"PC1\": -0.35092636966214347, \"PC2\": 2.31283783638375}, {\"Depth\": 5.95, \"Age\": 6.55, \"PC1\": -1.1301980339344204, \"PC2\": -0.33768300554403013}, {\"Depth\": 6.0, \"Age\": 6.59, \"PC1\": -1.675384895109807, \"PC2\": 0.44173198344362175}, {\"Depth\": 6.05, \"Age\": 6.64, \"PC1\": 0.08314441733232547, \"PC2\": -0.40809043677943546}, {\"Depth\": 6.1, \"Age\": 6.68, \"PC1\": -0.9089832079017848, \"PC2\": -1.2606450665678766}, {\"Depth\": 6.15, \"Age\": 6.72, \"PC1\": 0.011356808710166167, \"PC2\": 0.6750715231835236}, {\"Depth\": 6.2, \"Age\": 6.77, \"PC1\": -0.7247790864848367, \"PC2\": -0.7260457917132981}, {\"Depth\": 6.25, \"Age\": 6.81, \"PC1\": 0.18356963906629253, \"PC2\": 0.39178735515961627}, {\"Depth\": 6.3, \"Age\": 6.86, \"PC1\": -0.6352436669644853, \"PC2\": 2.655178494367791}, {\"Depth\": 6.35, \"Age\": 6.9, \"PC1\": -0.6725193748705457, \"PC2\": -1.9854160969449546}, {\"Depth\": 6.4, \"Age\": 6.94, \"PC1\": 1.0170001409509284, \"PC2\": 4.98612574827765}, {\"Depth\": 6.45, \"Age\": 6.99, \"PC1\": -0.9984016850860158, \"PC2\": -1.00426958904799}, {\"Depth\": 6.5, \"Age\": 7.03, \"PC1\": 0.24205221626620224, \"PC2\": 1.3802924147351199}, {\"Depth\": 6.55, \"Age\": 7.08, \"PC1\": 0.3064348028827651, \"PC2\": -1.0218194752437488}, {\"Depth\": 6.6, \"Age\": 7.12, \"PC1\": -0.5788917532992588, \"PC2\": 0.14139768788529172}, {\"Depth\": 6.65, \"Age\": 7.16, \"PC1\": -0.25200802312025167, \"PC2\": 0.05083805164000861}, {\"Depth\": 6.7, \"Age\": 7.21, \"PC1\": -0.22146672485597158, \"PC2\": 0.02965455189105185}, {\"Depth\": 6.75, \"Age\": 7.25, \"PC1\": -0.940116346908702, \"PC2\": 0.2718032668959674}, {\"Depth\": 6.8, \"Age\": 7.29, \"PC1\": 0.6103046984309296, \"PC2\": 3.1155163688992507}, {\"Depth\": 6.85, \"Age\": 7.34, \"PC1\": 0.6774871597745711, \"PC2\": 2.116628784342932}, {\"Depth\": 6.9, \"Age\": 7.38, \"PC1\": -0.41360902609173417, \"PC2\": 0.17801602613084447}, {\"Depth\": 6.95, \"Age\": 7.43, \"PC1\": -0.9397505729739042, \"PC2\": -1.30442824230445}, {\"Depth\": 7.0, \"Age\": 7.47, \"PC1\": 0.33589504981436863, \"PC2\": 1.257265368223609}, {\"Depth\": 7.05, \"Age\": 7.51, \"PC1\": -0.5176929345937153, \"PC2\": -0.44457743749952944}, {\"Depth\": 7.1, \"Age\": 7.56, \"PC1\": -0.33612287569535937, \"PC2\": -0.13342967973118924}, {\"Depth\": 7.15, \"Age\": 7.6, \"PC1\": -1.2523063758233335, \"PC2\": 1.1837900248946767}, {\"Depth\": 7.2, \"Age\": 7.65, \"PC1\": -0.06467724056083118, \"PC2\": 0.44942124172573045}, {\"Depth\": 7.25, \"Age\": 7.69, \"PC1\": -0.5950561157954634, \"PC2\": -1.0297687958955997}, {\"Depth\": 7.3, \"Age\": 7.73, \"PC1\": 1.4759330845353813, \"PC2\": 2.8703384572716852}, {\"Depth\": 7.35, \"Age\": 7.78, \"PC1\": -0.2472704131567419, \"PC2\": -0.5129030765629669}, {\"Depth\": 7.4, \"Age\": 7.82, \"PC1\": -1.1420657964324452, \"PC2\": -0.459955761915218}, {\"Depth\": 7.45, \"Age\": 7.87, \"PC1\": 0.15731842896789508, \"PC2\": 2.790348751061896}, {\"Depth\": 7.5, \"Age\": 7.91, \"PC1\": -0.016385519518242946, \"PC2\": 0.8709600669519683}, {\"Depth\": 7.55, \"Age\": 7.95, \"PC1\": -0.8726992155756204, \"PC2\": -0.7385042259461566}, {\"Depth\": 7.6, \"Age\": 8.0, \"PC1\": -1.0407153885099598, \"PC2\": 0.9194730827418405}, {\"Depth\": 7.65, \"Age\": 8.04, \"PC1\": 0.46232787836516703, \"PC2\": 4.342203166025596}, {\"Depth\": 7.7, \"Age\": 8.08, \"PC1\": -1.754100024648565, \"PC2\": 0.6230828964648198}, {\"Depth\": 7.75, \"Age\": 8.13, \"PC1\": -0.7315441275474678, \"PC2\": 0.17600794517403062}, {\"Depth\": 7.8, \"Age\": 8.17, \"PC1\": -0.5030300478335389, \"PC2\": 1.8869617105250176}, {\"Depth\": 8.3, \"Age\": 8.61, \"PC1\": 0.2122462853926417, \"PC2\": 1.075798156220066}, {\"Depth\": 8.35, \"Age\": 8.65, \"PC1\": -0.7912508575318324, \"PC2\": -2.3669186030512113}, {\"Depth\": 8.4, \"Age\": 8.7, \"PC1\": -0.14254733027216648, \"PC2\": -0.9150710143328602}, {\"Depth\": 8.45, \"Age\": 8.74, \"PC1\": -1.5875329576469004, \"PC2\": -1.0450720605878203}, {\"Depth\": 8.5, \"Age\": 8.79, \"PC1\": -0.3996710585550852, \"PC2\": 0.466006798220601}, {\"Depth\": 8.55, \"Age\": 8.83, \"PC1\": -0.29031959087503334, \"PC2\": -0.06689425702640268}, {\"Depth\": 8.6, \"Age\": 8.87, \"PC1\": -0.32823312263367954, \"PC2\": -1.6304749156274485}, {\"Depth\": 8.65, \"Age\": 8.92, \"PC1\": -0.4482201522349815, \"PC2\": 1.0844153678121367}, {\"Depth\": 8.7, \"Age\": 8.96, \"PC1\": -1.077128825314437, \"PC2\": -1.9777674236030451}, {\"Depth\": 9.5, \"Age\": 10.1, \"PC1\": -1.1705949378304774, \"PC2\": 0.09224542970660615}, {\"Depth\": 9.55, \"Age\": 10.18, \"PC1\": -0.19959149932955028, \"PC2\": 1.2947041397465344}, {\"Depth\": 9.6, \"Age\": 10.27, \"PC1\": -1.6566326368255233, \"PC2\": -1.6505693765223965}, {\"Depth\": 9.65, \"Age\": 10.35, \"PC1\": -0.4682139579428312, \"PC2\": 0.07822384564879238}, {\"Depth\": 9.7, \"Age\": 10.43, \"PC1\": -1.613714277830889, \"PC2\": -2.312135434283173}, {\"Depth\": 9.75, \"Age\": 10.52, \"PC1\": -1.8240093580848546, \"PC2\": -0.42221467091859044}, {\"Depth\": 9.8, \"Age\": 10.6, \"PC1\": -1.6504625548230278, \"PC2\": -1.7346966121163352}, {\"Depth\": 9.85, \"Age\": 10.68, \"PC1\": -1.0150506453815318, \"PC2\": -2.3347401842132847}, {\"Depth\": 9.9, \"Age\": 10.77, \"PC1\": -0.1445113597622462, \"PC2\": -1.255340908235177}, {\"Depth\": 9.95, \"Age\": 10.85, \"PC1\": -0.4835723638236476, \"PC2\": -2.391106327776453}, {\"Depth\": 10.0, \"Age\": 10.93, \"PC1\": 0.7823387659805006, \"PC2\": -2.263748484886174}, {\"Depth\": 10.05, \"Age\": 11.02, \"PC1\": -0.453419801405942, \"PC2\": -1.5885339698659455}, {\"Depth\": 10.1, \"Age\": 11.1, \"PC1\": -0.0844765086931573, \"PC2\": -2.145011375735804}, {\"Depth\": 10.15, \"Age\": 11.18, \"PC1\": -0.08486425169763925, \"PC2\": -0.9846631095664157}, {\"Depth\": 10.2, \"Age\": 11.27, \"PC1\": 0.45958584932811947, \"PC2\": -1.093943246648155}, {\"Depth\": 10.25, \"Age\": 11.35, \"PC1\": -0.1521145884085415, \"PC2\": -0.8246132497918855}, {\"Depth\": 10.3, \"Age\": 11.43, \"PC1\": 0.405394078574858, \"PC2\": -0.4928256294377446}, {\"Depth\": 10.35, \"Age\": 11.52, \"PC1\": -0.026406956792381583, \"PC2\": -1.5907273478015869}, {\"Depth\": 10.4, \"Age\": 11.6, \"PC1\": -0.6211736899450535, \"PC2\": -1.964741030406689}, {\"Depth\": 10.45, \"Age\": 11.68, \"PC1\": 0.7199695559139794, \"PC2\": -1.1064336933056402}, {\"Depth\": 10.5, \"Age\": 11.77, \"PC1\": 1.6062502082840242, \"PC2\": -0.6818429581499363}, {\"Depth\": 10.55, \"Age\": 11.85, \"PC1\": 3.4550783164095114, \"PC2\": -0.30037324743154126}, {\"Depth\": 10.6, \"Age\": 11.93, \"PC1\": 2.143269608668708, \"PC2\": -0.8607606235132194}, {\"Depth\": 10.65, \"Age\": 12.02, \"PC1\": 3.133039800405777, \"PC2\": 0.3138736984152704}, {\"Depth\": 10.7, \"Age\": 12.1, \"PC1\": 3.261326042889323, \"PC2\": 0.20041138794829289}, {\"Depth\": 10.75, \"Age\": 12.18, \"PC1\": 3.039259992396443, \"PC2\": 0.3043762541362089}, {\"Depth\": 10.8, \"Age\": 12.27, \"PC1\": 2.719529660844518, \"PC2\": -0.13516651304579147}, {\"Depth\": 10.85, \"Age\": 12.35, \"PC1\": 3.1078771025488607, \"PC2\": -0.1239279343807083}, {\"Depth\": 10.9, \"Age\": 12.43, \"PC1\": 2.7917582472749785, \"PC2\": -0.2239329685112279}, {\"Depth\": 10.95, \"Age\": 12.52, \"PC1\": 2.515382335905939, \"PC2\": -0.14639024563922548}, {\"Depth\": 11.0, \"Age\": 12.64, \"PC1\": 2.072668229683208, \"PC2\": -0.6175711694154433}, {\"Depth\": 11.05, \"Age\": 12.73, \"PC1\": 2.8145159234880905, \"PC2\": -0.20063247067543274}, {\"Depth\": 11.35, \"Age\": 13.08, \"PC1\": 0.4563234554806751, \"PC2\": -0.8733113321755755}, {\"Depth\": 11.4, \"Age\": 13.12, \"PC1\": 2.130018055065061, \"PC2\": -0.28097129817870814}, {\"Depth\": 11.45, \"Age\": 13.17, \"PC1\": 1.6304174894285979, \"PC2\": -1.2469273490220314}, {\"Depth\": 11.5, \"Age\": 13.21, \"PC1\": 0.08053891213770253, \"PC2\": -1.7148819253337177}, {\"Depth\": 11.55, \"Age\": 13.26, \"PC1\": 1.6544139645887648, \"PC2\": -1.3007956328810202}, {\"Depth\": 11.6, \"Age\": 13.3, \"PC1\": -0.3298301575065522, \"PC2\": -0.7358324280701141}, {\"Depth\": 11.65, \"Age\": 13.35, \"PC1\": 0.6090060763291549, \"PC2\": -1.618837404038206}, {\"Depth\": 11.7, \"Age\": 13.39, \"PC1\": 0.6342582349452749, \"PC2\": -1.6319978047937598}, {\"Depth\": 11.75, \"Age\": 13.44, \"PC1\": -2.569336327101392, \"PC2\": -0.7653065216101982}, {\"Depth\": 11.8, \"Age\": 13.48, \"PC1\": 0.9743634364114349, \"PC2\": -0.980561826578593}, {\"Depth\": 11.85, \"Age\": 13.53, \"PC1\": 0.2975339840801863, \"PC2\": -1.1015696913970816}, {\"Depth\": 11.9, \"Age\": 13.57, \"PC1\": 1.0694055161310914, \"PC2\": -0.7392889606840901}, {\"Depth\": 11.95, \"Age\": 13.61, \"PC1\": -2.3992636268220338, \"PC2\": -1.891548663356227}, {\"Depth\": 12.0, \"Age\": 13.66, \"PC1\": -0.762341745156296, \"PC2\": -1.1912253701130238}, {\"Depth\": 12.05, \"Age\": 13.7, \"PC1\": 2.5326844127594095, \"PC2\": 1.2695656771851516}, {\"Depth\": 12.1, \"Age\": 13.75, \"PC1\": 0.3516050352041205, \"PC2\": -1.467804577447598}, {\"Depth\": 12.15, \"Age\": 13.79, \"PC1\": 1.1049876121613709, \"PC2\": -0.05811229540541492}, {\"Depth\": 11.1, \"Age\": 12.82, \"PC1\": 2.715702294426247, \"PC2\": -0.8684860498412519}, {\"Depth\": 11.15, \"Age\": 12.9, \"PC1\": 2.614476874563252, \"PC2\": -0.7373399839920048}, {\"Depth\": 11.2, \"Age\": 12.94, \"PC1\": 2.649672319780623, \"PC2\": -0.7488759177203911}, {\"Depth\": 11.25, \"Age\": 12.99, \"PC1\": 0.6217519990113135, \"PC2\": -2.4875710858316147}, {\"Depth\": 11.3, \"Age\": 13.03, \"PC1\": 2.332536817459376, \"PC2\": 0.11673964933471653}, {\"Depth\": 12.2, \"Age\": 13.84, \"PC1\": -1.1881952227110877, \"PC2\": -1.4502004243659645}, {\"Depth\": 12.25, \"Age\": 13.88, \"PC1\": 0.023862153476525413, \"PC2\": -1.654274400268954}, {\"Depth\": 12.3, \"Age\": 13.93, \"PC1\": -0.0381221112269956, \"PC2\": -1.104396759720503}, {\"Depth\": 12.35, \"Age\": 13.97, \"PC1\": 2.165384905065845, \"PC2\": -1.0787840054973465}, {\"Depth\": 12.4, \"Age\": 14.02, \"PC1\": -0.09066540957549322, \"PC2\": -1.3114689284245262}, {\"Depth\": 12.45, \"Age\": 14.06, \"PC1\": -0.06907959396059912, \"PC2\": -1.7971123298447609}, {\"Depth\": 12.5, \"Age\": 14.11, \"PC1\": 0.7116471256490178, \"PC2\": -0.504050635277795}, {\"Depth\": 12.55, \"Age\": 14.15, \"PC1\": 0.9003412855028212, \"PC2\": -0.7752731454492198}, {\"Depth\": 12.6, \"Age\": 14.19, \"PC1\": 0.9273594800294233, \"PC2\": -1.3475237252718253}, {\"Depth\": 12.65, \"Age\": 14.24, \"PC1\": 0.29304028668693943, \"PC2\": -1.0749612715472916}, {\"Depth\": 12.7, \"Age\": 14.28, \"PC1\": 3.3701187103908574, \"PC2\": -0.4234937010815067}, {\"Depth\": 12.75, \"Age\": 14.33, \"PC1\": 0.5866650344317823, \"PC2\": -0.7556202111631832}, {\"Depth\": 12.8, \"Age\": 14.37, \"PC1\": 1.148988401000691, \"PC2\": -0.6764107887222588}, {\"Depth\": 12.85, \"Age\": 14.42, \"PC1\": 1.2244082303209294, \"PC2\": -1.023363573642047}, {\"Depth\": 12.9, \"Age\": 14.46, \"PC1\": 0.748770370321167, \"PC2\": -0.9666673478031408}, {\"Depth\": 12.95, \"Age\": 14.51, \"PC1\": 1.5684025380937114, \"PC2\": 0.15625389720321956}, {\"Depth\": 13.0, \"Age\": 14.55, \"PC1\": 3.277008411914087, \"PC2\": 0.38815220563401004}, {\"Depth\": 13.05, \"Age\": 14.6, \"PC1\": 2.5082135051473964, \"PC2\": -0.43882380785902975}, {\"Depth\": 13.1, \"Age\": 14.64, \"PC1\": 4.161816740517059, \"PC2\": -0.07336696968347811}, {\"Depth\": 13.15, \"Age\": 14.69, \"PC1\": 2.2778811704735267, \"PC2\": -1.348697734256929}, {\"Depth\": 13.2, \"Age\": 14.73, \"PC1\": 3.3099176408281457, \"PC2\": -0.4695758716971411}, {\"Depth\": 13.25, \"Age\": 14.78, \"PC1\": 2.6938392725164118, \"PC2\": -0.8079583362784555}, {\"Depth\": 13.41, \"Age\": 14.92, \"PC1\": 2.7517311373508453, \"PC2\": 0.20762789913510513}, {\"Depth\": 13.46, \"Age\": 14.96, \"PC1\": 3.2858220912093787, \"PC2\": -0.47679797516154987}, {\"Depth\": 13.51, \"Age\": 15.01, \"PC1\": 3.684645178414575, \"PC2\": -0.5870104080491874}, {\"Depth\": 13.56, \"Age\": 15.05, \"PC1\": 3.1036146895000876, \"PC2\": -0.5788153838415232}, {\"Depth\": 13.61, \"Age\": 15.1, \"PC1\": 3.259312840406539, \"PC2\": 0.177012971519621}, {\"Depth\": 13.66, \"Age\": 15.14, \"PC1\": 2.707272164110305, \"PC2\": 0.24712718673744502}, {\"Depth\": 13.71, \"Age\": 15.19, \"PC1\": 2.862804718981274, \"PC2\": -0.15858046235951406}]}}, {\"mode\": \"vega-lite\"});\n",
       "</script>"
      ],
      "text/plain": [
       "alt.Chart(...)"
      ]
     },
     "execution_count": 42,
     "metadata": {},
     "output_type": "execute_result"
    }
   ],
   "source": [
    "# base chart\n",
    "base =alt.Chart(projected_data).transform_calculate(\n",
    "    since_11KyrBP = 'datum.Age >11'\n",
    ")\n",
    "\n",
    "# data scatter\n",
    "scatter = base.mark_point().encode(\n",
    "    x = alt.X('PC1:Q', title = 'A. Nodulifer/non A.nodulifer composition'),\n",
    "    y = alt.Y('PC2:Q', title = 'Complex community composition'),\n",
    "    color = alt.Color('since_11KyrBP:N', title = 'More recent than 11KyrBP')\n",
    ")\n",
    "# show\n",
    "scatter"
   ]
  },
  {
   "cell_type": "markdown",
   "metadata": {},
   "source": [
    "<!-- END QUESTION -->\n",
    "\n",
    "---\n",
    "\n",
    "## 3. Communicating results\n",
    "\n",
    "Take a moment to review and reflect on the results of your analysis in the previous parts. Think about how you would describe succinctly what you've learned from the diatom data."
   ]
  },
  {
   "cell_type": "markdown",
   "metadata": {},
   "source": [
    "<!-- BEGIN QUESTION -->\n",
    "\n",
    "### Q3 (a). Summary\n",
    "\n",
    "Write a brief paragraph (3-5 sentences) that addresses the following questions by referring to your final plot in Q2 (d).\n",
    "* How would you characterize the typical ecological community composition of diatom taxa before and after 11,000 years ago?\n",
    "    + *Hint*: focus on the side and top panels and the typical values of each index in the two time periods.\n",
    "* Does the variation in ecological community composition over time seem to differ before and after 11,000 years ago?\n",
    "    + *Hint*: focus on the shape of data scatter.\n"
   ]
  },
  {
   "cell_type": "markdown",
   "metadata": {},
   "source": [
    "_Before 11,000 years ago, the typical ecological comunity composition saw an absence of A. nodulifer, with its composition averaging near 0. However, after the major climate shift around 11,000 years ago, there is an increase in the abundance of A. nodulifer and it seems to dominate the community composition with all other taxa beginning to center around 0. Before 11,000 years ago, the ecological community composition had much more variation among the taxa, and it seems that the climate change had an influence on the decrease in variation and domination of A. nodulifer as seens byt he shapes of the scatters._"
   ]
  },
  {
   "cell_type": "markdown",
   "metadata": {},
   "source": [
    "<!-- END QUESTION -->\n",
    "\n",
    "<!-- BEGIN QUESTION -->\n",
    "\n",
    "### Q3 (b). Further work\n",
    "\n",
    "What more might you like to know, given what you've learned? Pose a question that your exploratory analysis raises for you.\n"
   ]
  },
  {
   "cell_type": "markdown",
   "metadata": {},
   "source": [
    "#### Answer\n",
    "\n",
    "*I would like to take a closer look at the concentrations of each taxon before and after the climate shift, similarly to how we did with A. nodulifer to see if there any relationships. I think it would also be intresting to look at the same taxa in different locations to see how environment/climate interact with their compositions elsewhere.*"
   ]
  },
  {
   "cell_type": "markdown",
   "metadata": {
    "tags": []
   },
   "source": [
    "<!-- END QUESTION -->\n",
    "\n",
    "---\n",
    "## Submission Checklist\n",
    "1. Save file to confirm all changes are on disk\n",
    "2. Run *Kernel > Restart & Run All* to execute all code from top to bottom\n",
    "3. Save file again to write any new output to disk\n",
    "4. Select *File > Download as > HTML*.\n",
    "5. Open in Google Chrome and print to PDF on A3 paper in portrait orientation.\n",
    "6. Submit to Gradescope"
   ]
  },
  {
   "cell_type": "markdown",
   "metadata": {
    "deletable": false,
    "editable": false
   },
   "source": [
    "---\n",
    "\n",
    "To double-check your work, the cell below will rerun all of the autograder tests."
   ]
  },
  {
   "cell_type": "code",
   "execution_count": null,
   "metadata": {
    "deletable": false,
    "editable": false
   },
   "outputs": [],
   "source": [
    "grader.check_all()"
   ]
  }
 ],
 "metadata": {
  "celltoolbar": "Edit Metadata",
  "kernelspec": {
   "display_name": "Python 3 (ipykernel)",
   "language": "python",
   "name": "python3"
  },
  "language_info": {
   "codemirror_mode": {
    "name": "ipython",
    "version": 3
   },
   "file_extension": ".py",
   "mimetype": "text/x-python",
   "name": "python",
   "nbconvert_exporter": "python",
   "pygments_lexer": "ipython3",
   "version": "3.9.12"
  },
  "otter": {
   "tests": {
    "q0_a": {
     "name": "q0_a",
     "points": 1,
     "suites": [
      {
       "cases": [
        {
         "code": ">>> # diatoms_mod1 doesn't contain any NaN values\n>>> diatoms_mod1.isnull().values.any() == False\nTrue",
         "hidden": false,
         "locked": false
        },
        {
         "code": ">>> # diatoms_raw.loc[4, \"StephanSpp\"] is NaN; want to confirm that diatoms_mod1 is 0 instead\n>>> diatoms_mod1.loc[4, \"StephanSpp\"] == 0\nTrue",
         "hidden": false,
         "locked": false
        },
        {
         "code": ">>> # check for correct knowledge of extracting two rows from a dataframe by index\n>>> (diatoms_mod1_sample == diatoms_mod1.iloc[4:6, :]).all().all() and \\\n... (diatoms_mod1_sample == diatoms_mod1.loc[4:5, :]).all().all()\nTrue",
         "hidden": false,
         "locked": false
        }
       ],
       "scored": true,
       "setup": "",
       "teardown": "",
       "type": "doctest"
      }
     ]
    },
    "q0_b": {
     "name": "q0_b",
     "points": 1,
     "suites": [
      {
       "cases": [
        {
         "code": ">>> # checking that diatoms_mod2 is indexed by Depth and Age\n>>> diatoms_mod2.index.names == [\"Depth\", \"Age\"]\nTrue",
         "hidden": false,
         "locked": false
        },
        {
         "code": ">>> # checking that the number of columns of diatoms_mod2 is 9\n>>> len(diatoms_mod2.columns) == 9\nTrue",
         "hidden": false,
         "locked": false
        },
        {
         "code": ">>> # checking that the first row of samp_size == 201\n>>> sampsize[0] == [201]\nAge\n1.33    True\nName: Num.counted, dtype: bool",
         "hidden": false,
         "locked": false
        },
        {
         "code": ">>> # checking that for all the rows, num.counted is 1; all the other columns should be less than 1\n>>> (diatoms_mod3[\"Num.counted\"] == 1).all()\nTrue",
         "hidden": false,
         "locked": false
        },
        {
         "code": ">>> # checking that all the proportions of diatoms are less than (or equal to) 1\n>>> (diatoms_mod3.loc[:,['A_curv', 'A_octon', 'ActinSpp', 'A_nodul', 'CoscinSpp', 'CyclotSpp', 'Rop_tess', 'StephanSpp']] <= 1).all().all()\nTrue",
         "hidden": false,
         "locked": false
        },
        {
         "code": ">>> # checking that once the indices have been reset to before and the Num.Counted column is dropped, we are left with 10 columns\n>>> len(diatoms.columns) == 10\nTrue",
         "hidden": false,
         "locked": false
        },
        {
         "code": ">>> # checking the values of the first row of diatoms\n>>> (round(diatoms.iloc[0,:],3) ==[0., 1.33 , 0.025, 0.01 , 0.159, 0.07 , 0.104, 0.109, 0.005, 0.005]).all()\nTrue",
         "hidden": false,
         "locked": false
        }
       ],
       "scored": true,
       "setup": "",
       "teardown": "",
       "type": "doctest"
      }
     ]
    },
    "q0_c": {
     "name": "q0_c",
     "points": 1,
     "suites": [
      {
       "cases": [
        {
         "code": ">>> # checking rounded values\n>>> (round(min_max_age) == [1,15]).all()\nTrue",
         "hidden": false,
         "locked": false
        }
       ],
       "scored": true,
       "setup": "",
       "teardown": "",
       "type": "doctest"
      }
     ]
    },
    "q1_a": {
     "name": "q1_a",
     "points": 1,
     "suites": [
      {
       "cases": [
        {
         "code": ">>> (diatom_summary.columns == [\"mean\", \"std\"]).all()\nTrue",
         "hidden": false,
         "locked": false
        },
        {
         "code": ">>> # checking the shape of the dataframe\n>>> diatom_summary.shape == (8,2)\nTrue",
         "hidden": false,
         "locked": false
        }
       ],
       "scored": true,
       "setup": "",
       "teardown": "",
       "type": "doctest"
      }
     ]
    },
    "q1_d_i": {
     "name": "q1_d_i",
     "points": 1,
     "suites": [
      {
       "cases": [
        {
         "code": ">>> # checking the length of diffs\n>>> len(diffs) == 229\nTrue",
         "hidden": false,
         "locked": false
        },
        {
         "code": ">>> # testing the max difference\n>>> diffs.max() == 1.14\ndiff    False\ndtype: bool",
         "hidden": false,
         "locked": false
        },
        {
         "code": ">>> # checking that NA got removed\n>>> diffs.iloc[0].isna().values[0] == False\nTrue",
         "hidden": false,
         "locked": false
        }
       ],
       "scored": true,
       "setup": "",
       "teardown": "",
       "type": "doctest"
      }
     ]
    },
    "q2_a_i": {
     "name": "q2_a_i",
     "points": 1,
     "suites": [
      {
       "cases": [
        {
         "code": ">>> # checking the shape of the correlation matrix (do not want Age or Depth to be a component of the matrix)\n>>> corr_mx.shape == (8,8)\nTrue",
         "hidden": false,
         "locked": false
        },
        {
         "code": ">>> # checking that the diagonals are 1s (the correlation between a variable and itself should be 1)\n>>> (np.diag(corr_mx) == np.ones(8)).all()\nTrue",
         "hidden": false,
         "locked": false
        }
       ],
       "scored": true,
       "setup": "",
       "teardown": "",
       "type": "doctest"
      }
     ]
    },
    "q2_a_ii": {
     "name": "q2_a_ii",
     "points": 1,
     "suites": [
      {
       "cases": [
        {
         "code": ">>> corr_mx_long.shape == (64,3)\nTrue",
         "hidden": false,
         "locked": false
        },
        {
         "code": ">>> (corr_mx_long.columns == ['row', 'col', 'Correlation']).all()\nTrue",
         "hidden": false,
         "locked": false
        }
       ],
       "scored": true,
       "setup": "",
       "teardown": "",
       "type": "doctest"
      }
     ]
    },
    "q2_b_i": {
     "name": "q2_b_i",
     "points": 1,
     "suites": [
      {
       "cases": [
        {
         "code": ">>> #checking the shape of pcdata as we are retaining Depth and Age as indices\n>>> pcdata.shape == (230, 8)\nTrue",
         "hidden": false,
         "locked": false
        }
       ],
       "scored": true,
       "setup": "",
       "teardown": "",
       "type": "doctest"
      }
     ]
    },
    "q2_b_ii": {
     "name": "q2_b_ii",
     "points": 1,
     "suites": [
      {
       "cases": [
        {
         "code": ">>> pca.n_components_ == 8\nTrue",
         "hidden": false,
         "locked": false
        }
       ],
       "scored": true,
       "setup": "",
       "teardown": "",
       "type": "doctest"
      }
     ]
    },
    "q2_b_iii": {
     "name": "q2_b_iii",
     "points": 1,
     "suites": [
      {
       "cases": [
        {
         "code": ">>> # sanity check that we have 8 rows and 3 columns\n>>> pcvars.shape == (8,3)\nTrue",
         "hidden": false,
         "locked": false
        },
        {
         "code": ">>> # the summation of all the values in the Proportion of variance explained column should be 1\n>>> round(pcvars[\"Proportion of variance explained\"].sum()) == 1\nTrue",
         "hidden": false,
         "locked": false
        },
        {
         "code": ">>> # the last value of the cumulative sum should be 1 (since all the values in `Proportion of variance explained` adds to 1)\n>>> round(pcvars[\"Cumulative variance explained\"].iloc[-1]) == 1\nTrue",
         "hidden": false,
         "locked": false
        }
       ],
       "scored": true,
       "setup": "",
       "teardown": "",
       "type": "doctest"
      }
     ]
    },
    "q2_c_i": {
     "name": "q2_c_i",
     "points": 1,
     "suites": [
      {
       "cases": [
        {
         "code": ">>> loading_df.shape == (8,3)\nTrue",
         "hidden": false,
         "locked": false
        },
        {
         "code": ">>> # sanity check of the PC1 columns' first value\n>>> loading_df.loc[0,\"PC1\"] == pca.components_[0,0]\nTrue",
         "hidden": false,
         "locked": false
        },
        {
         "code": ">>> # sanity check of the PC2 columns' first value\n>>> loading_df.loc[0,\"PC2\"] == pca.components_[1,0]\nTrue",
         "hidden": false,
         "locked": false
        },
        {
         "code": ">>> # sanity check of the Taxon columns' first value\n>>> loading_df.loc[0,\"Taxon\"] == \"A_curv\"\nTrue",
         "hidden": false,
         "locked": false
        }
       ],
       "scored": true,
       "setup": "",
       "teardown": "",
       "type": "doctest"
      }
     ]
    },
    "q2_d_i": {
     "name": "q2_d_i",
     "points": 1,
     "suites": [
      {
       "cases": [
        {
         "code": ">>> # sanity check of the columns included\n>>> (projected_data.columns == ['Depth', 'Age', 'PC1', 'PC2']).all()\nTrue",
         "hidden": false,
         "locked": false
        },
        {
         "code": ">>> # checking the shape of the dataframe\n>>> projected_data.shape == (230,4)\nTrue",
         "hidden": false,
         "locked": false
        },
        {
         "code": ">>> # sanity check of the first row\n>>> (round(projected_data.iloc[0],3) == [0, 1.33, -0.295, -0.633]).all()\nTrue",
         "hidden": false,
         "locked": false
        }
       ],
       "scored": true,
       "setup": "",
       "teardown": "",
       "type": "doctest"
      }
     ]
    }
   }
  }
 },
 "nbformat": 4,
 "nbformat_minor": 4
}
